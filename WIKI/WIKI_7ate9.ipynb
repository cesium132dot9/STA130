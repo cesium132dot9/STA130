{
 "cells": [
  {
   "cell_type": "code",
   "execution_count": 2,
   "metadata": {},
   "outputs": [
    {
     "data": {
      "application/vnd.plotly.v1+json": {
       "config": {
        "plotlyServerURL": "https://plot.ly"
       },
       "data": [
        {
         "marker": {
          "size": 10
         },
         "mode": "markers",
         "name": "Dataset I",
         "type": "scatter",
         "x": [
          10,
          8,
          13,
          9,
          11,
          14,
          6,
          4,
          12,
          7,
          5
         ],
         "xaxis": "x",
         "y": [
          8.04,
          6.95,
          7.58,
          8.81,
          8.33,
          9.96,
          7.24,
          4.26,
          10.84,
          4.82,
          5.68
         ],
         "yaxis": "y"
        },
        {
         "line": {
          "color": "red"
         },
         "mode": "lines",
         "name": "Fit I",
         "type": "scatter",
         "x": [
          10,
          8,
          13,
          9,
          11,
          14,
          6,
          4,
          12,
          7,
          5
         ],
         "xaxis": "x",
         "y": [
          8.001000000000003,
          7.000818181818184,
          9.501272727272733,
          7.500909090909094,
          8.501090909090912,
          10.001363636363642,
          6.0006363636363655,
          5.000454545454547,
          9.001181818181824,
          6.500727272727275,
          5.500545454545456
         ],
         "yaxis": "y"
        },
        {
         "mode": "text",
         "showlegend": false,
         "text": [
          "Corr: 0.82<br>Mean(x): 9.00<br>Mean(y): 7.50<br>Std(x): 3.32<br>Std(y): 2.03"
         ],
         "type": "scatter",
         "x": [
          12.8
         ],
         "xaxis": "x",
         "y": [
          5.26
         ],
         "yaxis": "y"
        },
        {
         "marker": {
          "size": 10
         },
         "mode": "markers",
         "name": "Dataset II",
         "type": "scatter",
         "x": [
          10,
          8,
          13,
          9,
          11,
          14,
          6,
          4,
          12,
          7,
          5
         ],
         "xaxis": "x2",
         "y": [
          9.14,
          8.14,
          8.74,
          8.77,
          9.26,
          8.1,
          6.13,
          3.1,
          9.13,
          7.26,
          4.74
         ],
         "yaxis": "y2"
        },
        {
         "line": {
          "color": "red"
         },
         "mode": "lines",
         "name": "Fit II",
         "type": "scatter",
         "x": [
          10,
          8,
          13,
          9,
          11,
          14,
          6,
          4,
          12,
          7,
          5
         ],
         "xaxis": "x2",
         "y": [
          8.000909090909094,
          7.000909090909094,
          9.500909090909095,
          7.500909090909094,
          8.500909090909095,
          10.000909090909095,
          6.000909090909092,
          5.000909090909092,
          9.000909090909095,
          6.500909090909093,
          5.500909090909092
         ],
         "yaxis": "y2"
        },
        {
         "mode": "text",
         "showlegend": false,
         "text": [
          "Corr: 0.82<br>Mean(x): 9.00<br>Mean(y): 7.50<br>Std(x): 3.32<br>Std(y): 2.03"
         ],
         "type": "scatter",
         "x": [
          12.8
         ],
         "xaxis": "x2",
         "y": [
          4.1
         ],
         "yaxis": "y2"
        },
        {
         "marker": {
          "size": 10
         },
         "mode": "markers",
         "name": "Dataset III",
         "type": "scatter",
         "x": [
          10,
          8,
          13,
          9,
          11,
          14,
          6,
          4,
          12,
          7,
          5
         ],
         "xaxis": "x3",
         "y": [
          7.46,
          6.77,
          12.74,
          7.11,
          7.81,
          8.84,
          6.08,
          5.39,
          8.15,
          6.42,
          5.73
         ],
         "yaxis": "y3"
        },
        {
         "line": {
          "color": "red"
         },
         "mode": "lines",
         "name": "Fit III",
         "type": "scatter",
         "x": [
          10,
          8,
          13,
          9,
          11,
          14,
          6,
          4,
          12,
          7,
          5
         ],
         "xaxis": "x3",
         "y": [
          7.9997272727272755,
          7.00027272727273,
          9.498909090909095,
          7.5000000000000036,
          8.49945454545455,
          9.998636363636368,
          6.000818181818184,
          5.001363636363638,
          8.999181818181823,
          6.500545454545456,
          5.501090909090911
         ],
         "yaxis": "y3"
        },
        {
         "mode": "text",
         "showlegend": false,
         "text": [
          "Corr: 0.82<br>Mean(x): 9.00<br>Mean(y): 7.50<br>Std(x): 3.32<br>Std(y): 2.03"
         ],
         "type": "scatter",
         "x": [
          12.8
         ],
         "xaxis": "x3",
         "y": [
          6.39
         ],
         "yaxis": "y3"
        },
        {
         "marker": {
          "size": 10
         },
         "mode": "markers",
         "name": "Dataset IV",
         "type": "scatter",
         "x": [
          8,
          8,
          8,
          8,
          8,
          8,
          8,
          19,
          8,
          8,
          8
         ],
         "xaxis": "x4",
         "y": [
          6.58,
          5.76,
          7.71,
          8.84,
          8.47,
          7.04,
          5.25,
          12.5,
          5.56,
          7.91,
          6.89
         ],
         "yaxis": "y4"
        },
        {
         "line": {
          "color": "red"
         },
         "mode": "lines",
         "name": "Fit IV",
         "type": "scatter",
         "x": [
          8,
          8,
          8,
          8,
          8,
          8,
          8,
          19,
          8,
          8,
          8
         ],
         "xaxis": "x4",
         "y": [
          7.0009999999999994,
          7.0009999999999994,
          7.0009999999999994,
          7.0009999999999994,
          7.0009999999999994,
          7.0009999999999994,
          7.0009999999999994,
          12.5,
          7.0009999999999994,
          7.0009999999999994,
          7.0009999999999994
         ],
         "yaxis": "y4"
        },
        {
         "mode": "text",
         "showlegend": false,
         "text": [
          "Corr: 0.82<br>Mean(x): 9.00<br>Mean(y): 7.50<br>Std(x): 3.32<br>Std(y): 2.03"
         ],
         "type": "scatter",
         "x": [
          17.8
         ],
         "xaxis": "x4",
         "y": [
          6.25
         ],
         "yaxis": "y4"
        }
       ],
       "layout": {
        "annotations": [
         {
          "font": {
           "size": 16
          },
          "showarrow": false,
          "text": "Dataset I",
          "x": 0.225,
          "xanchor": "center",
          "xref": "paper",
          "y": 1,
          "yanchor": "bottom",
          "yref": "paper"
         },
         {
          "font": {
           "size": 16
          },
          "showarrow": false,
          "text": "Dataset II",
          "x": 0.775,
          "xanchor": "center",
          "xref": "paper",
          "y": 1,
          "yanchor": "bottom",
          "yref": "paper"
         },
         {
          "font": {
           "size": 16
          },
          "showarrow": false,
          "text": "Dataset III",
          "x": 0.225,
          "xanchor": "center",
          "xref": "paper",
          "y": 0.45,
          "yanchor": "bottom",
          "yref": "paper"
         },
         {
          "font": {
           "size": 16
          },
          "showarrow": false,
          "text": "Dataset IV",
          "x": 0.775,
          "xanchor": "center",
          "xref": "paper",
          "y": 0.45,
          "yanchor": "bottom",
          "yref": "paper"
         }
        ],
        "height": 600,
        "margin": {
         "b": 50,
         "l": 50,
         "r": 50,
         "t": 50
        },
        "template": {
         "data": {
          "bar": [
           {
            "error_x": {
             "color": "#2a3f5f"
            },
            "error_y": {
             "color": "#2a3f5f"
            },
            "marker": {
             "line": {
              "color": "#E5ECF6",
              "width": 0.5
             },
             "pattern": {
              "fillmode": "overlay",
              "size": 10,
              "solidity": 0.2
             }
            },
            "type": "bar"
           }
          ],
          "barpolar": [
           {
            "marker": {
             "line": {
              "color": "#E5ECF6",
              "width": 0.5
             },
             "pattern": {
              "fillmode": "overlay",
              "size": 10,
              "solidity": 0.2
             }
            },
            "type": "barpolar"
           }
          ],
          "carpet": [
           {
            "aaxis": {
             "endlinecolor": "#2a3f5f",
             "gridcolor": "white",
             "linecolor": "white",
             "minorgridcolor": "white",
             "startlinecolor": "#2a3f5f"
            },
            "baxis": {
             "endlinecolor": "#2a3f5f",
             "gridcolor": "white",
             "linecolor": "white",
             "minorgridcolor": "white",
             "startlinecolor": "#2a3f5f"
            },
            "type": "carpet"
           }
          ],
          "choropleth": [
           {
            "colorbar": {
             "outlinewidth": 0,
             "ticks": ""
            },
            "type": "choropleth"
           }
          ],
          "contour": [
           {
            "colorbar": {
             "outlinewidth": 0,
             "ticks": ""
            },
            "colorscale": [
             [
              0,
              "#0d0887"
             ],
             [
              0.1111111111111111,
              "#46039f"
             ],
             [
              0.2222222222222222,
              "#7201a8"
             ],
             [
              0.3333333333333333,
              "#9c179e"
             ],
             [
              0.4444444444444444,
              "#bd3786"
             ],
             [
              0.5555555555555556,
              "#d8576b"
             ],
             [
              0.6666666666666666,
              "#ed7953"
             ],
             [
              0.7777777777777778,
              "#fb9f3a"
             ],
             [
              0.8888888888888888,
              "#fdca26"
             ],
             [
              1,
              "#f0f921"
             ]
            ],
            "type": "contour"
           }
          ],
          "contourcarpet": [
           {
            "colorbar": {
             "outlinewidth": 0,
             "ticks": ""
            },
            "type": "contourcarpet"
           }
          ],
          "heatmap": [
           {
            "colorbar": {
             "outlinewidth": 0,
             "ticks": ""
            },
            "colorscale": [
             [
              0,
              "#0d0887"
             ],
             [
              0.1111111111111111,
              "#46039f"
             ],
             [
              0.2222222222222222,
              "#7201a8"
             ],
             [
              0.3333333333333333,
              "#9c179e"
             ],
             [
              0.4444444444444444,
              "#bd3786"
             ],
             [
              0.5555555555555556,
              "#d8576b"
             ],
             [
              0.6666666666666666,
              "#ed7953"
             ],
             [
              0.7777777777777778,
              "#fb9f3a"
             ],
             [
              0.8888888888888888,
              "#fdca26"
             ],
             [
              1,
              "#f0f921"
             ]
            ],
            "type": "heatmap"
           }
          ],
          "heatmapgl": [
           {
            "colorbar": {
             "outlinewidth": 0,
             "ticks": ""
            },
            "colorscale": [
             [
              0,
              "#0d0887"
             ],
             [
              0.1111111111111111,
              "#46039f"
             ],
             [
              0.2222222222222222,
              "#7201a8"
             ],
             [
              0.3333333333333333,
              "#9c179e"
             ],
             [
              0.4444444444444444,
              "#bd3786"
             ],
             [
              0.5555555555555556,
              "#d8576b"
             ],
             [
              0.6666666666666666,
              "#ed7953"
             ],
             [
              0.7777777777777778,
              "#fb9f3a"
             ],
             [
              0.8888888888888888,
              "#fdca26"
             ],
             [
              1,
              "#f0f921"
             ]
            ],
            "type": "heatmapgl"
           }
          ],
          "histogram": [
           {
            "marker": {
             "pattern": {
              "fillmode": "overlay",
              "size": 10,
              "solidity": 0.2
             }
            },
            "type": "histogram"
           }
          ],
          "histogram2d": [
           {
            "colorbar": {
             "outlinewidth": 0,
             "ticks": ""
            },
            "colorscale": [
             [
              0,
              "#0d0887"
             ],
             [
              0.1111111111111111,
              "#46039f"
             ],
             [
              0.2222222222222222,
              "#7201a8"
             ],
             [
              0.3333333333333333,
              "#9c179e"
             ],
             [
              0.4444444444444444,
              "#bd3786"
             ],
             [
              0.5555555555555556,
              "#d8576b"
             ],
             [
              0.6666666666666666,
              "#ed7953"
             ],
             [
              0.7777777777777778,
              "#fb9f3a"
             ],
             [
              0.8888888888888888,
              "#fdca26"
             ],
             [
              1,
              "#f0f921"
             ]
            ],
            "type": "histogram2d"
           }
          ],
          "histogram2dcontour": [
           {
            "colorbar": {
             "outlinewidth": 0,
             "ticks": ""
            },
            "colorscale": [
             [
              0,
              "#0d0887"
             ],
             [
              0.1111111111111111,
              "#46039f"
             ],
             [
              0.2222222222222222,
              "#7201a8"
             ],
             [
              0.3333333333333333,
              "#9c179e"
             ],
             [
              0.4444444444444444,
              "#bd3786"
             ],
             [
              0.5555555555555556,
              "#d8576b"
             ],
             [
              0.6666666666666666,
              "#ed7953"
             ],
             [
              0.7777777777777778,
              "#fb9f3a"
             ],
             [
              0.8888888888888888,
              "#fdca26"
             ],
             [
              1,
              "#f0f921"
             ]
            ],
            "type": "histogram2dcontour"
           }
          ],
          "mesh3d": [
           {
            "colorbar": {
             "outlinewidth": 0,
             "ticks": ""
            },
            "type": "mesh3d"
           }
          ],
          "parcoords": [
           {
            "line": {
             "colorbar": {
              "outlinewidth": 0,
              "ticks": ""
             }
            },
            "type": "parcoords"
           }
          ],
          "pie": [
           {
            "automargin": true,
            "type": "pie"
           }
          ],
          "scatter": [
           {
            "fillpattern": {
             "fillmode": "overlay",
             "size": 10,
             "solidity": 0.2
            },
            "type": "scatter"
           }
          ],
          "scatter3d": [
           {
            "line": {
             "colorbar": {
              "outlinewidth": 0,
              "ticks": ""
             }
            },
            "marker": {
             "colorbar": {
              "outlinewidth": 0,
              "ticks": ""
             }
            },
            "type": "scatter3d"
           }
          ],
          "scattercarpet": [
           {
            "marker": {
             "colorbar": {
              "outlinewidth": 0,
              "ticks": ""
             }
            },
            "type": "scattercarpet"
           }
          ],
          "scattergeo": [
           {
            "marker": {
             "colorbar": {
              "outlinewidth": 0,
              "ticks": ""
             }
            },
            "type": "scattergeo"
           }
          ],
          "scattergl": [
           {
            "marker": {
             "colorbar": {
              "outlinewidth": 0,
              "ticks": ""
             }
            },
            "type": "scattergl"
           }
          ],
          "scattermapbox": [
           {
            "marker": {
             "colorbar": {
              "outlinewidth": 0,
              "ticks": ""
             }
            },
            "type": "scattermapbox"
           }
          ],
          "scatterpolar": [
           {
            "marker": {
             "colorbar": {
              "outlinewidth": 0,
              "ticks": ""
             }
            },
            "type": "scatterpolar"
           }
          ],
          "scatterpolargl": [
           {
            "marker": {
             "colorbar": {
              "outlinewidth": 0,
              "ticks": ""
             }
            },
            "type": "scatterpolargl"
           }
          ],
          "scatterternary": [
           {
            "marker": {
             "colorbar": {
              "outlinewidth": 0,
              "ticks": ""
             }
            },
            "type": "scatterternary"
           }
          ],
          "surface": [
           {
            "colorbar": {
             "outlinewidth": 0,
             "ticks": ""
            },
            "colorscale": [
             [
              0,
              "#0d0887"
             ],
             [
              0.1111111111111111,
              "#46039f"
             ],
             [
              0.2222222222222222,
              "#7201a8"
             ],
             [
              0.3333333333333333,
              "#9c179e"
             ],
             [
              0.4444444444444444,
              "#bd3786"
             ],
             [
              0.5555555555555556,
              "#d8576b"
             ],
             [
              0.6666666666666666,
              "#ed7953"
             ],
             [
              0.7777777777777778,
              "#fb9f3a"
             ],
             [
              0.8888888888888888,
              "#fdca26"
             ],
             [
              1,
              "#f0f921"
             ]
            ],
            "type": "surface"
           }
          ],
          "table": [
           {
            "cells": {
             "fill": {
              "color": "#EBF0F8"
             },
             "line": {
              "color": "white"
             }
            },
            "header": {
             "fill": {
              "color": "#C8D4E3"
             },
             "line": {
              "color": "white"
             }
            },
            "type": "table"
           }
          ]
         },
         "layout": {
          "annotationdefaults": {
           "arrowcolor": "#2a3f5f",
           "arrowhead": 0,
           "arrowwidth": 1
          },
          "autotypenumbers": "strict",
          "coloraxis": {
           "colorbar": {
            "outlinewidth": 0,
            "ticks": ""
           }
          },
          "colorscale": {
           "diverging": [
            [
             0,
             "#8e0152"
            ],
            [
             0.1,
             "#c51b7d"
            ],
            [
             0.2,
             "#de77ae"
            ],
            [
             0.3,
             "#f1b6da"
            ],
            [
             0.4,
             "#fde0ef"
            ],
            [
             0.5,
             "#f7f7f7"
            ],
            [
             0.6,
             "#e6f5d0"
            ],
            [
             0.7,
             "#b8e186"
            ],
            [
             0.8,
             "#7fbc41"
            ],
            [
             0.9,
             "#4d9221"
            ],
            [
             1,
             "#276419"
            ]
           ],
           "sequential": [
            [
             0,
             "#0d0887"
            ],
            [
             0.1111111111111111,
             "#46039f"
            ],
            [
             0.2222222222222222,
             "#7201a8"
            ],
            [
             0.3333333333333333,
             "#9c179e"
            ],
            [
             0.4444444444444444,
             "#bd3786"
            ],
            [
             0.5555555555555556,
             "#d8576b"
            ],
            [
             0.6666666666666666,
             "#ed7953"
            ],
            [
             0.7777777777777778,
             "#fb9f3a"
            ],
            [
             0.8888888888888888,
             "#fdca26"
            ],
            [
             1,
             "#f0f921"
            ]
           ],
           "sequentialminus": [
            [
             0,
             "#0d0887"
            ],
            [
             0.1111111111111111,
             "#46039f"
            ],
            [
             0.2222222222222222,
             "#7201a8"
            ],
            [
             0.3333333333333333,
             "#9c179e"
            ],
            [
             0.4444444444444444,
             "#bd3786"
            ],
            [
             0.5555555555555556,
             "#d8576b"
            ],
            [
             0.6666666666666666,
             "#ed7953"
            ],
            [
             0.7777777777777778,
             "#fb9f3a"
            ],
            [
             0.8888888888888888,
             "#fdca26"
            ],
            [
             1,
             "#f0f921"
            ]
           ]
          },
          "colorway": [
           "#636efa",
           "#EF553B",
           "#00cc96",
           "#ab63fa",
           "#FFA15A",
           "#19d3f3",
           "#FF6692",
           "#B6E880",
           "#FF97FF",
           "#FECB52"
          ],
          "font": {
           "color": "#2a3f5f"
          },
          "geo": {
           "bgcolor": "white",
           "lakecolor": "white",
           "landcolor": "#E5ECF6",
           "showlakes": true,
           "showland": true,
           "subunitcolor": "white"
          },
          "hoverlabel": {
           "align": "left"
          },
          "hovermode": "closest",
          "mapbox": {
           "style": "light"
          },
          "paper_bgcolor": "white",
          "plot_bgcolor": "#E5ECF6",
          "polar": {
           "angularaxis": {
            "gridcolor": "white",
            "linecolor": "white",
            "ticks": ""
           },
           "bgcolor": "#E5ECF6",
           "radialaxis": {
            "gridcolor": "white",
            "linecolor": "white",
            "ticks": ""
           }
          },
          "scene": {
           "xaxis": {
            "backgroundcolor": "#E5ECF6",
            "gridcolor": "white",
            "gridwidth": 2,
            "linecolor": "white",
            "showbackground": true,
            "ticks": "",
            "zerolinecolor": "white"
           },
           "yaxis": {
            "backgroundcolor": "#E5ECF6",
            "gridcolor": "white",
            "gridwidth": 2,
            "linecolor": "white",
            "showbackground": true,
            "ticks": "",
            "zerolinecolor": "white"
           },
           "zaxis": {
            "backgroundcolor": "#E5ECF6",
            "gridcolor": "white",
            "gridwidth": 2,
            "linecolor": "white",
            "showbackground": true,
            "ticks": "",
            "zerolinecolor": "white"
           }
          },
          "shapedefaults": {
           "line": {
            "color": "#2a3f5f"
           }
          },
          "ternary": {
           "aaxis": {
            "gridcolor": "white",
            "linecolor": "white",
            "ticks": ""
           },
           "baxis": {
            "gridcolor": "white",
            "linecolor": "white",
            "ticks": ""
           },
           "bgcolor": "#E5ECF6",
           "caxis": {
            "gridcolor": "white",
            "linecolor": "white",
            "ticks": ""
           }
          },
          "title": {
           "x": 0.05
          },
          "xaxis": {
           "automargin": true,
           "gridcolor": "white",
           "linecolor": "white",
           "ticks": "",
           "title": {
            "standoff": 15
           },
           "zerolinecolor": "white",
           "zerolinewidth": 2
          },
          "yaxis": {
           "automargin": true,
           "gridcolor": "white",
           "linecolor": "white",
           "ticks": "",
           "title": {
            "standoff": 15
           },
           "zerolinecolor": "white",
           "zerolinewidth": 2
          }
         }
        },
        "title": {
         "text": "Anscombe's Quartet with Correlation, Mean, and Std Dev"
        },
        "width": 800,
        "xaxis": {
         "anchor": "y",
         "domain": [
          0,
          0.45
         ]
        },
        "xaxis2": {
         "anchor": "y2",
         "domain": [
          0.55,
          1
         ]
        },
        "xaxis3": {
         "anchor": "y3",
         "domain": [
          0,
          0.45
         ]
        },
        "xaxis4": {
         "anchor": "y4",
         "domain": [
          0.55,
          1
         ]
        },
        "yaxis": {
         "anchor": "x",
         "domain": [
          0.55,
          1
         ]
        },
        "yaxis2": {
         "anchor": "x2",
         "domain": [
          0.55,
          1
         ]
        },
        "yaxis3": {
         "anchor": "x3",
         "domain": [
          0,
          0.45
         ]
        },
        "yaxis4": {
         "anchor": "x4",
         "domain": [
          0,
          0.45
         ]
        }
       }
      }
     },
     "metadata": {},
     "output_type": "display_data"
    }
   ],
   "source": [
    "import seaborn as sns\n",
    "import plotly.graph_objects as go\n",
    "import numpy as np\n",
    "from plotly.subplots import make_subplots\n",
    "\n",
    "# Load Anscombe's quartet from Seaborn\n",
    "df = sns.load_dataset(\"anscombe\")\n",
    "\n",
    "# Function to calculate stats (correlation, mean, and std)\n",
    "def calculate_stats(subset):\n",
    "    correlation = np.corrcoef(subset['x'], subset['y'])[0, 1]\n",
    "    mean_x = subset['x'].mean()\n",
    "    mean_y = subset['y'].mean()\n",
    "    std_x = subset['x'].std()\n",
    "    std_y = subset['y'].std()\n",
    "    return correlation, mean_x, mean_y, std_x, std_y\n",
    "\n",
    "# Create a 2x2 subplot layout with Plotly\n",
    "fig = make_subplots(rows=2, cols=2, vertical_spacing=0.1, \n",
    "                    subplot_titles=[f\"Dataset {d}\" for d in df['dataset'].unique()])\n",
    "\n",
    "# Plot scatter and regression line for each dataset\n",
    "for i, dataset in enumerate(df['dataset'].unique()):\n",
    "    subset = df[df['dataset'] == dataset]\n",
    "    correlation, mean_x, mean_y, std_x, std_y = calculate_stats(subset)\n",
    "    row,col = (i // 2) + 1, (i % 2) + 1\n",
    "    \n",
    "    # Add scatter plot\n",
    "    fig.add_trace(go.Scatter(x=subset['x'], y=subset['y'],\n",
    "                  mode='markers', marker=dict(size=10), \n",
    "                  name=f\"Dataset {dataset}\"), row=row, col=col)\n",
    "    \n",
    "    # Add regression line\n",
    "    slope, intercept = np.polyfit(subset['x'], subset['y'], 1)\n",
    "    fig.add_trace(go.Scatter(x=subset['x'], y=slope * subset['x'] + intercept,\n",
    "                  mode='lines', name=f\"Fit {dataset}\",\n",
    "                  line=dict(color='red')), row=row, col=col)\n",
    "\n",
    "    # Add a separate trace for the annotation in the bottom right corner\n",
    "    stats_annotation = (f\"Corr: {correlation:.2f}<br>\"f\"Mean(x): {mean_x:.2f}<br>\"\n",
    "                        f\"Mean(y): {mean_y:.2f}<br>\"f\"Std(x): {std_x:.2f}<br>\"f\"Std(y): {std_y:.2f}\")\n",
    "    \n",
    "    fig.add_trace(go.Scatter(x=[max(subset['x']) - 1.2],  \n",
    "                             y=[min(subset['y']) + 1],  \n",
    "                             mode='text', text=[stats_annotation],\n",
    "                             showlegend=False), row=row, col=col)\n",
    "\n",
    "fig.update_layout(height=600, width=800, title_text=\"Anscombe's Quartet with Correlation, Mean, and Std Dev\", \n",
    "                  margin=dict(l=50, r=50, t=50, b=50))\n",
    "fig.show()"
   ]
  },
  {
   "cell_type": "code",
   "execution_count": 3,
   "metadata": {},
   "outputs": [
    {
     "data": {
      "application/vnd.plotly.v1+json": {
       "config": {
        "plotlyServerURL": "https://plot.ly"
       },
       "data": [
        {
         "hovertemplate": "childHeight=%{x}<br>midparentHeight=%{y}<extra></extra>",
         "legendgroup": "",
         "marker": {
          "color": "#636efa",
          "opacity": 0.5,
          "size": 8,
          "symbol": "circle"
         },
         "mode": "markers",
         "name": "",
         "orientation": "v",
         "showlegend": false,
         "type": "scatter",
         "x": [
          73.2,
          69.2,
          69,
          69,
          73.5,
          72.5,
          65.5,
          65.5,
          71,
          68,
          70.5,
          68.5,
          67,
          64.5,
          63,
          72,
          69,
          68,
          66.5,
          62.5,
          62.5,
          69.5,
          76.5,
          74,
          73,
          73,
          70.5,
          64,
          70.5,
          68,
          66,
          66,
          65.5,
          74,
          70,
          68,
          67,
          67,
          66,
          63.5,
          63,
          65,
          71,
          62,
          68,
          67,
          71,
          70.5,
          66.7,
          72,
          70.5,
          70.2,
          70.2,
          69.2,
          68.7,
          66.5,
          64.5,
          63.5,
          74,
          73,
          71.5,
          62.5,
          66.5,
          62.3,
          66,
          64.5,
          64,
          62.7,
          73.2,
          73,
          72.7,
          70,
          69,
          68.5,
          68,
          66,
          73,
          68.5,
          68,
          73,
          71,
          67,
          74.2,
          70.5,
          69.5,
          66,
          65.5,
          65,
          65,
          65.5,
          66,
          63,
          70.5,
          70.5,
          69,
          65,
          63,
          69,
          67,
          63,
          73,
          67,
          70.5,
          70,
          66.5,
          63,
          67.5,
          67.2,
          66.7,
          64,
          71,
          70,
          70,
          66,
          65,
          65,
          74,
          72,
          69,
          67.5,
          63.5,
          72,
          71.5,
          71.5,
          70,
          68,
          65.7,
          78,
          74,
          73,
          72,
          67,
          73.2,
          73,
          69,
          67,
          70,
          67,
          67,
          66.5,
          70,
          69,
          68.5,
          66,
          64.5,
          63,
          71,
          67,
          76,
          72,
          71,
          66,
          66,
          70.5,
          72,
          72,
          71,
          69,
          66,
          65,
          73,
          65.2,
          68.5,
          67.7,
          68,
          68,
          62,
          68,
          68,
          67.5,
          66.5,
          66.5,
          66,
          65.5,
          65,
          72,
          71,
          70.5,
          67,
          68,
          68,
          68,
          72,
          71,
          70,
          66,
          64.5,
          64.5,
          62,
          73,
          62,
          67.5,
          64.5,
          71,
          67,
          66,
          65,
          63.5,
          71,
          70,
          70,
          64,
          65,
          65,
          64,
          63,
          63,
          71,
          71,
          70,
          63.5,
          71,
          70,
          64.5,
          62.5,
          61.5,
          72,
          70.5,
          70.5,
          64.5,
          60,
          70,
          64,
          64,
          64,
          62.5,
          70.5,
          70,
          69,
          69,
          66,
          64.5,
          64,
          62,
          71.5,
          69,
          71,
          70,
          69,
          69,
          70,
          68.7,
          68,
          66,
          64,
          62,
          75,
          70,
          69,
          66,
          64,
          60,
          67.5,
          73,
          72,
          72,
          66.5,
          69.2,
          67.2,
          66.5,
          66,
          66,
          64.2,
          63.7,
          72,
          70.2,
          69,
          68.5,
          68,
          65,
          61.5,
          61,
          61,
          73,
          72,
          70.5,
          65,
          65,
          64.5,
          63,
          62,
          67,
          65,
          64.5,
          62.5,
          62.5,
          70,
          70,
          67,
          65,
          65,
          63,
          79,
          75,
          71,
          69,
          67,
          65.7,
          62,
          73,
          72.5,
          65,
          69,
          69,
          72,
          70,
          68.7,
          66.5,
          65.5,
          64.7,
          64.5,
          70.7,
          70,
          68,
          67,
          66,
          65,
          67,
          70,
          68,
          66.7,
          65.5,
          72,
          70,
          62.5,
          61.2,
          60.1,
          74,
          69.5,
          69,
          68,
          68,
          68,
          65.5,
          65,
          60,
          68,
          65,
          64,
          62,
          71,
          70,
          70,
          70,
          69.5,
          68.5,
          69,
          65,
          64,
          70,
          67,
          65.5,
          63.7,
          63.2,
          62.5,
          62.2,
          61,
          70,
          68.5,
          65.5,
          63.5,
          72.5,
          69,
          67,
          64.5,
          64,
          71,
          67.5,
          67.5,
          63.5,
          68,
          67,
          63.7,
          62,
          70,
          66.5,
          62,
          61,
          72,
          70,
          69.5,
          69.5,
          68,
          65,
          64,
          63,
          70.7,
          69.7,
          69.2,
          65.2,
          64,
          63.5,
          63.2,
          72,
          72,
          60,
          71.2,
          67,
          67,
          64.5,
          65,
          63,
          65,
          65,
          71.5,
          64.5,
          63,
          72,
          66,
          66,
          65,
          63,
          75,
          71,
          70,
          66,
          66,
          65.5,
          65,
          65,
          64,
          64,
          64,
          73,
          72,
          71.7,
          71.5,
          65.5,
          65,
          62.7,
          62.5,
          71.2,
          71,
          70,
          75,
          74,
          72,
          68.5,
          70,
          68.5,
          68,
          65,
          63,
          62.5,
          73,
          71,
          70.5,
          70.5,
          67,
          66,
          61,
          70.5,
          67.5,
          64.5,
          64,
          71,
          68.5,
          67.5,
          66,
          63,
          63,
          71,
          71,
          70.5,
          70.5,
          66.5,
          65.5,
          64.5,
          73,
          72,
          69,
          69,
          66.5,
          65.5,
          65.5,
          65,
          64,
          70,
          68.5,
          67,
          65,
          64,
          63.5,
          61,
          69.7,
          68,
          60,
          65.2,
          64.5,
          63.7,
          60,
          71.7,
          66.5,
          65,
          63.5,
          65.5,
          69,
          67.5,
          63.5,
          72,
          73,
          70,
          70,
          64,
          66,
          62,
          70.5,
          67,
          66,
          65,
          63,
          62,
          61,
          70.5,
          63.7,
          63,
          62.5,
          73,
          72,
          69,
          73,
          71,
          71,
          69,
          63,
          72,
          70,
          67.8,
          65.2,
          64.7,
          64.5,
          63.5,
          63.5,
          62.5,
          62,
          61.5,
          71,
          70,
          70,
          69,
          63.5,
          62.5,
          62.5,
          62,
          72,
          68,
          66,
          66,
          70,
          69.5,
          69,
          63,
          62,
          68,
          68,
          67.5,
          64,
          63,
          63,
          63.5,
          62,
          62,
          70.5,
          68,
          62.5,
          69,
          66,
          61.7,
          60.5,
          69.5,
          71,
          61.7,
          73,
          71,
          67,
          70,
          69,
          69,
          68.7,
          68.5,
          68.5,
          68,
          68,
          68,
          66.2,
          63.2,
          67.5,
          66,
          66,
          64,
          71.7,
          71.5,
          70.7,
          65.5,
          66.5,
          65.2,
          61.5,
          72,
          72,
          68,
          66,
          69.2,
          68,
          66,
          66,
          62,
          61.5,
          61,
          60,
          72,
          70.5,
          68.7,
          68.5,
          67.7,
          64,
          63.5,
          63,
          71,
          68,
          68,
          67,
          65,
          64,
          63,
          63,
          62,
          61,
          66,
          63,
          65.5,
          62,
          71.2,
          71.2,
          69,
          68.5,
          62.5,
          62,
          69,
          67,
          66,
          66,
          66,
          65,
          65,
          65,
          64,
          63,
          70.5,
          70,
          68,
          66,
          66,
          66,
          62,
          61.5,
          73.5,
          70,
          69.5,
          65.5,
          67,
          70,
          68,
          64.5,
          64,
          71,
          68,
          66,
          65.5,
          65,
          63,
          62,
          62,
          67,
          67,
          66,
          64,
          63.5,
          61,
          68.2,
          70,
          70,
          69,
          67,
          65.5,
          64.5,
          68.5,
          67.7,
          61.7,
          66.5,
          68.5,
          68,
          64,
          63.5,
          63,
          66.7,
          64,
          61,
          61,
          60,
          60,
          60,
          56,
          67.5,
          67,
          66.5,
          60,
          69,
          68,
          65,
          64.7,
          64,
          64,
          63,
          65,
          65,
          62,
          61,
          72.7,
          72.7,
          71.5,
          65.5,
          63.5,
          71,
          73,
          71,
          70.7,
          70,
          69,
          68,
          65.5,
          62,
          69.7,
          67.5,
          65.5,
          65,
          64.5,
          63.5,
          70,
          69,
          65.5,
          65.5,
          63,
          70,
          67.7,
          63,
          60,
          65,
          62,
          62,
          71,
          69,
          64,
          64,
          63,
          63,
          63,
          63,
          63,
          62.5,
          62,
          71.5,
          70,
          67,
          67,
          71,
          70.2,
          69.2,
          68.5,
          68,
          67,
          65.5,
          63.5,
          69,
          68,
          63,
          70,
          69.5,
          69,
          68.5,
          66,
          67,
          70.5,
          70.5,
          67,
          66,
          66,
          62,
          62,
          61.5,
          72,
          65,
          65,
          67,
          64,
          64,
          62,
          60,
          60,
          66,
          65,
          67,
          66.5,
          65.5,
          72,
          68,
          66,
          65,
          62,
          61,
          68.7,
          68.5,
          66.5,
          64.5,
          62.5,
          60.5,
          60.5,
          57.5,
          72,
          71,
          67,
          66,
          65,
          70,
          64.5,
          62,
          67.2,
          67,
          65,
          65,
          65,
          63,
          70,
          68,
          63.5,
          62.5,
          62.5,
          62.5,
          62.5,
          70,
          68,
          67,
          65,
          60,
          65,
          68,
          67,
          66.5,
          66,
          65.7,
          65.5,
          65,
          65,
          64,
          63,
          62,
          61,
          60,
          58,
          57,
          66.5,
          66,
          66,
          65,
          63,
          63,
          63,
          63,
          60,
          67,
          66,
          65,
          65,
          61,
          69,
          68,
          68,
          65,
          65,
          62,
          62,
          61,
          59,
          70.7,
          65.5,
          69.2,
          69,
          68,
          67.7,
          64.5,
          60.5,
          67,
          67,
          64,
          64,
          62.5,
          60.5,
          70,
          63,
          66,
          66,
          63,
          71,
          71,
          69,
          63.5,
          68,
          68,
          67,
          67,
          62,
          71.5,
          68,
          65.5,
          64,
          62,
          62,
          61,
          70.5,
          68,
          67,
          65,
          64,
          64,
          60,
          64.5,
          66,
          60,
          68.5,
          63.5,
          64,
          62,
          61,
          66.5,
          57
         ],
         "xaxis": "x",
         "y": [
          75.43,
          75.43,
          75.43,
          75.43,
          73.66,
          73.66,
          73.66,
          73.66,
          72.06,
          72.06,
          72.06,
          72.06,
          72.06,
          72.06,
          72.06,
          69.09,
          69.09,
          69.09,
          69.09,
          69.09,
          69.09,
          73.72,
          73.72,
          73.72,
          73.72,
          73.72,
          73.72,
          73.72,
          72.91,
          72.91,
          72.91,
          72.89,
          72.37,
          70.48,
          70.48,
          70.48,
          70.48,
          70.48,
          70.48,
          70.48,
          70.48,
          69.94,
          72.68,
          72.68,
          72.68,
          72.68,
          72.41,
          72.41,
          72.41,
          71.6,
          71.6,
          71.6,
          71.6,
          71.6,
          71.6,
          71.6,
          71.6,
          71.6,
          71.33000000000001,
          71.33000000000001,
          71.33000000000001,
          71.33000000000001,
          71.33000000000001,
          71.33000000000001,
          71.06,
          71.06,
          71.06,
          70.62,
          73.61000000000001,
          73.61000000000001,
          73.61000000000001,
          73.61000000000001,
          73.61000000000001,
          73.61000000000001,
          73.61000000000001,
          73.61000000000001,
          72.72,
          72.72,
          72.72,
          72.18,
          72.18,
          72.18,
          71.1,
          71.1,
          71.1,
          71.1,
          71.1,
          71.1,
          71.1,
          71.37,
          70.56,
          70.56,
          70.02000000000001,
          70.02000000000001,
          70.02000000000001,
          70.02000000000001,
          70.02000000000001,
          70.02000000000001,
          70.02000000000001,
          70.02000000000001,
          70.02000000000001,
          70.02000000000001,
          70.02000000000001,
          70.02000000000001,
          70.02000000000001,
          70.02000000000001,
          70.53999999999999,
          70.53999999999999,
          70.53999999999999,
          69.48,
          69.73,
          69.73,
          69.73,
          69.73,
          69.73,
          69.73,
          69.48,
          69.48,
          69.48,
          69.48,
          69.48,
          69.48,
          69.48,
          69.48,
          69.48,
          69.48,
          68.94,
          72.76,
          72.76,
          72.76,
          72.76,
          72.76,
          71.68,
          71.68,
          71.68,
          71.68,
          71.14,
          71.14,
          71.14,
          71.14,
          71.14,
          71.14,
          71.14,
          71.14,
          71.14,
          71.14,
          71.14,
          71.14,
          71.14,
          71.14,
          71.14,
          71.14,
          71.14,
          71.22,
          70.87,
          70.87,
          70.87,
          70.87,
          70.87,
          70.87,
          71.12,
          71.12,
          70.85,
          70.85,
          70.6,
          70.6,
          70.6,
          70.06,
          70.06,
          70.06,
          70.06,
          70.06,
          70.06,
          70.06,
          70.06,
          70.68,
          70.68,
          70.68,
          70.68,
          70.06,
          70.06,
          70.06,
          70.58000000000001,
          70.58000000000001,
          70.58000000000001,
          70.58000000000001,
          70.58000000000001,
          70.58000000000001,
          70.58000000000001,
          70.33000000000001,
          70.33000000000001,
          69.62,
          69.62,
          69.78999999999999,
          69.78999999999999,
          69.78999999999999,
          69.78999999999999,
          69.78999999999999,
          69.52000000000001,
          69.52000000000001,
          69.52000000000001,
          69.52000000000001,
          69.52000000000001,
          69.52000000000001,
          69.52000000000001,
          69.52000000000001,
          69.52000000000001,
          69.52000000000001,
          69.52000000000001,
          69.52000000000001,
          69.52000000000001,
          68.98,
          68.98,
          68.98,
          68.98,
          68.98,
          68.98,
          68.98,
          68.98,
          68.98,
          68.98,
          69.25,
          69.25,
          69.25,
          69.25,
          69.25,
          68.98,
          68.98,
          68.98,
          68.98,
          68.98,
          68.98,
          68.98,
          68.44,
          66.82,
          66.82,
          72.26,
          72.26,
          72.26,
          72.26,
          72.26,
          72.26,
          72.26,
          72.26,
          72.26,
          72.26,
          71.72,
          71.18,
          71.18,
          71.18,
          71.18,
          71.18,
          71.18,
          70.91,
          70.91,
          70.91,
          70.91,
          70.91,
          70.91,
          70.91,
          70.91,
          70.91,
          70.91,
          70.91,
          70.35,
          70.35,
          70.35,
          70.35,
          70.35,
          70.35,
          70.35,
          70.35,
          70.35,
          70.1,
          70.1,
          70.1,
          70.1,
          70.1,
          70.1,
          70.1,
          70.1,
          70.1,
          70.1,
          70.1,
          70.1,
          70.1,
          70.1,
          70.1,
          70.1,
          70.1,
          70.1,
          70.1,
          70.1,
          70.1,
          70.1,
          70.1,
          70.1,
          70.1,
          70.1,
          70.1,
          70.1,
          70.1,
          70.1,
          70.1,
          69.938,
          69.938,
          69.938,
          69.938,
          69.938,
          69.938,
          69.938,
          69.56,
          69.56,
          69.56,
          69.56,
          69.56,
          69.56,
          69.56,
          69.56,
          69.56,
          69.56,
          69.56,
          69.668,
          69.668,
          69.668,
          69.668,
          69.668,
          69.81,
          69.81,
          69.81,
          69.81,
          69.81,
          69.81,
          69.81,
          69.81,
          70.08000000000001,
          69.56,
          69.56,
          69.56,
          69.56,
          69.56,
          69.56,
          69.56,
          69.56,
          69.56,
          69.56,
          69.56,
          69.56,
          69.56,
          69.398,
          69.398,
          69.398,
          69.398,
          69.398,
          69.398,
          69.398,
          69.398,
          69.27000000000001,
          69.27000000000001,
          69.27000000000001,
          69.27000000000001,
          69.27000000000001,
          69.27000000000001,
          69.27000000000001,
          69.27000000000001,
          69.27000000000001,
          69.28999999999999,
          69.28999999999999,
          69.28999999999999,
          69.28999999999999,
          69.02000000000001,
          69.02000000000001,
          69.02000000000001,
          69.02000000000001,
          69.02000000000001,
          69.02000000000001,
          69.02000000000001,
          69.02000000000001,
          68.73,
          68.73,
          68.73,
          68.73,
          68.73,
          68.73,
          68.73,
          68.73,
          69.00800000000001,
          69.00800000000001,
          69.00800000000001,
          69.00800000000001,
          69.00800000000001,
          69.00800000000001,
          69.00800000000001,
          68.73,
          68.73,
          68.73,
          67.94,
          67.94,
          67.4,
          67.4,
          67.4,
          67.4,
          67.4,
          67.4,
          66.59,
          66.59,
          66.59,
          66.32,
          66.32,
          66.32,
          66.32,
          66.32,
          71.49000000000001,
          71.49000000000001,
          71.49000000000001,
          71.49000000000001,
          71.49000000000001,
          71.49000000000001,
          71.49000000000001,
          71.49000000000001,
          71.49000000000001,
          71.49000000000001,
          70.68,
          70.14,
          70.14,
          70.14,
          70.14,
          70.14,
          70.14,
          70.14,
          70.14,
          70.14,
          70.14,
          70.14,
          70.518,
          70.518,
          70.518,
          70.518,
          70.14,
          70.14,
          70.14,
          70.14,
          70.14,
          70.14,
          70.41,
          70.41,
          70.41,
          70.41,
          70.41,
          70.41,
          70.41,
          70.66,
          70.66,
          70.66,
          70.66,
          70.41,
          70.41,
          70.41,
          70.41,
          70.41,
          70.41,
          70.39,
          70.39,
          70.39,
          70.39,
          70.39,
          70.39,
          70.39,
          70.14,
          70.14,
          70.14,
          70.14,
          70.14,
          70.14,
          70.14,
          70.14,
          70.14,
          69.6,
          69.6,
          69.6,
          69.6,
          69.6,
          69.6,
          69.6,
          69.58000000000001,
          69.58000000000001,
          69.58000000000001,
          69.58000000000001,
          69.58000000000001,
          69.58000000000001,
          69.58000000000001,
          69.16,
          69.16,
          69.16,
          69.16,
          68.78999999999999,
          68.52000000000001,
          68.52000000000001,
          68.52000000000001,
          68.52000000000001,
          68.52000000000001,
          68.52000000000001,
          68.52000000000001,
          68.52000000000001,
          68.52000000000001,
          68.52000000000001,
          68.78999999999999,
          68.78999999999999,
          68.78999999999999,
          68.78999999999999,
          68.78999999999999,
          68.78999999999999,
          68.78999999999999,
          68.78999999999999,
          68.78999999999999,
          68.78999999999999,
          68.33000000000001,
          68.23,
          68.23,
          68.23,
          67.98,
          67.98,
          67.98,
          67.98,
          67.98,
          68.23,
          68.23,
          68.23,
          68.23,
          68.23,
          68.23,
          68.23,
          68.23,
          68.23,
          68.23,
          68.23,
          68.25,
          68.25,
          68.25,
          68.25,
          68.25,
          68.25,
          68.25,
          68.25,
          67.98,
          67.98,
          67.98,
          67.98,
          67.69,
          67.69,
          67.69,
          67.69,
          67.69,
          67.44,
          67.44,
          67.44,
          67.44,
          67.44,
          67.44,
          67.44,
          67.44,
          67.44,
          66.9,
          66.9,
          66.9,
          66.9,
          66.9,
          66.9,
          66.9,
          67.17,
          72.42,
          72.42,
          70.43,
          70.43,
          70.43,
          70.16,
          70.16,
          70.16,
          70.16,
          70.16,
          70.16,
          70.16,
          70.16,
          70.16,
          70.16,
          70.16,
          69.1,
          69.1,
          69.37,
          69.37,
          69.37,
          69.37,
          69.37,
          69.37,
          69.37,
          69.37,
          69.37,
          69.1,
          69.1,
          69.1,
          69.1,
          69.35,
          69.35,
          69.35,
          69.35,
          69.35,
          69.35,
          69.35,
          69.35,
          69.35,
          69.35,
          69.35,
          69.35,
          69.35,
          69.35,
          69.35,
          69.35,
          68.56,
          68.56,
          68.56,
          68.56,
          68.56,
          68.56,
          68.56,
          68.56,
          68.56,
          68.56,
          68.56,
          68.56,
          68.56,
          68.56,
          68.56,
          68.56,
          68.56,
          68.56,
          68.56,
          68.83000000000001,
          68.56,
          68.56,
          68.56,
          68.56,
          68.56,
          68.56,
          68.56,
          68.56,
          68.56,
          68.56,
          68.02000000000001,
          68.02000000000001,
          68.02000000000001,
          68.02000000000001,
          68.02000000000001,
          68.02000000000001,
          68.02000000000001,
          68.02000000000001,
          68.53999999999999,
          68.53999999999999,
          68.53999999999999,
          68.53999999999999,
          68.02000000000001,
          68.02000000000001,
          68.02000000000001,
          68.02000000000001,
          68.02000000000001,
          68.02000000000001,
          68.02000000000001,
          68.02000000000001,
          68.02000000000001,
          68.02000000000001,
          68.02000000000001,
          68.02000000000001,
          68.02000000000001,
          68.02000000000001,
          68.02000000000001,
          68.02000000000001,
          68.02000000000001,
          68.02000000000001,
          68.02000000000001,
          68.53999999999999,
          68.02000000000001,
          68.39,
          68.39,
          68.39,
          68.39,
          68.39,
          67.75,
          67.83000000000001,
          67.83000000000001,
          67.75,
          66.94,
          66.94,
          66.94,
          66.94,
          66.94,
          66.50800000000001,
          66.4,
          66.4,
          66.4,
          66.4,
          66.4,
          66.4,
          66.4,
          66.4,
          66.4,
          66.4,
          66.4,
          66.11,
          65.86,
          65.86,
          65.86,
          65.86,
          65.86,
          65.86,
          65.86,
          65.86,
          65.86,
          65.86,
          69.248,
          69.248,
          69.248,
          69.248,
          69.248,
          69.41,
          69.14,
          69.14,
          69.14,
          69.14,
          69.14,
          69.14,
          69.14,
          69.14,
          68.6,
          68.6,
          68.6,
          68.6,
          68.6,
          68.6,
          68.87,
          68.87,
          68.87,
          68.87,
          68.87,
          68.87,
          68.87,
          68.87,
          68.87,
          68.6,
          68.6,
          68.6,
          68.85,
          68.85,
          68.85,
          68.85,
          68.85,
          68.85,
          68.85,
          68.85,
          68.85,
          68.85,
          68.85,
          68.06,
          68.06,
          68.06,
          68.06,
          67.78999999999999,
          67.78999999999999,
          67.78999999999999,
          67.78999999999999,
          67.78999999999999,
          67.78999999999999,
          67.78999999999999,
          67.78999999999999,
          67.52000000000001,
          67.52000000000001,
          67.52000000000001,
          67.23,
          67.23,
          67.23,
          67.23,
          67.23,
          66.44,
          69.18,
          69.18,
          69.18,
          69.18,
          69.18,
          69.18,
          69.18,
          69.18,
          69.18,
          69.18,
          69.18,
          69.18,
          69.18,
          69.18,
          69.18,
          69.18,
          69.18,
          68.64,
          68.64,
          68.64,
          68.64,
          68.64,
          68.64,
          68.64,
          68.64,
          68.64,
          68.64,
          68.64,
          68.35,
          68.35,
          68.35,
          68.35,
          68.35,
          68.35,
          68.35,
          68.35,
          68.37,
          68.37,
          68.37,
          68.37,
          68.37,
          67.02000000000001,
          67.28999999999999,
          67.28999999999999,
          67.27000000000001,
          67.27000000000001,
          67.27000000000001,
          67.27000000000001,
          67.27000000000001,
          67.27000000000001,
          67,
          67,
          67,
          67,
          67,
          67,
          67,
          66.21000000000001,
          65.4,
          65.4,
          65.4,
          65.4,
          65.4,
          64.86,
          64.86,
          64.86,
          64.86,
          64.86,
          64.86,
          64.86,
          64.86,
          64.86,
          64.86,
          64.86,
          64.86,
          64.86,
          64.86,
          64.86,
          68.68,
          68.68,
          68.68,
          68.68,
          68.68,
          68.14,
          68.14,
          68.14,
          68.14,
          68.14,
          68.14,
          68.14,
          68.14,
          68.14,
          67.6,
          67.6,
          67.6,
          67.6,
          67.6,
          67.6,
          67.6,
          67.6,
          67.6,
          67.87,
          67.87,
          67.6,
          67.6,
          67.6,
          67.6,
          67.6,
          67.6,
          67.06,
          67.06,
          67.06,
          67.06,
          67.06,
          67.06,
          66.52000000000001,
          66.52000000000001,
          66.52000000000001,
          66.52000000000001,
          66.52000000000001,
          66.77000000000001,
          66.77000000000001,
          66.77000000000001,
          66.77000000000001,
          65.15,
          65.15,
          65.15,
          65.15,
          65.15,
          66.56,
          66.56,
          66.56,
          66.56,
          66.56,
          66.56,
          66.56,
          66.56,
          66.56,
          66.56,
          66.56,
          66.56,
          66.56,
          66.56,
          66.02000000000001,
          64.4,
          64.4,
          65.78999999999999,
          65.78999999999999,
          66.64,
          66.64,
          66.64,
          65.27000000000001,
          65.27000000000001
         ],
         "yaxis": "y"
        },
        {
         "hovertemplate": "<b>OLS trendline</b><br>midparentHeight = 0.161618 * childHeight + 58.4194<br>R<sup>2</sup>=0.103009<br><br>childHeight=%{x}<br>midparentHeight=%{y} <b>(trend)</b><extra></extra>",
         "legendgroup": "",
         "marker": {
          "color": "#636efa",
          "opacity": 0.5,
          "size": 8,
          "symbol": "circle"
         },
         "mode": "lines",
         "name": "",
         "showlegend": false,
         "type": "scatter",
         "x": [
          56,
          57,
          57,
          57.5,
          58,
          59,
          60,
          60,
          60,
          60,
          60,
          60,
          60,
          60,
          60,
          60,
          60,
          60,
          60,
          60,
          60,
          60,
          60,
          60,
          60,
          60.1,
          60.5,
          60.5,
          60.5,
          60.5,
          60.5,
          61,
          61,
          61,
          61,
          61,
          61,
          61,
          61,
          61,
          61,
          61,
          61,
          61,
          61,
          61,
          61,
          61,
          61,
          61,
          61.2,
          61.5,
          61.5,
          61.5,
          61.5,
          61.5,
          61.5,
          61.5,
          61.7,
          61.7,
          61.7,
          62,
          62,
          62,
          62,
          62,
          62,
          62,
          62,
          62,
          62,
          62,
          62,
          62,
          62,
          62,
          62,
          62,
          62,
          62,
          62,
          62,
          62,
          62,
          62,
          62,
          62,
          62,
          62,
          62,
          62,
          62,
          62,
          62,
          62,
          62,
          62,
          62,
          62,
          62,
          62,
          62,
          62,
          62.2,
          62.3,
          62.5,
          62.5,
          62.5,
          62.5,
          62.5,
          62.5,
          62.5,
          62.5,
          62.5,
          62.5,
          62.5,
          62.5,
          62.5,
          62.5,
          62.5,
          62.5,
          62.5,
          62.5,
          62.5,
          62.5,
          62.5,
          62.5,
          62.5,
          62.5,
          62.7,
          62.7,
          63,
          63,
          63,
          63,
          63,
          63,
          63,
          63,
          63,
          63,
          63,
          63,
          63,
          63,
          63,
          63,
          63,
          63,
          63,
          63,
          63,
          63,
          63,
          63,
          63,
          63,
          63,
          63,
          63,
          63,
          63,
          63,
          63,
          63,
          63,
          63,
          63,
          63,
          63,
          63,
          63,
          63,
          63,
          63,
          63,
          63,
          63,
          63,
          63.2,
          63.2,
          63.2,
          63.5,
          63.5,
          63.5,
          63.5,
          63.5,
          63.5,
          63.5,
          63.5,
          63.5,
          63.5,
          63.5,
          63.5,
          63.5,
          63.5,
          63.5,
          63.5,
          63.5,
          63.5,
          63.5,
          63.5,
          63.5,
          63.5,
          63.5,
          63.5,
          63.7,
          63.7,
          63.7,
          63.7,
          63.7,
          64,
          64,
          64,
          64,
          64,
          64,
          64,
          64,
          64,
          64,
          64,
          64,
          64,
          64,
          64,
          64,
          64,
          64,
          64,
          64,
          64,
          64,
          64,
          64,
          64,
          64,
          64,
          64,
          64,
          64,
          64,
          64,
          64,
          64,
          64,
          64,
          64,
          64,
          64,
          64,
          64,
          64,
          64,
          64,
          64,
          64.2,
          64.5,
          64.5,
          64.5,
          64.5,
          64.5,
          64.5,
          64.5,
          64.5,
          64.5,
          64.5,
          64.5,
          64.5,
          64.5,
          64.5,
          64.5,
          64.5,
          64.5,
          64.5,
          64.5,
          64.5,
          64.5,
          64.5,
          64.5,
          64.5,
          64.5,
          64.5,
          64.5,
          64.7,
          64.7,
          64.7,
          65,
          65,
          65,
          65,
          65,
          65,
          65,
          65,
          65,
          65,
          65,
          65,
          65,
          65,
          65,
          65,
          65,
          65,
          65,
          65,
          65,
          65,
          65,
          65,
          65,
          65,
          65,
          65,
          65,
          65,
          65,
          65,
          65,
          65,
          65,
          65,
          65,
          65,
          65,
          65,
          65,
          65,
          65,
          65,
          65,
          65,
          65,
          65,
          65,
          65,
          65,
          65,
          65,
          65,
          65,
          65,
          65,
          65,
          65,
          65,
          65,
          65,
          65,
          65.2,
          65.2,
          65.2,
          65.2,
          65.2,
          65.5,
          65.5,
          65.5,
          65.5,
          65.5,
          65.5,
          65.5,
          65.5,
          65.5,
          65.5,
          65.5,
          65.5,
          65.5,
          65.5,
          65.5,
          65.5,
          65.5,
          65.5,
          65.5,
          65.5,
          65.5,
          65.5,
          65.5,
          65.5,
          65.5,
          65.5,
          65.5,
          65.5,
          65.5,
          65.5,
          65.5,
          65.5,
          65.7,
          65.7,
          65.7,
          66,
          66,
          66,
          66,
          66,
          66,
          66,
          66,
          66,
          66,
          66,
          66,
          66,
          66,
          66,
          66,
          66,
          66,
          66,
          66,
          66,
          66,
          66,
          66,
          66,
          66,
          66,
          66,
          66,
          66,
          66,
          66,
          66,
          66,
          66,
          66,
          66,
          66,
          66,
          66,
          66,
          66,
          66,
          66,
          66,
          66,
          66,
          66,
          66,
          66,
          66,
          66,
          66,
          66,
          66,
          66,
          66,
          66,
          66,
          66.2,
          66.5,
          66.5,
          66.5,
          66.5,
          66.5,
          66.5,
          66.5,
          66.5,
          66.5,
          66.5,
          66.5,
          66.5,
          66.5,
          66.5,
          66.5,
          66.5,
          66.5,
          66.5,
          66.5,
          66.5,
          66.5,
          66.5,
          66.7,
          66.7,
          66.7,
          66.7,
          67,
          67,
          67,
          67,
          67,
          67,
          67,
          67,
          67,
          67,
          67,
          67,
          67,
          67,
          67,
          67,
          67,
          67,
          67,
          67,
          67,
          67,
          67,
          67,
          67,
          67,
          67,
          67,
          67,
          67,
          67,
          67,
          67,
          67,
          67,
          67,
          67,
          67,
          67,
          67,
          67,
          67,
          67,
          67,
          67,
          67,
          67,
          67,
          67,
          67,
          67,
          67,
          67.2,
          67.2,
          67.2,
          67.5,
          67.5,
          67.5,
          67.5,
          67.5,
          67.5,
          67.5,
          67.5,
          67.5,
          67.5,
          67.5,
          67.5,
          67.5,
          67.5,
          67.7,
          67.7,
          67.7,
          67.7,
          67.7,
          67.8,
          68,
          68,
          68,
          68,
          68,
          68,
          68,
          68,
          68,
          68,
          68,
          68,
          68,
          68,
          68,
          68,
          68,
          68,
          68,
          68,
          68,
          68,
          68,
          68,
          68,
          68,
          68,
          68,
          68,
          68,
          68,
          68,
          68,
          68,
          68,
          68,
          68,
          68,
          68,
          68,
          68,
          68,
          68,
          68,
          68,
          68,
          68,
          68,
          68,
          68,
          68,
          68,
          68,
          68,
          68,
          68,
          68,
          68.2,
          68.5,
          68.5,
          68.5,
          68.5,
          68.5,
          68.5,
          68.5,
          68.5,
          68.5,
          68.5,
          68.5,
          68.5,
          68.5,
          68.5,
          68.5,
          68.5,
          68.5,
          68.5,
          68.5,
          68.5,
          68.5,
          68.5,
          68.7,
          68.7,
          68.7,
          68.7,
          68.7,
          68.7,
          69,
          69,
          69,
          69,
          69,
          69,
          69,
          69,
          69,
          69,
          69,
          69,
          69,
          69,
          69,
          69,
          69,
          69,
          69,
          69,
          69,
          69,
          69,
          69,
          69,
          69,
          69,
          69,
          69,
          69,
          69,
          69,
          69,
          69,
          69,
          69,
          69,
          69,
          69,
          69,
          69,
          69,
          69,
          69,
          69,
          69.2,
          69.2,
          69.2,
          69.2,
          69.2,
          69.2,
          69.2,
          69.5,
          69.5,
          69.5,
          69.5,
          69.5,
          69.5,
          69.5,
          69.5,
          69.5,
          69.5,
          69.7,
          69.7,
          69.7,
          70,
          70,
          70,
          70,
          70,
          70,
          70,
          70,
          70,
          70,
          70,
          70,
          70,
          70,
          70,
          70,
          70,
          70,
          70,
          70,
          70,
          70,
          70,
          70,
          70,
          70,
          70,
          70,
          70,
          70,
          70,
          70,
          70,
          70,
          70,
          70,
          70,
          70,
          70,
          70,
          70,
          70,
          70,
          70,
          70,
          70,
          70,
          70,
          70,
          70,
          70,
          70,
          70,
          70,
          70,
          70,
          70.2,
          70.2,
          70.2,
          70.2,
          70.5,
          70.5,
          70.5,
          70.5,
          70.5,
          70.5,
          70.5,
          70.5,
          70.5,
          70.5,
          70.5,
          70.5,
          70.5,
          70.5,
          70.5,
          70.5,
          70.5,
          70.5,
          70.5,
          70.5,
          70.5,
          70.5,
          70.5,
          70.5,
          70.5,
          70.5,
          70.5,
          70.5,
          70.7,
          70.7,
          70.7,
          70.7,
          70.7,
          71,
          71,
          71,
          71,
          71,
          71,
          71,
          71,
          71,
          71,
          71,
          71,
          71,
          71,
          71,
          71,
          71,
          71,
          71,
          71,
          71,
          71,
          71,
          71,
          71,
          71,
          71,
          71,
          71,
          71,
          71,
          71,
          71,
          71,
          71,
          71,
          71,
          71,
          71,
          71.2,
          71.2,
          71.2,
          71.2,
          71.5,
          71.5,
          71.5,
          71.5,
          71.5,
          71.5,
          71.5,
          71.5,
          71.5,
          71.5,
          71.7,
          71.7,
          71.7,
          72,
          72,
          72,
          72,
          72,
          72,
          72,
          72,
          72,
          72,
          72,
          72,
          72,
          72,
          72,
          72,
          72,
          72,
          72,
          72,
          72,
          72,
          72,
          72,
          72,
          72,
          72,
          72,
          72,
          72,
          72,
          72,
          72,
          72,
          72.5,
          72.5,
          72.5,
          72.7,
          72.7,
          72.7,
          73,
          73,
          73,
          73,
          73,
          73,
          73,
          73,
          73,
          73,
          73,
          73,
          73,
          73,
          73,
          73,
          73,
          73,
          73,
          73,
          73,
          73,
          73.2,
          73.2,
          73.2,
          73.5,
          73.5,
          74,
          74,
          74,
          74,
          74,
          74,
          74,
          74.2,
          75,
          75,
          75,
          75,
          76,
          76.5,
          78,
          79
         ],
         "xaxis": "x",
         "y": [
          67.47003972394256,
          67.63165747657416,
          67.63165747657416,
          67.71246635288996,
          67.79327522920576,
          67.95489298183735,
          68.11651073446895,
          68.11651073446895,
          68.11651073446895,
          68.11651073446895,
          68.11651073446895,
          68.11651073446895,
          68.11651073446895,
          68.11651073446895,
          68.11651073446895,
          68.11651073446895,
          68.11651073446895,
          68.11651073446895,
          68.11651073446895,
          68.11651073446895,
          68.11651073446895,
          68.11651073446895,
          68.11651073446895,
          68.11651073446895,
          68.11651073446895,
          68.1326725097321,
          68.19731961078475,
          68.19731961078475,
          68.19731961078475,
          68.19731961078475,
          68.19731961078475,
          68.27812848710053,
          68.27812848710053,
          68.27812848710053,
          68.27812848710053,
          68.27812848710053,
          68.27812848710053,
          68.27812848710053,
          68.27812848710053,
          68.27812848710053,
          68.27812848710053,
          68.27812848710053,
          68.27812848710053,
          68.27812848710053,
          68.27812848710053,
          68.27812848710053,
          68.27812848710053,
          68.27812848710053,
          68.27812848710053,
          68.27812848710053,
          68.31045203762686,
          68.35893736341633,
          68.35893736341633,
          68.35893736341633,
          68.35893736341633,
          68.35893736341633,
          68.35893736341633,
          68.35893736341633,
          68.39126091394266,
          68.39126091394266,
          68.39126091394266,
          68.43974623973213,
          68.43974623973213,
          68.43974623973213,
          68.43974623973213,
          68.43974623973213,
          68.43974623973213,
          68.43974623973213,
          68.43974623973213,
          68.43974623973213,
          68.43974623973213,
          68.43974623973213,
          68.43974623973213,
          68.43974623973213,
          68.43974623973213,
          68.43974623973213,
          68.43974623973213,
          68.43974623973213,
          68.43974623973213,
          68.43974623973213,
          68.43974623973213,
          68.43974623973213,
          68.43974623973213,
          68.43974623973213,
          68.43974623973213,
          68.43974623973213,
          68.43974623973213,
          68.43974623973213,
          68.43974623973213,
          68.43974623973213,
          68.43974623973213,
          68.43974623973213,
          68.43974623973213,
          68.43974623973213,
          68.43974623973213,
          68.43974623973213,
          68.43974623973213,
          68.43974623973213,
          68.43974623973213,
          68.43974623973213,
          68.43974623973213,
          68.43974623973213,
          68.43974623973213,
          68.47206979025844,
          68.4882315655216,
          68.52055511604793,
          68.52055511604793,
          68.52055511604793,
          68.52055511604793,
          68.52055511604793,
          68.52055511604793,
          68.52055511604793,
          68.52055511604793,
          68.52055511604793,
          68.52055511604793,
          68.52055511604793,
          68.52055511604793,
          68.52055511604793,
          68.52055511604793,
          68.52055511604793,
          68.52055511604793,
          68.52055511604793,
          68.52055511604793,
          68.52055511604793,
          68.52055511604793,
          68.52055511604793,
          68.52055511604793,
          68.52055511604793,
          68.52055511604793,
          68.55287866657424,
          68.55287866657424,
          68.60136399236373,
          68.60136399236373,
          68.60136399236373,
          68.60136399236373,
          68.60136399236373,
          68.60136399236373,
          68.60136399236373,
          68.60136399236373,
          68.60136399236373,
          68.60136399236373,
          68.60136399236373,
          68.60136399236373,
          68.60136399236373,
          68.60136399236373,
          68.60136399236373,
          68.60136399236373,
          68.60136399236373,
          68.60136399236373,
          68.60136399236373,
          68.60136399236373,
          68.60136399236373,
          68.60136399236373,
          68.60136399236373,
          68.60136399236373,
          68.60136399236373,
          68.60136399236373,
          68.60136399236373,
          68.60136399236373,
          68.60136399236373,
          68.60136399236373,
          68.60136399236373,
          68.60136399236373,
          68.60136399236373,
          68.60136399236373,
          68.60136399236373,
          68.60136399236373,
          68.60136399236373,
          68.60136399236373,
          68.60136399236373,
          68.60136399236373,
          68.60136399236373,
          68.60136399236373,
          68.60136399236373,
          68.60136399236373,
          68.60136399236373,
          68.60136399236373,
          68.60136399236373,
          68.60136399236373,
          68.63368754289004,
          68.63368754289004,
          68.63368754289004,
          68.68217286867952,
          68.68217286867952,
          68.68217286867952,
          68.68217286867952,
          68.68217286867952,
          68.68217286867952,
          68.68217286867952,
          68.68217286867952,
          68.68217286867952,
          68.68217286867952,
          68.68217286867952,
          68.68217286867952,
          68.68217286867952,
          68.68217286867952,
          68.68217286867952,
          68.68217286867952,
          68.68217286867952,
          68.68217286867952,
          68.68217286867952,
          68.68217286867952,
          68.68217286867952,
          68.68217286867952,
          68.68217286867952,
          68.68217286867952,
          68.71449641920584,
          68.71449641920584,
          68.71449641920584,
          68.71449641920584,
          68.71449641920584,
          68.76298174499532,
          68.76298174499532,
          68.76298174499532,
          68.76298174499532,
          68.76298174499532,
          68.76298174499532,
          68.76298174499532,
          68.76298174499532,
          68.76298174499532,
          68.76298174499532,
          68.76298174499532,
          68.76298174499532,
          68.76298174499532,
          68.76298174499532,
          68.76298174499532,
          68.76298174499532,
          68.76298174499532,
          68.76298174499532,
          68.76298174499532,
          68.76298174499532,
          68.76298174499532,
          68.76298174499532,
          68.76298174499532,
          68.76298174499532,
          68.76298174499532,
          68.76298174499532,
          68.76298174499532,
          68.76298174499532,
          68.76298174499532,
          68.76298174499532,
          68.76298174499532,
          68.76298174499532,
          68.76298174499532,
          68.76298174499532,
          68.76298174499532,
          68.76298174499532,
          68.76298174499532,
          68.76298174499532,
          68.76298174499532,
          68.76298174499532,
          68.76298174499532,
          68.76298174499532,
          68.76298174499532,
          68.76298174499532,
          68.76298174499532,
          68.79530529552164,
          68.84379062131111,
          68.84379062131111,
          68.84379062131111,
          68.84379062131111,
          68.84379062131111,
          68.84379062131111,
          68.84379062131111,
          68.84379062131111,
          68.84379062131111,
          68.84379062131111,
          68.84379062131111,
          68.84379062131111,
          68.84379062131111,
          68.84379062131111,
          68.84379062131111,
          68.84379062131111,
          68.84379062131111,
          68.84379062131111,
          68.84379062131111,
          68.84379062131111,
          68.84379062131111,
          68.84379062131111,
          68.84379062131111,
          68.84379062131111,
          68.84379062131111,
          68.84379062131111,
          68.84379062131111,
          68.87611417183743,
          68.87611417183743,
          68.87611417183743,
          68.92459949762691,
          68.92459949762691,
          68.92459949762691,
          68.92459949762691,
          68.92459949762691,
          68.92459949762691,
          68.92459949762691,
          68.92459949762691,
          68.92459949762691,
          68.92459949762691,
          68.92459949762691,
          68.92459949762691,
          68.92459949762691,
          68.92459949762691,
          68.92459949762691,
          68.92459949762691,
          68.92459949762691,
          68.92459949762691,
          68.92459949762691,
          68.92459949762691,
          68.92459949762691,
          68.92459949762691,
          68.92459949762691,
          68.92459949762691,
          68.92459949762691,
          68.92459949762691,
          68.92459949762691,
          68.92459949762691,
          68.92459949762691,
          68.92459949762691,
          68.92459949762691,
          68.92459949762691,
          68.92459949762691,
          68.92459949762691,
          68.92459949762691,
          68.92459949762691,
          68.92459949762691,
          68.92459949762691,
          68.92459949762691,
          68.92459949762691,
          68.92459949762691,
          68.92459949762691,
          68.92459949762691,
          68.92459949762691,
          68.92459949762691,
          68.92459949762691,
          68.92459949762691,
          68.92459949762691,
          68.92459949762691,
          68.92459949762691,
          68.92459949762691,
          68.92459949762691,
          68.92459949762691,
          68.92459949762691,
          68.92459949762691,
          68.92459949762691,
          68.92459949762691,
          68.92459949762691,
          68.92459949762691,
          68.92459949762691,
          68.92459949762691,
          68.92459949762691,
          68.92459949762691,
          68.95692304815323,
          68.95692304815323,
          68.95692304815323,
          68.95692304815323,
          68.95692304815323,
          69.00540837394271,
          69.00540837394271,
          69.00540837394271,
          69.00540837394271,
          69.00540837394271,
          69.00540837394271,
          69.00540837394271,
          69.00540837394271,
          69.00540837394271,
          69.00540837394271,
          69.00540837394271,
          69.00540837394271,
          69.00540837394271,
          69.00540837394271,
          69.00540837394271,
          69.00540837394271,
          69.00540837394271,
          69.00540837394271,
          69.00540837394271,
          69.00540837394271,
          69.00540837394271,
          69.00540837394271,
          69.00540837394271,
          69.00540837394271,
          69.00540837394271,
          69.00540837394271,
          69.00540837394271,
          69.00540837394271,
          69.00540837394271,
          69.00540837394271,
          69.00540837394271,
          69.00540837394271,
          69.03773192446903,
          69.03773192446903,
          69.03773192446903,
          69.0862172502585,
          69.0862172502585,
          69.0862172502585,
          69.0862172502585,
          69.0862172502585,
          69.0862172502585,
          69.0862172502585,
          69.0862172502585,
          69.0862172502585,
          69.0862172502585,
          69.0862172502585,
          69.0862172502585,
          69.0862172502585,
          69.0862172502585,
          69.0862172502585,
          69.0862172502585,
          69.0862172502585,
          69.0862172502585,
          69.0862172502585,
          69.0862172502585,
          69.0862172502585,
          69.0862172502585,
          69.0862172502585,
          69.0862172502585,
          69.0862172502585,
          69.0862172502585,
          69.0862172502585,
          69.0862172502585,
          69.0862172502585,
          69.0862172502585,
          69.0862172502585,
          69.0862172502585,
          69.0862172502585,
          69.0862172502585,
          69.0862172502585,
          69.0862172502585,
          69.0862172502585,
          69.0862172502585,
          69.0862172502585,
          69.0862172502585,
          69.0862172502585,
          69.0862172502585,
          69.0862172502585,
          69.0862172502585,
          69.0862172502585,
          69.0862172502585,
          69.0862172502585,
          69.0862172502585,
          69.0862172502585,
          69.0862172502585,
          69.0862172502585,
          69.0862172502585,
          69.0862172502585,
          69.0862172502585,
          69.0862172502585,
          69.0862172502585,
          69.0862172502585,
          69.0862172502585,
          69.0862172502585,
          69.11854080078483,
          69.1670261265743,
          69.1670261265743,
          69.1670261265743,
          69.1670261265743,
          69.1670261265743,
          69.1670261265743,
          69.1670261265743,
          69.1670261265743,
          69.1670261265743,
          69.1670261265743,
          69.1670261265743,
          69.1670261265743,
          69.1670261265743,
          69.1670261265743,
          69.1670261265743,
          69.1670261265743,
          69.1670261265743,
          69.1670261265743,
          69.1670261265743,
          69.1670261265743,
          69.1670261265743,
          69.1670261265743,
          69.19934967710063,
          69.19934967710063,
          69.19934967710063,
          69.19934967710063,
          69.2478350028901,
          69.2478350028901,
          69.2478350028901,
          69.2478350028901,
          69.2478350028901,
          69.2478350028901,
          69.2478350028901,
          69.2478350028901,
          69.2478350028901,
          69.2478350028901,
          69.2478350028901,
          69.2478350028901,
          69.2478350028901,
          69.2478350028901,
          69.2478350028901,
          69.2478350028901,
          69.2478350028901,
          69.2478350028901,
          69.2478350028901,
          69.2478350028901,
          69.2478350028901,
          69.2478350028901,
          69.2478350028901,
          69.2478350028901,
          69.2478350028901,
          69.2478350028901,
          69.2478350028901,
          69.2478350028901,
          69.2478350028901,
          69.2478350028901,
          69.2478350028901,
          69.2478350028901,
          69.2478350028901,
          69.2478350028901,
          69.2478350028901,
          69.2478350028901,
          69.2478350028901,
          69.2478350028901,
          69.2478350028901,
          69.2478350028901,
          69.2478350028901,
          69.2478350028901,
          69.2478350028901,
          69.2478350028901,
          69.2478350028901,
          69.2478350028901,
          69.2478350028901,
          69.2478350028901,
          69.2478350028901,
          69.2478350028901,
          69.2478350028901,
          69.2478350028901,
          69.28015855341641,
          69.28015855341641,
          69.28015855341641,
          69.3286438792059,
          69.3286438792059,
          69.3286438792059,
          69.3286438792059,
          69.3286438792059,
          69.3286438792059,
          69.3286438792059,
          69.3286438792059,
          69.3286438792059,
          69.3286438792059,
          69.3286438792059,
          69.3286438792059,
          69.3286438792059,
          69.3286438792059,
          69.36096742973221,
          69.36096742973221,
          69.36096742973221,
          69.36096742973221,
          69.36096742973221,
          69.37712920499537,
          69.4094527555217,
          69.4094527555217,
          69.4094527555217,
          69.4094527555217,
          69.4094527555217,
          69.4094527555217,
          69.4094527555217,
          69.4094527555217,
          69.4094527555217,
          69.4094527555217,
          69.4094527555217,
          69.4094527555217,
          69.4094527555217,
          69.4094527555217,
          69.4094527555217,
          69.4094527555217,
          69.4094527555217,
          69.4094527555217,
          69.4094527555217,
          69.4094527555217,
          69.4094527555217,
          69.4094527555217,
          69.4094527555217,
          69.4094527555217,
          69.4094527555217,
          69.4094527555217,
          69.4094527555217,
          69.4094527555217,
          69.4094527555217,
          69.4094527555217,
          69.4094527555217,
          69.4094527555217,
          69.4094527555217,
          69.4094527555217,
          69.4094527555217,
          69.4094527555217,
          69.4094527555217,
          69.4094527555217,
          69.4094527555217,
          69.4094527555217,
          69.4094527555217,
          69.4094527555217,
          69.4094527555217,
          69.4094527555217,
          69.4094527555217,
          69.4094527555217,
          69.4094527555217,
          69.4094527555217,
          69.4094527555217,
          69.4094527555217,
          69.4094527555217,
          69.4094527555217,
          69.4094527555217,
          69.4094527555217,
          69.4094527555217,
          69.4094527555217,
          69.4094527555217,
          69.44177630604801,
          69.4902616318375,
          69.4902616318375,
          69.4902616318375,
          69.4902616318375,
          69.4902616318375,
          69.4902616318375,
          69.4902616318375,
          69.4902616318375,
          69.4902616318375,
          69.4902616318375,
          69.4902616318375,
          69.4902616318375,
          69.4902616318375,
          69.4902616318375,
          69.4902616318375,
          69.4902616318375,
          69.4902616318375,
          69.4902616318375,
          69.4902616318375,
          69.4902616318375,
          69.4902616318375,
          69.4902616318375,
          69.52258518236381,
          69.52258518236381,
          69.52258518236381,
          69.52258518236381,
          69.52258518236381,
          69.52258518236381,
          69.57107050815328,
          69.57107050815328,
          69.57107050815328,
          69.57107050815328,
          69.57107050815328,
          69.57107050815328,
          69.57107050815328,
          69.57107050815328,
          69.57107050815328,
          69.57107050815328,
          69.57107050815328,
          69.57107050815328,
          69.57107050815328,
          69.57107050815328,
          69.57107050815328,
          69.57107050815328,
          69.57107050815328,
          69.57107050815328,
          69.57107050815328,
          69.57107050815328,
          69.57107050815328,
          69.57107050815328,
          69.57107050815328,
          69.57107050815328,
          69.57107050815328,
          69.57107050815328,
          69.57107050815328,
          69.57107050815328,
          69.57107050815328,
          69.57107050815328,
          69.57107050815328,
          69.57107050815328,
          69.57107050815328,
          69.57107050815328,
          69.57107050815328,
          69.57107050815328,
          69.57107050815328,
          69.57107050815328,
          69.57107050815328,
          69.57107050815328,
          69.57107050815328,
          69.57107050815328,
          69.57107050815328,
          69.57107050815328,
          69.57107050815328,
          69.60339405867961,
          69.60339405867961,
          69.60339405867961,
          69.60339405867961,
          69.60339405867961,
          69.60339405867961,
          69.60339405867961,
          69.65187938446908,
          69.65187938446908,
          69.65187938446908,
          69.65187938446908,
          69.65187938446908,
          69.65187938446908,
          69.65187938446908,
          69.65187938446908,
          69.65187938446908,
          69.65187938446908,
          69.68420293499541,
          69.68420293499541,
          69.68420293499541,
          69.73268826078488,
          69.73268826078488,
          69.73268826078488,
          69.73268826078488,
          69.73268826078488,
          69.73268826078488,
          69.73268826078488,
          69.73268826078488,
          69.73268826078488,
          69.73268826078488,
          69.73268826078488,
          69.73268826078488,
          69.73268826078488,
          69.73268826078488,
          69.73268826078488,
          69.73268826078488,
          69.73268826078488,
          69.73268826078488,
          69.73268826078488,
          69.73268826078488,
          69.73268826078488,
          69.73268826078488,
          69.73268826078488,
          69.73268826078488,
          69.73268826078488,
          69.73268826078488,
          69.73268826078488,
          69.73268826078488,
          69.73268826078488,
          69.73268826078488,
          69.73268826078488,
          69.73268826078488,
          69.73268826078488,
          69.73268826078488,
          69.73268826078488,
          69.73268826078488,
          69.73268826078488,
          69.73268826078488,
          69.73268826078488,
          69.73268826078488,
          69.73268826078488,
          69.73268826078488,
          69.73268826078488,
          69.73268826078488,
          69.73268826078488,
          69.73268826078488,
          69.73268826078488,
          69.73268826078488,
          69.73268826078488,
          69.73268826078488,
          69.73268826078488,
          69.73268826078488,
          69.73268826078488,
          69.73268826078488,
          69.73268826078488,
          69.73268826078488,
          69.7650118113112,
          69.7650118113112,
          69.7650118113112,
          69.7650118113112,
          69.81349713710068,
          69.81349713710068,
          69.81349713710068,
          69.81349713710068,
          69.81349713710068,
          69.81349713710068,
          69.81349713710068,
          69.81349713710068,
          69.81349713710068,
          69.81349713710068,
          69.81349713710068,
          69.81349713710068,
          69.81349713710068,
          69.81349713710068,
          69.81349713710068,
          69.81349713710068,
          69.81349713710068,
          69.81349713710068,
          69.81349713710068,
          69.81349713710068,
          69.81349713710068,
          69.81349713710068,
          69.81349713710068,
          69.81349713710068,
          69.81349713710068,
          69.81349713710068,
          69.81349713710068,
          69.81349713710068,
          69.845820687627,
          69.845820687627,
          69.845820687627,
          69.845820687627,
          69.845820687627,
          69.89430601341648,
          69.89430601341648,
          69.89430601341648,
          69.89430601341648,
          69.89430601341648,
          69.89430601341648,
          69.89430601341648,
          69.89430601341648,
          69.89430601341648,
          69.89430601341648,
          69.89430601341648,
          69.89430601341648,
          69.89430601341648,
          69.89430601341648,
          69.89430601341648,
          69.89430601341648,
          69.89430601341648,
          69.89430601341648,
          69.89430601341648,
          69.89430601341648,
          69.89430601341648,
          69.89430601341648,
          69.89430601341648,
          69.89430601341648,
          69.89430601341648,
          69.89430601341648,
          69.89430601341648,
          69.89430601341648,
          69.89430601341648,
          69.89430601341648,
          69.89430601341648,
          69.89430601341648,
          69.89430601341648,
          69.89430601341648,
          69.89430601341648,
          69.89430601341648,
          69.89430601341648,
          69.89430601341648,
          69.89430601341648,
          69.9266295639428,
          69.9266295639428,
          69.9266295639428,
          69.9266295639428,
          69.97511488973228,
          69.97511488973228,
          69.97511488973228,
          69.97511488973228,
          69.97511488973228,
          69.97511488973228,
          69.97511488973228,
          69.97511488973228,
          69.97511488973228,
          69.97511488973228,
          70.0074384402586,
          70.0074384402586,
          70.0074384402586,
          70.05592376604807,
          70.05592376604807,
          70.05592376604807,
          70.05592376604807,
          70.05592376604807,
          70.05592376604807,
          70.05592376604807,
          70.05592376604807,
          70.05592376604807,
          70.05592376604807,
          70.05592376604807,
          70.05592376604807,
          70.05592376604807,
          70.05592376604807,
          70.05592376604807,
          70.05592376604807,
          70.05592376604807,
          70.05592376604807,
          70.05592376604807,
          70.05592376604807,
          70.05592376604807,
          70.05592376604807,
          70.05592376604807,
          70.05592376604807,
          70.05592376604807,
          70.05592376604807,
          70.05592376604807,
          70.05592376604807,
          70.05592376604807,
          70.05592376604807,
          70.05592376604807,
          70.05592376604807,
          70.05592376604807,
          70.05592376604807,
          70.13673264236387,
          70.13673264236387,
          70.13673264236387,
          70.1690561928902,
          70.1690561928902,
          70.1690561928902,
          70.21754151867967,
          70.21754151867967,
          70.21754151867967,
          70.21754151867967,
          70.21754151867967,
          70.21754151867967,
          70.21754151867967,
          70.21754151867967,
          70.21754151867967,
          70.21754151867967,
          70.21754151867967,
          70.21754151867967,
          70.21754151867967,
          70.21754151867967,
          70.21754151867967,
          70.21754151867967,
          70.21754151867967,
          70.21754151867967,
          70.21754151867967,
          70.21754151867967,
          70.21754151867967,
          70.21754151867967,
          70.24986506920598,
          70.24986506920598,
          70.24986506920598,
          70.29835039499547,
          70.29835039499547,
          70.37915927131127,
          70.37915927131127,
          70.37915927131127,
          70.37915927131127,
          70.37915927131127,
          70.37915927131127,
          70.37915927131127,
          70.41148282183758,
          70.54077702394285,
          70.54077702394285,
          70.54077702394285,
          70.54077702394285,
          70.70239477657445,
          70.78320365289025,
          71.02563028183764,
          71.18724803446923
         ],
         "yaxis": "y"
        },
        {
         "line": {
          "color": "green",
          "dash": "dash",
          "width": 2
         },
         "mode": "lines",
         "name": "American Football Shape",
         "type": "scatter",
         "x": [
          67.42736727464667,
          66.97403680217029,
          66.5197878300599,
          66.06644945860181,
          65.61584712141494,
          65.16979523507388,
          64.73008989309365,
          64.29850163369515,
          63.87676831047263,
          63.46658809467052,
          63.069612637247324,
          62.68744041826006,
          62.321610310349286,
          61.97359538224211,
          61.64479696722431,
          61.33653902046582,
          61.05006278792051,
          60.78652180826683,
          60.54697726801472,
          60.33239372848201,
          60.143635241846475,
          59.98146187191266,
          59.84652663360322,
          59.73937286349826,
          59.66043203201075,
          59.61002200600742,
          59.588345768871065,
          59.59549060315815,
          59.63142773914272,
          59.69601247066196,
          59.78898473779682,
          59.909970174041526,
          60.05848161374537,
          60.23392105375687,
          60.43558206137135,
          60.66265261888613,
          60.91421839330925,
          61.189266418055674,
          61.48668917180624,
          61.8052890381051,
          62.1437831277385,
          62.500808444476874,
          62.87492737337958,
          63.26463346956286,
          63.668357524121724,
          64.08447388278036,
          64.51130699182812,
          64.94713814498297,
          65.39021240401503,
          65.83874566526347,
          66.29093184359228,
          66.74495014485761,
          67.1989723976032,
          67.65117041446157,
          68.09972335361931,
          68.54282505070438,
          68.9786912915726,
          69.4055669967083,
          69.82173328830999,
          70.22551441160469,
          70.61528448252093,
          70.98947403455006,
          71.34657633843389,
          71.68515346923176,
          72.00384209633661,
          72.30135897312627,
          72.57650610414461,
          72.82817556900652,
          73.05535398360213,
          73.25712658063709,
          73.43268089307753,
          73.58131002566805,
          73.70241550134942,
          73.79550967111449,
          73.86021767759865,
          73.89627896449805,
          73.90354832573797,
          73.88199649016637,
          73.83171023941851,
          73.75289205847793,
          73.64585932034088,
          73.51104300806732,
          73.34898597936419,
          73.16034078068904,
          72.94586701967583,
          72.70642830646295,
          72.44298877624011,
          72.15660920701619,
          71.84844274824057,
          71.51973027747728,
          71.17179540382911,
          70.80603913823076,
          70.4239342520724,
          70.02701934686908,
          69.61689265885539,
          69.1952056234523,
          68.76365622551957,
          68.32398216217001,
          67.87795384567652,
          67.42736727464667
         ],
         "y": [
          65.91837279530817,
          65.83133670815404,
          65.75789231168557,
          65.69833534056559,
          65.65290560969656,
          65.62178604857051,
          65.60510196467668,
          65.60292053893235,
          65.61525055516906,
          65.64204236476324,
          65.68318808655366,
          65.73852204124078,
          65.80782141851887,
          65.8908071742544,
          65.98714515409834,
          66.09644743900775,
          66.21827390725883,
          66.35213400666186,
          66.4974887298416,
          66.6537527846299,
          66.8202969508305,
          66.99645061386686,
          67.18150446511027,
          67.37471335801536,
          67.5752993085623,
          67.78245462792378,
          67.99534517474292,
          68.21311371392608,
          68.434883368426,
          68.65976115011624,
          68.88684155553914,
          69.11521021204865,
          69.34394755966635,
          69.57213255382477,
          69.79884637408892,
          70.02317612392184,
          70.24421850659671,
          70.46108346245404,
          70.67289775285774,
          70.87880847641887,
          71.07798650332856,
          71.26962981397111,
          71.45296672837384,
          71.6272590134901,
          71.7918048558031,
          71.94594168728126,
          72.08904885330585,
          72.22055011182809,
          72.33991595369245,
          72.44666573478318,
          72.5403696114085,
          72.6206502711294,
          72.6871844520638,
          72.73970424454787,
          72.77799816991381,
          72.80191203203978,
          72.81134953824325,
          72.80627268701764,
          72.786701921051,
          72.7527160449105,
          72.70445190772423,
          72.64210385213815,
          72.56592293176672,
          72.47621590028871,
          72.37334397625834,
          72.25772138860566,
          72.1298137086829,
          71.99013597557287,
          71.83925062220844,
          71.67776521065355,
          71.50632998566525,
          71.3256352563876,
          71.1364086167203,
          70.93941201555494,
          70.73543868867569,
          70.52530996467875,
          70.30987195777209,
          70.08999216077197,
          69.86655595201572,
          69.64046303025559,
          69.4126237918894,
          69.18395566511565,
          68.95537941577383,
          68.7278154397455,
          68.50218005684482,
          68.27938182112214,
          68.06031786243749,
          67.84587027403518,
          67.6369025606658,
          67.43425616155723,
          67.2387470622359,
          67.05116250884106,
          66.87225783816243,
          66.70275343616552,
          66.5433318372517,
          66.39463497593289,
          66.257261601988,
          66.13176486950886,
          66.01865010954383,
          65.91837279530817
         ]
        }
       ],
       "layout": {
        "annotations": [
         {
          "bgcolor": "white",
          "font": {
           "color": "black"
          },
          "showarrow": false,
          "text": "Correlation: 0.32",
          "x": 56,
          "xanchor": "left",
          "y": 75.43,
          "yanchor": "top"
         }
        ],
        "height": 400,
        "legend": {
         "tracegroupgap": 0
        },
        "template": {
         "data": {
          "bar": [
           {
            "error_x": {
             "color": "#2a3f5f"
            },
            "error_y": {
             "color": "#2a3f5f"
            },
            "marker": {
             "line": {
              "color": "#E5ECF6",
              "width": 0.5
             },
             "pattern": {
              "fillmode": "overlay",
              "size": 10,
              "solidity": 0.2
             }
            },
            "type": "bar"
           }
          ],
          "barpolar": [
           {
            "marker": {
             "line": {
              "color": "#E5ECF6",
              "width": 0.5
             },
             "pattern": {
              "fillmode": "overlay",
              "size": 10,
              "solidity": 0.2
             }
            },
            "type": "barpolar"
           }
          ],
          "carpet": [
           {
            "aaxis": {
             "endlinecolor": "#2a3f5f",
             "gridcolor": "white",
             "linecolor": "white",
             "minorgridcolor": "white",
             "startlinecolor": "#2a3f5f"
            },
            "baxis": {
             "endlinecolor": "#2a3f5f",
             "gridcolor": "white",
             "linecolor": "white",
             "minorgridcolor": "white",
             "startlinecolor": "#2a3f5f"
            },
            "type": "carpet"
           }
          ],
          "choropleth": [
           {
            "colorbar": {
             "outlinewidth": 0,
             "ticks": ""
            },
            "type": "choropleth"
           }
          ],
          "contour": [
           {
            "colorbar": {
             "outlinewidth": 0,
             "ticks": ""
            },
            "colorscale": [
             [
              0,
              "#0d0887"
             ],
             [
              0.1111111111111111,
              "#46039f"
             ],
             [
              0.2222222222222222,
              "#7201a8"
             ],
             [
              0.3333333333333333,
              "#9c179e"
             ],
             [
              0.4444444444444444,
              "#bd3786"
             ],
             [
              0.5555555555555556,
              "#d8576b"
             ],
             [
              0.6666666666666666,
              "#ed7953"
             ],
             [
              0.7777777777777778,
              "#fb9f3a"
             ],
             [
              0.8888888888888888,
              "#fdca26"
             ],
             [
              1,
              "#f0f921"
             ]
            ],
            "type": "contour"
           }
          ],
          "contourcarpet": [
           {
            "colorbar": {
             "outlinewidth": 0,
             "ticks": ""
            },
            "type": "contourcarpet"
           }
          ],
          "heatmap": [
           {
            "colorbar": {
             "outlinewidth": 0,
             "ticks": ""
            },
            "colorscale": [
             [
              0,
              "#0d0887"
             ],
             [
              0.1111111111111111,
              "#46039f"
             ],
             [
              0.2222222222222222,
              "#7201a8"
             ],
             [
              0.3333333333333333,
              "#9c179e"
             ],
             [
              0.4444444444444444,
              "#bd3786"
             ],
             [
              0.5555555555555556,
              "#d8576b"
             ],
             [
              0.6666666666666666,
              "#ed7953"
             ],
             [
              0.7777777777777778,
              "#fb9f3a"
             ],
             [
              0.8888888888888888,
              "#fdca26"
             ],
             [
              1,
              "#f0f921"
             ]
            ],
            "type": "heatmap"
           }
          ],
          "heatmapgl": [
           {
            "colorbar": {
             "outlinewidth": 0,
             "ticks": ""
            },
            "colorscale": [
             [
              0,
              "#0d0887"
             ],
             [
              0.1111111111111111,
              "#46039f"
             ],
             [
              0.2222222222222222,
              "#7201a8"
             ],
             [
              0.3333333333333333,
              "#9c179e"
             ],
             [
              0.4444444444444444,
              "#bd3786"
             ],
             [
              0.5555555555555556,
              "#d8576b"
             ],
             [
              0.6666666666666666,
              "#ed7953"
             ],
             [
              0.7777777777777778,
              "#fb9f3a"
             ],
             [
              0.8888888888888888,
              "#fdca26"
             ],
             [
              1,
              "#f0f921"
             ]
            ],
            "type": "heatmapgl"
           }
          ],
          "histogram": [
           {
            "marker": {
             "pattern": {
              "fillmode": "overlay",
              "size": 10,
              "solidity": 0.2
             }
            },
            "type": "histogram"
           }
          ],
          "histogram2d": [
           {
            "colorbar": {
             "outlinewidth": 0,
             "ticks": ""
            },
            "colorscale": [
             [
              0,
              "#0d0887"
             ],
             [
              0.1111111111111111,
              "#46039f"
             ],
             [
              0.2222222222222222,
              "#7201a8"
             ],
             [
              0.3333333333333333,
              "#9c179e"
             ],
             [
              0.4444444444444444,
              "#bd3786"
             ],
             [
              0.5555555555555556,
              "#d8576b"
             ],
             [
              0.6666666666666666,
              "#ed7953"
             ],
             [
              0.7777777777777778,
              "#fb9f3a"
             ],
             [
              0.8888888888888888,
              "#fdca26"
             ],
             [
              1,
              "#f0f921"
             ]
            ],
            "type": "histogram2d"
           }
          ],
          "histogram2dcontour": [
           {
            "colorbar": {
             "outlinewidth": 0,
             "ticks": ""
            },
            "colorscale": [
             [
              0,
              "#0d0887"
             ],
             [
              0.1111111111111111,
              "#46039f"
             ],
             [
              0.2222222222222222,
              "#7201a8"
             ],
             [
              0.3333333333333333,
              "#9c179e"
             ],
             [
              0.4444444444444444,
              "#bd3786"
             ],
             [
              0.5555555555555556,
              "#d8576b"
             ],
             [
              0.6666666666666666,
              "#ed7953"
             ],
             [
              0.7777777777777778,
              "#fb9f3a"
             ],
             [
              0.8888888888888888,
              "#fdca26"
             ],
             [
              1,
              "#f0f921"
             ]
            ],
            "type": "histogram2dcontour"
           }
          ],
          "mesh3d": [
           {
            "colorbar": {
             "outlinewidth": 0,
             "ticks": ""
            },
            "type": "mesh3d"
           }
          ],
          "parcoords": [
           {
            "line": {
             "colorbar": {
              "outlinewidth": 0,
              "ticks": ""
             }
            },
            "type": "parcoords"
           }
          ],
          "pie": [
           {
            "automargin": true,
            "type": "pie"
           }
          ],
          "scatter": [
           {
            "fillpattern": {
             "fillmode": "overlay",
             "size": 10,
             "solidity": 0.2
            },
            "type": "scatter"
           }
          ],
          "scatter3d": [
           {
            "line": {
             "colorbar": {
              "outlinewidth": 0,
              "ticks": ""
             }
            },
            "marker": {
             "colorbar": {
              "outlinewidth": 0,
              "ticks": ""
             }
            },
            "type": "scatter3d"
           }
          ],
          "scattercarpet": [
           {
            "marker": {
             "colorbar": {
              "outlinewidth": 0,
              "ticks": ""
             }
            },
            "type": "scattercarpet"
           }
          ],
          "scattergeo": [
           {
            "marker": {
             "colorbar": {
              "outlinewidth": 0,
              "ticks": ""
             }
            },
            "type": "scattergeo"
           }
          ],
          "scattergl": [
           {
            "marker": {
             "colorbar": {
              "outlinewidth": 0,
              "ticks": ""
             }
            },
            "type": "scattergl"
           }
          ],
          "scattermapbox": [
           {
            "marker": {
             "colorbar": {
              "outlinewidth": 0,
              "ticks": ""
             }
            },
            "type": "scattermapbox"
           }
          ],
          "scatterpolar": [
           {
            "marker": {
             "colorbar": {
              "outlinewidth": 0,
              "ticks": ""
             }
            },
            "type": "scatterpolar"
           }
          ],
          "scatterpolargl": [
           {
            "marker": {
             "colorbar": {
              "outlinewidth": 0,
              "ticks": ""
             }
            },
            "type": "scatterpolargl"
           }
          ],
          "scatterternary": [
           {
            "marker": {
             "colorbar": {
              "outlinewidth": 0,
              "ticks": ""
             }
            },
            "type": "scatterternary"
           }
          ],
          "surface": [
           {
            "colorbar": {
             "outlinewidth": 0,
             "ticks": ""
            },
            "colorscale": [
             [
              0,
              "#0d0887"
             ],
             [
              0.1111111111111111,
              "#46039f"
             ],
             [
              0.2222222222222222,
              "#7201a8"
             ],
             [
              0.3333333333333333,
              "#9c179e"
             ],
             [
              0.4444444444444444,
              "#bd3786"
             ],
             [
              0.5555555555555556,
              "#d8576b"
             ],
             [
              0.6666666666666666,
              "#ed7953"
             ],
             [
              0.7777777777777778,
              "#fb9f3a"
             ],
             [
              0.8888888888888888,
              "#fdca26"
             ],
             [
              1,
              "#f0f921"
             ]
            ],
            "type": "surface"
           }
          ],
          "table": [
           {
            "cells": {
             "fill": {
              "color": "#EBF0F8"
             },
             "line": {
              "color": "white"
             }
            },
            "header": {
             "fill": {
              "color": "#C8D4E3"
             },
             "line": {
              "color": "white"
             }
            },
            "type": "table"
           }
          ]
         },
         "layout": {
          "annotationdefaults": {
           "arrowcolor": "#2a3f5f",
           "arrowhead": 0,
           "arrowwidth": 1
          },
          "autotypenumbers": "strict",
          "coloraxis": {
           "colorbar": {
            "outlinewidth": 0,
            "ticks": ""
           }
          },
          "colorscale": {
           "diverging": [
            [
             0,
             "#8e0152"
            ],
            [
             0.1,
             "#c51b7d"
            ],
            [
             0.2,
             "#de77ae"
            ],
            [
             0.3,
             "#f1b6da"
            ],
            [
             0.4,
             "#fde0ef"
            ],
            [
             0.5,
             "#f7f7f7"
            ],
            [
             0.6,
             "#e6f5d0"
            ],
            [
             0.7,
             "#b8e186"
            ],
            [
             0.8,
             "#7fbc41"
            ],
            [
             0.9,
             "#4d9221"
            ],
            [
             1,
             "#276419"
            ]
           ],
           "sequential": [
            [
             0,
             "#0d0887"
            ],
            [
             0.1111111111111111,
             "#46039f"
            ],
            [
             0.2222222222222222,
             "#7201a8"
            ],
            [
             0.3333333333333333,
             "#9c179e"
            ],
            [
             0.4444444444444444,
             "#bd3786"
            ],
            [
             0.5555555555555556,
             "#d8576b"
            ],
            [
             0.6666666666666666,
             "#ed7953"
            ],
            [
             0.7777777777777778,
             "#fb9f3a"
            ],
            [
             0.8888888888888888,
             "#fdca26"
            ],
            [
             1,
             "#f0f921"
            ]
           ],
           "sequentialminus": [
            [
             0,
             "#0d0887"
            ],
            [
             0.1111111111111111,
             "#46039f"
            ],
            [
             0.2222222222222222,
             "#7201a8"
            ],
            [
             0.3333333333333333,
             "#9c179e"
            ],
            [
             0.4444444444444444,
             "#bd3786"
            ],
            [
             0.5555555555555556,
             "#d8576b"
            ],
            [
             0.6666666666666666,
             "#ed7953"
            ],
            [
             0.7777777777777778,
             "#fb9f3a"
            ],
            [
             0.8888888888888888,
             "#fdca26"
            ],
            [
             1,
             "#f0f921"
            ]
           ]
          },
          "colorway": [
           "#636efa",
           "#EF553B",
           "#00cc96",
           "#ab63fa",
           "#FFA15A",
           "#19d3f3",
           "#FF6692",
           "#B6E880",
           "#FF97FF",
           "#FECB52"
          ],
          "font": {
           "color": "#2a3f5f"
          },
          "geo": {
           "bgcolor": "white",
           "lakecolor": "white",
           "landcolor": "#E5ECF6",
           "showlakes": true,
           "showland": true,
           "subunitcolor": "white"
          },
          "hoverlabel": {
           "align": "left"
          },
          "hovermode": "closest",
          "mapbox": {
           "style": "light"
          },
          "paper_bgcolor": "white",
          "plot_bgcolor": "#E5ECF6",
          "polar": {
           "angularaxis": {
            "gridcolor": "white",
            "linecolor": "white",
            "ticks": ""
           },
           "bgcolor": "#E5ECF6",
           "radialaxis": {
            "gridcolor": "white",
            "linecolor": "white",
            "ticks": ""
           }
          },
          "scene": {
           "xaxis": {
            "backgroundcolor": "#E5ECF6",
            "gridcolor": "white",
            "gridwidth": 2,
            "linecolor": "white",
            "showbackground": true,
            "ticks": "",
            "zerolinecolor": "white"
           },
           "yaxis": {
            "backgroundcolor": "#E5ECF6",
            "gridcolor": "white",
            "gridwidth": 2,
            "linecolor": "white",
            "showbackground": true,
            "ticks": "",
            "zerolinecolor": "white"
           },
           "zaxis": {
            "backgroundcolor": "#E5ECF6",
            "gridcolor": "white",
            "gridwidth": 2,
            "linecolor": "white",
            "showbackground": true,
            "ticks": "",
            "zerolinecolor": "white"
           }
          },
          "shapedefaults": {
           "line": {
            "color": "#2a3f5f"
           }
          },
          "ternary": {
           "aaxis": {
            "gridcolor": "white",
            "linecolor": "white",
            "ticks": ""
           },
           "baxis": {
            "gridcolor": "white",
            "linecolor": "white",
            "ticks": ""
           },
           "bgcolor": "#E5ECF6",
           "caxis": {
            "gridcolor": "white",
            "linecolor": "white",
            "ticks": ""
           }
          },
          "title": {
           "x": 0.05
          },
          "xaxis": {
           "automargin": true,
           "gridcolor": "white",
           "linecolor": "white",
           "ticks": "",
           "title": {
            "standoff": 15
           },
           "zerolinecolor": "white",
           "zerolinewidth": 2
          },
          "yaxis": {
           "automargin": true,
           "gridcolor": "white",
           "linecolor": "white",
           "ticks": "",
           "title": {
            "standoff": 15
           },
           "zerolinecolor": "white",
           "zerolinewidth": 2
          }
         }
        },
        "title": {
         "text": "Galton's Midparent vs Child Height:<br>Regression to the mean IS NOT the Primary Direction"
        },
        "width": 800,
        "xaxis": {
         "anchor": "y",
         "domain": [
          0,
          1
         ],
         "scaleanchor": "y",
         "title": {
          "text": "Child Height"
         }
        },
        "yaxis": {
         "anchor": "x",
         "constrain": "domain",
         "domain": [
          0,
          1
         ],
         "title": {
          "text": "Midparent Height"
         }
        }
       }
      }
     },
     "metadata": {},
     "output_type": "display_data"
    }
   ],
   "source": [
    "import statsmodels.api as sm\n",
    "import plotly.express as px\n",
    "import plotly.graph_objects as go\n",
    "import numpy as np\n",
    "\n",
    "# Load Galton's parent-child height dataset\n",
    "galton_data = sm.datasets.get_rdataset(\"GaltonFamilies\", \"HistData\").data\n",
    "\n",
    "# Select midparentHeight and childHeight for classic Galton analysis\n",
    "Y = galton_data['midparentHeight']\n",
    "x = galton_data['childHeight']\n",
    "# Usually x \"predicts\" Y but it's here backwards for aspect ratio purposes:\n",
    "# an ellipse shape is actually way more fkn weird to look at (for a human) than you would first think\n",
    "# x = galton_data['midparentHeight']\n",
    "#Y = galton_data['childHeight']\n",
    "\n",
    "# Create a scatter plot with alpha transparency\n",
    "fig = px.scatter(galton_data, x='childHeight', y='midparentHeight', trendline='ols',\n",
    "                 title='Midparent vs Child Height')\n",
    "fig.update_traces(marker=dict(size=8, opacity=0.5))\n",
    "\n",
    "# THE DETAILS OF THE FOLLOWING ARE OUT OF SCOPE\n",
    "# - multi/bivariate normal distribution and their covariance matrices\n",
    "# - ellipses and their math and visual weirdness outside of a 1:1 aspect ratio\n",
    "# - eigenvectors and eigenvalues and major axis lines, etc. etc.\n",
    "# ALL OF THESE ARE way BEYOND THE SCOPE OF STA130:\n",
    "# They're just here so that I can have some pictures for illustration\n",
    "\n",
    "# Function to calculate the ellipse points (for the bivariate normal ellipse)\n",
    "def get_ellipse(mean, cov, n_std=1.0, num_points=100):\n",
    "    \"\"\"Generate coordinates for a 2D ellipse based on covariance matrix.\"\"\"\n",
    "    theta = np.linspace(0, 2 * np.pi, num_points)\n",
    "    circle = np.array([np.cos(theta), np.sin(theta)])  # unit circle\n",
    "\n",
    "    # Ellipse transformation: scale by sqrt(eigenvalues) and rotate by eigenvectors\n",
    "    eigvals, eigvecs = np.linalg.eigh(cov)\n",
    "    ellipse_coords = np.dot(eigvecs, np.sqrt(eigvals)[:, np.newaxis] * circle * n_std)\n",
    "\n",
    "    # Shift ellipse to the mean\n",
    "    ellipse_coords[0] += mean[0]\n",
    "    ellipse_coords[1] += mean[1]\n",
    "\n",
    "    return ellipse_coords, eigvecs\n",
    "\n",
    "# Calculate covariance matrix and mean\n",
    "cov_matrix = np.cov(x, Y)\n",
    "mean_vals = [np.mean(x), np.mean(Y)]\n",
    "\n",
    "# Get ellipse coordinates and eigenvectors\n",
    "ellipse_coords, eigvecs = get_ellipse(mean_vals, cov_matrix, n_std=2)\n",
    "ellipse_x, ellipse_Y = ellipse_coords\n",
    "\n",
    "# Get the first eigenvector (for the primary direction)\n",
    "primary_direction = eigvecs[:, 1]  # First eigenvector (primary direction)\n",
    "\n",
    "# Plot the ellipse\n",
    "ellipse_trace = go.Scatter(x=ellipse_x, y=ellipse_Y, mode='lines',\n",
    "                           line=dict(color='green', width=2, dash='dash'),\n",
    "                           name='American Football Shape')\n",
    "fig.add_trace(ellipse_trace)\n",
    "\n",
    "# THE DETAILS OF THE FOLLOWING ARE OUT OF SCOPE\n",
    "# - multi/bivariate normal distribution and their covariance matrices\n",
    "# - ellipses and their math and visual weirdness outside of a 1:1 aspect ratio\n",
    "# - eigenvectors and eigenvalues and major axis lines, etc. etc.\n",
    "# ALL OF THESE ARE way BEYOND THE SCOPE OF STA130:\n",
    "# They're just here so that I can have some pictures for illustration\n",
    "\n",
    "# Add correlation annotation\n",
    "correlation = np.corrcoef(x, Y)[0, 1]\n",
    "annotations = [dict(x=min(x), y=max(Y), xanchor='left', yanchor='top',\n",
    "                    showarrow=False, text=f'Correlation: {correlation:.2f}', \n",
    "                    font=dict(color='black'), bgcolor='white')]\n",
    "\n",
    "# Update layout with corrected annotations\n",
    "fig.update_layout(title=\"Galton's Midparent vs Child Height:<br>Regression to the mean IS NOT the Primary Direction\",\n",
    "                  xaxis_title=\"Child Height\", yaxis_title=\"Midparent Height\", annotations=annotations)\n",
    "\n",
    "# Set square aspect ratio for the axes\n",
    "fig.update_xaxes(scaleanchor=\"y\")  # X-axis is anchored to Y-axis\n",
    "fig.update_yaxes(constrain=\"domain\")  # Constrain the Y-axis to the domain of the plot\n",
    "#fig.update_xaxes(range=[55, 80])  # Fixed x limits\n",
    "fig.update_layout(height=400, width=800)\n",
    "fig.show()"
   ]
  },
  {
   "cell_type": "code",
   "execution_count": 4,
   "metadata": {},
   "outputs": [
    {
     "data": {
      "application/vnd.plotly.v1+json": {
       "config": {
        "plotlyServerURL": "https://plot.ly"
       },
       "data": [
        {
         "hovertemplate": "childHeight=%{x}<br>midparentHeight=%{y}<extra></extra>",
         "legendgroup": "",
         "marker": {
          "color": "#636efa",
          "symbol": "circle"
         },
         "mode": "markers",
         "name": "",
         "orientation": "v",
         "showlegend": false,
         "type": "scatter",
         "x": [
          73.2,
          69.2,
          69,
          69,
          73.5,
          72.5,
          65.5,
          65.5,
          71,
          68,
          70.5,
          68.5,
          67,
          64.5,
          63,
          72,
          69,
          68,
          66.5,
          62.5,
          62.5,
          69.5,
          76.5,
          74,
          73,
          73,
          70.5,
          64,
          70.5,
          68,
          66,
          66,
          65.5,
          74,
          70,
          68,
          67,
          67,
          66,
          63.5,
          63,
          65,
          71,
          62,
          68,
          67,
          71,
          70.5,
          66.7,
          72,
          70.5,
          70.2,
          70.2,
          69.2,
          68.7,
          66.5,
          64.5,
          63.5,
          74,
          73,
          71.5,
          62.5,
          66.5,
          62.3,
          66,
          64.5,
          64,
          62.7,
          73.2,
          73,
          72.7,
          70,
          69,
          68.5,
          68,
          66,
          73,
          68.5,
          68,
          73,
          71,
          67,
          74.2,
          70.5,
          69.5,
          66,
          65.5,
          65,
          65,
          65.5,
          66,
          63,
          70.5,
          70.5,
          69,
          65,
          63,
          69,
          67,
          63,
          73,
          67,
          70.5,
          70,
          66.5,
          63,
          67.5,
          67.2,
          66.7,
          64,
          71,
          70,
          70,
          66,
          65,
          65,
          74,
          72,
          69,
          67.5,
          63.5,
          72,
          71.5,
          71.5,
          70,
          68,
          65.7,
          78,
          74,
          73,
          72,
          67,
          73.2,
          73,
          69,
          67,
          70,
          67,
          67,
          66.5,
          70,
          69,
          68.5,
          66,
          64.5,
          63,
          71,
          67,
          76,
          72,
          71,
          66,
          66,
          70.5,
          72,
          72,
          71,
          69,
          66,
          65,
          73,
          65.2,
          68.5,
          67.7,
          68,
          68,
          62,
          68,
          68,
          67.5,
          66.5,
          66.5,
          66,
          65.5,
          65,
          72,
          71,
          70.5,
          67,
          68,
          68,
          68,
          72,
          71,
          70,
          66,
          64.5,
          64.5,
          62,
          73,
          62,
          67.5,
          64.5,
          71,
          67,
          66,
          65,
          63.5,
          71,
          70,
          70,
          64,
          65,
          65,
          64,
          63,
          63,
          71,
          71,
          70,
          63.5,
          71,
          70,
          64.5,
          62.5,
          61.5,
          72,
          70.5,
          70.5,
          64.5,
          60,
          70,
          64,
          64,
          64,
          62.5,
          70.5,
          70,
          69,
          69,
          66,
          64.5,
          64,
          62,
          71.5,
          69,
          71,
          70,
          69,
          69,
          70,
          68.7,
          68,
          66,
          64,
          62,
          75,
          70,
          69,
          66,
          64,
          60,
          67.5,
          73,
          72,
          72,
          66.5,
          69.2,
          67.2,
          66.5,
          66,
          66,
          64.2,
          63.7,
          72,
          70.2,
          69,
          68.5,
          68,
          65,
          61.5,
          61,
          61,
          73,
          72,
          70.5,
          65,
          65,
          64.5,
          63,
          62,
          67,
          65,
          64.5,
          62.5,
          62.5,
          70,
          70,
          67,
          65,
          65,
          63,
          79,
          75,
          71,
          69,
          67,
          65.7,
          62,
          73,
          72.5,
          65,
          69,
          69,
          72,
          70,
          68.7,
          66.5,
          65.5,
          64.7,
          64.5,
          70.7,
          70,
          68,
          67,
          66,
          65,
          67,
          70,
          68,
          66.7,
          65.5,
          72,
          70,
          62.5,
          61.2,
          60.1,
          74,
          69.5,
          69,
          68,
          68,
          68,
          65.5,
          65,
          60,
          68,
          65,
          64,
          62,
          71,
          70,
          70,
          70,
          69.5,
          68.5,
          69,
          65,
          64,
          70,
          67,
          65.5,
          63.7,
          63.2,
          62.5,
          62.2,
          61,
          70,
          68.5,
          65.5,
          63.5,
          72.5,
          69,
          67,
          64.5,
          64,
          71,
          67.5,
          67.5,
          63.5,
          68,
          67,
          63.7,
          62,
          70,
          66.5,
          62,
          61,
          72,
          70,
          69.5,
          69.5,
          68,
          65,
          64,
          63,
          70.7,
          69.7,
          69.2,
          65.2,
          64,
          63.5,
          63.2,
          72,
          72,
          60,
          71.2,
          67,
          67,
          64.5,
          65,
          63,
          65,
          65,
          71.5,
          64.5,
          63,
          72,
          66,
          66,
          65,
          63,
          75,
          71,
          70,
          66,
          66,
          65.5,
          65,
          65,
          64,
          64,
          64,
          73,
          72,
          71.7,
          71.5,
          65.5,
          65,
          62.7,
          62.5,
          71.2,
          71,
          70,
          75,
          74,
          72,
          68.5,
          70,
          68.5,
          68,
          65,
          63,
          62.5,
          73,
          71,
          70.5,
          70.5,
          67,
          66,
          61,
          70.5,
          67.5,
          64.5,
          64,
          71,
          68.5,
          67.5,
          66,
          63,
          63,
          71,
          71,
          70.5,
          70.5,
          66.5,
          65.5,
          64.5,
          73,
          72,
          69,
          69,
          66.5,
          65.5,
          65.5,
          65,
          64,
          70,
          68.5,
          67,
          65,
          64,
          63.5,
          61,
          69.7,
          68,
          60,
          65.2,
          64.5,
          63.7,
          60,
          71.7,
          66.5,
          65,
          63.5,
          65.5,
          69,
          67.5,
          63.5,
          72,
          73,
          70,
          70,
          64,
          66,
          62,
          70.5,
          67,
          66,
          65,
          63,
          62,
          61,
          70.5,
          63.7,
          63,
          62.5,
          73,
          72,
          69,
          73,
          71,
          71,
          69,
          63,
          72,
          70,
          67.8,
          65.2,
          64.7,
          64.5,
          63.5,
          63.5,
          62.5,
          62,
          61.5,
          71,
          70,
          70,
          69,
          63.5,
          62.5,
          62.5,
          62,
          72,
          68,
          66,
          66,
          70,
          69.5,
          69,
          63,
          62,
          68,
          68,
          67.5,
          64,
          63,
          63,
          63.5,
          62,
          62,
          70.5,
          68,
          62.5,
          69,
          66,
          61.7,
          60.5,
          69.5,
          71,
          61.7,
          73,
          71,
          67,
          70,
          69,
          69,
          68.7,
          68.5,
          68.5,
          68,
          68,
          68,
          66.2,
          63.2,
          67.5,
          66,
          66,
          64,
          71.7,
          71.5,
          70.7,
          65.5,
          66.5,
          65.2,
          61.5,
          72,
          72,
          68,
          66,
          69.2,
          68,
          66,
          66,
          62,
          61.5,
          61,
          60,
          72,
          70.5,
          68.7,
          68.5,
          67.7,
          64,
          63.5,
          63,
          71,
          68,
          68,
          67,
          65,
          64,
          63,
          63,
          62,
          61,
          66,
          63,
          65.5,
          62,
          71.2,
          71.2,
          69,
          68.5,
          62.5,
          62,
          69,
          67,
          66,
          66,
          66,
          65,
          65,
          65,
          64,
          63,
          70.5,
          70,
          68,
          66,
          66,
          66,
          62,
          61.5,
          73.5,
          70,
          69.5,
          65.5,
          67,
          70,
          68,
          64.5,
          64,
          71,
          68,
          66,
          65.5,
          65,
          63,
          62,
          62,
          67,
          67,
          66,
          64,
          63.5,
          61,
          68.2,
          70,
          70,
          69,
          67,
          65.5,
          64.5,
          68.5,
          67.7,
          61.7,
          66.5,
          68.5,
          68,
          64,
          63.5,
          63,
          66.7,
          64,
          61,
          61,
          60,
          60,
          60,
          56,
          67.5,
          67,
          66.5,
          60,
          69,
          68,
          65,
          64.7,
          64,
          64,
          63,
          65,
          65,
          62,
          61,
          72.7,
          72.7,
          71.5,
          65.5,
          63.5,
          71,
          73,
          71,
          70.7,
          70,
          69,
          68,
          65.5,
          62,
          69.7,
          67.5,
          65.5,
          65,
          64.5,
          63.5,
          70,
          69,
          65.5,
          65.5,
          63,
          70,
          67.7,
          63,
          60,
          65,
          62,
          62,
          71,
          69,
          64,
          64,
          63,
          63,
          63,
          63,
          63,
          62.5,
          62,
          71.5,
          70,
          67,
          67,
          71,
          70.2,
          69.2,
          68.5,
          68,
          67,
          65.5,
          63.5,
          69,
          68,
          63,
          70,
          69.5,
          69,
          68.5,
          66,
          67,
          70.5,
          70.5,
          67,
          66,
          66,
          62,
          62,
          61.5,
          72,
          65,
          65,
          67,
          64,
          64,
          62,
          60,
          60,
          66,
          65,
          67,
          66.5,
          65.5,
          72,
          68,
          66,
          65,
          62,
          61,
          68.7,
          68.5,
          66.5,
          64.5,
          62.5,
          60.5,
          60.5,
          57.5,
          72,
          71,
          67,
          66,
          65,
          70,
          64.5,
          62,
          67.2,
          67,
          65,
          65,
          65,
          63,
          70,
          68,
          63.5,
          62.5,
          62.5,
          62.5,
          62.5,
          70,
          68,
          67,
          65,
          60,
          65,
          68,
          67,
          66.5,
          66,
          65.7,
          65.5,
          65,
          65,
          64,
          63,
          62,
          61,
          60,
          58,
          57,
          66.5,
          66,
          66,
          65,
          63,
          63,
          63,
          63,
          60,
          67,
          66,
          65,
          65,
          61,
          69,
          68,
          68,
          65,
          65,
          62,
          62,
          61,
          59,
          70.7,
          65.5,
          69.2,
          69,
          68,
          67.7,
          64.5,
          60.5,
          67,
          67,
          64,
          64,
          62.5,
          60.5,
          70,
          63,
          66,
          66,
          63,
          71,
          71,
          69,
          63.5,
          68,
          68,
          67,
          67,
          62,
          71.5,
          68,
          65.5,
          64,
          62,
          62,
          61,
          70.5,
          68,
          67,
          65,
          64,
          64,
          60,
          64.5,
          66,
          60,
          68.5,
          63.5,
          64,
          62,
          61,
          66.5,
          57
         ],
         "xaxis": "x",
         "y": [
          75.43,
          75.43,
          75.43,
          75.43,
          73.66,
          73.66,
          73.66,
          73.66,
          72.06,
          72.06,
          72.06,
          72.06,
          72.06,
          72.06,
          72.06,
          69.09,
          69.09,
          69.09,
          69.09,
          69.09,
          69.09,
          73.72,
          73.72,
          73.72,
          73.72,
          73.72,
          73.72,
          73.72,
          72.91,
          72.91,
          72.91,
          72.89,
          72.37,
          70.48,
          70.48,
          70.48,
          70.48,
          70.48,
          70.48,
          70.48,
          70.48,
          69.94,
          72.68,
          72.68,
          72.68,
          72.68,
          72.41,
          72.41,
          72.41,
          71.6,
          71.6,
          71.6,
          71.6,
          71.6,
          71.6,
          71.6,
          71.6,
          71.6,
          71.33000000000001,
          71.33000000000001,
          71.33000000000001,
          71.33000000000001,
          71.33000000000001,
          71.33000000000001,
          71.06,
          71.06,
          71.06,
          70.62,
          73.61000000000001,
          73.61000000000001,
          73.61000000000001,
          73.61000000000001,
          73.61000000000001,
          73.61000000000001,
          73.61000000000001,
          73.61000000000001,
          72.72,
          72.72,
          72.72,
          72.18,
          72.18,
          72.18,
          71.1,
          71.1,
          71.1,
          71.1,
          71.1,
          71.1,
          71.1,
          71.37,
          70.56,
          70.56,
          70.02000000000001,
          70.02000000000001,
          70.02000000000001,
          70.02000000000001,
          70.02000000000001,
          70.02000000000001,
          70.02000000000001,
          70.02000000000001,
          70.02000000000001,
          70.02000000000001,
          70.02000000000001,
          70.02000000000001,
          70.02000000000001,
          70.02000000000001,
          70.53999999999999,
          70.53999999999999,
          70.53999999999999,
          69.48,
          69.73,
          69.73,
          69.73,
          69.73,
          69.73,
          69.73,
          69.48,
          69.48,
          69.48,
          69.48,
          69.48,
          69.48,
          69.48,
          69.48,
          69.48,
          69.48,
          68.94,
          72.76,
          72.76,
          72.76,
          72.76,
          72.76,
          71.68,
          71.68,
          71.68,
          71.68,
          71.14,
          71.14,
          71.14,
          71.14,
          71.14,
          71.14,
          71.14,
          71.14,
          71.14,
          71.14,
          71.14,
          71.14,
          71.14,
          71.14,
          71.14,
          71.14,
          71.14,
          71.22,
          70.87,
          70.87,
          70.87,
          70.87,
          70.87,
          70.87,
          71.12,
          71.12,
          70.85,
          70.85,
          70.6,
          70.6,
          70.6,
          70.06,
          70.06,
          70.06,
          70.06,
          70.06,
          70.06,
          70.06,
          70.06,
          70.68,
          70.68,
          70.68,
          70.68,
          70.06,
          70.06,
          70.06,
          70.58000000000001,
          70.58000000000001,
          70.58000000000001,
          70.58000000000001,
          70.58000000000001,
          70.58000000000001,
          70.58000000000001,
          70.33000000000001,
          70.33000000000001,
          69.62,
          69.62,
          69.78999999999999,
          69.78999999999999,
          69.78999999999999,
          69.78999999999999,
          69.78999999999999,
          69.52000000000001,
          69.52000000000001,
          69.52000000000001,
          69.52000000000001,
          69.52000000000001,
          69.52000000000001,
          69.52000000000001,
          69.52000000000001,
          69.52000000000001,
          69.52000000000001,
          69.52000000000001,
          69.52000000000001,
          69.52000000000001,
          68.98,
          68.98,
          68.98,
          68.98,
          68.98,
          68.98,
          68.98,
          68.98,
          68.98,
          68.98,
          69.25,
          69.25,
          69.25,
          69.25,
          69.25,
          68.98,
          68.98,
          68.98,
          68.98,
          68.98,
          68.98,
          68.98,
          68.44,
          66.82,
          66.82,
          72.26,
          72.26,
          72.26,
          72.26,
          72.26,
          72.26,
          72.26,
          72.26,
          72.26,
          72.26,
          71.72,
          71.18,
          71.18,
          71.18,
          71.18,
          71.18,
          71.18,
          70.91,
          70.91,
          70.91,
          70.91,
          70.91,
          70.91,
          70.91,
          70.91,
          70.91,
          70.91,
          70.91,
          70.35,
          70.35,
          70.35,
          70.35,
          70.35,
          70.35,
          70.35,
          70.35,
          70.35,
          70.1,
          70.1,
          70.1,
          70.1,
          70.1,
          70.1,
          70.1,
          70.1,
          70.1,
          70.1,
          70.1,
          70.1,
          70.1,
          70.1,
          70.1,
          70.1,
          70.1,
          70.1,
          70.1,
          70.1,
          70.1,
          70.1,
          70.1,
          70.1,
          70.1,
          70.1,
          70.1,
          70.1,
          70.1,
          70.1,
          70.1,
          69.938,
          69.938,
          69.938,
          69.938,
          69.938,
          69.938,
          69.938,
          69.56,
          69.56,
          69.56,
          69.56,
          69.56,
          69.56,
          69.56,
          69.56,
          69.56,
          69.56,
          69.56,
          69.668,
          69.668,
          69.668,
          69.668,
          69.668,
          69.81,
          69.81,
          69.81,
          69.81,
          69.81,
          69.81,
          69.81,
          69.81,
          70.08000000000001,
          69.56,
          69.56,
          69.56,
          69.56,
          69.56,
          69.56,
          69.56,
          69.56,
          69.56,
          69.56,
          69.56,
          69.56,
          69.56,
          69.398,
          69.398,
          69.398,
          69.398,
          69.398,
          69.398,
          69.398,
          69.398,
          69.27000000000001,
          69.27000000000001,
          69.27000000000001,
          69.27000000000001,
          69.27000000000001,
          69.27000000000001,
          69.27000000000001,
          69.27000000000001,
          69.27000000000001,
          69.28999999999999,
          69.28999999999999,
          69.28999999999999,
          69.28999999999999,
          69.02000000000001,
          69.02000000000001,
          69.02000000000001,
          69.02000000000001,
          69.02000000000001,
          69.02000000000001,
          69.02000000000001,
          69.02000000000001,
          68.73,
          68.73,
          68.73,
          68.73,
          68.73,
          68.73,
          68.73,
          68.73,
          69.00800000000001,
          69.00800000000001,
          69.00800000000001,
          69.00800000000001,
          69.00800000000001,
          69.00800000000001,
          69.00800000000001,
          68.73,
          68.73,
          68.73,
          67.94,
          67.94,
          67.4,
          67.4,
          67.4,
          67.4,
          67.4,
          67.4,
          66.59,
          66.59,
          66.59,
          66.32,
          66.32,
          66.32,
          66.32,
          66.32,
          71.49000000000001,
          71.49000000000001,
          71.49000000000001,
          71.49000000000001,
          71.49000000000001,
          71.49000000000001,
          71.49000000000001,
          71.49000000000001,
          71.49000000000001,
          71.49000000000001,
          70.68,
          70.14,
          70.14,
          70.14,
          70.14,
          70.14,
          70.14,
          70.14,
          70.14,
          70.14,
          70.14,
          70.14,
          70.518,
          70.518,
          70.518,
          70.518,
          70.14,
          70.14,
          70.14,
          70.14,
          70.14,
          70.14,
          70.41,
          70.41,
          70.41,
          70.41,
          70.41,
          70.41,
          70.41,
          70.66,
          70.66,
          70.66,
          70.66,
          70.41,
          70.41,
          70.41,
          70.41,
          70.41,
          70.41,
          70.39,
          70.39,
          70.39,
          70.39,
          70.39,
          70.39,
          70.39,
          70.14,
          70.14,
          70.14,
          70.14,
          70.14,
          70.14,
          70.14,
          70.14,
          70.14,
          69.6,
          69.6,
          69.6,
          69.6,
          69.6,
          69.6,
          69.6,
          69.58000000000001,
          69.58000000000001,
          69.58000000000001,
          69.58000000000001,
          69.58000000000001,
          69.58000000000001,
          69.58000000000001,
          69.16,
          69.16,
          69.16,
          69.16,
          68.78999999999999,
          68.52000000000001,
          68.52000000000001,
          68.52000000000001,
          68.52000000000001,
          68.52000000000001,
          68.52000000000001,
          68.52000000000001,
          68.52000000000001,
          68.52000000000001,
          68.52000000000001,
          68.78999999999999,
          68.78999999999999,
          68.78999999999999,
          68.78999999999999,
          68.78999999999999,
          68.78999999999999,
          68.78999999999999,
          68.78999999999999,
          68.78999999999999,
          68.78999999999999,
          68.33000000000001,
          68.23,
          68.23,
          68.23,
          67.98,
          67.98,
          67.98,
          67.98,
          67.98,
          68.23,
          68.23,
          68.23,
          68.23,
          68.23,
          68.23,
          68.23,
          68.23,
          68.23,
          68.23,
          68.23,
          68.25,
          68.25,
          68.25,
          68.25,
          68.25,
          68.25,
          68.25,
          68.25,
          67.98,
          67.98,
          67.98,
          67.98,
          67.69,
          67.69,
          67.69,
          67.69,
          67.69,
          67.44,
          67.44,
          67.44,
          67.44,
          67.44,
          67.44,
          67.44,
          67.44,
          67.44,
          66.9,
          66.9,
          66.9,
          66.9,
          66.9,
          66.9,
          66.9,
          67.17,
          72.42,
          72.42,
          70.43,
          70.43,
          70.43,
          70.16,
          70.16,
          70.16,
          70.16,
          70.16,
          70.16,
          70.16,
          70.16,
          70.16,
          70.16,
          70.16,
          69.1,
          69.1,
          69.37,
          69.37,
          69.37,
          69.37,
          69.37,
          69.37,
          69.37,
          69.37,
          69.37,
          69.1,
          69.1,
          69.1,
          69.1,
          69.35,
          69.35,
          69.35,
          69.35,
          69.35,
          69.35,
          69.35,
          69.35,
          69.35,
          69.35,
          69.35,
          69.35,
          69.35,
          69.35,
          69.35,
          69.35,
          68.56,
          68.56,
          68.56,
          68.56,
          68.56,
          68.56,
          68.56,
          68.56,
          68.56,
          68.56,
          68.56,
          68.56,
          68.56,
          68.56,
          68.56,
          68.56,
          68.56,
          68.56,
          68.56,
          68.83000000000001,
          68.56,
          68.56,
          68.56,
          68.56,
          68.56,
          68.56,
          68.56,
          68.56,
          68.56,
          68.56,
          68.02000000000001,
          68.02000000000001,
          68.02000000000001,
          68.02000000000001,
          68.02000000000001,
          68.02000000000001,
          68.02000000000001,
          68.02000000000001,
          68.53999999999999,
          68.53999999999999,
          68.53999999999999,
          68.53999999999999,
          68.02000000000001,
          68.02000000000001,
          68.02000000000001,
          68.02000000000001,
          68.02000000000001,
          68.02000000000001,
          68.02000000000001,
          68.02000000000001,
          68.02000000000001,
          68.02000000000001,
          68.02000000000001,
          68.02000000000001,
          68.02000000000001,
          68.02000000000001,
          68.02000000000001,
          68.02000000000001,
          68.02000000000001,
          68.02000000000001,
          68.02000000000001,
          68.53999999999999,
          68.02000000000001,
          68.39,
          68.39,
          68.39,
          68.39,
          68.39,
          67.75,
          67.83000000000001,
          67.83000000000001,
          67.75,
          66.94,
          66.94,
          66.94,
          66.94,
          66.94,
          66.50800000000001,
          66.4,
          66.4,
          66.4,
          66.4,
          66.4,
          66.4,
          66.4,
          66.4,
          66.4,
          66.4,
          66.4,
          66.11,
          65.86,
          65.86,
          65.86,
          65.86,
          65.86,
          65.86,
          65.86,
          65.86,
          65.86,
          65.86,
          69.248,
          69.248,
          69.248,
          69.248,
          69.248,
          69.41,
          69.14,
          69.14,
          69.14,
          69.14,
          69.14,
          69.14,
          69.14,
          69.14,
          68.6,
          68.6,
          68.6,
          68.6,
          68.6,
          68.6,
          68.87,
          68.87,
          68.87,
          68.87,
          68.87,
          68.87,
          68.87,
          68.87,
          68.87,
          68.6,
          68.6,
          68.6,
          68.85,
          68.85,
          68.85,
          68.85,
          68.85,
          68.85,
          68.85,
          68.85,
          68.85,
          68.85,
          68.85,
          68.06,
          68.06,
          68.06,
          68.06,
          67.78999999999999,
          67.78999999999999,
          67.78999999999999,
          67.78999999999999,
          67.78999999999999,
          67.78999999999999,
          67.78999999999999,
          67.78999999999999,
          67.52000000000001,
          67.52000000000001,
          67.52000000000001,
          67.23,
          67.23,
          67.23,
          67.23,
          67.23,
          66.44,
          69.18,
          69.18,
          69.18,
          69.18,
          69.18,
          69.18,
          69.18,
          69.18,
          69.18,
          69.18,
          69.18,
          69.18,
          69.18,
          69.18,
          69.18,
          69.18,
          69.18,
          68.64,
          68.64,
          68.64,
          68.64,
          68.64,
          68.64,
          68.64,
          68.64,
          68.64,
          68.64,
          68.64,
          68.35,
          68.35,
          68.35,
          68.35,
          68.35,
          68.35,
          68.35,
          68.35,
          68.37,
          68.37,
          68.37,
          68.37,
          68.37,
          67.02000000000001,
          67.28999999999999,
          67.28999999999999,
          67.27000000000001,
          67.27000000000001,
          67.27000000000001,
          67.27000000000001,
          67.27000000000001,
          67.27000000000001,
          67,
          67,
          67,
          67,
          67,
          67,
          67,
          66.21000000000001,
          65.4,
          65.4,
          65.4,
          65.4,
          65.4,
          64.86,
          64.86,
          64.86,
          64.86,
          64.86,
          64.86,
          64.86,
          64.86,
          64.86,
          64.86,
          64.86,
          64.86,
          64.86,
          64.86,
          64.86,
          68.68,
          68.68,
          68.68,
          68.68,
          68.68,
          68.14,
          68.14,
          68.14,
          68.14,
          68.14,
          68.14,
          68.14,
          68.14,
          68.14,
          67.6,
          67.6,
          67.6,
          67.6,
          67.6,
          67.6,
          67.6,
          67.6,
          67.6,
          67.87,
          67.87,
          67.6,
          67.6,
          67.6,
          67.6,
          67.6,
          67.6,
          67.06,
          67.06,
          67.06,
          67.06,
          67.06,
          67.06,
          66.52000000000001,
          66.52000000000001,
          66.52000000000001,
          66.52000000000001,
          66.52000000000001,
          66.77000000000001,
          66.77000000000001,
          66.77000000000001,
          66.77000000000001,
          65.15,
          65.15,
          65.15,
          65.15,
          65.15,
          66.56,
          66.56,
          66.56,
          66.56,
          66.56,
          66.56,
          66.56,
          66.56,
          66.56,
          66.56,
          66.56,
          66.56,
          66.56,
          66.56,
          66.02000000000001,
          64.4,
          64.4,
          65.78999999999999,
          65.78999999999999,
          66.64,
          66.64,
          66.64,
          65.27000000000001,
          65.27000000000001
         ],
         "yaxis": "y"
        },
        {
         "hovertemplate": "<b>OLS trendline</b><br>midparentHeight = 0.161618 * childHeight + 58.4194<br>R<sup>2</sup>=0.103009<br><br>childHeight=%{x}<br>midparentHeight=%{y} <b>(trend)</b><extra></extra>",
         "legendgroup": "",
         "marker": {
          "color": "#636efa",
          "symbol": "circle"
         },
         "mode": "lines",
         "name": "",
         "showlegend": false,
         "type": "scatter",
         "x": [
          56,
          57,
          57,
          57.5,
          58,
          59,
          60,
          60,
          60,
          60,
          60,
          60,
          60,
          60,
          60,
          60,
          60,
          60,
          60,
          60,
          60,
          60,
          60,
          60,
          60,
          60.1,
          60.5,
          60.5,
          60.5,
          60.5,
          60.5,
          61,
          61,
          61,
          61,
          61,
          61,
          61,
          61,
          61,
          61,
          61,
          61,
          61,
          61,
          61,
          61,
          61,
          61,
          61,
          61.2,
          61.5,
          61.5,
          61.5,
          61.5,
          61.5,
          61.5,
          61.5,
          61.7,
          61.7,
          61.7,
          62,
          62,
          62,
          62,
          62,
          62,
          62,
          62,
          62,
          62,
          62,
          62,
          62,
          62,
          62,
          62,
          62,
          62,
          62,
          62,
          62,
          62,
          62,
          62,
          62,
          62,
          62,
          62,
          62,
          62,
          62,
          62,
          62,
          62,
          62,
          62,
          62,
          62,
          62,
          62,
          62,
          62,
          62.2,
          62.3,
          62.5,
          62.5,
          62.5,
          62.5,
          62.5,
          62.5,
          62.5,
          62.5,
          62.5,
          62.5,
          62.5,
          62.5,
          62.5,
          62.5,
          62.5,
          62.5,
          62.5,
          62.5,
          62.5,
          62.5,
          62.5,
          62.5,
          62.5,
          62.5,
          62.7,
          62.7,
          63,
          63,
          63,
          63,
          63,
          63,
          63,
          63,
          63,
          63,
          63,
          63,
          63,
          63,
          63,
          63,
          63,
          63,
          63,
          63,
          63,
          63,
          63,
          63,
          63,
          63,
          63,
          63,
          63,
          63,
          63,
          63,
          63,
          63,
          63,
          63,
          63,
          63,
          63,
          63,
          63,
          63,
          63,
          63,
          63,
          63,
          63,
          63,
          63.2,
          63.2,
          63.2,
          63.5,
          63.5,
          63.5,
          63.5,
          63.5,
          63.5,
          63.5,
          63.5,
          63.5,
          63.5,
          63.5,
          63.5,
          63.5,
          63.5,
          63.5,
          63.5,
          63.5,
          63.5,
          63.5,
          63.5,
          63.5,
          63.5,
          63.5,
          63.5,
          63.7,
          63.7,
          63.7,
          63.7,
          63.7,
          64,
          64,
          64,
          64,
          64,
          64,
          64,
          64,
          64,
          64,
          64,
          64,
          64,
          64,
          64,
          64,
          64,
          64,
          64,
          64,
          64,
          64,
          64,
          64,
          64,
          64,
          64,
          64,
          64,
          64,
          64,
          64,
          64,
          64,
          64,
          64,
          64,
          64,
          64,
          64,
          64,
          64,
          64,
          64,
          64,
          64.2,
          64.5,
          64.5,
          64.5,
          64.5,
          64.5,
          64.5,
          64.5,
          64.5,
          64.5,
          64.5,
          64.5,
          64.5,
          64.5,
          64.5,
          64.5,
          64.5,
          64.5,
          64.5,
          64.5,
          64.5,
          64.5,
          64.5,
          64.5,
          64.5,
          64.5,
          64.5,
          64.5,
          64.7,
          64.7,
          64.7,
          65,
          65,
          65,
          65,
          65,
          65,
          65,
          65,
          65,
          65,
          65,
          65,
          65,
          65,
          65,
          65,
          65,
          65,
          65,
          65,
          65,
          65,
          65,
          65,
          65,
          65,
          65,
          65,
          65,
          65,
          65,
          65,
          65,
          65,
          65,
          65,
          65,
          65,
          65,
          65,
          65,
          65,
          65,
          65,
          65,
          65,
          65,
          65,
          65,
          65,
          65,
          65,
          65,
          65,
          65,
          65,
          65,
          65,
          65,
          65,
          65,
          65,
          65,
          65.2,
          65.2,
          65.2,
          65.2,
          65.2,
          65.5,
          65.5,
          65.5,
          65.5,
          65.5,
          65.5,
          65.5,
          65.5,
          65.5,
          65.5,
          65.5,
          65.5,
          65.5,
          65.5,
          65.5,
          65.5,
          65.5,
          65.5,
          65.5,
          65.5,
          65.5,
          65.5,
          65.5,
          65.5,
          65.5,
          65.5,
          65.5,
          65.5,
          65.5,
          65.5,
          65.5,
          65.5,
          65.7,
          65.7,
          65.7,
          66,
          66,
          66,
          66,
          66,
          66,
          66,
          66,
          66,
          66,
          66,
          66,
          66,
          66,
          66,
          66,
          66,
          66,
          66,
          66,
          66,
          66,
          66,
          66,
          66,
          66,
          66,
          66,
          66,
          66,
          66,
          66,
          66,
          66,
          66,
          66,
          66,
          66,
          66,
          66,
          66,
          66,
          66,
          66,
          66,
          66,
          66,
          66,
          66,
          66,
          66,
          66,
          66,
          66,
          66,
          66,
          66,
          66,
          66,
          66.2,
          66.5,
          66.5,
          66.5,
          66.5,
          66.5,
          66.5,
          66.5,
          66.5,
          66.5,
          66.5,
          66.5,
          66.5,
          66.5,
          66.5,
          66.5,
          66.5,
          66.5,
          66.5,
          66.5,
          66.5,
          66.5,
          66.5,
          66.7,
          66.7,
          66.7,
          66.7,
          67,
          67,
          67,
          67,
          67,
          67,
          67,
          67,
          67,
          67,
          67,
          67,
          67,
          67,
          67,
          67,
          67,
          67,
          67,
          67,
          67,
          67,
          67,
          67,
          67,
          67,
          67,
          67,
          67,
          67,
          67,
          67,
          67,
          67,
          67,
          67,
          67,
          67,
          67,
          67,
          67,
          67,
          67,
          67,
          67,
          67,
          67,
          67,
          67,
          67,
          67,
          67,
          67.2,
          67.2,
          67.2,
          67.5,
          67.5,
          67.5,
          67.5,
          67.5,
          67.5,
          67.5,
          67.5,
          67.5,
          67.5,
          67.5,
          67.5,
          67.5,
          67.5,
          67.7,
          67.7,
          67.7,
          67.7,
          67.7,
          67.8,
          68,
          68,
          68,
          68,
          68,
          68,
          68,
          68,
          68,
          68,
          68,
          68,
          68,
          68,
          68,
          68,
          68,
          68,
          68,
          68,
          68,
          68,
          68,
          68,
          68,
          68,
          68,
          68,
          68,
          68,
          68,
          68,
          68,
          68,
          68,
          68,
          68,
          68,
          68,
          68,
          68,
          68,
          68,
          68,
          68,
          68,
          68,
          68,
          68,
          68,
          68,
          68,
          68,
          68,
          68,
          68,
          68,
          68.2,
          68.5,
          68.5,
          68.5,
          68.5,
          68.5,
          68.5,
          68.5,
          68.5,
          68.5,
          68.5,
          68.5,
          68.5,
          68.5,
          68.5,
          68.5,
          68.5,
          68.5,
          68.5,
          68.5,
          68.5,
          68.5,
          68.5,
          68.7,
          68.7,
          68.7,
          68.7,
          68.7,
          68.7,
          69,
          69,
          69,
          69,
          69,
          69,
          69,
          69,
          69,
          69,
          69,
          69,
          69,
          69,
          69,
          69,
          69,
          69,
          69,
          69,
          69,
          69,
          69,
          69,
          69,
          69,
          69,
          69,
          69,
          69,
          69,
          69,
          69,
          69,
          69,
          69,
          69,
          69,
          69,
          69,
          69,
          69,
          69,
          69,
          69,
          69.2,
          69.2,
          69.2,
          69.2,
          69.2,
          69.2,
          69.2,
          69.5,
          69.5,
          69.5,
          69.5,
          69.5,
          69.5,
          69.5,
          69.5,
          69.5,
          69.5,
          69.7,
          69.7,
          69.7,
          70,
          70,
          70,
          70,
          70,
          70,
          70,
          70,
          70,
          70,
          70,
          70,
          70,
          70,
          70,
          70,
          70,
          70,
          70,
          70,
          70,
          70,
          70,
          70,
          70,
          70,
          70,
          70,
          70,
          70,
          70,
          70,
          70,
          70,
          70,
          70,
          70,
          70,
          70,
          70,
          70,
          70,
          70,
          70,
          70,
          70,
          70,
          70,
          70,
          70,
          70,
          70,
          70,
          70,
          70,
          70,
          70.2,
          70.2,
          70.2,
          70.2,
          70.5,
          70.5,
          70.5,
          70.5,
          70.5,
          70.5,
          70.5,
          70.5,
          70.5,
          70.5,
          70.5,
          70.5,
          70.5,
          70.5,
          70.5,
          70.5,
          70.5,
          70.5,
          70.5,
          70.5,
          70.5,
          70.5,
          70.5,
          70.5,
          70.5,
          70.5,
          70.5,
          70.5,
          70.7,
          70.7,
          70.7,
          70.7,
          70.7,
          71,
          71,
          71,
          71,
          71,
          71,
          71,
          71,
          71,
          71,
          71,
          71,
          71,
          71,
          71,
          71,
          71,
          71,
          71,
          71,
          71,
          71,
          71,
          71,
          71,
          71,
          71,
          71,
          71,
          71,
          71,
          71,
          71,
          71,
          71,
          71,
          71,
          71,
          71,
          71.2,
          71.2,
          71.2,
          71.2,
          71.5,
          71.5,
          71.5,
          71.5,
          71.5,
          71.5,
          71.5,
          71.5,
          71.5,
          71.5,
          71.7,
          71.7,
          71.7,
          72,
          72,
          72,
          72,
          72,
          72,
          72,
          72,
          72,
          72,
          72,
          72,
          72,
          72,
          72,
          72,
          72,
          72,
          72,
          72,
          72,
          72,
          72,
          72,
          72,
          72,
          72,
          72,
          72,
          72,
          72,
          72,
          72,
          72,
          72.5,
          72.5,
          72.5,
          72.7,
          72.7,
          72.7,
          73,
          73,
          73,
          73,
          73,
          73,
          73,
          73,
          73,
          73,
          73,
          73,
          73,
          73,
          73,
          73,
          73,
          73,
          73,
          73,
          73,
          73,
          73.2,
          73.2,
          73.2,
          73.5,
          73.5,
          74,
          74,
          74,
          74,
          74,
          74,
          74,
          74.2,
          75,
          75,
          75,
          75,
          76,
          76.5,
          78,
          79
         ],
         "xaxis": "x",
         "y": [
          67.47003972394256,
          67.63165747657416,
          67.63165747657416,
          67.71246635288996,
          67.79327522920576,
          67.95489298183735,
          68.11651073446895,
          68.11651073446895,
          68.11651073446895,
          68.11651073446895,
          68.11651073446895,
          68.11651073446895,
          68.11651073446895,
          68.11651073446895,
          68.11651073446895,
          68.11651073446895,
          68.11651073446895,
          68.11651073446895,
          68.11651073446895,
          68.11651073446895,
          68.11651073446895,
          68.11651073446895,
          68.11651073446895,
          68.11651073446895,
          68.11651073446895,
          68.1326725097321,
          68.19731961078475,
          68.19731961078475,
          68.19731961078475,
          68.19731961078475,
          68.19731961078475,
          68.27812848710053,
          68.27812848710053,
          68.27812848710053,
          68.27812848710053,
          68.27812848710053,
          68.27812848710053,
          68.27812848710053,
          68.27812848710053,
          68.27812848710053,
          68.27812848710053,
          68.27812848710053,
          68.27812848710053,
          68.27812848710053,
          68.27812848710053,
          68.27812848710053,
          68.27812848710053,
          68.27812848710053,
          68.27812848710053,
          68.27812848710053,
          68.31045203762686,
          68.35893736341633,
          68.35893736341633,
          68.35893736341633,
          68.35893736341633,
          68.35893736341633,
          68.35893736341633,
          68.35893736341633,
          68.39126091394266,
          68.39126091394266,
          68.39126091394266,
          68.43974623973213,
          68.43974623973213,
          68.43974623973213,
          68.43974623973213,
          68.43974623973213,
          68.43974623973213,
          68.43974623973213,
          68.43974623973213,
          68.43974623973213,
          68.43974623973213,
          68.43974623973213,
          68.43974623973213,
          68.43974623973213,
          68.43974623973213,
          68.43974623973213,
          68.43974623973213,
          68.43974623973213,
          68.43974623973213,
          68.43974623973213,
          68.43974623973213,
          68.43974623973213,
          68.43974623973213,
          68.43974623973213,
          68.43974623973213,
          68.43974623973213,
          68.43974623973213,
          68.43974623973213,
          68.43974623973213,
          68.43974623973213,
          68.43974623973213,
          68.43974623973213,
          68.43974623973213,
          68.43974623973213,
          68.43974623973213,
          68.43974623973213,
          68.43974623973213,
          68.43974623973213,
          68.43974623973213,
          68.43974623973213,
          68.43974623973213,
          68.43974623973213,
          68.43974623973213,
          68.47206979025844,
          68.4882315655216,
          68.52055511604793,
          68.52055511604793,
          68.52055511604793,
          68.52055511604793,
          68.52055511604793,
          68.52055511604793,
          68.52055511604793,
          68.52055511604793,
          68.52055511604793,
          68.52055511604793,
          68.52055511604793,
          68.52055511604793,
          68.52055511604793,
          68.52055511604793,
          68.52055511604793,
          68.52055511604793,
          68.52055511604793,
          68.52055511604793,
          68.52055511604793,
          68.52055511604793,
          68.52055511604793,
          68.52055511604793,
          68.52055511604793,
          68.52055511604793,
          68.55287866657424,
          68.55287866657424,
          68.60136399236373,
          68.60136399236373,
          68.60136399236373,
          68.60136399236373,
          68.60136399236373,
          68.60136399236373,
          68.60136399236373,
          68.60136399236373,
          68.60136399236373,
          68.60136399236373,
          68.60136399236373,
          68.60136399236373,
          68.60136399236373,
          68.60136399236373,
          68.60136399236373,
          68.60136399236373,
          68.60136399236373,
          68.60136399236373,
          68.60136399236373,
          68.60136399236373,
          68.60136399236373,
          68.60136399236373,
          68.60136399236373,
          68.60136399236373,
          68.60136399236373,
          68.60136399236373,
          68.60136399236373,
          68.60136399236373,
          68.60136399236373,
          68.60136399236373,
          68.60136399236373,
          68.60136399236373,
          68.60136399236373,
          68.60136399236373,
          68.60136399236373,
          68.60136399236373,
          68.60136399236373,
          68.60136399236373,
          68.60136399236373,
          68.60136399236373,
          68.60136399236373,
          68.60136399236373,
          68.60136399236373,
          68.60136399236373,
          68.60136399236373,
          68.60136399236373,
          68.60136399236373,
          68.60136399236373,
          68.63368754289004,
          68.63368754289004,
          68.63368754289004,
          68.68217286867952,
          68.68217286867952,
          68.68217286867952,
          68.68217286867952,
          68.68217286867952,
          68.68217286867952,
          68.68217286867952,
          68.68217286867952,
          68.68217286867952,
          68.68217286867952,
          68.68217286867952,
          68.68217286867952,
          68.68217286867952,
          68.68217286867952,
          68.68217286867952,
          68.68217286867952,
          68.68217286867952,
          68.68217286867952,
          68.68217286867952,
          68.68217286867952,
          68.68217286867952,
          68.68217286867952,
          68.68217286867952,
          68.68217286867952,
          68.71449641920584,
          68.71449641920584,
          68.71449641920584,
          68.71449641920584,
          68.71449641920584,
          68.76298174499532,
          68.76298174499532,
          68.76298174499532,
          68.76298174499532,
          68.76298174499532,
          68.76298174499532,
          68.76298174499532,
          68.76298174499532,
          68.76298174499532,
          68.76298174499532,
          68.76298174499532,
          68.76298174499532,
          68.76298174499532,
          68.76298174499532,
          68.76298174499532,
          68.76298174499532,
          68.76298174499532,
          68.76298174499532,
          68.76298174499532,
          68.76298174499532,
          68.76298174499532,
          68.76298174499532,
          68.76298174499532,
          68.76298174499532,
          68.76298174499532,
          68.76298174499532,
          68.76298174499532,
          68.76298174499532,
          68.76298174499532,
          68.76298174499532,
          68.76298174499532,
          68.76298174499532,
          68.76298174499532,
          68.76298174499532,
          68.76298174499532,
          68.76298174499532,
          68.76298174499532,
          68.76298174499532,
          68.76298174499532,
          68.76298174499532,
          68.76298174499532,
          68.76298174499532,
          68.76298174499532,
          68.76298174499532,
          68.76298174499532,
          68.79530529552164,
          68.84379062131111,
          68.84379062131111,
          68.84379062131111,
          68.84379062131111,
          68.84379062131111,
          68.84379062131111,
          68.84379062131111,
          68.84379062131111,
          68.84379062131111,
          68.84379062131111,
          68.84379062131111,
          68.84379062131111,
          68.84379062131111,
          68.84379062131111,
          68.84379062131111,
          68.84379062131111,
          68.84379062131111,
          68.84379062131111,
          68.84379062131111,
          68.84379062131111,
          68.84379062131111,
          68.84379062131111,
          68.84379062131111,
          68.84379062131111,
          68.84379062131111,
          68.84379062131111,
          68.84379062131111,
          68.87611417183743,
          68.87611417183743,
          68.87611417183743,
          68.92459949762691,
          68.92459949762691,
          68.92459949762691,
          68.92459949762691,
          68.92459949762691,
          68.92459949762691,
          68.92459949762691,
          68.92459949762691,
          68.92459949762691,
          68.92459949762691,
          68.92459949762691,
          68.92459949762691,
          68.92459949762691,
          68.92459949762691,
          68.92459949762691,
          68.92459949762691,
          68.92459949762691,
          68.92459949762691,
          68.92459949762691,
          68.92459949762691,
          68.92459949762691,
          68.92459949762691,
          68.92459949762691,
          68.92459949762691,
          68.92459949762691,
          68.92459949762691,
          68.92459949762691,
          68.92459949762691,
          68.92459949762691,
          68.92459949762691,
          68.92459949762691,
          68.92459949762691,
          68.92459949762691,
          68.92459949762691,
          68.92459949762691,
          68.92459949762691,
          68.92459949762691,
          68.92459949762691,
          68.92459949762691,
          68.92459949762691,
          68.92459949762691,
          68.92459949762691,
          68.92459949762691,
          68.92459949762691,
          68.92459949762691,
          68.92459949762691,
          68.92459949762691,
          68.92459949762691,
          68.92459949762691,
          68.92459949762691,
          68.92459949762691,
          68.92459949762691,
          68.92459949762691,
          68.92459949762691,
          68.92459949762691,
          68.92459949762691,
          68.92459949762691,
          68.92459949762691,
          68.92459949762691,
          68.92459949762691,
          68.92459949762691,
          68.92459949762691,
          68.92459949762691,
          68.95692304815323,
          68.95692304815323,
          68.95692304815323,
          68.95692304815323,
          68.95692304815323,
          69.00540837394271,
          69.00540837394271,
          69.00540837394271,
          69.00540837394271,
          69.00540837394271,
          69.00540837394271,
          69.00540837394271,
          69.00540837394271,
          69.00540837394271,
          69.00540837394271,
          69.00540837394271,
          69.00540837394271,
          69.00540837394271,
          69.00540837394271,
          69.00540837394271,
          69.00540837394271,
          69.00540837394271,
          69.00540837394271,
          69.00540837394271,
          69.00540837394271,
          69.00540837394271,
          69.00540837394271,
          69.00540837394271,
          69.00540837394271,
          69.00540837394271,
          69.00540837394271,
          69.00540837394271,
          69.00540837394271,
          69.00540837394271,
          69.00540837394271,
          69.00540837394271,
          69.00540837394271,
          69.03773192446903,
          69.03773192446903,
          69.03773192446903,
          69.0862172502585,
          69.0862172502585,
          69.0862172502585,
          69.0862172502585,
          69.0862172502585,
          69.0862172502585,
          69.0862172502585,
          69.0862172502585,
          69.0862172502585,
          69.0862172502585,
          69.0862172502585,
          69.0862172502585,
          69.0862172502585,
          69.0862172502585,
          69.0862172502585,
          69.0862172502585,
          69.0862172502585,
          69.0862172502585,
          69.0862172502585,
          69.0862172502585,
          69.0862172502585,
          69.0862172502585,
          69.0862172502585,
          69.0862172502585,
          69.0862172502585,
          69.0862172502585,
          69.0862172502585,
          69.0862172502585,
          69.0862172502585,
          69.0862172502585,
          69.0862172502585,
          69.0862172502585,
          69.0862172502585,
          69.0862172502585,
          69.0862172502585,
          69.0862172502585,
          69.0862172502585,
          69.0862172502585,
          69.0862172502585,
          69.0862172502585,
          69.0862172502585,
          69.0862172502585,
          69.0862172502585,
          69.0862172502585,
          69.0862172502585,
          69.0862172502585,
          69.0862172502585,
          69.0862172502585,
          69.0862172502585,
          69.0862172502585,
          69.0862172502585,
          69.0862172502585,
          69.0862172502585,
          69.0862172502585,
          69.0862172502585,
          69.0862172502585,
          69.0862172502585,
          69.0862172502585,
          69.0862172502585,
          69.11854080078483,
          69.1670261265743,
          69.1670261265743,
          69.1670261265743,
          69.1670261265743,
          69.1670261265743,
          69.1670261265743,
          69.1670261265743,
          69.1670261265743,
          69.1670261265743,
          69.1670261265743,
          69.1670261265743,
          69.1670261265743,
          69.1670261265743,
          69.1670261265743,
          69.1670261265743,
          69.1670261265743,
          69.1670261265743,
          69.1670261265743,
          69.1670261265743,
          69.1670261265743,
          69.1670261265743,
          69.1670261265743,
          69.19934967710063,
          69.19934967710063,
          69.19934967710063,
          69.19934967710063,
          69.2478350028901,
          69.2478350028901,
          69.2478350028901,
          69.2478350028901,
          69.2478350028901,
          69.2478350028901,
          69.2478350028901,
          69.2478350028901,
          69.2478350028901,
          69.2478350028901,
          69.2478350028901,
          69.2478350028901,
          69.2478350028901,
          69.2478350028901,
          69.2478350028901,
          69.2478350028901,
          69.2478350028901,
          69.2478350028901,
          69.2478350028901,
          69.2478350028901,
          69.2478350028901,
          69.2478350028901,
          69.2478350028901,
          69.2478350028901,
          69.2478350028901,
          69.2478350028901,
          69.2478350028901,
          69.2478350028901,
          69.2478350028901,
          69.2478350028901,
          69.2478350028901,
          69.2478350028901,
          69.2478350028901,
          69.2478350028901,
          69.2478350028901,
          69.2478350028901,
          69.2478350028901,
          69.2478350028901,
          69.2478350028901,
          69.2478350028901,
          69.2478350028901,
          69.2478350028901,
          69.2478350028901,
          69.2478350028901,
          69.2478350028901,
          69.2478350028901,
          69.2478350028901,
          69.2478350028901,
          69.2478350028901,
          69.2478350028901,
          69.2478350028901,
          69.2478350028901,
          69.28015855341641,
          69.28015855341641,
          69.28015855341641,
          69.3286438792059,
          69.3286438792059,
          69.3286438792059,
          69.3286438792059,
          69.3286438792059,
          69.3286438792059,
          69.3286438792059,
          69.3286438792059,
          69.3286438792059,
          69.3286438792059,
          69.3286438792059,
          69.3286438792059,
          69.3286438792059,
          69.3286438792059,
          69.36096742973221,
          69.36096742973221,
          69.36096742973221,
          69.36096742973221,
          69.36096742973221,
          69.37712920499537,
          69.4094527555217,
          69.4094527555217,
          69.4094527555217,
          69.4094527555217,
          69.4094527555217,
          69.4094527555217,
          69.4094527555217,
          69.4094527555217,
          69.4094527555217,
          69.4094527555217,
          69.4094527555217,
          69.4094527555217,
          69.4094527555217,
          69.4094527555217,
          69.4094527555217,
          69.4094527555217,
          69.4094527555217,
          69.4094527555217,
          69.4094527555217,
          69.4094527555217,
          69.4094527555217,
          69.4094527555217,
          69.4094527555217,
          69.4094527555217,
          69.4094527555217,
          69.4094527555217,
          69.4094527555217,
          69.4094527555217,
          69.4094527555217,
          69.4094527555217,
          69.4094527555217,
          69.4094527555217,
          69.4094527555217,
          69.4094527555217,
          69.4094527555217,
          69.4094527555217,
          69.4094527555217,
          69.4094527555217,
          69.4094527555217,
          69.4094527555217,
          69.4094527555217,
          69.4094527555217,
          69.4094527555217,
          69.4094527555217,
          69.4094527555217,
          69.4094527555217,
          69.4094527555217,
          69.4094527555217,
          69.4094527555217,
          69.4094527555217,
          69.4094527555217,
          69.4094527555217,
          69.4094527555217,
          69.4094527555217,
          69.4094527555217,
          69.4094527555217,
          69.4094527555217,
          69.44177630604801,
          69.4902616318375,
          69.4902616318375,
          69.4902616318375,
          69.4902616318375,
          69.4902616318375,
          69.4902616318375,
          69.4902616318375,
          69.4902616318375,
          69.4902616318375,
          69.4902616318375,
          69.4902616318375,
          69.4902616318375,
          69.4902616318375,
          69.4902616318375,
          69.4902616318375,
          69.4902616318375,
          69.4902616318375,
          69.4902616318375,
          69.4902616318375,
          69.4902616318375,
          69.4902616318375,
          69.4902616318375,
          69.52258518236381,
          69.52258518236381,
          69.52258518236381,
          69.52258518236381,
          69.52258518236381,
          69.52258518236381,
          69.57107050815328,
          69.57107050815328,
          69.57107050815328,
          69.57107050815328,
          69.57107050815328,
          69.57107050815328,
          69.57107050815328,
          69.57107050815328,
          69.57107050815328,
          69.57107050815328,
          69.57107050815328,
          69.57107050815328,
          69.57107050815328,
          69.57107050815328,
          69.57107050815328,
          69.57107050815328,
          69.57107050815328,
          69.57107050815328,
          69.57107050815328,
          69.57107050815328,
          69.57107050815328,
          69.57107050815328,
          69.57107050815328,
          69.57107050815328,
          69.57107050815328,
          69.57107050815328,
          69.57107050815328,
          69.57107050815328,
          69.57107050815328,
          69.57107050815328,
          69.57107050815328,
          69.57107050815328,
          69.57107050815328,
          69.57107050815328,
          69.57107050815328,
          69.57107050815328,
          69.57107050815328,
          69.57107050815328,
          69.57107050815328,
          69.57107050815328,
          69.57107050815328,
          69.57107050815328,
          69.57107050815328,
          69.57107050815328,
          69.57107050815328,
          69.60339405867961,
          69.60339405867961,
          69.60339405867961,
          69.60339405867961,
          69.60339405867961,
          69.60339405867961,
          69.60339405867961,
          69.65187938446908,
          69.65187938446908,
          69.65187938446908,
          69.65187938446908,
          69.65187938446908,
          69.65187938446908,
          69.65187938446908,
          69.65187938446908,
          69.65187938446908,
          69.65187938446908,
          69.68420293499541,
          69.68420293499541,
          69.68420293499541,
          69.73268826078488,
          69.73268826078488,
          69.73268826078488,
          69.73268826078488,
          69.73268826078488,
          69.73268826078488,
          69.73268826078488,
          69.73268826078488,
          69.73268826078488,
          69.73268826078488,
          69.73268826078488,
          69.73268826078488,
          69.73268826078488,
          69.73268826078488,
          69.73268826078488,
          69.73268826078488,
          69.73268826078488,
          69.73268826078488,
          69.73268826078488,
          69.73268826078488,
          69.73268826078488,
          69.73268826078488,
          69.73268826078488,
          69.73268826078488,
          69.73268826078488,
          69.73268826078488,
          69.73268826078488,
          69.73268826078488,
          69.73268826078488,
          69.73268826078488,
          69.73268826078488,
          69.73268826078488,
          69.73268826078488,
          69.73268826078488,
          69.73268826078488,
          69.73268826078488,
          69.73268826078488,
          69.73268826078488,
          69.73268826078488,
          69.73268826078488,
          69.73268826078488,
          69.73268826078488,
          69.73268826078488,
          69.73268826078488,
          69.73268826078488,
          69.73268826078488,
          69.73268826078488,
          69.73268826078488,
          69.73268826078488,
          69.73268826078488,
          69.73268826078488,
          69.73268826078488,
          69.73268826078488,
          69.73268826078488,
          69.73268826078488,
          69.73268826078488,
          69.7650118113112,
          69.7650118113112,
          69.7650118113112,
          69.7650118113112,
          69.81349713710068,
          69.81349713710068,
          69.81349713710068,
          69.81349713710068,
          69.81349713710068,
          69.81349713710068,
          69.81349713710068,
          69.81349713710068,
          69.81349713710068,
          69.81349713710068,
          69.81349713710068,
          69.81349713710068,
          69.81349713710068,
          69.81349713710068,
          69.81349713710068,
          69.81349713710068,
          69.81349713710068,
          69.81349713710068,
          69.81349713710068,
          69.81349713710068,
          69.81349713710068,
          69.81349713710068,
          69.81349713710068,
          69.81349713710068,
          69.81349713710068,
          69.81349713710068,
          69.81349713710068,
          69.81349713710068,
          69.845820687627,
          69.845820687627,
          69.845820687627,
          69.845820687627,
          69.845820687627,
          69.89430601341648,
          69.89430601341648,
          69.89430601341648,
          69.89430601341648,
          69.89430601341648,
          69.89430601341648,
          69.89430601341648,
          69.89430601341648,
          69.89430601341648,
          69.89430601341648,
          69.89430601341648,
          69.89430601341648,
          69.89430601341648,
          69.89430601341648,
          69.89430601341648,
          69.89430601341648,
          69.89430601341648,
          69.89430601341648,
          69.89430601341648,
          69.89430601341648,
          69.89430601341648,
          69.89430601341648,
          69.89430601341648,
          69.89430601341648,
          69.89430601341648,
          69.89430601341648,
          69.89430601341648,
          69.89430601341648,
          69.89430601341648,
          69.89430601341648,
          69.89430601341648,
          69.89430601341648,
          69.89430601341648,
          69.89430601341648,
          69.89430601341648,
          69.89430601341648,
          69.89430601341648,
          69.89430601341648,
          69.89430601341648,
          69.9266295639428,
          69.9266295639428,
          69.9266295639428,
          69.9266295639428,
          69.97511488973228,
          69.97511488973228,
          69.97511488973228,
          69.97511488973228,
          69.97511488973228,
          69.97511488973228,
          69.97511488973228,
          69.97511488973228,
          69.97511488973228,
          69.97511488973228,
          70.0074384402586,
          70.0074384402586,
          70.0074384402586,
          70.05592376604807,
          70.05592376604807,
          70.05592376604807,
          70.05592376604807,
          70.05592376604807,
          70.05592376604807,
          70.05592376604807,
          70.05592376604807,
          70.05592376604807,
          70.05592376604807,
          70.05592376604807,
          70.05592376604807,
          70.05592376604807,
          70.05592376604807,
          70.05592376604807,
          70.05592376604807,
          70.05592376604807,
          70.05592376604807,
          70.05592376604807,
          70.05592376604807,
          70.05592376604807,
          70.05592376604807,
          70.05592376604807,
          70.05592376604807,
          70.05592376604807,
          70.05592376604807,
          70.05592376604807,
          70.05592376604807,
          70.05592376604807,
          70.05592376604807,
          70.05592376604807,
          70.05592376604807,
          70.05592376604807,
          70.05592376604807,
          70.13673264236387,
          70.13673264236387,
          70.13673264236387,
          70.1690561928902,
          70.1690561928902,
          70.1690561928902,
          70.21754151867967,
          70.21754151867967,
          70.21754151867967,
          70.21754151867967,
          70.21754151867967,
          70.21754151867967,
          70.21754151867967,
          70.21754151867967,
          70.21754151867967,
          70.21754151867967,
          70.21754151867967,
          70.21754151867967,
          70.21754151867967,
          70.21754151867967,
          70.21754151867967,
          70.21754151867967,
          70.21754151867967,
          70.21754151867967,
          70.21754151867967,
          70.21754151867967,
          70.21754151867967,
          70.21754151867967,
          70.24986506920598,
          70.24986506920598,
          70.24986506920598,
          70.29835039499547,
          70.29835039499547,
          70.37915927131127,
          70.37915927131127,
          70.37915927131127,
          70.37915927131127,
          70.37915927131127,
          70.37915927131127,
          70.37915927131127,
          70.41148282183758,
          70.54077702394285,
          70.54077702394285,
          70.54077702394285,
          70.54077702394285,
          70.70239477657445,
          70.78320365289025,
          71.02563028183764,
          71.18724803446923
         ],
         "yaxis": "y"
        },
        {
         "line": {
          "color": "purple",
          "width": 2
         },
         "mode": "lines",
         "name": "yhat = 0.16 + 58.41x",
         "type": "scatter",
         "x": [
          55,
          79
         ],
         "y": [
          67.30842197131106,
          71.1872480344694
         ]
        }
       ],
       "layout": {
        "legend": {
         "tracegroupgap": 0
        },
        "template": {
         "data": {
          "bar": [
           {
            "error_x": {
             "color": "#2a3f5f"
            },
            "error_y": {
             "color": "#2a3f5f"
            },
            "marker": {
             "line": {
              "color": "#E5ECF6",
              "width": 0.5
             },
             "pattern": {
              "fillmode": "overlay",
              "size": 10,
              "solidity": 0.2
             }
            },
            "type": "bar"
           }
          ],
          "barpolar": [
           {
            "marker": {
             "line": {
              "color": "#E5ECF6",
              "width": 0.5
             },
             "pattern": {
              "fillmode": "overlay",
              "size": 10,
              "solidity": 0.2
             }
            },
            "type": "barpolar"
           }
          ],
          "carpet": [
           {
            "aaxis": {
             "endlinecolor": "#2a3f5f",
             "gridcolor": "white",
             "linecolor": "white",
             "minorgridcolor": "white",
             "startlinecolor": "#2a3f5f"
            },
            "baxis": {
             "endlinecolor": "#2a3f5f",
             "gridcolor": "white",
             "linecolor": "white",
             "minorgridcolor": "white",
             "startlinecolor": "#2a3f5f"
            },
            "type": "carpet"
           }
          ],
          "choropleth": [
           {
            "colorbar": {
             "outlinewidth": 0,
             "ticks": ""
            },
            "type": "choropleth"
           }
          ],
          "contour": [
           {
            "colorbar": {
             "outlinewidth": 0,
             "ticks": ""
            },
            "colorscale": [
             [
              0,
              "#0d0887"
             ],
             [
              0.1111111111111111,
              "#46039f"
             ],
             [
              0.2222222222222222,
              "#7201a8"
             ],
             [
              0.3333333333333333,
              "#9c179e"
             ],
             [
              0.4444444444444444,
              "#bd3786"
             ],
             [
              0.5555555555555556,
              "#d8576b"
             ],
             [
              0.6666666666666666,
              "#ed7953"
             ],
             [
              0.7777777777777778,
              "#fb9f3a"
             ],
             [
              0.8888888888888888,
              "#fdca26"
             ],
             [
              1,
              "#f0f921"
             ]
            ],
            "type": "contour"
           }
          ],
          "contourcarpet": [
           {
            "colorbar": {
             "outlinewidth": 0,
             "ticks": ""
            },
            "type": "contourcarpet"
           }
          ],
          "heatmap": [
           {
            "colorbar": {
             "outlinewidth": 0,
             "ticks": ""
            },
            "colorscale": [
             [
              0,
              "#0d0887"
             ],
             [
              0.1111111111111111,
              "#46039f"
             ],
             [
              0.2222222222222222,
              "#7201a8"
             ],
             [
              0.3333333333333333,
              "#9c179e"
             ],
             [
              0.4444444444444444,
              "#bd3786"
             ],
             [
              0.5555555555555556,
              "#d8576b"
             ],
             [
              0.6666666666666666,
              "#ed7953"
             ],
             [
              0.7777777777777778,
              "#fb9f3a"
             ],
             [
              0.8888888888888888,
              "#fdca26"
             ],
             [
              1,
              "#f0f921"
             ]
            ],
            "type": "heatmap"
           }
          ],
          "heatmapgl": [
           {
            "colorbar": {
             "outlinewidth": 0,
             "ticks": ""
            },
            "colorscale": [
             [
              0,
              "#0d0887"
             ],
             [
              0.1111111111111111,
              "#46039f"
             ],
             [
              0.2222222222222222,
              "#7201a8"
             ],
             [
              0.3333333333333333,
              "#9c179e"
             ],
             [
              0.4444444444444444,
              "#bd3786"
             ],
             [
              0.5555555555555556,
              "#d8576b"
             ],
             [
              0.6666666666666666,
              "#ed7953"
             ],
             [
              0.7777777777777778,
              "#fb9f3a"
             ],
             [
              0.8888888888888888,
              "#fdca26"
             ],
             [
              1,
              "#f0f921"
             ]
            ],
            "type": "heatmapgl"
           }
          ],
          "histogram": [
           {
            "marker": {
             "pattern": {
              "fillmode": "overlay",
              "size": 10,
              "solidity": 0.2
             }
            },
            "type": "histogram"
           }
          ],
          "histogram2d": [
           {
            "colorbar": {
             "outlinewidth": 0,
             "ticks": ""
            },
            "colorscale": [
             [
              0,
              "#0d0887"
             ],
             [
              0.1111111111111111,
              "#46039f"
             ],
             [
              0.2222222222222222,
              "#7201a8"
             ],
             [
              0.3333333333333333,
              "#9c179e"
             ],
             [
              0.4444444444444444,
              "#bd3786"
             ],
             [
              0.5555555555555556,
              "#d8576b"
             ],
             [
              0.6666666666666666,
              "#ed7953"
             ],
             [
              0.7777777777777778,
              "#fb9f3a"
             ],
             [
              0.8888888888888888,
              "#fdca26"
             ],
             [
              1,
              "#f0f921"
             ]
            ],
            "type": "histogram2d"
           }
          ],
          "histogram2dcontour": [
           {
            "colorbar": {
             "outlinewidth": 0,
             "ticks": ""
            },
            "colorscale": [
             [
              0,
              "#0d0887"
             ],
             [
              0.1111111111111111,
              "#46039f"
             ],
             [
              0.2222222222222222,
              "#7201a8"
             ],
             [
              0.3333333333333333,
              "#9c179e"
             ],
             [
              0.4444444444444444,
              "#bd3786"
             ],
             [
              0.5555555555555556,
              "#d8576b"
             ],
             [
              0.6666666666666666,
              "#ed7953"
             ],
             [
              0.7777777777777778,
              "#fb9f3a"
             ],
             [
              0.8888888888888888,
              "#fdca26"
             ],
             [
              1,
              "#f0f921"
             ]
            ],
            "type": "histogram2dcontour"
           }
          ],
          "mesh3d": [
           {
            "colorbar": {
             "outlinewidth": 0,
             "ticks": ""
            },
            "type": "mesh3d"
           }
          ],
          "parcoords": [
           {
            "line": {
             "colorbar": {
              "outlinewidth": 0,
              "ticks": ""
             }
            },
            "type": "parcoords"
           }
          ],
          "pie": [
           {
            "automargin": true,
            "type": "pie"
           }
          ],
          "scatter": [
           {
            "fillpattern": {
             "fillmode": "overlay",
             "size": 10,
             "solidity": 0.2
            },
            "type": "scatter"
           }
          ],
          "scatter3d": [
           {
            "line": {
             "colorbar": {
              "outlinewidth": 0,
              "ticks": ""
             }
            },
            "marker": {
             "colorbar": {
              "outlinewidth": 0,
              "ticks": ""
             }
            },
            "type": "scatter3d"
           }
          ],
          "scattercarpet": [
           {
            "marker": {
             "colorbar": {
              "outlinewidth": 0,
              "ticks": ""
             }
            },
            "type": "scattercarpet"
           }
          ],
          "scattergeo": [
           {
            "marker": {
             "colorbar": {
              "outlinewidth": 0,
              "ticks": ""
             }
            },
            "type": "scattergeo"
           }
          ],
          "scattergl": [
           {
            "marker": {
             "colorbar": {
              "outlinewidth": 0,
              "ticks": ""
             }
            },
            "type": "scattergl"
           }
          ],
          "scattermapbox": [
           {
            "marker": {
             "colorbar": {
              "outlinewidth": 0,
              "ticks": ""
             }
            },
            "type": "scattermapbox"
           }
          ],
          "scatterpolar": [
           {
            "marker": {
             "colorbar": {
              "outlinewidth": 0,
              "ticks": ""
             }
            },
            "type": "scatterpolar"
           }
          ],
          "scatterpolargl": [
           {
            "marker": {
             "colorbar": {
              "outlinewidth": 0,
              "ticks": ""
             }
            },
            "type": "scatterpolargl"
           }
          ],
          "scatterternary": [
           {
            "marker": {
             "colorbar": {
              "outlinewidth": 0,
              "ticks": ""
             }
            },
            "type": "scatterternary"
           }
          ],
          "surface": [
           {
            "colorbar": {
             "outlinewidth": 0,
             "ticks": ""
            },
            "colorscale": [
             [
              0,
              "#0d0887"
             ],
             [
              0.1111111111111111,
              "#46039f"
             ],
             [
              0.2222222222222222,
              "#7201a8"
             ],
             [
              0.3333333333333333,
              "#9c179e"
             ],
             [
              0.4444444444444444,
              "#bd3786"
             ],
             [
              0.5555555555555556,
              "#d8576b"
             ],
             [
              0.6666666666666666,
              "#ed7953"
             ],
             [
              0.7777777777777778,
              "#fb9f3a"
             ],
             [
              0.8888888888888888,
              "#fdca26"
             ],
             [
              1,
              "#f0f921"
             ]
            ],
            "type": "surface"
           }
          ],
          "table": [
           {
            "cells": {
             "fill": {
              "color": "#EBF0F8"
             },
             "line": {
              "color": "white"
             }
            },
            "header": {
             "fill": {
              "color": "#C8D4E3"
             },
             "line": {
              "color": "white"
             }
            },
            "type": "table"
           }
          ]
         },
         "layout": {
          "annotationdefaults": {
           "arrowcolor": "#2a3f5f",
           "arrowhead": 0,
           "arrowwidth": 1
          },
          "autotypenumbers": "strict",
          "coloraxis": {
           "colorbar": {
            "outlinewidth": 0,
            "ticks": ""
           }
          },
          "colorscale": {
           "diverging": [
            [
             0,
             "#8e0152"
            ],
            [
             0.1,
             "#c51b7d"
            ],
            [
             0.2,
             "#de77ae"
            ],
            [
             0.3,
             "#f1b6da"
            ],
            [
             0.4,
             "#fde0ef"
            ],
            [
             0.5,
             "#f7f7f7"
            ],
            [
             0.6,
             "#e6f5d0"
            ],
            [
             0.7,
             "#b8e186"
            ],
            [
             0.8,
             "#7fbc41"
            ],
            [
             0.9,
             "#4d9221"
            ],
            [
             1,
             "#276419"
            ]
           ],
           "sequential": [
            [
             0,
             "#0d0887"
            ],
            [
             0.1111111111111111,
             "#46039f"
            ],
            [
             0.2222222222222222,
             "#7201a8"
            ],
            [
             0.3333333333333333,
             "#9c179e"
            ],
            [
             0.4444444444444444,
             "#bd3786"
            ],
            [
             0.5555555555555556,
             "#d8576b"
            ],
            [
             0.6666666666666666,
             "#ed7953"
            ],
            [
             0.7777777777777778,
             "#fb9f3a"
            ],
            [
             0.8888888888888888,
             "#fdca26"
            ],
            [
             1,
             "#f0f921"
            ]
           ],
           "sequentialminus": [
            [
             0,
             "#0d0887"
            ],
            [
             0.1111111111111111,
             "#46039f"
            ],
            [
             0.2222222222222222,
             "#7201a8"
            ],
            [
             0.3333333333333333,
             "#9c179e"
            ],
            [
             0.4444444444444444,
             "#bd3786"
            ],
            [
             0.5555555555555556,
             "#d8576b"
            ],
            [
             0.6666666666666666,
             "#ed7953"
            ],
            [
             0.7777777777777778,
             "#fb9f3a"
            ],
            [
             0.8888888888888888,
             "#fdca26"
            ],
            [
             1,
             "#f0f921"
            ]
           ]
          },
          "colorway": [
           "#636efa",
           "#EF553B",
           "#00cc96",
           "#ab63fa",
           "#FFA15A",
           "#19d3f3",
           "#FF6692",
           "#B6E880",
           "#FF97FF",
           "#FECB52"
          ],
          "font": {
           "color": "#2a3f5f"
          },
          "geo": {
           "bgcolor": "white",
           "lakecolor": "white",
           "landcolor": "#E5ECF6",
           "showlakes": true,
           "showland": true,
           "subunitcolor": "white"
          },
          "hoverlabel": {
           "align": "left"
          },
          "hovermode": "closest",
          "mapbox": {
           "style": "light"
          },
          "paper_bgcolor": "white",
          "plot_bgcolor": "#E5ECF6",
          "polar": {
           "angularaxis": {
            "gridcolor": "white",
            "linecolor": "white",
            "ticks": ""
           },
           "bgcolor": "#E5ECF6",
           "radialaxis": {
            "gridcolor": "white",
            "linecolor": "white",
            "ticks": ""
           }
          },
          "scene": {
           "xaxis": {
            "backgroundcolor": "#E5ECF6",
            "gridcolor": "white",
            "gridwidth": 2,
            "linecolor": "white",
            "showbackground": true,
            "ticks": "",
            "zerolinecolor": "white"
           },
           "yaxis": {
            "backgroundcolor": "#E5ECF6",
            "gridcolor": "white",
            "gridwidth": 2,
            "linecolor": "white",
            "showbackground": true,
            "ticks": "",
            "zerolinecolor": "white"
           },
           "zaxis": {
            "backgroundcolor": "#E5ECF6",
            "gridcolor": "white",
            "gridwidth": 2,
            "linecolor": "white",
            "showbackground": true,
            "ticks": "",
            "zerolinecolor": "white"
           }
          },
          "shapedefaults": {
           "line": {
            "color": "#2a3f5f"
           }
          },
          "ternary": {
           "aaxis": {
            "gridcolor": "white",
            "linecolor": "white",
            "ticks": ""
           },
           "baxis": {
            "gridcolor": "white",
            "linecolor": "white",
            "ticks": ""
           },
           "bgcolor": "#E5ECF6",
           "caxis": {
            "gridcolor": "white",
            "linecolor": "white",
            "ticks": ""
           }
          },
          "title": {
           "x": 0.05
          },
          "xaxis": {
           "automargin": true,
           "gridcolor": "white",
           "linecolor": "white",
           "ticks": "",
           "title": {
            "standoff": 15
           },
           "zerolinecolor": "white",
           "zerolinewidth": 2
          },
          "yaxis": {
           "automargin": true,
           "gridcolor": "white",
           "linecolor": "white",
           "ticks": "",
           "title": {
            "standoff": 15
           },
           "zerolinecolor": "white",
           "zerolinewidth": 2
          }
         }
        },
        "title": {
         "text": "Midparent vs Child Height with Trendline"
        },
        "xaxis": {
         "anchor": "y",
         "domain": [
          0,
          1
         ],
         "title": {
          "text": "childHeight"
         }
        },
        "yaxis": {
         "anchor": "x",
         "domain": [
          0,
          1
         ],
         "title": {
          "text": "midparentHeight"
         }
        }
       }
      }
     },
     "metadata": {},
     "output_type": "display_data"
    }
   ],
   "source": [
    "# You can see this if you replace `fig = px.scatter(...` above with this\n",
    "fig = px.scatter(galton_data, x='childHeight', y='midparentHeight', \n",
    "                 trendline='ols',  # Add a linear trendline\n",
    "                 title='Midparent vs Child Height with Trendline')\n",
    "\n",
    "# And the line in this case happens to be the following\n",
    "# which you can confirm by including or not include the code below\n",
    "m = 0.1616177526315975  # Slope\n",
    "b = 58.4194455765732    # Intercept\n",
    "trendline_x = np.array([55,79])\n",
    "trendline_Y = b + m*np.array([55,79])\n",
    "fig.add_trace(go.Scatter(x=trendline_x, y=trendline_Y, mode='lines',\n",
    "                         line=dict(color='purple', width=2),\n",
    "                         name='yhat = 0.16 + 58.41x'))"
   ]
  },
  {
   "cell_type": "code",
   "execution_count": 5,
   "metadata": {},
   "outputs": [
    {
     "data": {
      "application/vnd.plotly.v1+json": {
       "config": {
        "plotlyServerURL": "https://plot.ly"
       },
       "data": [
        {
         "hovertemplate": "x=%{x}<br>Y=%{y}<extra></extra>",
         "legendgroup": "",
         "marker": {
          "color": "#636efa",
          "opacity": 0.5,
          "size": 8,
          "symbol": "circle"
         },
         "mode": "markers",
         "name": "",
         "orientation": "v",
         "showlegend": false,
         "type": "scatter",
         "x": [
          73.2,
          69.2,
          69,
          69,
          73.5,
          72.5,
          65.5,
          65.5,
          71,
          68,
          70.5,
          68.5,
          67,
          64.5,
          63,
          72,
          69,
          68,
          66.5,
          62.5,
          62.5,
          69.5,
          76.5,
          74,
          73,
          73,
          70.5,
          64,
          70.5,
          68,
          66,
          66,
          65.5,
          74,
          70,
          68,
          67,
          67,
          66,
          63.5,
          63,
          65,
          71,
          62,
          68,
          67,
          71,
          70.5,
          66.7,
          72,
          70.5,
          70.2,
          70.2,
          69.2,
          68.7,
          66.5,
          64.5,
          63.5,
          74,
          73,
          71.5,
          62.5,
          66.5,
          62.3,
          66,
          64.5,
          64,
          62.7,
          73.2,
          73,
          72.7,
          70,
          69,
          68.5,
          68,
          66,
          73,
          68.5,
          68,
          73,
          71,
          67,
          74.2,
          70.5,
          69.5,
          66,
          65.5,
          65,
          65,
          65.5,
          66,
          63,
          70.5,
          70.5,
          69,
          65,
          63,
          69,
          67,
          63,
          73,
          67,
          70.5,
          70,
          66.5,
          63,
          67.5,
          67.2,
          66.7,
          64,
          71,
          70,
          70,
          66,
          65,
          65,
          74,
          72,
          69,
          67.5,
          63.5,
          72,
          71.5,
          71.5,
          70,
          68,
          65.7,
          78,
          74,
          73,
          72,
          67,
          73.2,
          73,
          69,
          67,
          70,
          67,
          67,
          66.5,
          70,
          69,
          68.5,
          66,
          64.5,
          63,
          71,
          67,
          76,
          72,
          71,
          66,
          66,
          70.5,
          72,
          72,
          71,
          69,
          66,
          65,
          73,
          65.2,
          68.5,
          67.7,
          68,
          68,
          62,
          68,
          68,
          67.5,
          66.5,
          66.5,
          66,
          65.5,
          65,
          72,
          71,
          70.5,
          67,
          68,
          68,
          68,
          72,
          71,
          70,
          66,
          64.5,
          64.5,
          62,
          73,
          62,
          67.5,
          64.5,
          71,
          67,
          66,
          65,
          63.5,
          71,
          70,
          70,
          64,
          65,
          65,
          64,
          63,
          63,
          71,
          71,
          70,
          63.5,
          71,
          70,
          64.5,
          62.5,
          61.5,
          72,
          70.5,
          70.5,
          64.5,
          60,
          70,
          64,
          64,
          64,
          62.5,
          70.5,
          70,
          69,
          69,
          66,
          64.5,
          64,
          62,
          71.5,
          69,
          71,
          70,
          69,
          69,
          70,
          68.7,
          68,
          66,
          64,
          62,
          75,
          70,
          69,
          66,
          64,
          60,
          67.5,
          73,
          72,
          72,
          66.5,
          69.2,
          67.2,
          66.5,
          66,
          66,
          64.2,
          63.7,
          72,
          70.2,
          69,
          68.5,
          68,
          65,
          61.5,
          61,
          61,
          73,
          72,
          70.5,
          65,
          65,
          64.5,
          63,
          62,
          67,
          65,
          64.5,
          62.5,
          62.5,
          70,
          70,
          67,
          65,
          65,
          63,
          79,
          75,
          71,
          69,
          67,
          65.7,
          62,
          73,
          72.5,
          65,
          69,
          69,
          72,
          70,
          68.7,
          66.5,
          65.5,
          64.7,
          64.5,
          70.7,
          70,
          68,
          67,
          66,
          65,
          67,
          70,
          68,
          66.7,
          65.5,
          72,
          70,
          62.5,
          61.2,
          60.1,
          74,
          69.5,
          69,
          68,
          68,
          68,
          65.5,
          65,
          60,
          68,
          65,
          64,
          62,
          71,
          70,
          70,
          70,
          69.5,
          68.5,
          69,
          65,
          64,
          70,
          67,
          65.5,
          63.7,
          63.2,
          62.5,
          62.2,
          61,
          70,
          68.5,
          65.5,
          63.5,
          72.5,
          69,
          67,
          64.5,
          64,
          71,
          67.5,
          67.5,
          63.5,
          68,
          67,
          63.7,
          62,
          70,
          66.5,
          62,
          61,
          72,
          70,
          69.5,
          69.5,
          68,
          65,
          64,
          63,
          70.7,
          69.7,
          69.2,
          65.2,
          64,
          63.5,
          63.2,
          72,
          72,
          60,
          71.2,
          67,
          67,
          64.5,
          65,
          63,
          65,
          65,
          71.5,
          64.5,
          63,
          72,
          66,
          66,
          65,
          63,
          75,
          71,
          70,
          66,
          66,
          65.5,
          65,
          65,
          64,
          64,
          64,
          73,
          72,
          71.7,
          71.5,
          65.5,
          65,
          62.7,
          62.5,
          71.2,
          71,
          70,
          75,
          74,
          72,
          68.5,
          70,
          68.5,
          68,
          65,
          63,
          62.5,
          73,
          71,
          70.5,
          70.5,
          67,
          66,
          61,
          70.5,
          67.5,
          64.5,
          64,
          71,
          68.5,
          67.5,
          66,
          63,
          63,
          71,
          71,
          70.5,
          70.5,
          66.5,
          65.5,
          64.5,
          73,
          72,
          69,
          69,
          66.5,
          65.5,
          65.5,
          65,
          64,
          70,
          68.5,
          67,
          65,
          64,
          63.5,
          61,
          69.7,
          68,
          60,
          65.2,
          64.5,
          63.7,
          60,
          71.7,
          66.5,
          65,
          63.5,
          65.5,
          69,
          67.5,
          63.5,
          72,
          73,
          70,
          70,
          64,
          66,
          62,
          70.5,
          67,
          66,
          65,
          63,
          62,
          61,
          70.5,
          63.7,
          63,
          62.5,
          73,
          72,
          69,
          73,
          71,
          71,
          69,
          63,
          72,
          70,
          67.8,
          65.2,
          64.7,
          64.5,
          63.5,
          63.5,
          62.5,
          62,
          61.5,
          71,
          70,
          70,
          69,
          63.5,
          62.5,
          62.5,
          62,
          72,
          68,
          66,
          66,
          70,
          69.5,
          69,
          63,
          62,
          68,
          68,
          67.5,
          64,
          63,
          63,
          63.5,
          62,
          62,
          70.5,
          68,
          62.5,
          69,
          66,
          61.7,
          60.5,
          69.5,
          71,
          61.7,
          73,
          71,
          67,
          70,
          69,
          69,
          68.7,
          68.5,
          68.5,
          68,
          68,
          68,
          66.2,
          63.2,
          67.5,
          66,
          66,
          64,
          71.7,
          71.5,
          70.7,
          65.5,
          66.5,
          65.2,
          61.5,
          72,
          72,
          68,
          66,
          69.2,
          68,
          66,
          66,
          62,
          61.5,
          61,
          60,
          72,
          70.5,
          68.7,
          68.5,
          67.7,
          64,
          63.5,
          63,
          71,
          68,
          68,
          67,
          65,
          64,
          63,
          63,
          62,
          61,
          66,
          63,
          65.5,
          62,
          71.2,
          71.2,
          69,
          68.5,
          62.5,
          62,
          69,
          67,
          66,
          66,
          66,
          65,
          65,
          65,
          64,
          63,
          70.5,
          70,
          68,
          66,
          66,
          66,
          62,
          61.5,
          73.5,
          70,
          69.5,
          65.5,
          67,
          70,
          68,
          64.5,
          64,
          71,
          68,
          66,
          65.5,
          65,
          63,
          62,
          62,
          67,
          67,
          66,
          64,
          63.5,
          61,
          68.2,
          70,
          70,
          69,
          67,
          65.5,
          64.5,
          68.5,
          67.7,
          61.7,
          66.5,
          68.5,
          68,
          64,
          63.5,
          63,
          66.7,
          64,
          61,
          61,
          60,
          60,
          60,
          56,
          67.5,
          67,
          66.5,
          60,
          69,
          68,
          65,
          64.7,
          64,
          64,
          63,
          65,
          65,
          62,
          61,
          72.7,
          72.7,
          71.5,
          65.5,
          63.5,
          71,
          73,
          71,
          70.7,
          70,
          69,
          68,
          65.5,
          62,
          69.7,
          67.5,
          65.5,
          65,
          64.5,
          63.5,
          70,
          69,
          65.5,
          65.5,
          63,
          70,
          67.7,
          63,
          60,
          65,
          62,
          62,
          71,
          69,
          64,
          64,
          63,
          63,
          63,
          63,
          63,
          62.5,
          62,
          71.5,
          70,
          67,
          67,
          71,
          70.2,
          69.2,
          68.5,
          68,
          67,
          65.5,
          63.5,
          69,
          68,
          63,
          70,
          69.5,
          69,
          68.5,
          66,
          67,
          70.5,
          70.5,
          67,
          66,
          66,
          62,
          62,
          61.5,
          72,
          65,
          65,
          67,
          64,
          64,
          62,
          60,
          60,
          66,
          65,
          67,
          66.5,
          65.5,
          72,
          68,
          66,
          65,
          62,
          61,
          68.7,
          68.5,
          66.5,
          64.5,
          62.5,
          60.5,
          60.5,
          57.5,
          72,
          71,
          67,
          66,
          65,
          70,
          64.5,
          62,
          67.2,
          67,
          65,
          65,
          65,
          63,
          70,
          68,
          63.5,
          62.5,
          62.5,
          62.5,
          62.5,
          70,
          68,
          67,
          65,
          60,
          65,
          68,
          67,
          66.5,
          66,
          65.7,
          65.5,
          65,
          65,
          64,
          63,
          62,
          61,
          60,
          58,
          57,
          66.5,
          66,
          66,
          65,
          63,
          63,
          63,
          63,
          60,
          67,
          66,
          65,
          65,
          61,
          69,
          68,
          68,
          65,
          65,
          62,
          62,
          61,
          59,
          70.7,
          65.5,
          69.2,
          69,
          68,
          67.7,
          64.5,
          60.5,
          67,
          67,
          64,
          64,
          62.5,
          60.5,
          70,
          63,
          66,
          66,
          63,
          71,
          71,
          69,
          63.5,
          68,
          68,
          67,
          67,
          62,
          71.5,
          68,
          65.5,
          64,
          62,
          62,
          61,
          70.5,
          68,
          67,
          65,
          64,
          64,
          60,
          64.5,
          66,
          60,
          68.5,
          63.5,
          64,
          62,
          61,
          66.5,
          57
         ],
         "xaxis": "x",
         "y": [
          75.43,
          75.43,
          75.43,
          75.43,
          73.66,
          73.66,
          73.66,
          73.66,
          72.06,
          72.06,
          72.06,
          72.06,
          72.06,
          72.06,
          72.06,
          69.09,
          69.09,
          69.09,
          69.09,
          69.09,
          69.09,
          73.72,
          73.72,
          73.72,
          73.72,
          73.72,
          73.72,
          73.72,
          72.91,
          72.91,
          72.91,
          72.89,
          72.37,
          70.48,
          70.48,
          70.48,
          70.48,
          70.48,
          70.48,
          70.48,
          70.48,
          69.94,
          72.68,
          72.68,
          72.68,
          72.68,
          72.41,
          72.41,
          72.41,
          71.6,
          71.6,
          71.6,
          71.6,
          71.6,
          71.6,
          71.6,
          71.6,
          71.6,
          71.33000000000001,
          71.33000000000001,
          71.33000000000001,
          71.33000000000001,
          71.33000000000001,
          71.33000000000001,
          71.06,
          71.06,
          71.06,
          70.62,
          73.61000000000001,
          73.61000000000001,
          73.61000000000001,
          73.61000000000001,
          73.61000000000001,
          73.61000000000001,
          73.61000000000001,
          73.61000000000001,
          72.72,
          72.72,
          72.72,
          72.18,
          72.18,
          72.18,
          71.1,
          71.1,
          71.1,
          71.1,
          71.1,
          71.1,
          71.1,
          71.37,
          70.56,
          70.56,
          70.02000000000001,
          70.02000000000001,
          70.02000000000001,
          70.02000000000001,
          70.02000000000001,
          70.02000000000001,
          70.02000000000001,
          70.02000000000001,
          70.02000000000001,
          70.02000000000001,
          70.02000000000001,
          70.02000000000001,
          70.02000000000001,
          70.02000000000001,
          70.53999999999999,
          70.53999999999999,
          70.53999999999999,
          69.48,
          69.73,
          69.73,
          69.73,
          69.73,
          69.73,
          69.73,
          69.48,
          69.48,
          69.48,
          69.48,
          69.48,
          69.48,
          69.48,
          69.48,
          69.48,
          69.48,
          68.94,
          72.76,
          72.76,
          72.76,
          72.76,
          72.76,
          71.68,
          71.68,
          71.68,
          71.68,
          71.14,
          71.14,
          71.14,
          71.14,
          71.14,
          71.14,
          71.14,
          71.14,
          71.14,
          71.14,
          71.14,
          71.14,
          71.14,
          71.14,
          71.14,
          71.14,
          71.14,
          71.22,
          70.87,
          70.87,
          70.87,
          70.87,
          70.87,
          70.87,
          71.12,
          71.12,
          70.85,
          70.85,
          70.6,
          70.6,
          70.6,
          70.06,
          70.06,
          70.06,
          70.06,
          70.06,
          70.06,
          70.06,
          70.06,
          70.68,
          70.68,
          70.68,
          70.68,
          70.06,
          70.06,
          70.06,
          70.58000000000001,
          70.58000000000001,
          70.58000000000001,
          70.58000000000001,
          70.58000000000001,
          70.58000000000001,
          70.58000000000001,
          70.33000000000001,
          70.33000000000001,
          69.62,
          69.62,
          69.78999999999999,
          69.78999999999999,
          69.78999999999999,
          69.78999999999999,
          69.78999999999999,
          69.52000000000001,
          69.52000000000001,
          69.52000000000001,
          69.52000000000001,
          69.52000000000001,
          69.52000000000001,
          69.52000000000001,
          69.52000000000001,
          69.52000000000001,
          69.52000000000001,
          69.52000000000001,
          69.52000000000001,
          69.52000000000001,
          68.98,
          68.98,
          68.98,
          68.98,
          68.98,
          68.98,
          68.98,
          68.98,
          68.98,
          68.98,
          69.25,
          69.25,
          69.25,
          69.25,
          69.25,
          68.98,
          68.98,
          68.98,
          68.98,
          68.98,
          68.98,
          68.98,
          68.44,
          66.82,
          66.82,
          72.26,
          72.26,
          72.26,
          72.26,
          72.26,
          72.26,
          72.26,
          72.26,
          72.26,
          72.26,
          71.72,
          71.18,
          71.18,
          71.18,
          71.18,
          71.18,
          71.18,
          70.91,
          70.91,
          70.91,
          70.91,
          70.91,
          70.91,
          70.91,
          70.91,
          70.91,
          70.91,
          70.91,
          70.35,
          70.35,
          70.35,
          70.35,
          70.35,
          70.35,
          70.35,
          70.35,
          70.35,
          70.1,
          70.1,
          70.1,
          70.1,
          70.1,
          70.1,
          70.1,
          70.1,
          70.1,
          70.1,
          70.1,
          70.1,
          70.1,
          70.1,
          70.1,
          70.1,
          70.1,
          70.1,
          70.1,
          70.1,
          70.1,
          70.1,
          70.1,
          70.1,
          70.1,
          70.1,
          70.1,
          70.1,
          70.1,
          70.1,
          70.1,
          69.938,
          69.938,
          69.938,
          69.938,
          69.938,
          69.938,
          69.938,
          69.56,
          69.56,
          69.56,
          69.56,
          69.56,
          69.56,
          69.56,
          69.56,
          69.56,
          69.56,
          69.56,
          69.668,
          69.668,
          69.668,
          69.668,
          69.668,
          69.81,
          69.81,
          69.81,
          69.81,
          69.81,
          69.81,
          69.81,
          69.81,
          70.08000000000001,
          69.56,
          69.56,
          69.56,
          69.56,
          69.56,
          69.56,
          69.56,
          69.56,
          69.56,
          69.56,
          69.56,
          69.56,
          69.56,
          69.398,
          69.398,
          69.398,
          69.398,
          69.398,
          69.398,
          69.398,
          69.398,
          69.27000000000001,
          69.27000000000001,
          69.27000000000001,
          69.27000000000001,
          69.27000000000001,
          69.27000000000001,
          69.27000000000001,
          69.27000000000001,
          69.27000000000001,
          69.28999999999999,
          69.28999999999999,
          69.28999999999999,
          69.28999999999999,
          69.02000000000001,
          69.02000000000001,
          69.02000000000001,
          69.02000000000001,
          69.02000000000001,
          69.02000000000001,
          69.02000000000001,
          69.02000000000001,
          68.73,
          68.73,
          68.73,
          68.73,
          68.73,
          68.73,
          68.73,
          68.73,
          69.00800000000001,
          69.00800000000001,
          69.00800000000001,
          69.00800000000001,
          69.00800000000001,
          69.00800000000001,
          69.00800000000001,
          68.73,
          68.73,
          68.73,
          67.94,
          67.94,
          67.4,
          67.4,
          67.4,
          67.4,
          67.4,
          67.4,
          66.59,
          66.59,
          66.59,
          66.32,
          66.32,
          66.32,
          66.32,
          66.32,
          71.49000000000001,
          71.49000000000001,
          71.49000000000001,
          71.49000000000001,
          71.49000000000001,
          71.49000000000001,
          71.49000000000001,
          71.49000000000001,
          71.49000000000001,
          71.49000000000001,
          70.68,
          70.14,
          70.14,
          70.14,
          70.14,
          70.14,
          70.14,
          70.14,
          70.14,
          70.14,
          70.14,
          70.14,
          70.518,
          70.518,
          70.518,
          70.518,
          70.14,
          70.14,
          70.14,
          70.14,
          70.14,
          70.14,
          70.41,
          70.41,
          70.41,
          70.41,
          70.41,
          70.41,
          70.41,
          70.66,
          70.66,
          70.66,
          70.66,
          70.41,
          70.41,
          70.41,
          70.41,
          70.41,
          70.41,
          70.39,
          70.39,
          70.39,
          70.39,
          70.39,
          70.39,
          70.39,
          70.14,
          70.14,
          70.14,
          70.14,
          70.14,
          70.14,
          70.14,
          70.14,
          70.14,
          69.6,
          69.6,
          69.6,
          69.6,
          69.6,
          69.6,
          69.6,
          69.58000000000001,
          69.58000000000001,
          69.58000000000001,
          69.58000000000001,
          69.58000000000001,
          69.58000000000001,
          69.58000000000001,
          69.16,
          69.16,
          69.16,
          69.16,
          68.78999999999999,
          68.52000000000001,
          68.52000000000001,
          68.52000000000001,
          68.52000000000001,
          68.52000000000001,
          68.52000000000001,
          68.52000000000001,
          68.52000000000001,
          68.52000000000001,
          68.52000000000001,
          68.78999999999999,
          68.78999999999999,
          68.78999999999999,
          68.78999999999999,
          68.78999999999999,
          68.78999999999999,
          68.78999999999999,
          68.78999999999999,
          68.78999999999999,
          68.78999999999999,
          68.33000000000001,
          68.23,
          68.23,
          68.23,
          67.98,
          67.98,
          67.98,
          67.98,
          67.98,
          68.23,
          68.23,
          68.23,
          68.23,
          68.23,
          68.23,
          68.23,
          68.23,
          68.23,
          68.23,
          68.23,
          68.25,
          68.25,
          68.25,
          68.25,
          68.25,
          68.25,
          68.25,
          68.25,
          67.98,
          67.98,
          67.98,
          67.98,
          67.69,
          67.69,
          67.69,
          67.69,
          67.69,
          67.44,
          67.44,
          67.44,
          67.44,
          67.44,
          67.44,
          67.44,
          67.44,
          67.44,
          66.9,
          66.9,
          66.9,
          66.9,
          66.9,
          66.9,
          66.9,
          67.17,
          72.42,
          72.42,
          70.43,
          70.43,
          70.43,
          70.16,
          70.16,
          70.16,
          70.16,
          70.16,
          70.16,
          70.16,
          70.16,
          70.16,
          70.16,
          70.16,
          69.1,
          69.1,
          69.37,
          69.37,
          69.37,
          69.37,
          69.37,
          69.37,
          69.37,
          69.37,
          69.37,
          69.1,
          69.1,
          69.1,
          69.1,
          69.35,
          69.35,
          69.35,
          69.35,
          69.35,
          69.35,
          69.35,
          69.35,
          69.35,
          69.35,
          69.35,
          69.35,
          69.35,
          69.35,
          69.35,
          69.35,
          68.56,
          68.56,
          68.56,
          68.56,
          68.56,
          68.56,
          68.56,
          68.56,
          68.56,
          68.56,
          68.56,
          68.56,
          68.56,
          68.56,
          68.56,
          68.56,
          68.56,
          68.56,
          68.56,
          68.83000000000001,
          68.56,
          68.56,
          68.56,
          68.56,
          68.56,
          68.56,
          68.56,
          68.56,
          68.56,
          68.56,
          68.02000000000001,
          68.02000000000001,
          68.02000000000001,
          68.02000000000001,
          68.02000000000001,
          68.02000000000001,
          68.02000000000001,
          68.02000000000001,
          68.53999999999999,
          68.53999999999999,
          68.53999999999999,
          68.53999999999999,
          68.02000000000001,
          68.02000000000001,
          68.02000000000001,
          68.02000000000001,
          68.02000000000001,
          68.02000000000001,
          68.02000000000001,
          68.02000000000001,
          68.02000000000001,
          68.02000000000001,
          68.02000000000001,
          68.02000000000001,
          68.02000000000001,
          68.02000000000001,
          68.02000000000001,
          68.02000000000001,
          68.02000000000001,
          68.02000000000001,
          68.02000000000001,
          68.53999999999999,
          68.02000000000001,
          68.39,
          68.39,
          68.39,
          68.39,
          68.39,
          67.75,
          67.83000000000001,
          67.83000000000001,
          67.75,
          66.94,
          66.94,
          66.94,
          66.94,
          66.94,
          66.50800000000001,
          66.4,
          66.4,
          66.4,
          66.4,
          66.4,
          66.4,
          66.4,
          66.4,
          66.4,
          66.4,
          66.4,
          66.11,
          65.86,
          65.86,
          65.86,
          65.86,
          65.86,
          65.86,
          65.86,
          65.86,
          65.86,
          65.86,
          69.248,
          69.248,
          69.248,
          69.248,
          69.248,
          69.41,
          69.14,
          69.14,
          69.14,
          69.14,
          69.14,
          69.14,
          69.14,
          69.14,
          68.6,
          68.6,
          68.6,
          68.6,
          68.6,
          68.6,
          68.87,
          68.87,
          68.87,
          68.87,
          68.87,
          68.87,
          68.87,
          68.87,
          68.87,
          68.6,
          68.6,
          68.6,
          68.85,
          68.85,
          68.85,
          68.85,
          68.85,
          68.85,
          68.85,
          68.85,
          68.85,
          68.85,
          68.85,
          68.06,
          68.06,
          68.06,
          68.06,
          67.78999999999999,
          67.78999999999999,
          67.78999999999999,
          67.78999999999999,
          67.78999999999999,
          67.78999999999999,
          67.78999999999999,
          67.78999999999999,
          67.52000000000001,
          67.52000000000001,
          67.52000000000001,
          67.23,
          67.23,
          67.23,
          67.23,
          67.23,
          66.44,
          69.18,
          69.18,
          69.18,
          69.18,
          69.18,
          69.18,
          69.18,
          69.18,
          69.18,
          69.18,
          69.18,
          69.18,
          69.18,
          69.18,
          69.18,
          69.18,
          69.18,
          68.64,
          68.64,
          68.64,
          68.64,
          68.64,
          68.64,
          68.64,
          68.64,
          68.64,
          68.64,
          68.64,
          68.35,
          68.35,
          68.35,
          68.35,
          68.35,
          68.35,
          68.35,
          68.35,
          68.37,
          68.37,
          68.37,
          68.37,
          68.37,
          67.02000000000001,
          67.28999999999999,
          67.28999999999999,
          67.27000000000001,
          67.27000000000001,
          67.27000000000001,
          67.27000000000001,
          67.27000000000001,
          67.27000000000001,
          67,
          67,
          67,
          67,
          67,
          67,
          67,
          66.21000000000001,
          65.4,
          65.4,
          65.4,
          65.4,
          65.4,
          64.86,
          64.86,
          64.86,
          64.86,
          64.86,
          64.86,
          64.86,
          64.86,
          64.86,
          64.86,
          64.86,
          64.86,
          64.86,
          64.86,
          64.86,
          68.68,
          68.68,
          68.68,
          68.68,
          68.68,
          68.14,
          68.14,
          68.14,
          68.14,
          68.14,
          68.14,
          68.14,
          68.14,
          68.14,
          67.6,
          67.6,
          67.6,
          67.6,
          67.6,
          67.6,
          67.6,
          67.6,
          67.6,
          67.87,
          67.87,
          67.6,
          67.6,
          67.6,
          67.6,
          67.6,
          67.6,
          67.06,
          67.06,
          67.06,
          67.06,
          67.06,
          67.06,
          66.52000000000001,
          66.52000000000001,
          66.52000000000001,
          66.52000000000001,
          66.52000000000001,
          66.77000000000001,
          66.77000000000001,
          66.77000000000001,
          66.77000000000001,
          65.15,
          65.15,
          65.15,
          65.15,
          65.15,
          66.56,
          66.56,
          66.56,
          66.56,
          66.56,
          66.56,
          66.56,
          66.56,
          66.56,
          66.56,
          66.56,
          66.56,
          66.56,
          66.56,
          66.02000000000001,
          64.4,
          64.4,
          65.78999999999999,
          65.78999999999999,
          66.64,
          66.64,
          66.64,
          65.27000000000001,
          65.27000000000001
         ],
         "yaxis": "y"
        },
        {
         "hovertemplate": "<b>OLS trendline</b><br>Y = 0.161618 * x + 58.4194<br>R<sup>2</sup>=0.103009<br><br>x=%{x}<br>Y=%{y} <b>(trend)</b><extra></extra>",
         "legendgroup": "",
         "line": {
          "color": "red"
         },
         "marker": {
          "color": "#636efa",
          "opacity": 0.5,
          "size": 8,
          "symbol": "circle"
         },
         "mode": "lines",
         "name": "",
         "showlegend": false,
         "type": "scatter",
         "x": [
          56,
          57,
          57,
          57.5,
          58,
          59,
          60,
          60,
          60,
          60,
          60,
          60,
          60,
          60,
          60,
          60,
          60,
          60,
          60,
          60,
          60,
          60,
          60,
          60,
          60,
          60.1,
          60.5,
          60.5,
          60.5,
          60.5,
          60.5,
          61,
          61,
          61,
          61,
          61,
          61,
          61,
          61,
          61,
          61,
          61,
          61,
          61,
          61,
          61,
          61,
          61,
          61,
          61,
          61.2,
          61.5,
          61.5,
          61.5,
          61.5,
          61.5,
          61.5,
          61.5,
          61.7,
          61.7,
          61.7,
          62,
          62,
          62,
          62,
          62,
          62,
          62,
          62,
          62,
          62,
          62,
          62,
          62,
          62,
          62,
          62,
          62,
          62,
          62,
          62,
          62,
          62,
          62,
          62,
          62,
          62,
          62,
          62,
          62,
          62,
          62,
          62,
          62,
          62,
          62,
          62,
          62,
          62,
          62,
          62,
          62,
          62,
          62.2,
          62.3,
          62.5,
          62.5,
          62.5,
          62.5,
          62.5,
          62.5,
          62.5,
          62.5,
          62.5,
          62.5,
          62.5,
          62.5,
          62.5,
          62.5,
          62.5,
          62.5,
          62.5,
          62.5,
          62.5,
          62.5,
          62.5,
          62.5,
          62.5,
          62.5,
          62.7,
          62.7,
          63,
          63,
          63,
          63,
          63,
          63,
          63,
          63,
          63,
          63,
          63,
          63,
          63,
          63,
          63,
          63,
          63,
          63,
          63,
          63,
          63,
          63,
          63,
          63,
          63,
          63,
          63,
          63,
          63,
          63,
          63,
          63,
          63,
          63,
          63,
          63,
          63,
          63,
          63,
          63,
          63,
          63,
          63,
          63,
          63,
          63,
          63,
          63,
          63.2,
          63.2,
          63.2,
          63.5,
          63.5,
          63.5,
          63.5,
          63.5,
          63.5,
          63.5,
          63.5,
          63.5,
          63.5,
          63.5,
          63.5,
          63.5,
          63.5,
          63.5,
          63.5,
          63.5,
          63.5,
          63.5,
          63.5,
          63.5,
          63.5,
          63.5,
          63.5,
          63.7,
          63.7,
          63.7,
          63.7,
          63.7,
          64,
          64,
          64,
          64,
          64,
          64,
          64,
          64,
          64,
          64,
          64,
          64,
          64,
          64,
          64,
          64,
          64,
          64,
          64,
          64,
          64,
          64,
          64,
          64,
          64,
          64,
          64,
          64,
          64,
          64,
          64,
          64,
          64,
          64,
          64,
          64,
          64,
          64,
          64,
          64,
          64,
          64,
          64,
          64,
          64,
          64.2,
          64.5,
          64.5,
          64.5,
          64.5,
          64.5,
          64.5,
          64.5,
          64.5,
          64.5,
          64.5,
          64.5,
          64.5,
          64.5,
          64.5,
          64.5,
          64.5,
          64.5,
          64.5,
          64.5,
          64.5,
          64.5,
          64.5,
          64.5,
          64.5,
          64.5,
          64.5,
          64.5,
          64.7,
          64.7,
          64.7,
          65,
          65,
          65,
          65,
          65,
          65,
          65,
          65,
          65,
          65,
          65,
          65,
          65,
          65,
          65,
          65,
          65,
          65,
          65,
          65,
          65,
          65,
          65,
          65,
          65,
          65,
          65,
          65,
          65,
          65,
          65,
          65,
          65,
          65,
          65,
          65,
          65,
          65,
          65,
          65,
          65,
          65,
          65,
          65,
          65,
          65,
          65,
          65,
          65,
          65,
          65,
          65,
          65,
          65,
          65,
          65,
          65,
          65,
          65,
          65,
          65,
          65,
          65,
          65.2,
          65.2,
          65.2,
          65.2,
          65.2,
          65.5,
          65.5,
          65.5,
          65.5,
          65.5,
          65.5,
          65.5,
          65.5,
          65.5,
          65.5,
          65.5,
          65.5,
          65.5,
          65.5,
          65.5,
          65.5,
          65.5,
          65.5,
          65.5,
          65.5,
          65.5,
          65.5,
          65.5,
          65.5,
          65.5,
          65.5,
          65.5,
          65.5,
          65.5,
          65.5,
          65.5,
          65.5,
          65.7,
          65.7,
          65.7,
          66,
          66,
          66,
          66,
          66,
          66,
          66,
          66,
          66,
          66,
          66,
          66,
          66,
          66,
          66,
          66,
          66,
          66,
          66,
          66,
          66,
          66,
          66,
          66,
          66,
          66,
          66,
          66,
          66,
          66,
          66,
          66,
          66,
          66,
          66,
          66,
          66,
          66,
          66,
          66,
          66,
          66,
          66,
          66,
          66,
          66,
          66,
          66,
          66,
          66,
          66,
          66,
          66,
          66,
          66,
          66,
          66,
          66,
          66,
          66.2,
          66.5,
          66.5,
          66.5,
          66.5,
          66.5,
          66.5,
          66.5,
          66.5,
          66.5,
          66.5,
          66.5,
          66.5,
          66.5,
          66.5,
          66.5,
          66.5,
          66.5,
          66.5,
          66.5,
          66.5,
          66.5,
          66.5,
          66.7,
          66.7,
          66.7,
          66.7,
          67,
          67,
          67,
          67,
          67,
          67,
          67,
          67,
          67,
          67,
          67,
          67,
          67,
          67,
          67,
          67,
          67,
          67,
          67,
          67,
          67,
          67,
          67,
          67,
          67,
          67,
          67,
          67,
          67,
          67,
          67,
          67,
          67,
          67,
          67,
          67,
          67,
          67,
          67,
          67,
          67,
          67,
          67,
          67,
          67,
          67,
          67,
          67,
          67,
          67,
          67,
          67,
          67.2,
          67.2,
          67.2,
          67.5,
          67.5,
          67.5,
          67.5,
          67.5,
          67.5,
          67.5,
          67.5,
          67.5,
          67.5,
          67.5,
          67.5,
          67.5,
          67.5,
          67.7,
          67.7,
          67.7,
          67.7,
          67.7,
          67.8,
          68,
          68,
          68,
          68,
          68,
          68,
          68,
          68,
          68,
          68,
          68,
          68,
          68,
          68,
          68,
          68,
          68,
          68,
          68,
          68,
          68,
          68,
          68,
          68,
          68,
          68,
          68,
          68,
          68,
          68,
          68,
          68,
          68,
          68,
          68,
          68,
          68,
          68,
          68,
          68,
          68,
          68,
          68,
          68,
          68,
          68,
          68,
          68,
          68,
          68,
          68,
          68,
          68,
          68,
          68,
          68,
          68,
          68.2,
          68.5,
          68.5,
          68.5,
          68.5,
          68.5,
          68.5,
          68.5,
          68.5,
          68.5,
          68.5,
          68.5,
          68.5,
          68.5,
          68.5,
          68.5,
          68.5,
          68.5,
          68.5,
          68.5,
          68.5,
          68.5,
          68.5,
          68.7,
          68.7,
          68.7,
          68.7,
          68.7,
          68.7,
          69,
          69,
          69,
          69,
          69,
          69,
          69,
          69,
          69,
          69,
          69,
          69,
          69,
          69,
          69,
          69,
          69,
          69,
          69,
          69,
          69,
          69,
          69,
          69,
          69,
          69,
          69,
          69,
          69,
          69,
          69,
          69,
          69,
          69,
          69,
          69,
          69,
          69,
          69,
          69,
          69,
          69,
          69,
          69,
          69,
          69.2,
          69.2,
          69.2,
          69.2,
          69.2,
          69.2,
          69.2,
          69.5,
          69.5,
          69.5,
          69.5,
          69.5,
          69.5,
          69.5,
          69.5,
          69.5,
          69.5,
          69.7,
          69.7,
          69.7,
          70,
          70,
          70,
          70,
          70,
          70,
          70,
          70,
          70,
          70,
          70,
          70,
          70,
          70,
          70,
          70,
          70,
          70,
          70,
          70,
          70,
          70,
          70,
          70,
          70,
          70,
          70,
          70,
          70,
          70,
          70,
          70,
          70,
          70,
          70,
          70,
          70,
          70,
          70,
          70,
          70,
          70,
          70,
          70,
          70,
          70,
          70,
          70,
          70,
          70,
          70,
          70,
          70,
          70,
          70,
          70,
          70.2,
          70.2,
          70.2,
          70.2,
          70.5,
          70.5,
          70.5,
          70.5,
          70.5,
          70.5,
          70.5,
          70.5,
          70.5,
          70.5,
          70.5,
          70.5,
          70.5,
          70.5,
          70.5,
          70.5,
          70.5,
          70.5,
          70.5,
          70.5,
          70.5,
          70.5,
          70.5,
          70.5,
          70.5,
          70.5,
          70.5,
          70.5,
          70.7,
          70.7,
          70.7,
          70.7,
          70.7,
          71,
          71,
          71,
          71,
          71,
          71,
          71,
          71,
          71,
          71,
          71,
          71,
          71,
          71,
          71,
          71,
          71,
          71,
          71,
          71,
          71,
          71,
          71,
          71,
          71,
          71,
          71,
          71,
          71,
          71,
          71,
          71,
          71,
          71,
          71,
          71,
          71,
          71,
          71,
          71.2,
          71.2,
          71.2,
          71.2,
          71.5,
          71.5,
          71.5,
          71.5,
          71.5,
          71.5,
          71.5,
          71.5,
          71.5,
          71.5,
          71.7,
          71.7,
          71.7,
          72,
          72,
          72,
          72,
          72,
          72,
          72,
          72,
          72,
          72,
          72,
          72,
          72,
          72,
          72,
          72,
          72,
          72,
          72,
          72,
          72,
          72,
          72,
          72,
          72,
          72,
          72,
          72,
          72,
          72,
          72,
          72,
          72,
          72,
          72.5,
          72.5,
          72.5,
          72.7,
          72.7,
          72.7,
          73,
          73,
          73,
          73,
          73,
          73,
          73,
          73,
          73,
          73,
          73,
          73,
          73,
          73,
          73,
          73,
          73,
          73,
          73,
          73,
          73,
          73,
          73.2,
          73.2,
          73.2,
          73.5,
          73.5,
          74,
          74,
          74,
          74,
          74,
          74,
          74,
          74.2,
          75,
          75,
          75,
          75,
          76,
          76.5,
          78,
          79
         ],
         "xaxis": "x",
         "y": [
          67.47003972394256,
          67.63165747657416,
          67.63165747657416,
          67.71246635288996,
          67.79327522920576,
          67.95489298183735,
          68.11651073446895,
          68.11651073446895,
          68.11651073446895,
          68.11651073446895,
          68.11651073446895,
          68.11651073446895,
          68.11651073446895,
          68.11651073446895,
          68.11651073446895,
          68.11651073446895,
          68.11651073446895,
          68.11651073446895,
          68.11651073446895,
          68.11651073446895,
          68.11651073446895,
          68.11651073446895,
          68.11651073446895,
          68.11651073446895,
          68.11651073446895,
          68.1326725097321,
          68.19731961078475,
          68.19731961078475,
          68.19731961078475,
          68.19731961078475,
          68.19731961078475,
          68.27812848710053,
          68.27812848710053,
          68.27812848710053,
          68.27812848710053,
          68.27812848710053,
          68.27812848710053,
          68.27812848710053,
          68.27812848710053,
          68.27812848710053,
          68.27812848710053,
          68.27812848710053,
          68.27812848710053,
          68.27812848710053,
          68.27812848710053,
          68.27812848710053,
          68.27812848710053,
          68.27812848710053,
          68.27812848710053,
          68.27812848710053,
          68.31045203762686,
          68.35893736341633,
          68.35893736341633,
          68.35893736341633,
          68.35893736341633,
          68.35893736341633,
          68.35893736341633,
          68.35893736341633,
          68.39126091394266,
          68.39126091394266,
          68.39126091394266,
          68.43974623973213,
          68.43974623973213,
          68.43974623973213,
          68.43974623973213,
          68.43974623973213,
          68.43974623973213,
          68.43974623973213,
          68.43974623973213,
          68.43974623973213,
          68.43974623973213,
          68.43974623973213,
          68.43974623973213,
          68.43974623973213,
          68.43974623973213,
          68.43974623973213,
          68.43974623973213,
          68.43974623973213,
          68.43974623973213,
          68.43974623973213,
          68.43974623973213,
          68.43974623973213,
          68.43974623973213,
          68.43974623973213,
          68.43974623973213,
          68.43974623973213,
          68.43974623973213,
          68.43974623973213,
          68.43974623973213,
          68.43974623973213,
          68.43974623973213,
          68.43974623973213,
          68.43974623973213,
          68.43974623973213,
          68.43974623973213,
          68.43974623973213,
          68.43974623973213,
          68.43974623973213,
          68.43974623973213,
          68.43974623973213,
          68.43974623973213,
          68.43974623973213,
          68.43974623973213,
          68.47206979025844,
          68.4882315655216,
          68.52055511604793,
          68.52055511604793,
          68.52055511604793,
          68.52055511604793,
          68.52055511604793,
          68.52055511604793,
          68.52055511604793,
          68.52055511604793,
          68.52055511604793,
          68.52055511604793,
          68.52055511604793,
          68.52055511604793,
          68.52055511604793,
          68.52055511604793,
          68.52055511604793,
          68.52055511604793,
          68.52055511604793,
          68.52055511604793,
          68.52055511604793,
          68.52055511604793,
          68.52055511604793,
          68.52055511604793,
          68.52055511604793,
          68.52055511604793,
          68.55287866657424,
          68.55287866657424,
          68.60136399236373,
          68.60136399236373,
          68.60136399236373,
          68.60136399236373,
          68.60136399236373,
          68.60136399236373,
          68.60136399236373,
          68.60136399236373,
          68.60136399236373,
          68.60136399236373,
          68.60136399236373,
          68.60136399236373,
          68.60136399236373,
          68.60136399236373,
          68.60136399236373,
          68.60136399236373,
          68.60136399236373,
          68.60136399236373,
          68.60136399236373,
          68.60136399236373,
          68.60136399236373,
          68.60136399236373,
          68.60136399236373,
          68.60136399236373,
          68.60136399236373,
          68.60136399236373,
          68.60136399236373,
          68.60136399236373,
          68.60136399236373,
          68.60136399236373,
          68.60136399236373,
          68.60136399236373,
          68.60136399236373,
          68.60136399236373,
          68.60136399236373,
          68.60136399236373,
          68.60136399236373,
          68.60136399236373,
          68.60136399236373,
          68.60136399236373,
          68.60136399236373,
          68.60136399236373,
          68.60136399236373,
          68.60136399236373,
          68.60136399236373,
          68.60136399236373,
          68.60136399236373,
          68.60136399236373,
          68.63368754289004,
          68.63368754289004,
          68.63368754289004,
          68.68217286867952,
          68.68217286867952,
          68.68217286867952,
          68.68217286867952,
          68.68217286867952,
          68.68217286867952,
          68.68217286867952,
          68.68217286867952,
          68.68217286867952,
          68.68217286867952,
          68.68217286867952,
          68.68217286867952,
          68.68217286867952,
          68.68217286867952,
          68.68217286867952,
          68.68217286867952,
          68.68217286867952,
          68.68217286867952,
          68.68217286867952,
          68.68217286867952,
          68.68217286867952,
          68.68217286867952,
          68.68217286867952,
          68.68217286867952,
          68.71449641920584,
          68.71449641920584,
          68.71449641920584,
          68.71449641920584,
          68.71449641920584,
          68.76298174499532,
          68.76298174499532,
          68.76298174499532,
          68.76298174499532,
          68.76298174499532,
          68.76298174499532,
          68.76298174499532,
          68.76298174499532,
          68.76298174499532,
          68.76298174499532,
          68.76298174499532,
          68.76298174499532,
          68.76298174499532,
          68.76298174499532,
          68.76298174499532,
          68.76298174499532,
          68.76298174499532,
          68.76298174499532,
          68.76298174499532,
          68.76298174499532,
          68.76298174499532,
          68.76298174499532,
          68.76298174499532,
          68.76298174499532,
          68.76298174499532,
          68.76298174499532,
          68.76298174499532,
          68.76298174499532,
          68.76298174499532,
          68.76298174499532,
          68.76298174499532,
          68.76298174499532,
          68.76298174499532,
          68.76298174499532,
          68.76298174499532,
          68.76298174499532,
          68.76298174499532,
          68.76298174499532,
          68.76298174499532,
          68.76298174499532,
          68.76298174499532,
          68.76298174499532,
          68.76298174499532,
          68.76298174499532,
          68.76298174499532,
          68.79530529552164,
          68.84379062131111,
          68.84379062131111,
          68.84379062131111,
          68.84379062131111,
          68.84379062131111,
          68.84379062131111,
          68.84379062131111,
          68.84379062131111,
          68.84379062131111,
          68.84379062131111,
          68.84379062131111,
          68.84379062131111,
          68.84379062131111,
          68.84379062131111,
          68.84379062131111,
          68.84379062131111,
          68.84379062131111,
          68.84379062131111,
          68.84379062131111,
          68.84379062131111,
          68.84379062131111,
          68.84379062131111,
          68.84379062131111,
          68.84379062131111,
          68.84379062131111,
          68.84379062131111,
          68.84379062131111,
          68.87611417183743,
          68.87611417183743,
          68.87611417183743,
          68.92459949762691,
          68.92459949762691,
          68.92459949762691,
          68.92459949762691,
          68.92459949762691,
          68.92459949762691,
          68.92459949762691,
          68.92459949762691,
          68.92459949762691,
          68.92459949762691,
          68.92459949762691,
          68.92459949762691,
          68.92459949762691,
          68.92459949762691,
          68.92459949762691,
          68.92459949762691,
          68.92459949762691,
          68.92459949762691,
          68.92459949762691,
          68.92459949762691,
          68.92459949762691,
          68.92459949762691,
          68.92459949762691,
          68.92459949762691,
          68.92459949762691,
          68.92459949762691,
          68.92459949762691,
          68.92459949762691,
          68.92459949762691,
          68.92459949762691,
          68.92459949762691,
          68.92459949762691,
          68.92459949762691,
          68.92459949762691,
          68.92459949762691,
          68.92459949762691,
          68.92459949762691,
          68.92459949762691,
          68.92459949762691,
          68.92459949762691,
          68.92459949762691,
          68.92459949762691,
          68.92459949762691,
          68.92459949762691,
          68.92459949762691,
          68.92459949762691,
          68.92459949762691,
          68.92459949762691,
          68.92459949762691,
          68.92459949762691,
          68.92459949762691,
          68.92459949762691,
          68.92459949762691,
          68.92459949762691,
          68.92459949762691,
          68.92459949762691,
          68.92459949762691,
          68.92459949762691,
          68.92459949762691,
          68.92459949762691,
          68.92459949762691,
          68.92459949762691,
          68.92459949762691,
          68.95692304815323,
          68.95692304815323,
          68.95692304815323,
          68.95692304815323,
          68.95692304815323,
          69.00540837394271,
          69.00540837394271,
          69.00540837394271,
          69.00540837394271,
          69.00540837394271,
          69.00540837394271,
          69.00540837394271,
          69.00540837394271,
          69.00540837394271,
          69.00540837394271,
          69.00540837394271,
          69.00540837394271,
          69.00540837394271,
          69.00540837394271,
          69.00540837394271,
          69.00540837394271,
          69.00540837394271,
          69.00540837394271,
          69.00540837394271,
          69.00540837394271,
          69.00540837394271,
          69.00540837394271,
          69.00540837394271,
          69.00540837394271,
          69.00540837394271,
          69.00540837394271,
          69.00540837394271,
          69.00540837394271,
          69.00540837394271,
          69.00540837394271,
          69.00540837394271,
          69.00540837394271,
          69.03773192446903,
          69.03773192446903,
          69.03773192446903,
          69.0862172502585,
          69.0862172502585,
          69.0862172502585,
          69.0862172502585,
          69.0862172502585,
          69.0862172502585,
          69.0862172502585,
          69.0862172502585,
          69.0862172502585,
          69.0862172502585,
          69.0862172502585,
          69.0862172502585,
          69.0862172502585,
          69.0862172502585,
          69.0862172502585,
          69.0862172502585,
          69.0862172502585,
          69.0862172502585,
          69.0862172502585,
          69.0862172502585,
          69.0862172502585,
          69.0862172502585,
          69.0862172502585,
          69.0862172502585,
          69.0862172502585,
          69.0862172502585,
          69.0862172502585,
          69.0862172502585,
          69.0862172502585,
          69.0862172502585,
          69.0862172502585,
          69.0862172502585,
          69.0862172502585,
          69.0862172502585,
          69.0862172502585,
          69.0862172502585,
          69.0862172502585,
          69.0862172502585,
          69.0862172502585,
          69.0862172502585,
          69.0862172502585,
          69.0862172502585,
          69.0862172502585,
          69.0862172502585,
          69.0862172502585,
          69.0862172502585,
          69.0862172502585,
          69.0862172502585,
          69.0862172502585,
          69.0862172502585,
          69.0862172502585,
          69.0862172502585,
          69.0862172502585,
          69.0862172502585,
          69.0862172502585,
          69.0862172502585,
          69.0862172502585,
          69.0862172502585,
          69.0862172502585,
          69.11854080078483,
          69.1670261265743,
          69.1670261265743,
          69.1670261265743,
          69.1670261265743,
          69.1670261265743,
          69.1670261265743,
          69.1670261265743,
          69.1670261265743,
          69.1670261265743,
          69.1670261265743,
          69.1670261265743,
          69.1670261265743,
          69.1670261265743,
          69.1670261265743,
          69.1670261265743,
          69.1670261265743,
          69.1670261265743,
          69.1670261265743,
          69.1670261265743,
          69.1670261265743,
          69.1670261265743,
          69.1670261265743,
          69.19934967710063,
          69.19934967710063,
          69.19934967710063,
          69.19934967710063,
          69.2478350028901,
          69.2478350028901,
          69.2478350028901,
          69.2478350028901,
          69.2478350028901,
          69.2478350028901,
          69.2478350028901,
          69.2478350028901,
          69.2478350028901,
          69.2478350028901,
          69.2478350028901,
          69.2478350028901,
          69.2478350028901,
          69.2478350028901,
          69.2478350028901,
          69.2478350028901,
          69.2478350028901,
          69.2478350028901,
          69.2478350028901,
          69.2478350028901,
          69.2478350028901,
          69.2478350028901,
          69.2478350028901,
          69.2478350028901,
          69.2478350028901,
          69.2478350028901,
          69.2478350028901,
          69.2478350028901,
          69.2478350028901,
          69.2478350028901,
          69.2478350028901,
          69.2478350028901,
          69.2478350028901,
          69.2478350028901,
          69.2478350028901,
          69.2478350028901,
          69.2478350028901,
          69.2478350028901,
          69.2478350028901,
          69.2478350028901,
          69.2478350028901,
          69.2478350028901,
          69.2478350028901,
          69.2478350028901,
          69.2478350028901,
          69.2478350028901,
          69.2478350028901,
          69.2478350028901,
          69.2478350028901,
          69.2478350028901,
          69.2478350028901,
          69.2478350028901,
          69.28015855341641,
          69.28015855341641,
          69.28015855341641,
          69.3286438792059,
          69.3286438792059,
          69.3286438792059,
          69.3286438792059,
          69.3286438792059,
          69.3286438792059,
          69.3286438792059,
          69.3286438792059,
          69.3286438792059,
          69.3286438792059,
          69.3286438792059,
          69.3286438792059,
          69.3286438792059,
          69.3286438792059,
          69.36096742973221,
          69.36096742973221,
          69.36096742973221,
          69.36096742973221,
          69.36096742973221,
          69.37712920499537,
          69.4094527555217,
          69.4094527555217,
          69.4094527555217,
          69.4094527555217,
          69.4094527555217,
          69.4094527555217,
          69.4094527555217,
          69.4094527555217,
          69.4094527555217,
          69.4094527555217,
          69.4094527555217,
          69.4094527555217,
          69.4094527555217,
          69.4094527555217,
          69.4094527555217,
          69.4094527555217,
          69.4094527555217,
          69.4094527555217,
          69.4094527555217,
          69.4094527555217,
          69.4094527555217,
          69.4094527555217,
          69.4094527555217,
          69.4094527555217,
          69.4094527555217,
          69.4094527555217,
          69.4094527555217,
          69.4094527555217,
          69.4094527555217,
          69.4094527555217,
          69.4094527555217,
          69.4094527555217,
          69.4094527555217,
          69.4094527555217,
          69.4094527555217,
          69.4094527555217,
          69.4094527555217,
          69.4094527555217,
          69.4094527555217,
          69.4094527555217,
          69.4094527555217,
          69.4094527555217,
          69.4094527555217,
          69.4094527555217,
          69.4094527555217,
          69.4094527555217,
          69.4094527555217,
          69.4094527555217,
          69.4094527555217,
          69.4094527555217,
          69.4094527555217,
          69.4094527555217,
          69.4094527555217,
          69.4094527555217,
          69.4094527555217,
          69.4094527555217,
          69.4094527555217,
          69.44177630604801,
          69.4902616318375,
          69.4902616318375,
          69.4902616318375,
          69.4902616318375,
          69.4902616318375,
          69.4902616318375,
          69.4902616318375,
          69.4902616318375,
          69.4902616318375,
          69.4902616318375,
          69.4902616318375,
          69.4902616318375,
          69.4902616318375,
          69.4902616318375,
          69.4902616318375,
          69.4902616318375,
          69.4902616318375,
          69.4902616318375,
          69.4902616318375,
          69.4902616318375,
          69.4902616318375,
          69.4902616318375,
          69.52258518236381,
          69.52258518236381,
          69.52258518236381,
          69.52258518236381,
          69.52258518236381,
          69.52258518236381,
          69.57107050815328,
          69.57107050815328,
          69.57107050815328,
          69.57107050815328,
          69.57107050815328,
          69.57107050815328,
          69.57107050815328,
          69.57107050815328,
          69.57107050815328,
          69.57107050815328,
          69.57107050815328,
          69.57107050815328,
          69.57107050815328,
          69.57107050815328,
          69.57107050815328,
          69.57107050815328,
          69.57107050815328,
          69.57107050815328,
          69.57107050815328,
          69.57107050815328,
          69.57107050815328,
          69.57107050815328,
          69.57107050815328,
          69.57107050815328,
          69.57107050815328,
          69.57107050815328,
          69.57107050815328,
          69.57107050815328,
          69.57107050815328,
          69.57107050815328,
          69.57107050815328,
          69.57107050815328,
          69.57107050815328,
          69.57107050815328,
          69.57107050815328,
          69.57107050815328,
          69.57107050815328,
          69.57107050815328,
          69.57107050815328,
          69.57107050815328,
          69.57107050815328,
          69.57107050815328,
          69.57107050815328,
          69.57107050815328,
          69.57107050815328,
          69.60339405867961,
          69.60339405867961,
          69.60339405867961,
          69.60339405867961,
          69.60339405867961,
          69.60339405867961,
          69.60339405867961,
          69.65187938446908,
          69.65187938446908,
          69.65187938446908,
          69.65187938446908,
          69.65187938446908,
          69.65187938446908,
          69.65187938446908,
          69.65187938446908,
          69.65187938446908,
          69.65187938446908,
          69.68420293499541,
          69.68420293499541,
          69.68420293499541,
          69.73268826078488,
          69.73268826078488,
          69.73268826078488,
          69.73268826078488,
          69.73268826078488,
          69.73268826078488,
          69.73268826078488,
          69.73268826078488,
          69.73268826078488,
          69.73268826078488,
          69.73268826078488,
          69.73268826078488,
          69.73268826078488,
          69.73268826078488,
          69.73268826078488,
          69.73268826078488,
          69.73268826078488,
          69.73268826078488,
          69.73268826078488,
          69.73268826078488,
          69.73268826078488,
          69.73268826078488,
          69.73268826078488,
          69.73268826078488,
          69.73268826078488,
          69.73268826078488,
          69.73268826078488,
          69.73268826078488,
          69.73268826078488,
          69.73268826078488,
          69.73268826078488,
          69.73268826078488,
          69.73268826078488,
          69.73268826078488,
          69.73268826078488,
          69.73268826078488,
          69.73268826078488,
          69.73268826078488,
          69.73268826078488,
          69.73268826078488,
          69.73268826078488,
          69.73268826078488,
          69.73268826078488,
          69.73268826078488,
          69.73268826078488,
          69.73268826078488,
          69.73268826078488,
          69.73268826078488,
          69.73268826078488,
          69.73268826078488,
          69.73268826078488,
          69.73268826078488,
          69.73268826078488,
          69.73268826078488,
          69.73268826078488,
          69.73268826078488,
          69.7650118113112,
          69.7650118113112,
          69.7650118113112,
          69.7650118113112,
          69.81349713710068,
          69.81349713710068,
          69.81349713710068,
          69.81349713710068,
          69.81349713710068,
          69.81349713710068,
          69.81349713710068,
          69.81349713710068,
          69.81349713710068,
          69.81349713710068,
          69.81349713710068,
          69.81349713710068,
          69.81349713710068,
          69.81349713710068,
          69.81349713710068,
          69.81349713710068,
          69.81349713710068,
          69.81349713710068,
          69.81349713710068,
          69.81349713710068,
          69.81349713710068,
          69.81349713710068,
          69.81349713710068,
          69.81349713710068,
          69.81349713710068,
          69.81349713710068,
          69.81349713710068,
          69.81349713710068,
          69.845820687627,
          69.845820687627,
          69.845820687627,
          69.845820687627,
          69.845820687627,
          69.89430601341648,
          69.89430601341648,
          69.89430601341648,
          69.89430601341648,
          69.89430601341648,
          69.89430601341648,
          69.89430601341648,
          69.89430601341648,
          69.89430601341648,
          69.89430601341648,
          69.89430601341648,
          69.89430601341648,
          69.89430601341648,
          69.89430601341648,
          69.89430601341648,
          69.89430601341648,
          69.89430601341648,
          69.89430601341648,
          69.89430601341648,
          69.89430601341648,
          69.89430601341648,
          69.89430601341648,
          69.89430601341648,
          69.89430601341648,
          69.89430601341648,
          69.89430601341648,
          69.89430601341648,
          69.89430601341648,
          69.89430601341648,
          69.89430601341648,
          69.89430601341648,
          69.89430601341648,
          69.89430601341648,
          69.89430601341648,
          69.89430601341648,
          69.89430601341648,
          69.89430601341648,
          69.89430601341648,
          69.89430601341648,
          69.9266295639428,
          69.9266295639428,
          69.9266295639428,
          69.9266295639428,
          69.97511488973228,
          69.97511488973228,
          69.97511488973228,
          69.97511488973228,
          69.97511488973228,
          69.97511488973228,
          69.97511488973228,
          69.97511488973228,
          69.97511488973228,
          69.97511488973228,
          70.0074384402586,
          70.0074384402586,
          70.0074384402586,
          70.05592376604807,
          70.05592376604807,
          70.05592376604807,
          70.05592376604807,
          70.05592376604807,
          70.05592376604807,
          70.05592376604807,
          70.05592376604807,
          70.05592376604807,
          70.05592376604807,
          70.05592376604807,
          70.05592376604807,
          70.05592376604807,
          70.05592376604807,
          70.05592376604807,
          70.05592376604807,
          70.05592376604807,
          70.05592376604807,
          70.05592376604807,
          70.05592376604807,
          70.05592376604807,
          70.05592376604807,
          70.05592376604807,
          70.05592376604807,
          70.05592376604807,
          70.05592376604807,
          70.05592376604807,
          70.05592376604807,
          70.05592376604807,
          70.05592376604807,
          70.05592376604807,
          70.05592376604807,
          70.05592376604807,
          70.05592376604807,
          70.13673264236387,
          70.13673264236387,
          70.13673264236387,
          70.1690561928902,
          70.1690561928902,
          70.1690561928902,
          70.21754151867967,
          70.21754151867967,
          70.21754151867967,
          70.21754151867967,
          70.21754151867967,
          70.21754151867967,
          70.21754151867967,
          70.21754151867967,
          70.21754151867967,
          70.21754151867967,
          70.21754151867967,
          70.21754151867967,
          70.21754151867967,
          70.21754151867967,
          70.21754151867967,
          70.21754151867967,
          70.21754151867967,
          70.21754151867967,
          70.21754151867967,
          70.21754151867967,
          70.21754151867967,
          70.21754151867967,
          70.24986506920598,
          70.24986506920598,
          70.24986506920598,
          70.29835039499547,
          70.29835039499547,
          70.37915927131127,
          70.37915927131127,
          70.37915927131127,
          70.37915927131127,
          70.37915927131127,
          70.37915927131127,
          70.37915927131127,
          70.41148282183758,
          70.54077702394285,
          70.54077702394285,
          70.54077702394285,
          70.54077702394285,
          70.70239477657445,
          70.78320365289025,
          71.02563028183764,
          71.18724803446923
         ],
         "yaxis": "y"
        }
       ],
       "layout": {
        "annotations": [
         {
          "bgcolor": "white",
          "font": {
           "color": "black",
           "size": 12
          },
          "showarrow": false,
          "text": "Correlation: 0.32",
          "x": 0.05,
          "xref": "paper",
          "y": 0.95,
          "yref": "paper"
         }
        ],
        "legend": {
         "tracegroupgap": 0
        },
        "template": {
         "data": {
          "bar": [
           {
            "error_x": {
             "color": "#2a3f5f"
            },
            "error_y": {
             "color": "#2a3f5f"
            },
            "marker": {
             "line": {
              "color": "#E5ECF6",
              "width": 0.5
             },
             "pattern": {
              "fillmode": "overlay",
              "size": 10,
              "solidity": 0.2
             }
            },
            "type": "bar"
           }
          ],
          "barpolar": [
           {
            "marker": {
             "line": {
              "color": "#E5ECF6",
              "width": 0.5
             },
             "pattern": {
              "fillmode": "overlay",
              "size": 10,
              "solidity": 0.2
             }
            },
            "type": "barpolar"
           }
          ],
          "carpet": [
           {
            "aaxis": {
             "endlinecolor": "#2a3f5f",
             "gridcolor": "white",
             "linecolor": "white",
             "minorgridcolor": "white",
             "startlinecolor": "#2a3f5f"
            },
            "baxis": {
             "endlinecolor": "#2a3f5f",
             "gridcolor": "white",
             "linecolor": "white",
             "minorgridcolor": "white",
             "startlinecolor": "#2a3f5f"
            },
            "type": "carpet"
           }
          ],
          "choropleth": [
           {
            "colorbar": {
             "outlinewidth": 0,
             "ticks": ""
            },
            "type": "choropleth"
           }
          ],
          "contour": [
           {
            "colorbar": {
             "outlinewidth": 0,
             "ticks": ""
            },
            "colorscale": [
             [
              0,
              "#0d0887"
             ],
             [
              0.1111111111111111,
              "#46039f"
             ],
             [
              0.2222222222222222,
              "#7201a8"
             ],
             [
              0.3333333333333333,
              "#9c179e"
             ],
             [
              0.4444444444444444,
              "#bd3786"
             ],
             [
              0.5555555555555556,
              "#d8576b"
             ],
             [
              0.6666666666666666,
              "#ed7953"
             ],
             [
              0.7777777777777778,
              "#fb9f3a"
             ],
             [
              0.8888888888888888,
              "#fdca26"
             ],
             [
              1,
              "#f0f921"
             ]
            ],
            "type": "contour"
           }
          ],
          "contourcarpet": [
           {
            "colorbar": {
             "outlinewidth": 0,
             "ticks": ""
            },
            "type": "contourcarpet"
           }
          ],
          "heatmap": [
           {
            "colorbar": {
             "outlinewidth": 0,
             "ticks": ""
            },
            "colorscale": [
             [
              0,
              "#0d0887"
             ],
             [
              0.1111111111111111,
              "#46039f"
             ],
             [
              0.2222222222222222,
              "#7201a8"
             ],
             [
              0.3333333333333333,
              "#9c179e"
             ],
             [
              0.4444444444444444,
              "#bd3786"
             ],
             [
              0.5555555555555556,
              "#d8576b"
             ],
             [
              0.6666666666666666,
              "#ed7953"
             ],
             [
              0.7777777777777778,
              "#fb9f3a"
             ],
             [
              0.8888888888888888,
              "#fdca26"
             ],
             [
              1,
              "#f0f921"
             ]
            ],
            "type": "heatmap"
           }
          ],
          "heatmapgl": [
           {
            "colorbar": {
             "outlinewidth": 0,
             "ticks": ""
            },
            "colorscale": [
             [
              0,
              "#0d0887"
             ],
             [
              0.1111111111111111,
              "#46039f"
             ],
             [
              0.2222222222222222,
              "#7201a8"
             ],
             [
              0.3333333333333333,
              "#9c179e"
             ],
             [
              0.4444444444444444,
              "#bd3786"
             ],
             [
              0.5555555555555556,
              "#d8576b"
             ],
             [
              0.6666666666666666,
              "#ed7953"
             ],
             [
              0.7777777777777778,
              "#fb9f3a"
             ],
             [
              0.8888888888888888,
              "#fdca26"
             ],
             [
              1,
              "#f0f921"
             ]
            ],
            "type": "heatmapgl"
           }
          ],
          "histogram": [
           {
            "marker": {
             "pattern": {
              "fillmode": "overlay",
              "size": 10,
              "solidity": 0.2
             }
            },
            "type": "histogram"
           }
          ],
          "histogram2d": [
           {
            "colorbar": {
             "outlinewidth": 0,
             "ticks": ""
            },
            "colorscale": [
             [
              0,
              "#0d0887"
             ],
             [
              0.1111111111111111,
              "#46039f"
             ],
             [
              0.2222222222222222,
              "#7201a8"
             ],
             [
              0.3333333333333333,
              "#9c179e"
             ],
             [
              0.4444444444444444,
              "#bd3786"
             ],
             [
              0.5555555555555556,
              "#d8576b"
             ],
             [
              0.6666666666666666,
              "#ed7953"
             ],
             [
              0.7777777777777778,
              "#fb9f3a"
             ],
             [
              0.8888888888888888,
              "#fdca26"
             ],
             [
              1,
              "#f0f921"
             ]
            ],
            "type": "histogram2d"
           }
          ],
          "histogram2dcontour": [
           {
            "colorbar": {
             "outlinewidth": 0,
             "ticks": ""
            },
            "colorscale": [
             [
              0,
              "#0d0887"
             ],
             [
              0.1111111111111111,
              "#46039f"
             ],
             [
              0.2222222222222222,
              "#7201a8"
             ],
             [
              0.3333333333333333,
              "#9c179e"
             ],
             [
              0.4444444444444444,
              "#bd3786"
             ],
             [
              0.5555555555555556,
              "#d8576b"
             ],
             [
              0.6666666666666666,
              "#ed7953"
             ],
             [
              0.7777777777777778,
              "#fb9f3a"
             ],
             [
              0.8888888888888888,
              "#fdca26"
             ],
             [
              1,
              "#f0f921"
             ]
            ],
            "type": "histogram2dcontour"
           }
          ],
          "mesh3d": [
           {
            "colorbar": {
             "outlinewidth": 0,
             "ticks": ""
            },
            "type": "mesh3d"
           }
          ],
          "parcoords": [
           {
            "line": {
             "colorbar": {
              "outlinewidth": 0,
              "ticks": ""
             }
            },
            "type": "parcoords"
           }
          ],
          "pie": [
           {
            "automargin": true,
            "type": "pie"
           }
          ],
          "scatter": [
           {
            "fillpattern": {
             "fillmode": "overlay",
             "size": 10,
             "solidity": 0.2
            },
            "type": "scatter"
           }
          ],
          "scatter3d": [
           {
            "line": {
             "colorbar": {
              "outlinewidth": 0,
              "ticks": ""
             }
            },
            "marker": {
             "colorbar": {
              "outlinewidth": 0,
              "ticks": ""
             }
            },
            "type": "scatter3d"
           }
          ],
          "scattercarpet": [
           {
            "marker": {
             "colorbar": {
              "outlinewidth": 0,
              "ticks": ""
             }
            },
            "type": "scattercarpet"
           }
          ],
          "scattergeo": [
           {
            "marker": {
             "colorbar": {
              "outlinewidth": 0,
              "ticks": ""
             }
            },
            "type": "scattergeo"
           }
          ],
          "scattergl": [
           {
            "marker": {
             "colorbar": {
              "outlinewidth": 0,
              "ticks": ""
             }
            },
            "type": "scattergl"
           }
          ],
          "scattermapbox": [
           {
            "marker": {
             "colorbar": {
              "outlinewidth": 0,
              "ticks": ""
             }
            },
            "type": "scattermapbox"
           }
          ],
          "scatterpolar": [
           {
            "marker": {
             "colorbar": {
              "outlinewidth": 0,
              "ticks": ""
             }
            },
            "type": "scatterpolar"
           }
          ],
          "scatterpolargl": [
           {
            "marker": {
             "colorbar": {
              "outlinewidth": 0,
              "ticks": ""
             }
            },
            "type": "scatterpolargl"
           }
          ],
          "scatterternary": [
           {
            "marker": {
             "colorbar": {
              "outlinewidth": 0,
              "ticks": ""
             }
            },
            "type": "scatterternary"
           }
          ],
          "surface": [
           {
            "colorbar": {
             "outlinewidth": 0,
             "ticks": ""
            },
            "colorscale": [
             [
              0,
              "#0d0887"
             ],
             [
              0.1111111111111111,
              "#46039f"
             ],
             [
              0.2222222222222222,
              "#7201a8"
             ],
             [
              0.3333333333333333,
              "#9c179e"
             ],
             [
              0.4444444444444444,
              "#bd3786"
             ],
             [
              0.5555555555555556,
              "#d8576b"
             ],
             [
              0.6666666666666666,
              "#ed7953"
             ],
             [
              0.7777777777777778,
              "#fb9f3a"
             ],
             [
              0.8888888888888888,
              "#fdca26"
             ],
             [
              1,
              "#f0f921"
             ]
            ],
            "type": "surface"
           }
          ],
          "table": [
           {
            "cells": {
             "fill": {
              "color": "#EBF0F8"
             },
             "line": {
              "color": "white"
             }
            },
            "header": {
             "fill": {
              "color": "#C8D4E3"
             },
             "line": {
              "color": "white"
             }
            },
            "type": "table"
           }
          ]
         },
         "layout": {
          "annotationdefaults": {
           "arrowcolor": "#2a3f5f",
           "arrowhead": 0,
           "arrowwidth": 1
          },
          "autotypenumbers": "strict",
          "coloraxis": {
           "colorbar": {
            "outlinewidth": 0,
            "ticks": ""
           }
          },
          "colorscale": {
           "diverging": [
            [
             0,
             "#8e0152"
            ],
            [
             0.1,
             "#c51b7d"
            ],
            [
             0.2,
             "#de77ae"
            ],
            [
             0.3,
             "#f1b6da"
            ],
            [
             0.4,
             "#fde0ef"
            ],
            [
             0.5,
             "#f7f7f7"
            ],
            [
             0.6,
             "#e6f5d0"
            ],
            [
             0.7,
             "#b8e186"
            ],
            [
             0.8,
             "#7fbc41"
            ],
            [
             0.9,
             "#4d9221"
            ],
            [
             1,
             "#276419"
            ]
           ],
           "sequential": [
            [
             0,
             "#0d0887"
            ],
            [
             0.1111111111111111,
             "#46039f"
            ],
            [
             0.2222222222222222,
             "#7201a8"
            ],
            [
             0.3333333333333333,
             "#9c179e"
            ],
            [
             0.4444444444444444,
             "#bd3786"
            ],
            [
             0.5555555555555556,
             "#d8576b"
            ],
            [
             0.6666666666666666,
             "#ed7953"
            ],
            [
             0.7777777777777778,
             "#fb9f3a"
            ],
            [
             0.8888888888888888,
             "#fdca26"
            ],
            [
             1,
             "#f0f921"
            ]
           ],
           "sequentialminus": [
            [
             0,
             "#0d0887"
            ],
            [
             0.1111111111111111,
             "#46039f"
            ],
            [
             0.2222222222222222,
             "#7201a8"
            ],
            [
             0.3333333333333333,
             "#9c179e"
            ],
            [
             0.4444444444444444,
             "#bd3786"
            ],
            [
             0.5555555555555556,
             "#d8576b"
            ],
            [
             0.6666666666666666,
             "#ed7953"
            ],
            [
             0.7777777777777778,
             "#fb9f3a"
            ],
            [
             0.8888888888888888,
             "#fdca26"
            ],
            [
             1,
             "#f0f921"
            ]
           ]
          },
          "colorway": [
           "#636efa",
           "#EF553B",
           "#00cc96",
           "#ab63fa",
           "#FFA15A",
           "#19d3f3",
           "#FF6692",
           "#B6E880",
           "#FF97FF",
           "#FECB52"
          ],
          "font": {
           "color": "#2a3f5f"
          },
          "geo": {
           "bgcolor": "white",
           "lakecolor": "white",
           "landcolor": "#E5ECF6",
           "showlakes": true,
           "showland": true,
           "subunitcolor": "white"
          },
          "hoverlabel": {
           "align": "left"
          },
          "hovermode": "closest",
          "mapbox": {
           "style": "light"
          },
          "paper_bgcolor": "white",
          "plot_bgcolor": "#E5ECF6",
          "polar": {
           "angularaxis": {
            "gridcolor": "white",
            "linecolor": "white",
            "ticks": ""
           },
           "bgcolor": "#E5ECF6",
           "radialaxis": {
            "gridcolor": "white",
            "linecolor": "white",
            "ticks": ""
           }
          },
          "scene": {
           "xaxis": {
            "backgroundcolor": "#E5ECF6",
            "gridcolor": "white",
            "gridwidth": 2,
            "linecolor": "white",
            "showbackground": true,
            "ticks": "",
            "zerolinecolor": "white"
           },
           "yaxis": {
            "backgroundcolor": "#E5ECF6",
            "gridcolor": "white",
            "gridwidth": 2,
            "linecolor": "white",
            "showbackground": true,
            "ticks": "",
            "zerolinecolor": "white"
           },
           "zaxis": {
            "backgroundcolor": "#E5ECF6",
            "gridcolor": "white",
            "gridwidth": 2,
            "linecolor": "white",
            "showbackground": true,
            "ticks": "",
            "zerolinecolor": "white"
           }
          },
          "shapedefaults": {
           "line": {
            "color": "#2a3f5f"
           }
          },
          "ternary": {
           "aaxis": {
            "gridcolor": "white",
            "linecolor": "white",
            "ticks": ""
           },
           "baxis": {
            "gridcolor": "white",
            "linecolor": "white",
            "ticks": ""
           },
           "bgcolor": "#E5ECF6",
           "caxis": {
            "gridcolor": "white",
            "linecolor": "white",
            "ticks": ""
           }
          },
          "title": {
           "x": 0.05
          },
          "xaxis": {
           "automargin": true,
           "gridcolor": "white",
           "linecolor": "white",
           "ticks": "",
           "title": {
            "standoff": 15
           },
           "zerolinecolor": "white",
           "zerolinewidth": 2
          },
          "yaxis": {
           "automargin": true,
           "gridcolor": "white",
           "linecolor": "white",
           "ticks": "",
           "title": {
            "standoff": 15
           },
           "zerolinecolor": "white",
           "zerolinewidth": 2
          }
         }
        },
        "title": {
         "text": "Y vs x"
        },
        "xaxis": {
         "anchor": "y",
         "domain": [
          0,
          1
         ],
         "title": {
          "text": "x"
         }
        },
        "yaxis": {
         "anchor": "x",
         "domain": [
          0,
          1
         ],
         "title": {
          "text": "Y"
         }
        }
       }
      }
     },
     "metadata": {},
     "output_type": "display_data"
    }
   ],
   "source": [
    "import pandas as pd\n",
    "\n",
    "df = pd.DataFrame({'x': x, 'Y': Y})\n",
    "\n",
    "# Calculate the correlation\n",
    "correlation = np.corrcoef(df['x'], df['Y'])[0,1]\n",
    "\n",
    "fig = px.scatter(df, x='x', y='Y', \n",
    "                 trendline='ols',  # Add a linear trendline\n",
    "                 trendline_color_override='red',\n",
    "                 title='Y vs x')\n",
    "fig.update_traces(marker=dict(size=8, opacity=0.5))\n",
    "\n",
    "fig.add_annotation(text=f'Correlation: {correlation:.2f}', \n",
    "                   xref='paper', yref='paper', \n",
    "                   x=0.05, y=0.95, showarrow=False,\n",
    "                   font=dict(size=12, color='black'), bgcolor='white')\n",
    "fig.show()"
   ]
  },
  {
   "cell_type": "code",
   "execution_count": 6,
   "metadata": {},
   "outputs": [
    {
     "name": "stdout",
     "output_type": "stream",
     "text": [
      "[ 19.24895383   4.56869945  18.8836652   13.04022208   6.22155129\n",
      "   7.9233149   14.79969833   6.90887997  10.58269671  10.69181477\n",
      "  12.14552723  12.24259217  11.35679807  20.59732957  28.80547072\n",
      "  42.16440036   7.14850505   4.0094433   -1.60027534  21.60099825\n",
      "  12.03253824  24.96465069   0.11231456  26.38124994 -11.758542  ]\n"
     ]
    },
    {
     "data": {
      "text/plain": [
       "0      214.312851\n",
       "1      214.196084\n",
       "2      218.268900\n",
       "3      221.185858\n",
       "4      216.852921\n",
       "          ...    \n",
       "929    195.073233\n",
       "930    200.733323\n",
       "931    196.686054\n",
       "932    201.791069\n",
       "933    203.058473\n",
       "Name: midparentHeight, Length: 934, dtype: float64"
      ]
     },
     "execution_count": 6,
     "metadata": {},
     "output_type": "execute_result"
    }
   ],
   "source": [
    "from scipy import stats \n",
    "\n",
    "# Version 1\n",
    "n = 25\n",
    "# Arbitrarily define x and then genrate Y\n",
    "x = stats.uniform(10, 10).rvs(n)\n",
    "Y = 0 + x + stats.norm(loc=0, scale=10).rvs(size=n)\n",
    "print(Y)\n",
    "\n",
    "# Version 2\n",
    "n = 934\n",
    "# Arbitrarily define x and then genrate Y\n",
    "x = galton_data['midparentHeight']\n",
    "# x = stats.norm(loc=x.mean(), scale=x.std()).rvs(size=n)\n",
    "beta0 = galton_data['childHeight'].mean()\n",
    "beta1 = 2\n",
    "Y = beta0 + beta1*x + stats.norm(loc=0, scale=3).rvs(size=n)\n",
    "Y"
   ]
  },
  {
   "cell_type": "code",
   "execution_count": 7,
   "metadata": {},
   "outputs": [],
   "source": [
    "import statsmodels.formula.api as smf\n",
    "import pandas as pd\n",
    "import statsmodels.formula.api as smf\n",
    "\n",
    "# Simplified version of Galton's data: this dataset is small and simplified for illustrative purposes\n",
    "# The actual dataset used by Galton was much larger and included more precise measurements and other variables; however,\n",
    "# this should give you a sense of the type of data Galton worked with\n",
    "francis_galton_like_data = {\n",
    "    'parent_height': [70.5, 68.0, 65.5, 64.0, 63.5, 66.5, 67.0, 67.5, 68.0, 70.0,\n",
    "                      71.5, 69.5, 64.5, 67.0, 68.5, 69.0, 66.0, 65.0, 67.5, 64.0],\n",
    "    'child_height': [68.0, 66.5, 65.0, 64.0, 63.0, 65.5, 67.0, 67.5, 68.0, 70.0,\n",
    "                     70.5, 69.5, 63.5, 66.0, 68.5, 69.0, 66.0, 64.5, 67.5, 63.5]\n",
    "}\n",
    "francis_galton_df = pd.DataFrame(francis_galton_like_data)\n",
    "\n",
    "linear_specification = \"child_height ~ parent_height\"  # not `linear_specification = \"y~x\"`\n",
    "model_data_specification = smf.ols(linear_specification, data=francis_galton_df)"
   ]
  },
  {
   "cell_type": "code",
   "execution_count": 8,
   "metadata": {},
   "outputs": [
    {
     "data": {
      "text/plain": [
       "Intercept        3.023613\n",
       "parent_height    0.947526\n",
       "dtype: float64"
      ]
     },
     "execution_count": 8,
     "metadata": {},
     "output_type": "execute_result"
    }
   ],
   "source": [
    "data_fitted_model = model_data_specification.fit()  # estimate model coefficients and perform related calculations\n",
    "data_fitted_model.params  # the estimated model coefficients beta0 and beta1 (in the case of simple linear regression)"
   ]
  },
  {
   "cell_type": "code",
   "execution_count": 9,
   "metadata": {},
   "outputs": [
    {
     "data": {
      "application/vnd.plotly.v1+json": {
       "config": {
        "plotlyServerURL": "https://plot.ly"
       },
       "data": [
        {
         "hovertemplate": "parent_height=%{x}<br>child_height=%{y}<extra></extra>",
         "legendgroup": "",
         "marker": {
          "color": "#636efa",
          "symbol": "circle"
         },
         "mode": "markers",
         "name": "",
         "orientation": "v",
         "showlegend": false,
         "type": "scatter",
         "x": [
          70.5,
          68,
          65.5,
          64,
          63.5,
          66.5,
          67,
          67.5,
          68,
          70,
          71.5,
          69.5,
          64.5,
          67,
          68.5,
          69,
          66,
          65,
          67.5,
          64
         ],
         "xaxis": "x",
         "y": [
          68,
          66.5,
          65,
          64,
          63,
          65.5,
          67,
          67.5,
          68,
          70,
          70.5,
          69.5,
          63.5,
          66,
          68.5,
          69,
          66,
          64.5,
          67.5,
          63.5
         ],
         "yaxis": "y"
        },
        {
         "hovertemplate": "<b>OLS trendline</b><br>child_height = 0.947526 * parent_height + 3.02361<br>R<sup>2</sup>=0.916119<br><br>parent_height=%{x}<br>child_height=%{y} <b>(trend)</b><extra></extra>",
         "legendgroup": "",
         "marker": {
          "color": "#636efa",
          "symbol": "circle"
         },
         "mode": "lines",
         "name": "",
         "showlegend": false,
         "type": "scatter",
         "x": [
          63.5,
          64,
          64,
          64.5,
          65,
          65.5,
          66,
          66.5,
          67,
          67,
          67.5,
          67.5,
          68,
          68,
          68.5,
          69,
          69.5,
          70,
          70.5,
          71.5
         ],
         "xaxis": "x",
         "y": [
          63.191529235382355,
          63.66529235382313,
          63.66529235382313,
          64.13905547226392,
          64.61281859070469,
          65.08658170914548,
          65.56034482758625,
          66.03410794602704,
          66.50787106446782,
          66.50787106446782,
          66.9816341829086,
          66.9816341829086,
          67.45539730134938,
          67.45539730134938,
          67.92916041979016,
          68.40292353823094,
          68.87668665667172,
          69.35044977511251,
          69.82421289355328,
          70.77173913043484
         ],
         "yaxis": "y"
        }
       ],
       "layout": {
        "legend": {
         "tracegroupgap": 0
        },
        "template": {
         "data": {
          "bar": [
           {
            "error_x": {
             "color": "#2a3f5f"
            },
            "error_y": {
             "color": "#2a3f5f"
            },
            "marker": {
             "line": {
              "color": "#E5ECF6",
              "width": 0.5
             },
             "pattern": {
              "fillmode": "overlay",
              "size": 10,
              "solidity": 0.2
             }
            },
            "type": "bar"
           }
          ],
          "barpolar": [
           {
            "marker": {
             "line": {
              "color": "#E5ECF6",
              "width": 0.5
             },
             "pattern": {
              "fillmode": "overlay",
              "size": 10,
              "solidity": 0.2
             }
            },
            "type": "barpolar"
           }
          ],
          "carpet": [
           {
            "aaxis": {
             "endlinecolor": "#2a3f5f",
             "gridcolor": "white",
             "linecolor": "white",
             "minorgridcolor": "white",
             "startlinecolor": "#2a3f5f"
            },
            "baxis": {
             "endlinecolor": "#2a3f5f",
             "gridcolor": "white",
             "linecolor": "white",
             "minorgridcolor": "white",
             "startlinecolor": "#2a3f5f"
            },
            "type": "carpet"
           }
          ],
          "choropleth": [
           {
            "colorbar": {
             "outlinewidth": 0,
             "ticks": ""
            },
            "type": "choropleth"
           }
          ],
          "contour": [
           {
            "colorbar": {
             "outlinewidth": 0,
             "ticks": ""
            },
            "colorscale": [
             [
              0,
              "#0d0887"
             ],
             [
              0.1111111111111111,
              "#46039f"
             ],
             [
              0.2222222222222222,
              "#7201a8"
             ],
             [
              0.3333333333333333,
              "#9c179e"
             ],
             [
              0.4444444444444444,
              "#bd3786"
             ],
             [
              0.5555555555555556,
              "#d8576b"
             ],
             [
              0.6666666666666666,
              "#ed7953"
             ],
             [
              0.7777777777777778,
              "#fb9f3a"
             ],
             [
              0.8888888888888888,
              "#fdca26"
             ],
             [
              1,
              "#f0f921"
             ]
            ],
            "type": "contour"
           }
          ],
          "contourcarpet": [
           {
            "colorbar": {
             "outlinewidth": 0,
             "ticks": ""
            },
            "type": "contourcarpet"
           }
          ],
          "heatmap": [
           {
            "colorbar": {
             "outlinewidth": 0,
             "ticks": ""
            },
            "colorscale": [
             [
              0,
              "#0d0887"
             ],
             [
              0.1111111111111111,
              "#46039f"
             ],
             [
              0.2222222222222222,
              "#7201a8"
             ],
             [
              0.3333333333333333,
              "#9c179e"
             ],
             [
              0.4444444444444444,
              "#bd3786"
             ],
             [
              0.5555555555555556,
              "#d8576b"
             ],
             [
              0.6666666666666666,
              "#ed7953"
             ],
             [
              0.7777777777777778,
              "#fb9f3a"
             ],
             [
              0.8888888888888888,
              "#fdca26"
             ],
             [
              1,
              "#f0f921"
             ]
            ],
            "type": "heatmap"
           }
          ],
          "heatmapgl": [
           {
            "colorbar": {
             "outlinewidth": 0,
             "ticks": ""
            },
            "colorscale": [
             [
              0,
              "#0d0887"
             ],
             [
              0.1111111111111111,
              "#46039f"
             ],
             [
              0.2222222222222222,
              "#7201a8"
             ],
             [
              0.3333333333333333,
              "#9c179e"
             ],
             [
              0.4444444444444444,
              "#bd3786"
             ],
             [
              0.5555555555555556,
              "#d8576b"
             ],
             [
              0.6666666666666666,
              "#ed7953"
             ],
             [
              0.7777777777777778,
              "#fb9f3a"
             ],
             [
              0.8888888888888888,
              "#fdca26"
             ],
             [
              1,
              "#f0f921"
             ]
            ],
            "type": "heatmapgl"
           }
          ],
          "histogram": [
           {
            "marker": {
             "pattern": {
              "fillmode": "overlay",
              "size": 10,
              "solidity": 0.2
             }
            },
            "type": "histogram"
           }
          ],
          "histogram2d": [
           {
            "colorbar": {
             "outlinewidth": 0,
             "ticks": ""
            },
            "colorscale": [
             [
              0,
              "#0d0887"
             ],
             [
              0.1111111111111111,
              "#46039f"
             ],
             [
              0.2222222222222222,
              "#7201a8"
             ],
             [
              0.3333333333333333,
              "#9c179e"
             ],
             [
              0.4444444444444444,
              "#bd3786"
             ],
             [
              0.5555555555555556,
              "#d8576b"
             ],
             [
              0.6666666666666666,
              "#ed7953"
             ],
             [
              0.7777777777777778,
              "#fb9f3a"
             ],
             [
              0.8888888888888888,
              "#fdca26"
             ],
             [
              1,
              "#f0f921"
             ]
            ],
            "type": "histogram2d"
           }
          ],
          "histogram2dcontour": [
           {
            "colorbar": {
             "outlinewidth": 0,
             "ticks": ""
            },
            "colorscale": [
             [
              0,
              "#0d0887"
             ],
             [
              0.1111111111111111,
              "#46039f"
             ],
             [
              0.2222222222222222,
              "#7201a8"
             ],
             [
              0.3333333333333333,
              "#9c179e"
             ],
             [
              0.4444444444444444,
              "#bd3786"
             ],
             [
              0.5555555555555556,
              "#d8576b"
             ],
             [
              0.6666666666666666,
              "#ed7953"
             ],
             [
              0.7777777777777778,
              "#fb9f3a"
             ],
             [
              0.8888888888888888,
              "#fdca26"
             ],
             [
              1,
              "#f0f921"
             ]
            ],
            "type": "histogram2dcontour"
           }
          ],
          "mesh3d": [
           {
            "colorbar": {
             "outlinewidth": 0,
             "ticks": ""
            },
            "type": "mesh3d"
           }
          ],
          "parcoords": [
           {
            "line": {
             "colorbar": {
              "outlinewidth": 0,
              "ticks": ""
             }
            },
            "type": "parcoords"
           }
          ],
          "pie": [
           {
            "automargin": true,
            "type": "pie"
           }
          ],
          "scatter": [
           {
            "fillpattern": {
             "fillmode": "overlay",
             "size": 10,
             "solidity": 0.2
            },
            "type": "scatter"
           }
          ],
          "scatter3d": [
           {
            "line": {
             "colorbar": {
              "outlinewidth": 0,
              "ticks": ""
             }
            },
            "marker": {
             "colorbar": {
              "outlinewidth": 0,
              "ticks": ""
             }
            },
            "type": "scatter3d"
           }
          ],
          "scattercarpet": [
           {
            "marker": {
             "colorbar": {
              "outlinewidth": 0,
              "ticks": ""
             }
            },
            "type": "scattercarpet"
           }
          ],
          "scattergeo": [
           {
            "marker": {
             "colorbar": {
              "outlinewidth": 0,
              "ticks": ""
             }
            },
            "type": "scattergeo"
           }
          ],
          "scattergl": [
           {
            "marker": {
             "colorbar": {
              "outlinewidth": 0,
              "ticks": ""
             }
            },
            "type": "scattergl"
           }
          ],
          "scattermapbox": [
           {
            "marker": {
             "colorbar": {
              "outlinewidth": 0,
              "ticks": ""
             }
            },
            "type": "scattermapbox"
           }
          ],
          "scatterpolar": [
           {
            "marker": {
             "colorbar": {
              "outlinewidth": 0,
              "ticks": ""
             }
            },
            "type": "scatterpolar"
           }
          ],
          "scatterpolargl": [
           {
            "marker": {
             "colorbar": {
              "outlinewidth": 0,
              "ticks": ""
             }
            },
            "type": "scatterpolargl"
           }
          ],
          "scatterternary": [
           {
            "marker": {
             "colorbar": {
              "outlinewidth": 0,
              "ticks": ""
             }
            },
            "type": "scatterternary"
           }
          ],
          "surface": [
           {
            "colorbar": {
             "outlinewidth": 0,
             "ticks": ""
            },
            "colorscale": [
             [
              0,
              "#0d0887"
             ],
             [
              0.1111111111111111,
              "#46039f"
             ],
             [
              0.2222222222222222,
              "#7201a8"
             ],
             [
              0.3333333333333333,
              "#9c179e"
             ],
             [
              0.4444444444444444,
              "#bd3786"
             ],
             [
              0.5555555555555556,
              "#d8576b"
             ],
             [
              0.6666666666666666,
              "#ed7953"
             ],
             [
              0.7777777777777778,
              "#fb9f3a"
             ],
             [
              0.8888888888888888,
              "#fdca26"
             ],
             [
              1,
              "#f0f921"
             ]
            ],
            "type": "surface"
           }
          ],
          "table": [
           {
            "cells": {
             "fill": {
              "color": "#EBF0F8"
             },
             "line": {
              "color": "white"
             }
            },
            "header": {
             "fill": {
              "color": "#C8D4E3"
             },
             "line": {
              "color": "white"
             }
            },
            "type": "table"
           }
          ]
         },
         "layout": {
          "annotationdefaults": {
           "arrowcolor": "#2a3f5f",
           "arrowhead": 0,
           "arrowwidth": 1
          },
          "autotypenumbers": "strict",
          "coloraxis": {
           "colorbar": {
            "outlinewidth": 0,
            "ticks": ""
           }
          },
          "colorscale": {
           "diverging": [
            [
             0,
             "#8e0152"
            ],
            [
             0.1,
             "#c51b7d"
            ],
            [
             0.2,
             "#de77ae"
            ],
            [
             0.3,
             "#f1b6da"
            ],
            [
             0.4,
             "#fde0ef"
            ],
            [
             0.5,
             "#f7f7f7"
            ],
            [
             0.6,
             "#e6f5d0"
            ],
            [
             0.7,
             "#b8e186"
            ],
            [
             0.8,
             "#7fbc41"
            ],
            [
             0.9,
             "#4d9221"
            ],
            [
             1,
             "#276419"
            ]
           ],
           "sequential": [
            [
             0,
             "#0d0887"
            ],
            [
             0.1111111111111111,
             "#46039f"
            ],
            [
             0.2222222222222222,
             "#7201a8"
            ],
            [
             0.3333333333333333,
             "#9c179e"
            ],
            [
             0.4444444444444444,
             "#bd3786"
            ],
            [
             0.5555555555555556,
             "#d8576b"
            ],
            [
             0.6666666666666666,
             "#ed7953"
            ],
            [
             0.7777777777777778,
             "#fb9f3a"
            ],
            [
             0.8888888888888888,
             "#fdca26"
            ],
            [
             1,
             "#f0f921"
            ]
           ],
           "sequentialminus": [
            [
             0,
             "#0d0887"
            ],
            [
             0.1111111111111111,
             "#46039f"
            ],
            [
             0.2222222222222222,
             "#7201a8"
            ],
            [
             0.3333333333333333,
             "#9c179e"
            ],
            [
             0.4444444444444444,
             "#bd3786"
            ],
            [
             0.5555555555555556,
             "#d8576b"
            ],
            [
             0.6666666666666666,
             "#ed7953"
            ],
            [
             0.7777777777777778,
             "#fb9f3a"
            ],
            [
             0.8888888888888888,
             "#fdca26"
            ],
            [
             1,
             "#f0f921"
            ]
           ]
          },
          "colorway": [
           "#636efa",
           "#EF553B",
           "#00cc96",
           "#ab63fa",
           "#FFA15A",
           "#19d3f3",
           "#FF6692",
           "#B6E880",
           "#FF97FF",
           "#FECB52"
          ],
          "font": {
           "color": "#2a3f5f"
          },
          "geo": {
           "bgcolor": "white",
           "lakecolor": "white",
           "landcolor": "#E5ECF6",
           "showlakes": true,
           "showland": true,
           "subunitcolor": "white"
          },
          "hoverlabel": {
           "align": "left"
          },
          "hovermode": "closest",
          "mapbox": {
           "style": "light"
          },
          "paper_bgcolor": "white",
          "plot_bgcolor": "#E5ECF6",
          "polar": {
           "angularaxis": {
            "gridcolor": "white",
            "linecolor": "white",
            "ticks": ""
           },
           "bgcolor": "#E5ECF6",
           "radialaxis": {
            "gridcolor": "white",
            "linecolor": "white",
            "ticks": ""
           }
          },
          "scene": {
           "xaxis": {
            "backgroundcolor": "#E5ECF6",
            "gridcolor": "white",
            "gridwidth": 2,
            "linecolor": "white",
            "showbackground": true,
            "ticks": "",
            "zerolinecolor": "white"
           },
           "yaxis": {
            "backgroundcolor": "#E5ECF6",
            "gridcolor": "white",
            "gridwidth": 2,
            "linecolor": "white",
            "showbackground": true,
            "ticks": "",
            "zerolinecolor": "white"
           },
           "zaxis": {
            "backgroundcolor": "#E5ECF6",
            "gridcolor": "white",
            "gridwidth": 2,
            "linecolor": "white",
            "showbackground": true,
            "ticks": "",
            "zerolinecolor": "white"
           }
          },
          "shapedefaults": {
           "line": {
            "color": "#2a3f5f"
           }
          },
          "ternary": {
           "aaxis": {
            "gridcolor": "white",
            "linecolor": "white",
            "ticks": ""
           },
           "baxis": {
            "gridcolor": "white",
            "linecolor": "white",
            "ticks": ""
           },
           "bgcolor": "#E5ECF6",
           "caxis": {
            "gridcolor": "white",
            "linecolor": "white",
            "ticks": ""
           }
          },
          "title": {
           "x": 0.05
          },
          "xaxis": {
           "automargin": true,
           "gridcolor": "white",
           "linecolor": "white",
           "ticks": "",
           "title": {
            "standoff": 15
           },
           "zerolinecolor": "white",
           "zerolinewidth": 2
          },
          "yaxis": {
           "automargin": true,
           "gridcolor": "white",
           "linecolor": "white",
           "ticks": "",
           "title": {
            "standoff": 15
           },
           "zerolinecolor": "white",
           "zerolinewidth": 2
          }
         }
        },
        "title": {
         "text": "Simple Linear Regression"
        },
        "xaxis": {
         "anchor": "y",
         "domain": [
          0,
          1
         ],
         "title": {
          "text": "parent_height"
         }
        },
        "yaxis": {
         "anchor": "x",
         "domain": [
          0,
          1
         ],
         "title": {
          "text": "child_height"
         }
        }
       }
      }
     },
     "metadata": {},
     "output_type": "display_data"
    }
   ],
   "source": [
    "import plotly.express as px\n",
    "# Create the scatter plot with the OLS fit line\n",
    "px.scatter(francis_galton_df, x='parent_height', y='child_height', \n",
    "           title=\"Simple Linear Regression\", trendline=\"ols\")"
   ]
  },
  {
   "cell_type": "code",
   "execution_count": 13,
   "metadata": {},
   "outputs": [
    {
     "data": {
      "text/plain": [
       "0     69.824213\n",
       "1     67.455397\n",
       "2     65.086582\n",
       "3     63.665292\n",
       "4     63.191529\n",
       "5     66.034108\n",
       "6     66.507871\n",
       "7     66.981634\n",
       "8     67.455397\n",
       "9     69.350450\n",
       "10    70.771739\n",
       "11    68.876687\n",
       "12    64.139055\n",
       "13    66.507871\n",
       "14    67.929160\n",
       "15    68.402924\n",
       "16    65.560345\n",
       "17    64.612819\n",
       "18    66.981634\n",
       "19    63.665292\n",
       "dtype: float64"
      ]
     },
     "execution_count": 13,
     "metadata": {},
     "output_type": "execute_result"
    }
   ],
   "source": [
    "data_fitted_model.fittedvalues  # model \"predicted\" *fitted values*, which for the current example is equivalent to \n",
    "# y_hat = data_fitted_model.params[0] + data_fitted_model.params[1] * francis_galton_df['parent_height']"
   ]
  },
  {
   "cell_type": "code",
   "execution_count": 15,
   "metadata": {},
   "outputs": [
    {
     "data": {
      "text/plain": [
       "0.9161191969033338"
      ]
     },
     "execution_count": 15,
     "metadata": {},
     "output_type": "execute_result"
    }
   ],
   "source": [
    "import numpy as np\n",
    "\n",
    "# This measures \"the proportion of variation explained by the model\"\n",
    "data_fitted_model.rsquared  # model **R-squared**, which for the current example is equivalent to \n",
    "# np.corr_coef(data_fitted_model.fittedvalues, francis_galton_df['child_height'])[0,1]**2"
   ]
  },
  {
   "cell_type": "code",
   "execution_count": 16,
   "metadata": {},
   "outputs": [
    {
     "data": {
      "text/plain": [
       "0    -1.824213\n",
       "1    -0.955397\n",
       "2    -0.086582\n",
       "3     0.334708\n",
       "4    -0.191529\n",
       "5    -0.534108\n",
       "6     0.492129\n",
       "7     0.518366\n",
       "8     0.544603\n",
       "9     0.649550\n",
       "10   -0.271739\n",
       "11    0.623313\n",
       "12   -0.639055\n",
       "13   -0.507871\n",
       "14    0.570840\n",
       "15    0.597076\n",
       "16    0.439655\n",
       "17   -0.112819\n",
       "18    0.518366\n",
       "19   -0.165292\n",
       "dtype: float64"
      ]
     },
     "execution_count": 16,
     "metadata": {},
     "output_type": "execute_result"
    }
   ],
   "source": [
    "data_fitted_model.resid"
   ]
  },
  {
   "cell_type": "code",
   "execution_count": 17,
   "metadata": {},
   "outputs": [
    {
     "data": {
      "application/vnd.plotly.v1+json": {
       "config": {
        "plotlyServerURL": "https://plot.ly"
       },
       "data": [
        {
         "alignmentgroup": "True",
         "bingroup": "x",
         "hovertemplate": "variable=0<br>value=%{x}<br>count=%{y}<extra></extra>",
         "legendgroup": "0",
         "marker": {
          "color": "#636efa",
          "pattern": {
           "shape": ""
          }
         },
         "name": "0",
         "offsetgroup": "0",
         "orientation": "v",
         "showlegend": true,
         "type": "histogram",
         "x": [
          -1.8242128935532094,
          -0.9553973013493362,
          -0.0865817091454204,
          0.3347076461769163,
          -0.19152923538230482,
          -0.5341079460269782,
          0.4921289355322358,
          0.5183658170914498,
          0.5446026986506638,
          0.6495502248875482,
          -0.2717391304347814,
          0.6233133433283342,
          -0.6390554722638626,
          -0.5078710644677642,
          0.5708395802099062,
          0.5970764617691202,
          0.4396551724137936,
          -0.11281859070464861,
          0.5183658170914498,
          -0.16529235382308372
         ],
         "xaxis": "x",
         "yaxis": "y"
        }
       ],
       "layout": {
        "barmode": "relative",
        "legend": {
         "title": {
          "text": "variable"
         },
         "tracegroupgap": 0
        },
        "template": {
         "data": {
          "bar": [
           {
            "error_x": {
             "color": "#2a3f5f"
            },
            "error_y": {
             "color": "#2a3f5f"
            },
            "marker": {
             "line": {
              "color": "#E5ECF6",
              "width": 0.5
             },
             "pattern": {
              "fillmode": "overlay",
              "size": 10,
              "solidity": 0.2
             }
            },
            "type": "bar"
           }
          ],
          "barpolar": [
           {
            "marker": {
             "line": {
              "color": "#E5ECF6",
              "width": 0.5
             },
             "pattern": {
              "fillmode": "overlay",
              "size": 10,
              "solidity": 0.2
             }
            },
            "type": "barpolar"
           }
          ],
          "carpet": [
           {
            "aaxis": {
             "endlinecolor": "#2a3f5f",
             "gridcolor": "white",
             "linecolor": "white",
             "minorgridcolor": "white",
             "startlinecolor": "#2a3f5f"
            },
            "baxis": {
             "endlinecolor": "#2a3f5f",
             "gridcolor": "white",
             "linecolor": "white",
             "minorgridcolor": "white",
             "startlinecolor": "#2a3f5f"
            },
            "type": "carpet"
           }
          ],
          "choropleth": [
           {
            "colorbar": {
             "outlinewidth": 0,
             "ticks": ""
            },
            "type": "choropleth"
           }
          ],
          "contour": [
           {
            "colorbar": {
             "outlinewidth": 0,
             "ticks": ""
            },
            "colorscale": [
             [
              0,
              "#0d0887"
             ],
             [
              0.1111111111111111,
              "#46039f"
             ],
             [
              0.2222222222222222,
              "#7201a8"
             ],
             [
              0.3333333333333333,
              "#9c179e"
             ],
             [
              0.4444444444444444,
              "#bd3786"
             ],
             [
              0.5555555555555556,
              "#d8576b"
             ],
             [
              0.6666666666666666,
              "#ed7953"
             ],
             [
              0.7777777777777778,
              "#fb9f3a"
             ],
             [
              0.8888888888888888,
              "#fdca26"
             ],
             [
              1,
              "#f0f921"
             ]
            ],
            "type": "contour"
           }
          ],
          "contourcarpet": [
           {
            "colorbar": {
             "outlinewidth": 0,
             "ticks": ""
            },
            "type": "contourcarpet"
           }
          ],
          "heatmap": [
           {
            "colorbar": {
             "outlinewidth": 0,
             "ticks": ""
            },
            "colorscale": [
             [
              0,
              "#0d0887"
             ],
             [
              0.1111111111111111,
              "#46039f"
             ],
             [
              0.2222222222222222,
              "#7201a8"
             ],
             [
              0.3333333333333333,
              "#9c179e"
             ],
             [
              0.4444444444444444,
              "#bd3786"
             ],
             [
              0.5555555555555556,
              "#d8576b"
             ],
             [
              0.6666666666666666,
              "#ed7953"
             ],
             [
              0.7777777777777778,
              "#fb9f3a"
             ],
             [
              0.8888888888888888,
              "#fdca26"
             ],
             [
              1,
              "#f0f921"
             ]
            ],
            "type": "heatmap"
           }
          ],
          "heatmapgl": [
           {
            "colorbar": {
             "outlinewidth": 0,
             "ticks": ""
            },
            "colorscale": [
             [
              0,
              "#0d0887"
             ],
             [
              0.1111111111111111,
              "#46039f"
             ],
             [
              0.2222222222222222,
              "#7201a8"
             ],
             [
              0.3333333333333333,
              "#9c179e"
             ],
             [
              0.4444444444444444,
              "#bd3786"
             ],
             [
              0.5555555555555556,
              "#d8576b"
             ],
             [
              0.6666666666666666,
              "#ed7953"
             ],
             [
              0.7777777777777778,
              "#fb9f3a"
             ],
             [
              0.8888888888888888,
              "#fdca26"
             ],
             [
              1,
              "#f0f921"
             ]
            ],
            "type": "heatmapgl"
           }
          ],
          "histogram": [
           {
            "marker": {
             "pattern": {
              "fillmode": "overlay",
              "size": 10,
              "solidity": 0.2
             }
            },
            "type": "histogram"
           }
          ],
          "histogram2d": [
           {
            "colorbar": {
             "outlinewidth": 0,
             "ticks": ""
            },
            "colorscale": [
             [
              0,
              "#0d0887"
             ],
             [
              0.1111111111111111,
              "#46039f"
             ],
             [
              0.2222222222222222,
              "#7201a8"
             ],
             [
              0.3333333333333333,
              "#9c179e"
             ],
             [
              0.4444444444444444,
              "#bd3786"
             ],
             [
              0.5555555555555556,
              "#d8576b"
             ],
             [
              0.6666666666666666,
              "#ed7953"
             ],
             [
              0.7777777777777778,
              "#fb9f3a"
             ],
             [
              0.8888888888888888,
              "#fdca26"
             ],
             [
              1,
              "#f0f921"
             ]
            ],
            "type": "histogram2d"
           }
          ],
          "histogram2dcontour": [
           {
            "colorbar": {
             "outlinewidth": 0,
             "ticks": ""
            },
            "colorscale": [
             [
              0,
              "#0d0887"
             ],
             [
              0.1111111111111111,
              "#46039f"
             ],
             [
              0.2222222222222222,
              "#7201a8"
             ],
             [
              0.3333333333333333,
              "#9c179e"
             ],
             [
              0.4444444444444444,
              "#bd3786"
             ],
             [
              0.5555555555555556,
              "#d8576b"
             ],
             [
              0.6666666666666666,
              "#ed7953"
             ],
             [
              0.7777777777777778,
              "#fb9f3a"
             ],
             [
              0.8888888888888888,
              "#fdca26"
             ],
             [
              1,
              "#f0f921"
             ]
            ],
            "type": "histogram2dcontour"
           }
          ],
          "mesh3d": [
           {
            "colorbar": {
             "outlinewidth": 0,
             "ticks": ""
            },
            "type": "mesh3d"
           }
          ],
          "parcoords": [
           {
            "line": {
             "colorbar": {
              "outlinewidth": 0,
              "ticks": ""
             }
            },
            "type": "parcoords"
           }
          ],
          "pie": [
           {
            "automargin": true,
            "type": "pie"
           }
          ],
          "scatter": [
           {
            "fillpattern": {
             "fillmode": "overlay",
             "size": 10,
             "solidity": 0.2
            },
            "type": "scatter"
           }
          ],
          "scatter3d": [
           {
            "line": {
             "colorbar": {
              "outlinewidth": 0,
              "ticks": ""
             }
            },
            "marker": {
             "colorbar": {
              "outlinewidth": 0,
              "ticks": ""
             }
            },
            "type": "scatter3d"
           }
          ],
          "scattercarpet": [
           {
            "marker": {
             "colorbar": {
              "outlinewidth": 0,
              "ticks": ""
             }
            },
            "type": "scattercarpet"
           }
          ],
          "scattergeo": [
           {
            "marker": {
             "colorbar": {
              "outlinewidth": 0,
              "ticks": ""
             }
            },
            "type": "scattergeo"
           }
          ],
          "scattergl": [
           {
            "marker": {
             "colorbar": {
              "outlinewidth": 0,
              "ticks": ""
             }
            },
            "type": "scattergl"
           }
          ],
          "scattermapbox": [
           {
            "marker": {
             "colorbar": {
              "outlinewidth": 0,
              "ticks": ""
             }
            },
            "type": "scattermapbox"
           }
          ],
          "scatterpolar": [
           {
            "marker": {
             "colorbar": {
              "outlinewidth": 0,
              "ticks": ""
             }
            },
            "type": "scatterpolar"
           }
          ],
          "scatterpolargl": [
           {
            "marker": {
             "colorbar": {
              "outlinewidth": 0,
              "ticks": ""
             }
            },
            "type": "scatterpolargl"
           }
          ],
          "scatterternary": [
           {
            "marker": {
             "colorbar": {
              "outlinewidth": 0,
              "ticks": ""
             }
            },
            "type": "scatterternary"
           }
          ],
          "surface": [
           {
            "colorbar": {
             "outlinewidth": 0,
             "ticks": ""
            },
            "colorscale": [
             [
              0,
              "#0d0887"
             ],
             [
              0.1111111111111111,
              "#46039f"
             ],
             [
              0.2222222222222222,
              "#7201a8"
             ],
             [
              0.3333333333333333,
              "#9c179e"
             ],
             [
              0.4444444444444444,
              "#bd3786"
             ],
             [
              0.5555555555555556,
              "#d8576b"
             ],
             [
              0.6666666666666666,
              "#ed7953"
             ],
             [
              0.7777777777777778,
              "#fb9f3a"
             ],
             [
              0.8888888888888888,
              "#fdca26"
             ],
             [
              1,
              "#f0f921"
             ]
            ],
            "type": "surface"
           }
          ],
          "table": [
           {
            "cells": {
             "fill": {
              "color": "#EBF0F8"
             },
             "line": {
              "color": "white"
             }
            },
            "header": {
             "fill": {
              "color": "#C8D4E3"
             },
             "line": {
              "color": "white"
             }
            },
            "type": "table"
           }
          ]
         },
         "layout": {
          "annotationdefaults": {
           "arrowcolor": "#2a3f5f",
           "arrowhead": 0,
           "arrowwidth": 1
          },
          "autotypenumbers": "strict",
          "coloraxis": {
           "colorbar": {
            "outlinewidth": 0,
            "ticks": ""
           }
          },
          "colorscale": {
           "diverging": [
            [
             0,
             "#8e0152"
            ],
            [
             0.1,
             "#c51b7d"
            ],
            [
             0.2,
             "#de77ae"
            ],
            [
             0.3,
             "#f1b6da"
            ],
            [
             0.4,
             "#fde0ef"
            ],
            [
             0.5,
             "#f7f7f7"
            ],
            [
             0.6,
             "#e6f5d0"
            ],
            [
             0.7,
             "#b8e186"
            ],
            [
             0.8,
             "#7fbc41"
            ],
            [
             0.9,
             "#4d9221"
            ],
            [
             1,
             "#276419"
            ]
           ],
           "sequential": [
            [
             0,
             "#0d0887"
            ],
            [
             0.1111111111111111,
             "#46039f"
            ],
            [
             0.2222222222222222,
             "#7201a8"
            ],
            [
             0.3333333333333333,
             "#9c179e"
            ],
            [
             0.4444444444444444,
             "#bd3786"
            ],
            [
             0.5555555555555556,
             "#d8576b"
            ],
            [
             0.6666666666666666,
             "#ed7953"
            ],
            [
             0.7777777777777778,
             "#fb9f3a"
            ],
            [
             0.8888888888888888,
             "#fdca26"
            ],
            [
             1,
             "#f0f921"
            ]
           ],
           "sequentialminus": [
            [
             0,
             "#0d0887"
            ],
            [
             0.1111111111111111,
             "#46039f"
            ],
            [
             0.2222222222222222,
             "#7201a8"
            ],
            [
             0.3333333333333333,
             "#9c179e"
            ],
            [
             0.4444444444444444,
             "#bd3786"
            ],
            [
             0.5555555555555556,
             "#d8576b"
            ],
            [
             0.6666666666666666,
             "#ed7953"
            ],
            [
             0.7777777777777778,
             "#fb9f3a"
            ],
            [
             0.8888888888888888,
             "#fdca26"
            ],
            [
             1,
             "#f0f921"
            ]
           ]
          },
          "colorway": [
           "#636efa",
           "#EF553B",
           "#00cc96",
           "#ab63fa",
           "#FFA15A",
           "#19d3f3",
           "#FF6692",
           "#B6E880",
           "#FF97FF",
           "#FECB52"
          ],
          "font": {
           "color": "#2a3f5f"
          },
          "geo": {
           "bgcolor": "white",
           "lakecolor": "white",
           "landcolor": "#E5ECF6",
           "showlakes": true,
           "showland": true,
           "subunitcolor": "white"
          },
          "hoverlabel": {
           "align": "left"
          },
          "hovermode": "closest",
          "mapbox": {
           "style": "light"
          },
          "paper_bgcolor": "white",
          "plot_bgcolor": "#E5ECF6",
          "polar": {
           "angularaxis": {
            "gridcolor": "white",
            "linecolor": "white",
            "ticks": ""
           },
           "bgcolor": "#E5ECF6",
           "radialaxis": {
            "gridcolor": "white",
            "linecolor": "white",
            "ticks": ""
           }
          },
          "scene": {
           "xaxis": {
            "backgroundcolor": "#E5ECF6",
            "gridcolor": "white",
            "gridwidth": 2,
            "linecolor": "white",
            "showbackground": true,
            "ticks": "",
            "zerolinecolor": "white"
           },
           "yaxis": {
            "backgroundcolor": "#E5ECF6",
            "gridcolor": "white",
            "gridwidth": 2,
            "linecolor": "white",
            "showbackground": true,
            "ticks": "",
            "zerolinecolor": "white"
           },
           "zaxis": {
            "backgroundcolor": "#E5ECF6",
            "gridcolor": "white",
            "gridwidth": 2,
            "linecolor": "white",
            "showbackground": true,
            "ticks": "",
            "zerolinecolor": "white"
           }
          },
          "shapedefaults": {
           "line": {
            "color": "#2a3f5f"
           }
          },
          "ternary": {
           "aaxis": {
            "gridcolor": "white",
            "linecolor": "white",
            "ticks": ""
           },
           "baxis": {
            "gridcolor": "white",
            "linecolor": "white",
            "ticks": ""
           },
           "bgcolor": "#E5ECF6",
           "caxis": {
            "gridcolor": "white",
            "linecolor": "white",
            "ticks": ""
           }
          },
          "title": {
           "x": 0.05
          },
          "xaxis": {
           "automargin": true,
           "gridcolor": "white",
           "linecolor": "white",
           "ticks": "",
           "title": {
            "standoff": 15
           },
           "zerolinecolor": "white",
           "zerolinewidth": 2
          },
          "yaxis": {
           "automargin": true,
           "gridcolor": "white",
           "linecolor": "white",
           "ticks": "",
           "title": {
            "standoff": 15
           },
           "zerolinecolor": "white",
           "zerolinewidth": 2
          }
         }
        },
        "title": {
         "text": "Histogram of Residuals"
        },
        "xaxis": {
         "anchor": "y",
         "domain": [
          0,
          1
         ],
         "title": {
          "text": "Does this appear normally distributed?"
         }
        },
        "yaxis": {
         "anchor": "x",
         "domain": [
          0,
          1
         ],
         "title": {
          "text": "Count"
         }
        }
       }
      }
     },
     "metadata": {},
     "output_type": "display_data"
    }
   ],
   "source": [
    "# If *residuals* do not appear approximately normally distributed, the \"normality assumption\" is implausible\n",
    "residual_normality = px.histogram(data_fitted_model.resid, title=\"Histogram of Residuals\")\n",
    "residual_normality.update_layout(xaxis_title=\"Does this appear normally distributed?\", yaxis_title=\"Count\")\n",
    "residual_normality.show()"
   ]
  },
  {
   "cell_type": "code",
   "execution_count": 18,
   "metadata": {},
   "outputs": [
    {
     "data": {
      "application/vnd.plotly.v1+json": {
       "config": {
        "plotlyServerURL": "https://plot.ly"
       },
       "data": [
        {
         "hovertemplate": "x=%{x}<br>y=%{y}<extra></extra>",
         "legendgroup": "",
         "marker": {
          "color": "#636efa",
          "symbol": "circle"
         },
         "mode": "markers",
         "name": "",
         "orientation": "v",
         "showlegend": false,
         "type": "scatter",
         "x": [
          69.82421289355321,
          67.45539730134934,
          65.08658170914542,
          63.665292353823084,
          63.191529235382305,
          66.03410794602698,
          66.50787106446776,
          66.98163418290855,
          67.45539730134934,
          69.35044977511245,
          70.77173913043478,
          68.87668665667167,
          64.13905547226386,
          66.50787106446776,
          67.9291604197901,
          68.40292353823088,
          65.5603448275862,
          64.61281859070465,
          66.98163418290855,
          63.665292353823084
         ],
         "xaxis": "x",
         "y": [
          -1.8242128935532094,
          -0.9553973013493362,
          -0.0865817091454204,
          0.3347076461769163,
          -0.19152923538230482,
          -0.5341079460269782,
          0.4921289355322358,
          0.5183658170914498,
          0.5446026986506638,
          0.6495502248875482,
          -0.2717391304347814,
          0.6233133433283342,
          -0.6390554722638626,
          -0.5078710644677642,
          0.5708395802099062,
          0.5970764617691202,
          0.4396551724137936,
          -0.11281859070464861,
          0.5183658170914498,
          -0.16529235382308372
         ],
         "yaxis": "y"
        }
       ],
       "layout": {
        "legend": {
         "tracegroupgap": 0
        },
        "shapes": [
         {
          "line": {
           "color": "red",
           "dash": "dash"
          },
          "type": "line",
          "x0": 0,
          "x1": 1,
          "xref": "x domain",
          "y0": 0,
          "y1": 0,
          "yref": "y"
         }
        ],
        "template": {
         "data": {
          "bar": [
           {
            "error_x": {
             "color": "#2a3f5f"
            },
            "error_y": {
             "color": "#2a3f5f"
            },
            "marker": {
             "line": {
              "color": "#E5ECF6",
              "width": 0.5
             },
             "pattern": {
              "fillmode": "overlay",
              "size": 10,
              "solidity": 0.2
             }
            },
            "type": "bar"
           }
          ],
          "barpolar": [
           {
            "marker": {
             "line": {
              "color": "#E5ECF6",
              "width": 0.5
             },
             "pattern": {
              "fillmode": "overlay",
              "size": 10,
              "solidity": 0.2
             }
            },
            "type": "barpolar"
           }
          ],
          "carpet": [
           {
            "aaxis": {
             "endlinecolor": "#2a3f5f",
             "gridcolor": "white",
             "linecolor": "white",
             "minorgridcolor": "white",
             "startlinecolor": "#2a3f5f"
            },
            "baxis": {
             "endlinecolor": "#2a3f5f",
             "gridcolor": "white",
             "linecolor": "white",
             "minorgridcolor": "white",
             "startlinecolor": "#2a3f5f"
            },
            "type": "carpet"
           }
          ],
          "choropleth": [
           {
            "colorbar": {
             "outlinewidth": 0,
             "ticks": ""
            },
            "type": "choropleth"
           }
          ],
          "contour": [
           {
            "colorbar": {
             "outlinewidth": 0,
             "ticks": ""
            },
            "colorscale": [
             [
              0,
              "#0d0887"
             ],
             [
              0.1111111111111111,
              "#46039f"
             ],
             [
              0.2222222222222222,
              "#7201a8"
             ],
             [
              0.3333333333333333,
              "#9c179e"
             ],
             [
              0.4444444444444444,
              "#bd3786"
             ],
             [
              0.5555555555555556,
              "#d8576b"
             ],
             [
              0.6666666666666666,
              "#ed7953"
             ],
             [
              0.7777777777777778,
              "#fb9f3a"
             ],
             [
              0.8888888888888888,
              "#fdca26"
             ],
             [
              1,
              "#f0f921"
             ]
            ],
            "type": "contour"
           }
          ],
          "contourcarpet": [
           {
            "colorbar": {
             "outlinewidth": 0,
             "ticks": ""
            },
            "type": "contourcarpet"
           }
          ],
          "heatmap": [
           {
            "colorbar": {
             "outlinewidth": 0,
             "ticks": ""
            },
            "colorscale": [
             [
              0,
              "#0d0887"
             ],
             [
              0.1111111111111111,
              "#46039f"
             ],
             [
              0.2222222222222222,
              "#7201a8"
             ],
             [
              0.3333333333333333,
              "#9c179e"
             ],
             [
              0.4444444444444444,
              "#bd3786"
             ],
             [
              0.5555555555555556,
              "#d8576b"
             ],
             [
              0.6666666666666666,
              "#ed7953"
             ],
             [
              0.7777777777777778,
              "#fb9f3a"
             ],
             [
              0.8888888888888888,
              "#fdca26"
             ],
             [
              1,
              "#f0f921"
             ]
            ],
            "type": "heatmap"
           }
          ],
          "heatmapgl": [
           {
            "colorbar": {
             "outlinewidth": 0,
             "ticks": ""
            },
            "colorscale": [
             [
              0,
              "#0d0887"
             ],
             [
              0.1111111111111111,
              "#46039f"
             ],
             [
              0.2222222222222222,
              "#7201a8"
             ],
             [
              0.3333333333333333,
              "#9c179e"
             ],
             [
              0.4444444444444444,
              "#bd3786"
             ],
             [
              0.5555555555555556,
              "#d8576b"
             ],
             [
              0.6666666666666666,
              "#ed7953"
             ],
             [
              0.7777777777777778,
              "#fb9f3a"
             ],
             [
              0.8888888888888888,
              "#fdca26"
             ],
             [
              1,
              "#f0f921"
             ]
            ],
            "type": "heatmapgl"
           }
          ],
          "histogram": [
           {
            "marker": {
             "pattern": {
              "fillmode": "overlay",
              "size": 10,
              "solidity": 0.2
             }
            },
            "type": "histogram"
           }
          ],
          "histogram2d": [
           {
            "colorbar": {
             "outlinewidth": 0,
             "ticks": ""
            },
            "colorscale": [
             [
              0,
              "#0d0887"
             ],
             [
              0.1111111111111111,
              "#46039f"
             ],
             [
              0.2222222222222222,
              "#7201a8"
             ],
             [
              0.3333333333333333,
              "#9c179e"
             ],
             [
              0.4444444444444444,
              "#bd3786"
             ],
             [
              0.5555555555555556,
              "#d8576b"
             ],
             [
              0.6666666666666666,
              "#ed7953"
             ],
             [
              0.7777777777777778,
              "#fb9f3a"
             ],
             [
              0.8888888888888888,
              "#fdca26"
             ],
             [
              1,
              "#f0f921"
             ]
            ],
            "type": "histogram2d"
           }
          ],
          "histogram2dcontour": [
           {
            "colorbar": {
             "outlinewidth": 0,
             "ticks": ""
            },
            "colorscale": [
             [
              0,
              "#0d0887"
             ],
             [
              0.1111111111111111,
              "#46039f"
             ],
             [
              0.2222222222222222,
              "#7201a8"
             ],
             [
              0.3333333333333333,
              "#9c179e"
             ],
             [
              0.4444444444444444,
              "#bd3786"
             ],
             [
              0.5555555555555556,
              "#d8576b"
             ],
             [
              0.6666666666666666,
              "#ed7953"
             ],
             [
              0.7777777777777778,
              "#fb9f3a"
             ],
             [
              0.8888888888888888,
              "#fdca26"
             ],
             [
              1,
              "#f0f921"
             ]
            ],
            "type": "histogram2dcontour"
           }
          ],
          "mesh3d": [
           {
            "colorbar": {
             "outlinewidth": 0,
             "ticks": ""
            },
            "type": "mesh3d"
           }
          ],
          "parcoords": [
           {
            "line": {
             "colorbar": {
              "outlinewidth": 0,
              "ticks": ""
             }
            },
            "type": "parcoords"
           }
          ],
          "pie": [
           {
            "automargin": true,
            "type": "pie"
           }
          ],
          "scatter": [
           {
            "fillpattern": {
             "fillmode": "overlay",
             "size": 10,
             "solidity": 0.2
            },
            "type": "scatter"
           }
          ],
          "scatter3d": [
           {
            "line": {
             "colorbar": {
              "outlinewidth": 0,
              "ticks": ""
             }
            },
            "marker": {
             "colorbar": {
              "outlinewidth": 0,
              "ticks": ""
             }
            },
            "type": "scatter3d"
           }
          ],
          "scattercarpet": [
           {
            "marker": {
             "colorbar": {
              "outlinewidth": 0,
              "ticks": ""
             }
            },
            "type": "scattercarpet"
           }
          ],
          "scattergeo": [
           {
            "marker": {
             "colorbar": {
              "outlinewidth": 0,
              "ticks": ""
             }
            },
            "type": "scattergeo"
           }
          ],
          "scattergl": [
           {
            "marker": {
             "colorbar": {
              "outlinewidth": 0,
              "ticks": ""
             }
            },
            "type": "scattergl"
           }
          ],
          "scattermapbox": [
           {
            "marker": {
             "colorbar": {
              "outlinewidth": 0,
              "ticks": ""
             }
            },
            "type": "scattermapbox"
           }
          ],
          "scatterpolar": [
           {
            "marker": {
             "colorbar": {
              "outlinewidth": 0,
              "ticks": ""
             }
            },
            "type": "scatterpolar"
           }
          ],
          "scatterpolargl": [
           {
            "marker": {
             "colorbar": {
              "outlinewidth": 0,
              "ticks": ""
             }
            },
            "type": "scatterpolargl"
           }
          ],
          "scatterternary": [
           {
            "marker": {
             "colorbar": {
              "outlinewidth": 0,
              "ticks": ""
             }
            },
            "type": "scatterternary"
           }
          ],
          "surface": [
           {
            "colorbar": {
             "outlinewidth": 0,
             "ticks": ""
            },
            "colorscale": [
             [
              0,
              "#0d0887"
             ],
             [
              0.1111111111111111,
              "#46039f"
             ],
             [
              0.2222222222222222,
              "#7201a8"
             ],
             [
              0.3333333333333333,
              "#9c179e"
             ],
             [
              0.4444444444444444,
              "#bd3786"
             ],
             [
              0.5555555555555556,
              "#d8576b"
             ],
             [
              0.6666666666666666,
              "#ed7953"
             ],
             [
              0.7777777777777778,
              "#fb9f3a"
             ],
             [
              0.8888888888888888,
              "#fdca26"
             ],
             [
              1,
              "#f0f921"
             ]
            ],
            "type": "surface"
           }
          ],
          "table": [
           {
            "cells": {
             "fill": {
              "color": "#EBF0F8"
             },
             "line": {
              "color": "white"
             }
            },
            "header": {
             "fill": {
              "color": "#C8D4E3"
             },
             "line": {
              "color": "white"
             }
            },
            "type": "table"
           }
          ]
         },
         "layout": {
          "annotationdefaults": {
           "arrowcolor": "#2a3f5f",
           "arrowhead": 0,
           "arrowwidth": 1
          },
          "autotypenumbers": "strict",
          "coloraxis": {
           "colorbar": {
            "outlinewidth": 0,
            "ticks": ""
           }
          },
          "colorscale": {
           "diverging": [
            [
             0,
             "#8e0152"
            ],
            [
             0.1,
             "#c51b7d"
            ],
            [
             0.2,
             "#de77ae"
            ],
            [
             0.3,
             "#f1b6da"
            ],
            [
             0.4,
             "#fde0ef"
            ],
            [
             0.5,
             "#f7f7f7"
            ],
            [
             0.6,
             "#e6f5d0"
            ],
            [
             0.7,
             "#b8e186"
            ],
            [
             0.8,
             "#7fbc41"
            ],
            [
             0.9,
             "#4d9221"
            ],
            [
             1,
             "#276419"
            ]
           ],
           "sequential": [
            [
             0,
             "#0d0887"
            ],
            [
             0.1111111111111111,
             "#46039f"
            ],
            [
             0.2222222222222222,
             "#7201a8"
            ],
            [
             0.3333333333333333,
             "#9c179e"
            ],
            [
             0.4444444444444444,
             "#bd3786"
            ],
            [
             0.5555555555555556,
             "#d8576b"
            ],
            [
             0.6666666666666666,
             "#ed7953"
            ],
            [
             0.7777777777777778,
             "#fb9f3a"
            ],
            [
             0.8888888888888888,
             "#fdca26"
            ],
            [
             1,
             "#f0f921"
            ]
           ],
           "sequentialminus": [
            [
             0,
             "#0d0887"
            ],
            [
             0.1111111111111111,
             "#46039f"
            ],
            [
             0.2222222222222222,
             "#7201a8"
            ],
            [
             0.3333333333333333,
             "#9c179e"
            ],
            [
             0.4444444444444444,
             "#bd3786"
            ],
            [
             0.5555555555555556,
             "#d8576b"
            ],
            [
             0.6666666666666666,
             "#ed7953"
            ],
            [
             0.7777777777777778,
             "#fb9f3a"
            ],
            [
             0.8888888888888888,
             "#fdca26"
            ],
            [
             1,
             "#f0f921"
            ]
           ]
          },
          "colorway": [
           "#636efa",
           "#EF553B",
           "#00cc96",
           "#ab63fa",
           "#FFA15A",
           "#19d3f3",
           "#FF6692",
           "#B6E880",
           "#FF97FF",
           "#FECB52"
          ],
          "font": {
           "color": "#2a3f5f"
          },
          "geo": {
           "bgcolor": "white",
           "lakecolor": "white",
           "landcolor": "#E5ECF6",
           "showlakes": true,
           "showland": true,
           "subunitcolor": "white"
          },
          "hoverlabel": {
           "align": "left"
          },
          "hovermode": "closest",
          "mapbox": {
           "style": "light"
          },
          "paper_bgcolor": "white",
          "plot_bgcolor": "#E5ECF6",
          "polar": {
           "angularaxis": {
            "gridcolor": "white",
            "linecolor": "white",
            "ticks": ""
           },
           "bgcolor": "#E5ECF6",
           "radialaxis": {
            "gridcolor": "white",
            "linecolor": "white",
            "ticks": ""
           }
          },
          "scene": {
           "xaxis": {
            "backgroundcolor": "#E5ECF6",
            "gridcolor": "white",
            "gridwidth": 2,
            "linecolor": "white",
            "showbackground": true,
            "ticks": "",
            "zerolinecolor": "white"
           },
           "yaxis": {
            "backgroundcolor": "#E5ECF6",
            "gridcolor": "white",
            "gridwidth": 2,
            "linecolor": "white",
            "showbackground": true,
            "ticks": "",
            "zerolinecolor": "white"
           },
           "zaxis": {
            "backgroundcolor": "#E5ECF6",
            "gridcolor": "white",
            "gridwidth": 2,
            "linecolor": "white",
            "showbackground": true,
            "ticks": "",
            "zerolinecolor": "white"
           }
          },
          "shapedefaults": {
           "line": {
            "color": "#2a3f5f"
           }
          },
          "ternary": {
           "aaxis": {
            "gridcolor": "white",
            "linecolor": "white",
            "ticks": ""
           },
           "baxis": {
            "gridcolor": "white",
            "linecolor": "white",
            "ticks": ""
           },
           "bgcolor": "#E5ECF6",
           "caxis": {
            "gridcolor": "white",
            "linecolor": "white",
            "ticks": ""
           }
          },
          "title": {
           "x": 0.05
          },
          "xaxis": {
           "automargin": true,
           "gridcolor": "white",
           "linecolor": "white",
           "ticks": "",
           "title": {
            "standoff": 15
           },
           "zerolinecolor": "white",
           "zerolinewidth": 2
          },
          "yaxis": {
           "automargin": true,
           "gridcolor": "white",
           "linecolor": "white",
           "ticks": "",
           "title": {
            "standoff": 15
           },
           "zerolinecolor": "white",
           "zerolinewidth": 2
          }
         }
        },
        "title": {
         "text": "Does this systematically change over y-hat?"
        },
        "xaxis": {
         "anchor": "y",
         "domain": [
          0,
          1
         ],
         "title": {
          "text": "Fitted Values"
         }
        },
        "yaxis": {
         "anchor": "x",
         "domain": [
          0,
          1
         ],
         "title": {
          "text": "Residuals"
         }
        }
       }
      }
     },
     "metadata": {},
     "output_type": "display_data"
    }
   ],
   "source": [
    "# If *residuals* heights appear to systematically change over the range of y-hat, the \"heteroskedasticity assumption\" is implausible\n",
    "residual_heteroskedasticity = px.scatter(x=data_fitted_model.fittedvalues, y=data_fitted_model.resid, \n",
    "                                         title=\"Does this systematically change over y-hat?\")\n",
    "residual_heteroskedasticity.update_layout(xaxis_title=\"Fitted Values\", yaxis_title=\"Residuals\")\n",
    "residual_heteroskedasticity.add_hline(y=0, line_dash=\"dash\", line_color=\"red\")\n",
    "residual_heteroskedasticity.show()"
   ]
  },
  {
   "cell_type": "code",
   "execution_count": 19,
   "metadata": {},
   "outputs": [
    {
     "data": {
      "application/vnd.plotly.v1+json": {
       "config": {
        "plotlyServerURL": "https://plot.ly"
       },
       "data": [
        {
         "hovertemplate": "x=%{x}<br>y=%{y}<extra></extra>",
         "legendgroup": "",
         "marker": {
          "color": "#636efa",
          "symbol": "circle"
         },
         "mode": "markers",
         "name": "",
         "orientation": "v",
         "showlegend": false,
         "type": "scatter",
         "x": [
          69.82421289355321,
          67.45539730134934,
          65.08658170914542,
          63.665292353823084,
          63.191529235382305,
          66.03410794602698,
          66.50787106446776,
          66.98163418290855,
          67.45539730134934,
          69.35044977511245,
          70.77173913043478,
          68.87668665667167,
          64.13905547226386,
          66.50787106446776,
          67.9291604197901,
          68.40292353823088,
          65.5603448275862,
          64.61281859070465,
          66.98163418290855,
          63.665292353823084
         ],
         "xaxis": "x",
         "y": [
          68,
          66.5,
          65,
          64,
          63,
          65.5,
          67,
          67.5,
          68,
          70,
          70.5,
          69.5,
          63.5,
          66,
          68.5,
          69,
          66,
          64.5,
          67.5,
          63.5
         ],
         "yaxis": "y"
        },
        {
         "line": {
          "color": "red",
          "dash": "dash"
         },
         "mode": "lines",
         "name": "The 'y=x' line",
         "type": "scatter",
         "x": [
          63.191529235382305,
          70.77173913043478
         ],
         "y": [
          63.191529235382305,
          70.77173913043478
         ]
        }
       ],
       "layout": {
        "legend": {
         "tracegroupgap": 0
        },
        "template": {
         "data": {
          "bar": [
           {
            "error_x": {
             "color": "#2a3f5f"
            },
            "error_y": {
             "color": "#2a3f5f"
            },
            "marker": {
             "line": {
              "color": "#E5ECF6",
              "width": 0.5
             },
             "pattern": {
              "fillmode": "overlay",
              "size": 10,
              "solidity": 0.2
             }
            },
            "type": "bar"
           }
          ],
          "barpolar": [
           {
            "marker": {
             "line": {
              "color": "#E5ECF6",
              "width": 0.5
             },
             "pattern": {
              "fillmode": "overlay",
              "size": 10,
              "solidity": 0.2
             }
            },
            "type": "barpolar"
           }
          ],
          "carpet": [
           {
            "aaxis": {
             "endlinecolor": "#2a3f5f",
             "gridcolor": "white",
             "linecolor": "white",
             "minorgridcolor": "white",
             "startlinecolor": "#2a3f5f"
            },
            "baxis": {
             "endlinecolor": "#2a3f5f",
             "gridcolor": "white",
             "linecolor": "white",
             "minorgridcolor": "white",
             "startlinecolor": "#2a3f5f"
            },
            "type": "carpet"
           }
          ],
          "choropleth": [
           {
            "colorbar": {
             "outlinewidth": 0,
             "ticks": ""
            },
            "type": "choropleth"
           }
          ],
          "contour": [
           {
            "colorbar": {
             "outlinewidth": 0,
             "ticks": ""
            },
            "colorscale": [
             [
              0,
              "#0d0887"
             ],
             [
              0.1111111111111111,
              "#46039f"
             ],
             [
              0.2222222222222222,
              "#7201a8"
             ],
             [
              0.3333333333333333,
              "#9c179e"
             ],
             [
              0.4444444444444444,
              "#bd3786"
             ],
             [
              0.5555555555555556,
              "#d8576b"
             ],
             [
              0.6666666666666666,
              "#ed7953"
             ],
             [
              0.7777777777777778,
              "#fb9f3a"
             ],
             [
              0.8888888888888888,
              "#fdca26"
             ],
             [
              1,
              "#f0f921"
             ]
            ],
            "type": "contour"
           }
          ],
          "contourcarpet": [
           {
            "colorbar": {
             "outlinewidth": 0,
             "ticks": ""
            },
            "type": "contourcarpet"
           }
          ],
          "heatmap": [
           {
            "colorbar": {
             "outlinewidth": 0,
             "ticks": ""
            },
            "colorscale": [
             [
              0,
              "#0d0887"
             ],
             [
              0.1111111111111111,
              "#46039f"
             ],
             [
              0.2222222222222222,
              "#7201a8"
             ],
             [
              0.3333333333333333,
              "#9c179e"
             ],
             [
              0.4444444444444444,
              "#bd3786"
             ],
             [
              0.5555555555555556,
              "#d8576b"
             ],
             [
              0.6666666666666666,
              "#ed7953"
             ],
             [
              0.7777777777777778,
              "#fb9f3a"
             ],
             [
              0.8888888888888888,
              "#fdca26"
             ],
             [
              1,
              "#f0f921"
             ]
            ],
            "type": "heatmap"
           }
          ],
          "heatmapgl": [
           {
            "colorbar": {
             "outlinewidth": 0,
             "ticks": ""
            },
            "colorscale": [
             [
              0,
              "#0d0887"
             ],
             [
              0.1111111111111111,
              "#46039f"
             ],
             [
              0.2222222222222222,
              "#7201a8"
             ],
             [
              0.3333333333333333,
              "#9c179e"
             ],
             [
              0.4444444444444444,
              "#bd3786"
             ],
             [
              0.5555555555555556,
              "#d8576b"
             ],
             [
              0.6666666666666666,
              "#ed7953"
             ],
             [
              0.7777777777777778,
              "#fb9f3a"
             ],
             [
              0.8888888888888888,
              "#fdca26"
             ],
             [
              1,
              "#f0f921"
             ]
            ],
            "type": "heatmapgl"
           }
          ],
          "histogram": [
           {
            "marker": {
             "pattern": {
              "fillmode": "overlay",
              "size": 10,
              "solidity": 0.2
             }
            },
            "type": "histogram"
           }
          ],
          "histogram2d": [
           {
            "colorbar": {
             "outlinewidth": 0,
             "ticks": ""
            },
            "colorscale": [
             [
              0,
              "#0d0887"
             ],
             [
              0.1111111111111111,
              "#46039f"
             ],
             [
              0.2222222222222222,
              "#7201a8"
             ],
             [
              0.3333333333333333,
              "#9c179e"
             ],
             [
              0.4444444444444444,
              "#bd3786"
             ],
             [
              0.5555555555555556,
              "#d8576b"
             ],
             [
              0.6666666666666666,
              "#ed7953"
             ],
             [
              0.7777777777777778,
              "#fb9f3a"
             ],
             [
              0.8888888888888888,
              "#fdca26"
             ],
             [
              1,
              "#f0f921"
             ]
            ],
            "type": "histogram2d"
           }
          ],
          "histogram2dcontour": [
           {
            "colorbar": {
             "outlinewidth": 0,
             "ticks": ""
            },
            "colorscale": [
             [
              0,
              "#0d0887"
             ],
             [
              0.1111111111111111,
              "#46039f"
             ],
             [
              0.2222222222222222,
              "#7201a8"
             ],
             [
              0.3333333333333333,
              "#9c179e"
             ],
             [
              0.4444444444444444,
              "#bd3786"
             ],
             [
              0.5555555555555556,
              "#d8576b"
             ],
             [
              0.6666666666666666,
              "#ed7953"
             ],
             [
              0.7777777777777778,
              "#fb9f3a"
             ],
             [
              0.8888888888888888,
              "#fdca26"
             ],
             [
              1,
              "#f0f921"
             ]
            ],
            "type": "histogram2dcontour"
           }
          ],
          "mesh3d": [
           {
            "colorbar": {
             "outlinewidth": 0,
             "ticks": ""
            },
            "type": "mesh3d"
           }
          ],
          "parcoords": [
           {
            "line": {
             "colorbar": {
              "outlinewidth": 0,
              "ticks": ""
             }
            },
            "type": "parcoords"
           }
          ],
          "pie": [
           {
            "automargin": true,
            "type": "pie"
           }
          ],
          "scatter": [
           {
            "fillpattern": {
             "fillmode": "overlay",
             "size": 10,
             "solidity": 0.2
            },
            "type": "scatter"
           }
          ],
          "scatter3d": [
           {
            "line": {
             "colorbar": {
              "outlinewidth": 0,
              "ticks": ""
             }
            },
            "marker": {
             "colorbar": {
              "outlinewidth": 0,
              "ticks": ""
             }
            },
            "type": "scatter3d"
           }
          ],
          "scattercarpet": [
           {
            "marker": {
             "colorbar": {
              "outlinewidth": 0,
              "ticks": ""
             }
            },
            "type": "scattercarpet"
           }
          ],
          "scattergeo": [
           {
            "marker": {
             "colorbar": {
              "outlinewidth": 0,
              "ticks": ""
             }
            },
            "type": "scattergeo"
           }
          ],
          "scattergl": [
           {
            "marker": {
             "colorbar": {
              "outlinewidth": 0,
              "ticks": ""
             }
            },
            "type": "scattergl"
           }
          ],
          "scattermapbox": [
           {
            "marker": {
             "colorbar": {
              "outlinewidth": 0,
              "ticks": ""
             }
            },
            "type": "scattermapbox"
           }
          ],
          "scatterpolar": [
           {
            "marker": {
             "colorbar": {
              "outlinewidth": 0,
              "ticks": ""
             }
            },
            "type": "scatterpolar"
           }
          ],
          "scatterpolargl": [
           {
            "marker": {
             "colorbar": {
              "outlinewidth": 0,
              "ticks": ""
             }
            },
            "type": "scatterpolargl"
           }
          ],
          "scatterternary": [
           {
            "marker": {
             "colorbar": {
              "outlinewidth": 0,
              "ticks": ""
             }
            },
            "type": "scatterternary"
           }
          ],
          "surface": [
           {
            "colorbar": {
             "outlinewidth": 0,
             "ticks": ""
            },
            "colorscale": [
             [
              0,
              "#0d0887"
             ],
             [
              0.1111111111111111,
              "#46039f"
             ],
             [
              0.2222222222222222,
              "#7201a8"
             ],
             [
              0.3333333333333333,
              "#9c179e"
             ],
             [
              0.4444444444444444,
              "#bd3786"
             ],
             [
              0.5555555555555556,
              "#d8576b"
             ],
             [
              0.6666666666666666,
              "#ed7953"
             ],
             [
              0.7777777777777778,
              "#fb9f3a"
             ],
             [
              0.8888888888888888,
              "#fdca26"
             ],
             [
              1,
              "#f0f921"
             ]
            ],
            "type": "surface"
           }
          ],
          "table": [
           {
            "cells": {
             "fill": {
              "color": "#EBF0F8"
             },
             "line": {
              "color": "white"
             }
            },
            "header": {
             "fill": {
              "color": "#C8D4E3"
             },
             "line": {
              "color": "white"
             }
            },
            "type": "table"
           }
          ]
         },
         "layout": {
          "annotationdefaults": {
           "arrowcolor": "#2a3f5f",
           "arrowhead": 0,
           "arrowwidth": 1
          },
          "autotypenumbers": "strict",
          "coloraxis": {
           "colorbar": {
            "outlinewidth": 0,
            "ticks": ""
           }
          },
          "colorscale": {
           "diverging": [
            [
             0,
             "#8e0152"
            ],
            [
             0.1,
             "#c51b7d"
            ],
            [
             0.2,
             "#de77ae"
            ],
            [
             0.3,
             "#f1b6da"
            ],
            [
             0.4,
             "#fde0ef"
            ],
            [
             0.5,
             "#f7f7f7"
            ],
            [
             0.6,
             "#e6f5d0"
            ],
            [
             0.7,
             "#b8e186"
            ],
            [
             0.8,
             "#7fbc41"
            ],
            [
             0.9,
             "#4d9221"
            ],
            [
             1,
             "#276419"
            ]
           ],
           "sequential": [
            [
             0,
             "#0d0887"
            ],
            [
             0.1111111111111111,
             "#46039f"
            ],
            [
             0.2222222222222222,
             "#7201a8"
            ],
            [
             0.3333333333333333,
             "#9c179e"
            ],
            [
             0.4444444444444444,
             "#bd3786"
            ],
            [
             0.5555555555555556,
             "#d8576b"
            ],
            [
             0.6666666666666666,
             "#ed7953"
            ],
            [
             0.7777777777777778,
             "#fb9f3a"
            ],
            [
             0.8888888888888888,
             "#fdca26"
            ],
            [
             1,
             "#f0f921"
            ]
           ],
           "sequentialminus": [
            [
             0,
             "#0d0887"
            ],
            [
             0.1111111111111111,
             "#46039f"
            ],
            [
             0.2222222222222222,
             "#7201a8"
            ],
            [
             0.3333333333333333,
             "#9c179e"
            ],
            [
             0.4444444444444444,
             "#bd3786"
            ],
            [
             0.5555555555555556,
             "#d8576b"
            ],
            [
             0.6666666666666666,
             "#ed7953"
            ],
            [
             0.7777777777777778,
             "#fb9f3a"
            ],
            [
             0.8888888888888888,
             "#fdca26"
            ],
            [
             1,
             "#f0f921"
            ]
           ]
          },
          "colorway": [
           "#636efa",
           "#EF553B",
           "#00cc96",
           "#ab63fa",
           "#FFA15A",
           "#19d3f3",
           "#FF6692",
           "#B6E880",
           "#FF97FF",
           "#FECB52"
          ],
          "font": {
           "color": "#2a3f5f"
          },
          "geo": {
           "bgcolor": "white",
           "lakecolor": "white",
           "landcolor": "#E5ECF6",
           "showlakes": true,
           "showland": true,
           "subunitcolor": "white"
          },
          "hoverlabel": {
           "align": "left"
          },
          "hovermode": "closest",
          "mapbox": {
           "style": "light"
          },
          "paper_bgcolor": "white",
          "plot_bgcolor": "#E5ECF6",
          "polar": {
           "angularaxis": {
            "gridcolor": "white",
            "linecolor": "white",
            "ticks": ""
           },
           "bgcolor": "#E5ECF6",
           "radialaxis": {
            "gridcolor": "white",
            "linecolor": "white",
            "ticks": ""
           }
          },
          "scene": {
           "xaxis": {
            "backgroundcolor": "#E5ECF6",
            "gridcolor": "white",
            "gridwidth": 2,
            "linecolor": "white",
            "showbackground": true,
            "ticks": "",
            "zerolinecolor": "white"
           },
           "yaxis": {
            "backgroundcolor": "#E5ECF6",
            "gridcolor": "white",
            "gridwidth": 2,
            "linecolor": "white",
            "showbackground": true,
            "ticks": "",
            "zerolinecolor": "white"
           },
           "zaxis": {
            "backgroundcolor": "#E5ECF6",
            "gridcolor": "white",
            "gridwidth": 2,
            "linecolor": "white",
            "showbackground": true,
            "ticks": "",
            "zerolinecolor": "white"
           }
          },
          "shapedefaults": {
           "line": {
            "color": "#2a3f5f"
           }
          },
          "ternary": {
           "aaxis": {
            "gridcolor": "white",
            "linecolor": "white",
            "ticks": ""
           },
           "baxis": {
            "gridcolor": "white",
            "linecolor": "white",
            "ticks": ""
           },
           "bgcolor": "#E5ECF6",
           "caxis": {
            "gridcolor": "white",
            "linecolor": "white",
            "ticks": ""
           }
          },
          "title": {
           "x": 0.05
          },
          "xaxis": {
           "automargin": true,
           "gridcolor": "white",
           "linecolor": "white",
           "ticks": "",
           "title": {
            "standoff": 15
           },
           "zerolinecolor": "white",
           "zerolinewidth": 2
          },
          "yaxis": {
           "automargin": true,
           "gridcolor": "white",
           "linecolor": "white",
           "ticks": "",
           "title": {
            "standoff": 15
           },
           "zerolinecolor": "white",
           "zerolinewidth": 2
          }
         }
        },
        "title": {
         "text": "Is this relationship 'linear' in a 'y=x' way?"
        },
        "xaxis": {
         "anchor": "y",
         "domain": [
          0,
          1
         ],
         "title": {
          "text": "Fitted Values"
         }
        },
        "yaxis": {
         "anchor": "x",
         "domain": [
          0,
          1
         ],
         "title": {
          "text": "Outcome"
         }
        }
       }
      }
     },
     "metadata": {},
     "output_type": "display_data"
    }
   ],
   "source": [
    "# If y versus y-hat does not follow the \"linearity\" of the \"y=x\" line, the \"linearity assumption\" is implausible\n",
    "fitted_values = data_fitted_model.fittedvalues\n",
    "residual_linearity = px.scatter(x=fitted_values, y=francis_galton_df['child_height'], \n",
    "                                title=\"Is this relationship 'linear' in a 'y=x' way?\")\n",
    "residual_linearity.update_layout(xaxis_title=\"Fitted Values\", yaxis_title=\"Outcome\")\n",
    "residual_linearity.add_scatter(x=[min(fitted_values), max(fitted_values)], y=[min(fitted_values), max(fitted_values)],\n",
    "                               mode='lines', line=dict(color='red', dash='dash'), name=\"The 'y=x' line\")\n",
    "residual_linearity.show()"
   ]
  },
  {
   "cell_type": "code",
   "execution_count": 24,
   "metadata": {},
   "outputs": [
    {
     "data": {
      "text/html": [
       "<table class=\"simpletable\">\n",
       "<tr>\n",
       "        <td></td>           <th>coef</th>     <th>std err</th>      <th>t</th>      <th>P>|t|</th>  <th>[0.025</th>    <th>0.975]</th>  \n",
       "</tr>\n",
       "<tr>\n",
       "  <th>Intercept</th>     <td>    3.0236</td> <td>    4.540</td> <td>    0.666</td> <td> 0.514</td> <td>   -6.515</td> <td>   12.563</td>\n",
       "</tr>\n",
       "<tr>\n",
       "  <th>parent_height</th> <td>    0.9475</td> <td>    0.068</td> <td>   14.021</td> <td> 0.000</td> <td>    0.806</td> <td>    1.090</td>\n",
       "</tr>\n",
       "</table>"
      ],
      "text/latex": [
       "\\begin{center}\n",
       "\\begin{tabular}{lcccccc}\n",
       "\\toprule\n",
       "                        & \\textbf{coef} & \\textbf{std err} & \\textbf{t} & \\textbf{P$> |$t$|$} & \\textbf{[0.025} & \\textbf{0.975]}  \\\\\n",
       "\\midrule\n",
       "\\textbf{Intercept}      &       3.0236  &        4.540     &     0.666  &         0.514        &       -6.515    &       12.563     \\\\\n",
       "\\textbf{parent\\_height} &       0.9475  &        0.068     &    14.021  &         0.000        &        0.806    &        1.090     \\\\\n",
       "\\bottomrule\n",
       "\\end{tabular}\n",
       "\\end{center}"
      ],
      "text/plain": [
       "<class 'statsmodels.iolib.table.SimpleTable'>"
      ]
     },
     "execution_count": 24,
     "metadata": {},
     "output_type": "execute_result"
    }
   ],
   "source": [
    "data_fitted_model.summary()  # generates a detailed report of statistical estimates and related information; but, ... \n",
    "data_fitted_model.summary().tables[1]  # what we need for *hypothesis testing* is contained in its `.tables[1]` attribute"
   ]
  },
  {
   "cell_type": "code",
   "execution_count": 26,
   "metadata": {},
   "outputs": [
    {
     "data": {
      "application/vnd.plotly.v1+json": {
       "config": {
        "plotlyServerURL": "https://plot.ly"
       },
       "data": [
        {
         "alignmentgroup": "True",
         "bingroup": "x",
         "hovertemplate": "variable=0<br>value=%{x}<br>count=%{y}<extra></extra>",
         "legendgroup": "0",
         "marker": {
          "color": "#636efa",
          "pattern": {
           "shape": ""
          }
         },
         "name": "0",
         "offsetgroup": "0",
         "orientation": "v",
         "showlegend": true,
         "type": "histogram",
         "x": [
          -1.8242128935532094,
          -0.9553973013493362,
          -0.0865817091454204,
          0.3347076461769163,
          -0.19152923538230482,
          -0.5341079460269782,
          0.4921289355322358,
          0.5183658170914498,
          0.5446026986506638,
          0.6495502248875482,
          -0.2717391304347814,
          0.6233133433283342,
          -0.6390554722638626,
          -0.5078710644677642,
          0.5708395802099062,
          0.5970764617691202,
          0.4396551724137936,
          -0.11281859070464861,
          0.5183658170914498,
          -0.16529235382308372
         ],
         "xaxis": "x",
         "yaxis": "y"
        }
       ],
       "layout": {
        "barmode": "relative",
        "legend": {
         "title": {
          "text": "variable"
         },
         "tracegroupgap": 0
        },
        "template": {
         "data": {
          "bar": [
           {
            "error_x": {
             "color": "#2a3f5f"
            },
            "error_y": {
             "color": "#2a3f5f"
            },
            "marker": {
             "line": {
              "color": "#E5ECF6",
              "width": 0.5
             },
             "pattern": {
              "fillmode": "overlay",
              "size": 10,
              "solidity": 0.2
             }
            },
            "type": "bar"
           }
          ],
          "barpolar": [
           {
            "marker": {
             "line": {
              "color": "#E5ECF6",
              "width": 0.5
             },
             "pattern": {
              "fillmode": "overlay",
              "size": 10,
              "solidity": 0.2
             }
            },
            "type": "barpolar"
           }
          ],
          "carpet": [
           {
            "aaxis": {
             "endlinecolor": "#2a3f5f",
             "gridcolor": "white",
             "linecolor": "white",
             "minorgridcolor": "white",
             "startlinecolor": "#2a3f5f"
            },
            "baxis": {
             "endlinecolor": "#2a3f5f",
             "gridcolor": "white",
             "linecolor": "white",
             "minorgridcolor": "white",
             "startlinecolor": "#2a3f5f"
            },
            "type": "carpet"
           }
          ],
          "choropleth": [
           {
            "colorbar": {
             "outlinewidth": 0,
             "ticks": ""
            },
            "type": "choropleth"
           }
          ],
          "contour": [
           {
            "colorbar": {
             "outlinewidth": 0,
             "ticks": ""
            },
            "colorscale": [
             [
              0,
              "#0d0887"
             ],
             [
              0.1111111111111111,
              "#46039f"
             ],
             [
              0.2222222222222222,
              "#7201a8"
             ],
             [
              0.3333333333333333,
              "#9c179e"
             ],
             [
              0.4444444444444444,
              "#bd3786"
             ],
             [
              0.5555555555555556,
              "#d8576b"
             ],
             [
              0.6666666666666666,
              "#ed7953"
             ],
             [
              0.7777777777777778,
              "#fb9f3a"
             ],
             [
              0.8888888888888888,
              "#fdca26"
             ],
             [
              1,
              "#f0f921"
             ]
            ],
            "type": "contour"
           }
          ],
          "contourcarpet": [
           {
            "colorbar": {
             "outlinewidth": 0,
             "ticks": ""
            },
            "type": "contourcarpet"
           }
          ],
          "heatmap": [
           {
            "colorbar": {
             "outlinewidth": 0,
             "ticks": ""
            },
            "colorscale": [
             [
              0,
              "#0d0887"
             ],
             [
              0.1111111111111111,
              "#46039f"
             ],
             [
              0.2222222222222222,
              "#7201a8"
             ],
             [
              0.3333333333333333,
              "#9c179e"
             ],
             [
              0.4444444444444444,
              "#bd3786"
             ],
             [
              0.5555555555555556,
              "#d8576b"
             ],
             [
              0.6666666666666666,
              "#ed7953"
             ],
             [
              0.7777777777777778,
              "#fb9f3a"
             ],
             [
              0.8888888888888888,
              "#fdca26"
             ],
             [
              1,
              "#f0f921"
             ]
            ],
            "type": "heatmap"
           }
          ],
          "heatmapgl": [
           {
            "colorbar": {
             "outlinewidth": 0,
             "ticks": ""
            },
            "colorscale": [
             [
              0,
              "#0d0887"
             ],
             [
              0.1111111111111111,
              "#46039f"
             ],
             [
              0.2222222222222222,
              "#7201a8"
             ],
             [
              0.3333333333333333,
              "#9c179e"
             ],
             [
              0.4444444444444444,
              "#bd3786"
             ],
             [
              0.5555555555555556,
              "#d8576b"
             ],
             [
              0.6666666666666666,
              "#ed7953"
             ],
             [
              0.7777777777777778,
              "#fb9f3a"
             ],
             [
              0.8888888888888888,
              "#fdca26"
             ],
             [
              1,
              "#f0f921"
             ]
            ],
            "type": "heatmapgl"
           }
          ],
          "histogram": [
           {
            "marker": {
             "pattern": {
              "fillmode": "overlay",
              "size": 10,
              "solidity": 0.2
             }
            },
            "type": "histogram"
           }
          ],
          "histogram2d": [
           {
            "colorbar": {
             "outlinewidth": 0,
             "ticks": ""
            },
            "colorscale": [
             [
              0,
              "#0d0887"
             ],
             [
              0.1111111111111111,
              "#46039f"
             ],
             [
              0.2222222222222222,
              "#7201a8"
             ],
             [
              0.3333333333333333,
              "#9c179e"
             ],
             [
              0.4444444444444444,
              "#bd3786"
             ],
             [
              0.5555555555555556,
              "#d8576b"
             ],
             [
              0.6666666666666666,
              "#ed7953"
             ],
             [
              0.7777777777777778,
              "#fb9f3a"
             ],
             [
              0.8888888888888888,
              "#fdca26"
             ],
             [
              1,
              "#f0f921"
             ]
            ],
            "type": "histogram2d"
           }
          ],
          "histogram2dcontour": [
           {
            "colorbar": {
             "outlinewidth": 0,
             "ticks": ""
            },
            "colorscale": [
             [
              0,
              "#0d0887"
             ],
             [
              0.1111111111111111,
              "#46039f"
             ],
             [
              0.2222222222222222,
              "#7201a8"
             ],
             [
              0.3333333333333333,
              "#9c179e"
             ],
             [
              0.4444444444444444,
              "#bd3786"
             ],
             [
              0.5555555555555556,
              "#d8576b"
             ],
             [
              0.6666666666666666,
              "#ed7953"
             ],
             [
              0.7777777777777778,
              "#fb9f3a"
             ],
             [
              0.8888888888888888,
              "#fdca26"
             ],
             [
              1,
              "#f0f921"
             ]
            ],
            "type": "histogram2dcontour"
           }
          ],
          "mesh3d": [
           {
            "colorbar": {
             "outlinewidth": 0,
             "ticks": ""
            },
            "type": "mesh3d"
           }
          ],
          "parcoords": [
           {
            "line": {
             "colorbar": {
              "outlinewidth": 0,
              "ticks": ""
             }
            },
            "type": "parcoords"
           }
          ],
          "pie": [
           {
            "automargin": true,
            "type": "pie"
           }
          ],
          "scatter": [
           {
            "fillpattern": {
             "fillmode": "overlay",
             "size": 10,
             "solidity": 0.2
            },
            "type": "scatter"
           }
          ],
          "scatter3d": [
           {
            "line": {
             "colorbar": {
              "outlinewidth": 0,
              "ticks": ""
             }
            },
            "marker": {
             "colorbar": {
              "outlinewidth": 0,
              "ticks": ""
             }
            },
            "type": "scatter3d"
           }
          ],
          "scattercarpet": [
           {
            "marker": {
             "colorbar": {
              "outlinewidth": 0,
              "ticks": ""
             }
            },
            "type": "scattercarpet"
           }
          ],
          "scattergeo": [
           {
            "marker": {
             "colorbar": {
              "outlinewidth": 0,
              "ticks": ""
             }
            },
            "type": "scattergeo"
           }
          ],
          "scattergl": [
           {
            "marker": {
             "colorbar": {
              "outlinewidth": 0,
              "ticks": ""
             }
            },
            "type": "scattergl"
           }
          ],
          "scattermapbox": [
           {
            "marker": {
             "colorbar": {
              "outlinewidth": 0,
              "ticks": ""
             }
            },
            "type": "scattermapbox"
           }
          ],
          "scatterpolar": [
           {
            "marker": {
             "colorbar": {
              "outlinewidth": 0,
              "ticks": ""
             }
            },
            "type": "scatterpolar"
           }
          ],
          "scatterpolargl": [
           {
            "marker": {
             "colorbar": {
              "outlinewidth": 0,
              "ticks": ""
             }
            },
            "type": "scatterpolargl"
           }
          ],
          "scatterternary": [
           {
            "marker": {
             "colorbar": {
              "outlinewidth": 0,
              "ticks": ""
             }
            },
            "type": "scatterternary"
           }
          ],
          "surface": [
           {
            "colorbar": {
             "outlinewidth": 0,
             "ticks": ""
            },
            "colorscale": [
             [
              0,
              "#0d0887"
             ],
             [
              0.1111111111111111,
              "#46039f"
             ],
             [
              0.2222222222222222,
              "#7201a8"
             ],
             [
              0.3333333333333333,
              "#9c179e"
             ],
             [
              0.4444444444444444,
              "#bd3786"
             ],
             [
              0.5555555555555556,
              "#d8576b"
             ],
             [
              0.6666666666666666,
              "#ed7953"
             ],
             [
              0.7777777777777778,
              "#fb9f3a"
             ],
             [
              0.8888888888888888,
              "#fdca26"
             ],
             [
              1,
              "#f0f921"
             ]
            ],
            "type": "surface"
           }
          ],
          "table": [
           {
            "cells": {
             "fill": {
              "color": "#EBF0F8"
             },
             "line": {
              "color": "white"
             }
            },
            "header": {
             "fill": {
              "color": "#C8D4E3"
             },
             "line": {
              "color": "white"
             }
            },
            "type": "table"
           }
          ]
         },
         "layout": {
          "annotationdefaults": {
           "arrowcolor": "#2a3f5f",
           "arrowhead": 0,
           "arrowwidth": 1
          },
          "autotypenumbers": "strict",
          "coloraxis": {
           "colorbar": {
            "outlinewidth": 0,
            "ticks": ""
           }
          },
          "colorscale": {
           "diverging": [
            [
             0,
             "#8e0152"
            ],
            [
             0.1,
             "#c51b7d"
            ],
            [
             0.2,
             "#de77ae"
            ],
            [
             0.3,
             "#f1b6da"
            ],
            [
             0.4,
             "#fde0ef"
            ],
            [
             0.5,
             "#f7f7f7"
            ],
            [
             0.6,
             "#e6f5d0"
            ],
            [
             0.7,
             "#b8e186"
            ],
            [
             0.8,
             "#7fbc41"
            ],
            [
             0.9,
             "#4d9221"
            ],
            [
             1,
             "#276419"
            ]
           ],
           "sequential": [
            [
             0,
             "#0d0887"
            ],
            [
             0.1111111111111111,
             "#46039f"
            ],
            [
             0.2222222222222222,
             "#7201a8"
            ],
            [
             0.3333333333333333,
             "#9c179e"
            ],
            [
             0.4444444444444444,
             "#bd3786"
            ],
            [
             0.5555555555555556,
             "#d8576b"
            ],
            [
             0.6666666666666666,
             "#ed7953"
            ],
            [
             0.7777777777777778,
             "#fb9f3a"
            ],
            [
             0.8888888888888888,
             "#fdca26"
            ],
            [
             1,
             "#f0f921"
            ]
           ],
           "sequentialminus": [
            [
             0,
             "#0d0887"
            ],
            [
             0.1111111111111111,
             "#46039f"
            ],
            [
             0.2222222222222222,
             "#7201a8"
            ],
            [
             0.3333333333333333,
             "#9c179e"
            ],
            [
             0.4444444444444444,
             "#bd3786"
            ],
            [
             0.5555555555555556,
             "#d8576b"
            ],
            [
             0.6666666666666666,
             "#ed7953"
            ],
            [
             0.7777777777777778,
             "#fb9f3a"
            ],
            [
             0.8888888888888888,
             "#fdca26"
            ],
            [
             1,
             "#f0f921"
            ]
           ]
          },
          "colorway": [
           "#636efa",
           "#EF553B",
           "#00cc96",
           "#ab63fa",
           "#FFA15A",
           "#19d3f3",
           "#FF6692",
           "#B6E880",
           "#FF97FF",
           "#FECB52"
          ],
          "font": {
           "color": "#2a3f5f"
          },
          "geo": {
           "bgcolor": "white",
           "lakecolor": "white",
           "landcolor": "#E5ECF6",
           "showlakes": true,
           "showland": true,
           "subunitcolor": "white"
          },
          "hoverlabel": {
           "align": "left"
          },
          "hovermode": "closest",
          "mapbox": {
           "style": "light"
          },
          "paper_bgcolor": "white",
          "plot_bgcolor": "#E5ECF6",
          "polar": {
           "angularaxis": {
            "gridcolor": "white",
            "linecolor": "white",
            "ticks": ""
           },
           "bgcolor": "#E5ECF6",
           "radialaxis": {
            "gridcolor": "white",
            "linecolor": "white",
            "ticks": ""
           }
          },
          "scene": {
           "xaxis": {
            "backgroundcolor": "#E5ECF6",
            "gridcolor": "white",
            "gridwidth": 2,
            "linecolor": "white",
            "showbackground": true,
            "ticks": "",
            "zerolinecolor": "white"
           },
           "yaxis": {
            "backgroundcolor": "#E5ECF6",
            "gridcolor": "white",
            "gridwidth": 2,
            "linecolor": "white",
            "showbackground": true,
            "ticks": "",
            "zerolinecolor": "white"
           },
           "zaxis": {
            "backgroundcolor": "#E5ECF6",
            "gridcolor": "white",
            "gridwidth": 2,
            "linecolor": "white",
            "showbackground": true,
            "ticks": "",
            "zerolinecolor": "white"
           }
          },
          "shapedefaults": {
           "line": {
            "color": "#2a3f5f"
           }
          },
          "ternary": {
           "aaxis": {
            "gridcolor": "white",
            "linecolor": "white",
            "ticks": ""
           },
           "baxis": {
            "gridcolor": "white",
            "linecolor": "white",
            "ticks": ""
           },
           "bgcolor": "#E5ECF6",
           "caxis": {
            "gridcolor": "white",
            "linecolor": "white",
            "ticks": ""
           }
          },
          "title": {
           "x": 0.05
          },
          "xaxis": {
           "automargin": true,
           "gridcolor": "white",
           "linecolor": "white",
           "ticks": "",
           "title": {
            "standoff": 15
           },
           "zerolinecolor": "white",
           "zerolinewidth": 2
          },
          "yaxis": {
           "automargin": true,
           "gridcolor": "white",
           "linecolor": "white",
           "ticks": "",
           "title": {
            "standoff": 15
           },
           "zerolinecolor": "white",
           "zerolinewidth": 2
          }
         }
        },
        "title": {
         "text": "Histogram of Residuals"
        },
        "xaxis": {
         "anchor": "y",
         "domain": [
          0,
          1
         ],
         "title": {
          "text": "Does this appear normally distributed?"
         }
        },
        "yaxis": {
         "anchor": "x",
         "domain": [
          0,
          1
         ],
         "title": {
          "text": "Count"
         }
        }
       }
      }
     },
     "metadata": {},
     "output_type": "display_data"
    }
   ],
   "source": [
    "# If *residuals* do not appear approximately normally distributed, the \"normality assumption\" is implausible\n",
    "residual_normality = px.histogram(data_fitted_model.resid, title=\"Histogram of Residuals\")\n",
    "residual_normality.update_layout(xaxis_title=\"Does this appear normally distributed?\", yaxis_title=\"Count\")\n",
    "residual_normality.show()"
   ]
  },
  {
   "cell_type": "code",
   "execution_count": 25,
   "metadata": {},
   "outputs": [
    {
     "data": {
      "application/vnd.plotly.v1+json": {
       "config": {
        "plotlyServerURL": "https://plot.ly"
       },
       "data": [
        {
         "hovertemplate": "x=%{x}<br>y=%{y}<extra></extra>",
         "legendgroup": "",
         "marker": {
          "color": "#636efa",
          "symbol": "circle"
         },
         "mode": "markers",
         "name": "",
         "orientation": "v",
         "showlegend": false,
         "type": "scatter",
         "x": [
          69.82421289355321,
          67.45539730134934,
          65.08658170914542,
          63.665292353823084,
          63.191529235382305,
          66.03410794602698,
          66.50787106446776,
          66.98163418290855,
          67.45539730134934,
          69.35044977511245,
          70.77173913043478,
          68.87668665667167,
          64.13905547226386,
          66.50787106446776,
          67.9291604197901,
          68.40292353823088,
          65.5603448275862,
          64.61281859070465,
          66.98163418290855,
          63.665292353823084
         ],
         "xaxis": "x",
         "y": [
          -1.8242128935532094,
          -0.9553973013493362,
          -0.0865817091454204,
          0.3347076461769163,
          -0.19152923538230482,
          -0.5341079460269782,
          0.4921289355322358,
          0.5183658170914498,
          0.5446026986506638,
          0.6495502248875482,
          -0.2717391304347814,
          0.6233133433283342,
          -0.6390554722638626,
          -0.5078710644677642,
          0.5708395802099062,
          0.5970764617691202,
          0.4396551724137936,
          -0.11281859070464861,
          0.5183658170914498,
          -0.16529235382308372
         ],
         "yaxis": "y"
        }
       ],
       "layout": {
        "legend": {
         "tracegroupgap": 0
        },
        "shapes": [
         {
          "line": {
           "color": "red",
           "dash": "dash"
          },
          "type": "line",
          "x0": 0,
          "x1": 1,
          "xref": "x domain",
          "y0": 0,
          "y1": 0,
          "yref": "y"
         }
        ],
        "template": {
         "data": {
          "bar": [
           {
            "error_x": {
             "color": "#2a3f5f"
            },
            "error_y": {
             "color": "#2a3f5f"
            },
            "marker": {
             "line": {
              "color": "#E5ECF6",
              "width": 0.5
             },
             "pattern": {
              "fillmode": "overlay",
              "size": 10,
              "solidity": 0.2
             }
            },
            "type": "bar"
           }
          ],
          "barpolar": [
           {
            "marker": {
             "line": {
              "color": "#E5ECF6",
              "width": 0.5
             },
             "pattern": {
              "fillmode": "overlay",
              "size": 10,
              "solidity": 0.2
             }
            },
            "type": "barpolar"
           }
          ],
          "carpet": [
           {
            "aaxis": {
             "endlinecolor": "#2a3f5f",
             "gridcolor": "white",
             "linecolor": "white",
             "minorgridcolor": "white",
             "startlinecolor": "#2a3f5f"
            },
            "baxis": {
             "endlinecolor": "#2a3f5f",
             "gridcolor": "white",
             "linecolor": "white",
             "minorgridcolor": "white",
             "startlinecolor": "#2a3f5f"
            },
            "type": "carpet"
           }
          ],
          "choropleth": [
           {
            "colorbar": {
             "outlinewidth": 0,
             "ticks": ""
            },
            "type": "choropleth"
           }
          ],
          "contour": [
           {
            "colorbar": {
             "outlinewidth": 0,
             "ticks": ""
            },
            "colorscale": [
             [
              0,
              "#0d0887"
             ],
             [
              0.1111111111111111,
              "#46039f"
             ],
             [
              0.2222222222222222,
              "#7201a8"
             ],
             [
              0.3333333333333333,
              "#9c179e"
             ],
             [
              0.4444444444444444,
              "#bd3786"
             ],
             [
              0.5555555555555556,
              "#d8576b"
             ],
             [
              0.6666666666666666,
              "#ed7953"
             ],
             [
              0.7777777777777778,
              "#fb9f3a"
             ],
             [
              0.8888888888888888,
              "#fdca26"
             ],
             [
              1,
              "#f0f921"
             ]
            ],
            "type": "contour"
           }
          ],
          "contourcarpet": [
           {
            "colorbar": {
             "outlinewidth": 0,
             "ticks": ""
            },
            "type": "contourcarpet"
           }
          ],
          "heatmap": [
           {
            "colorbar": {
             "outlinewidth": 0,
             "ticks": ""
            },
            "colorscale": [
             [
              0,
              "#0d0887"
             ],
             [
              0.1111111111111111,
              "#46039f"
             ],
             [
              0.2222222222222222,
              "#7201a8"
             ],
             [
              0.3333333333333333,
              "#9c179e"
             ],
             [
              0.4444444444444444,
              "#bd3786"
             ],
             [
              0.5555555555555556,
              "#d8576b"
             ],
             [
              0.6666666666666666,
              "#ed7953"
             ],
             [
              0.7777777777777778,
              "#fb9f3a"
             ],
             [
              0.8888888888888888,
              "#fdca26"
             ],
             [
              1,
              "#f0f921"
             ]
            ],
            "type": "heatmap"
           }
          ],
          "heatmapgl": [
           {
            "colorbar": {
             "outlinewidth": 0,
             "ticks": ""
            },
            "colorscale": [
             [
              0,
              "#0d0887"
             ],
             [
              0.1111111111111111,
              "#46039f"
             ],
             [
              0.2222222222222222,
              "#7201a8"
             ],
             [
              0.3333333333333333,
              "#9c179e"
             ],
             [
              0.4444444444444444,
              "#bd3786"
             ],
             [
              0.5555555555555556,
              "#d8576b"
             ],
             [
              0.6666666666666666,
              "#ed7953"
             ],
             [
              0.7777777777777778,
              "#fb9f3a"
             ],
             [
              0.8888888888888888,
              "#fdca26"
             ],
             [
              1,
              "#f0f921"
             ]
            ],
            "type": "heatmapgl"
           }
          ],
          "histogram": [
           {
            "marker": {
             "pattern": {
              "fillmode": "overlay",
              "size": 10,
              "solidity": 0.2
             }
            },
            "type": "histogram"
           }
          ],
          "histogram2d": [
           {
            "colorbar": {
             "outlinewidth": 0,
             "ticks": ""
            },
            "colorscale": [
             [
              0,
              "#0d0887"
             ],
             [
              0.1111111111111111,
              "#46039f"
             ],
             [
              0.2222222222222222,
              "#7201a8"
             ],
             [
              0.3333333333333333,
              "#9c179e"
             ],
             [
              0.4444444444444444,
              "#bd3786"
             ],
             [
              0.5555555555555556,
              "#d8576b"
             ],
             [
              0.6666666666666666,
              "#ed7953"
             ],
             [
              0.7777777777777778,
              "#fb9f3a"
             ],
             [
              0.8888888888888888,
              "#fdca26"
             ],
             [
              1,
              "#f0f921"
             ]
            ],
            "type": "histogram2d"
           }
          ],
          "histogram2dcontour": [
           {
            "colorbar": {
             "outlinewidth": 0,
             "ticks": ""
            },
            "colorscale": [
             [
              0,
              "#0d0887"
             ],
             [
              0.1111111111111111,
              "#46039f"
             ],
             [
              0.2222222222222222,
              "#7201a8"
             ],
             [
              0.3333333333333333,
              "#9c179e"
             ],
             [
              0.4444444444444444,
              "#bd3786"
             ],
             [
              0.5555555555555556,
              "#d8576b"
             ],
             [
              0.6666666666666666,
              "#ed7953"
             ],
             [
              0.7777777777777778,
              "#fb9f3a"
             ],
             [
              0.8888888888888888,
              "#fdca26"
             ],
             [
              1,
              "#f0f921"
             ]
            ],
            "type": "histogram2dcontour"
           }
          ],
          "mesh3d": [
           {
            "colorbar": {
             "outlinewidth": 0,
             "ticks": ""
            },
            "type": "mesh3d"
           }
          ],
          "parcoords": [
           {
            "line": {
             "colorbar": {
              "outlinewidth": 0,
              "ticks": ""
             }
            },
            "type": "parcoords"
           }
          ],
          "pie": [
           {
            "automargin": true,
            "type": "pie"
           }
          ],
          "scatter": [
           {
            "fillpattern": {
             "fillmode": "overlay",
             "size": 10,
             "solidity": 0.2
            },
            "type": "scatter"
           }
          ],
          "scatter3d": [
           {
            "line": {
             "colorbar": {
              "outlinewidth": 0,
              "ticks": ""
             }
            },
            "marker": {
             "colorbar": {
              "outlinewidth": 0,
              "ticks": ""
             }
            },
            "type": "scatter3d"
           }
          ],
          "scattercarpet": [
           {
            "marker": {
             "colorbar": {
              "outlinewidth": 0,
              "ticks": ""
             }
            },
            "type": "scattercarpet"
           }
          ],
          "scattergeo": [
           {
            "marker": {
             "colorbar": {
              "outlinewidth": 0,
              "ticks": ""
             }
            },
            "type": "scattergeo"
           }
          ],
          "scattergl": [
           {
            "marker": {
             "colorbar": {
              "outlinewidth": 0,
              "ticks": ""
             }
            },
            "type": "scattergl"
           }
          ],
          "scattermapbox": [
           {
            "marker": {
             "colorbar": {
              "outlinewidth": 0,
              "ticks": ""
             }
            },
            "type": "scattermapbox"
           }
          ],
          "scatterpolar": [
           {
            "marker": {
             "colorbar": {
              "outlinewidth": 0,
              "ticks": ""
             }
            },
            "type": "scatterpolar"
           }
          ],
          "scatterpolargl": [
           {
            "marker": {
             "colorbar": {
              "outlinewidth": 0,
              "ticks": ""
             }
            },
            "type": "scatterpolargl"
           }
          ],
          "scatterternary": [
           {
            "marker": {
             "colorbar": {
              "outlinewidth": 0,
              "ticks": ""
             }
            },
            "type": "scatterternary"
           }
          ],
          "surface": [
           {
            "colorbar": {
             "outlinewidth": 0,
             "ticks": ""
            },
            "colorscale": [
             [
              0,
              "#0d0887"
             ],
             [
              0.1111111111111111,
              "#46039f"
             ],
             [
              0.2222222222222222,
              "#7201a8"
             ],
             [
              0.3333333333333333,
              "#9c179e"
             ],
             [
              0.4444444444444444,
              "#bd3786"
             ],
             [
              0.5555555555555556,
              "#d8576b"
             ],
             [
              0.6666666666666666,
              "#ed7953"
             ],
             [
              0.7777777777777778,
              "#fb9f3a"
             ],
             [
              0.8888888888888888,
              "#fdca26"
             ],
             [
              1,
              "#f0f921"
             ]
            ],
            "type": "surface"
           }
          ],
          "table": [
           {
            "cells": {
             "fill": {
              "color": "#EBF0F8"
             },
             "line": {
              "color": "white"
             }
            },
            "header": {
             "fill": {
              "color": "#C8D4E3"
             },
             "line": {
              "color": "white"
             }
            },
            "type": "table"
           }
          ]
         },
         "layout": {
          "annotationdefaults": {
           "arrowcolor": "#2a3f5f",
           "arrowhead": 0,
           "arrowwidth": 1
          },
          "autotypenumbers": "strict",
          "coloraxis": {
           "colorbar": {
            "outlinewidth": 0,
            "ticks": ""
           }
          },
          "colorscale": {
           "diverging": [
            [
             0,
             "#8e0152"
            ],
            [
             0.1,
             "#c51b7d"
            ],
            [
             0.2,
             "#de77ae"
            ],
            [
             0.3,
             "#f1b6da"
            ],
            [
             0.4,
             "#fde0ef"
            ],
            [
             0.5,
             "#f7f7f7"
            ],
            [
             0.6,
             "#e6f5d0"
            ],
            [
             0.7,
             "#b8e186"
            ],
            [
             0.8,
             "#7fbc41"
            ],
            [
             0.9,
             "#4d9221"
            ],
            [
             1,
             "#276419"
            ]
           ],
           "sequential": [
            [
             0,
             "#0d0887"
            ],
            [
             0.1111111111111111,
             "#46039f"
            ],
            [
             0.2222222222222222,
             "#7201a8"
            ],
            [
             0.3333333333333333,
             "#9c179e"
            ],
            [
             0.4444444444444444,
             "#bd3786"
            ],
            [
             0.5555555555555556,
             "#d8576b"
            ],
            [
             0.6666666666666666,
             "#ed7953"
            ],
            [
             0.7777777777777778,
             "#fb9f3a"
            ],
            [
             0.8888888888888888,
             "#fdca26"
            ],
            [
             1,
             "#f0f921"
            ]
           ],
           "sequentialminus": [
            [
             0,
             "#0d0887"
            ],
            [
             0.1111111111111111,
             "#46039f"
            ],
            [
             0.2222222222222222,
             "#7201a8"
            ],
            [
             0.3333333333333333,
             "#9c179e"
            ],
            [
             0.4444444444444444,
             "#bd3786"
            ],
            [
             0.5555555555555556,
             "#d8576b"
            ],
            [
             0.6666666666666666,
             "#ed7953"
            ],
            [
             0.7777777777777778,
             "#fb9f3a"
            ],
            [
             0.8888888888888888,
             "#fdca26"
            ],
            [
             1,
             "#f0f921"
            ]
           ]
          },
          "colorway": [
           "#636efa",
           "#EF553B",
           "#00cc96",
           "#ab63fa",
           "#FFA15A",
           "#19d3f3",
           "#FF6692",
           "#B6E880",
           "#FF97FF",
           "#FECB52"
          ],
          "font": {
           "color": "#2a3f5f"
          },
          "geo": {
           "bgcolor": "white",
           "lakecolor": "white",
           "landcolor": "#E5ECF6",
           "showlakes": true,
           "showland": true,
           "subunitcolor": "white"
          },
          "hoverlabel": {
           "align": "left"
          },
          "hovermode": "closest",
          "mapbox": {
           "style": "light"
          },
          "paper_bgcolor": "white",
          "plot_bgcolor": "#E5ECF6",
          "polar": {
           "angularaxis": {
            "gridcolor": "white",
            "linecolor": "white",
            "ticks": ""
           },
           "bgcolor": "#E5ECF6",
           "radialaxis": {
            "gridcolor": "white",
            "linecolor": "white",
            "ticks": ""
           }
          },
          "scene": {
           "xaxis": {
            "backgroundcolor": "#E5ECF6",
            "gridcolor": "white",
            "gridwidth": 2,
            "linecolor": "white",
            "showbackground": true,
            "ticks": "",
            "zerolinecolor": "white"
           },
           "yaxis": {
            "backgroundcolor": "#E5ECF6",
            "gridcolor": "white",
            "gridwidth": 2,
            "linecolor": "white",
            "showbackground": true,
            "ticks": "",
            "zerolinecolor": "white"
           },
           "zaxis": {
            "backgroundcolor": "#E5ECF6",
            "gridcolor": "white",
            "gridwidth": 2,
            "linecolor": "white",
            "showbackground": true,
            "ticks": "",
            "zerolinecolor": "white"
           }
          },
          "shapedefaults": {
           "line": {
            "color": "#2a3f5f"
           }
          },
          "ternary": {
           "aaxis": {
            "gridcolor": "white",
            "linecolor": "white",
            "ticks": ""
           },
           "baxis": {
            "gridcolor": "white",
            "linecolor": "white",
            "ticks": ""
           },
           "bgcolor": "#E5ECF6",
           "caxis": {
            "gridcolor": "white",
            "linecolor": "white",
            "ticks": ""
           }
          },
          "title": {
           "x": 0.05
          },
          "xaxis": {
           "automargin": true,
           "gridcolor": "white",
           "linecolor": "white",
           "ticks": "",
           "title": {
            "standoff": 15
           },
           "zerolinecolor": "white",
           "zerolinewidth": 2
          },
          "yaxis": {
           "automargin": true,
           "gridcolor": "white",
           "linecolor": "white",
           "ticks": "",
           "title": {
            "standoff": 15
           },
           "zerolinecolor": "white",
           "zerolinewidth": 2
          }
         }
        },
        "title": {
         "text": "Does this systematically change over y-hat?"
        },
        "xaxis": {
         "anchor": "y",
         "domain": [
          0,
          1
         ],
         "title": {
          "text": "Fitted Values"
         }
        },
        "yaxis": {
         "anchor": "x",
         "domain": [
          0,
          1
         ],
         "title": {
          "text": "Residuals"
         }
        }
       }
      }
     },
     "metadata": {},
     "output_type": "display_data"
    }
   ],
   "source": [
    "# If *residuals* heights appear to systematically change over the range of y-hat, the \"heteroskedasticity assumption\" is implausible\n",
    "residual_heteroskedasticity = px.scatter(x=data_fitted_model.fittedvalues, y=data_fitted_model.resid, \n",
    "                                         title=\"Does this systematically change over y-hat?\")\n",
    "residual_heteroskedasticity.update_layout(xaxis_title=\"Fitted Values\", yaxis_title=\"Residuals\")\n",
    "residual_heteroskedasticity.add_hline(y=0, line_dash=\"dash\", line_color=\"red\")\n",
    "residual_heteroskedasticity.show()"
   ]
  },
  {
   "cell_type": "code",
   "execution_count": 23,
   "metadata": {},
   "outputs": [
    {
     "data": {
      "application/vnd.plotly.v1+json": {
       "config": {
        "plotlyServerURL": "https://plot.ly"
       },
       "data": [
        {
         "hovertemplate": "x=%{x}<br>y=%{y}<extra></extra>",
         "legendgroup": "",
         "marker": {
          "color": "#636efa",
          "symbol": "circle"
         },
         "mode": "markers",
         "name": "",
         "orientation": "v",
         "showlegend": false,
         "type": "scatter",
         "x": [
          69.82421289355321,
          67.45539730134934,
          65.08658170914542,
          63.665292353823084,
          63.191529235382305,
          66.03410794602698,
          66.50787106446776,
          66.98163418290855,
          67.45539730134934,
          69.35044977511245,
          70.77173913043478,
          68.87668665667167,
          64.13905547226386,
          66.50787106446776,
          67.9291604197901,
          68.40292353823088,
          65.5603448275862,
          64.61281859070465,
          66.98163418290855,
          63.665292353823084
         ],
         "xaxis": "x",
         "y": [
          68,
          66.5,
          65,
          64,
          63,
          65.5,
          67,
          67.5,
          68,
          70,
          70.5,
          69.5,
          63.5,
          66,
          68.5,
          69,
          66,
          64.5,
          67.5,
          63.5
         ],
         "yaxis": "y"
        },
        {
         "line": {
          "color": "red",
          "dash": "dash"
         },
         "mode": "lines",
         "name": "The 'y=x' line",
         "type": "scatter",
         "x": [
          63.191529235382305,
          70.77173913043478
         ],
         "y": [
          63.191529235382305,
          70.77173913043478
         ]
        }
       ],
       "layout": {
        "legend": {
         "tracegroupgap": 0
        },
        "template": {
         "data": {
          "bar": [
           {
            "error_x": {
             "color": "#2a3f5f"
            },
            "error_y": {
             "color": "#2a3f5f"
            },
            "marker": {
             "line": {
              "color": "#E5ECF6",
              "width": 0.5
             },
             "pattern": {
              "fillmode": "overlay",
              "size": 10,
              "solidity": 0.2
             }
            },
            "type": "bar"
           }
          ],
          "barpolar": [
           {
            "marker": {
             "line": {
              "color": "#E5ECF6",
              "width": 0.5
             },
             "pattern": {
              "fillmode": "overlay",
              "size": 10,
              "solidity": 0.2
             }
            },
            "type": "barpolar"
           }
          ],
          "carpet": [
           {
            "aaxis": {
             "endlinecolor": "#2a3f5f",
             "gridcolor": "white",
             "linecolor": "white",
             "minorgridcolor": "white",
             "startlinecolor": "#2a3f5f"
            },
            "baxis": {
             "endlinecolor": "#2a3f5f",
             "gridcolor": "white",
             "linecolor": "white",
             "minorgridcolor": "white",
             "startlinecolor": "#2a3f5f"
            },
            "type": "carpet"
           }
          ],
          "choropleth": [
           {
            "colorbar": {
             "outlinewidth": 0,
             "ticks": ""
            },
            "type": "choropleth"
           }
          ],
          "contour": [
           {
            "colorbar": {
             "outlinewidth": 0,
             "ticks": ""
            },
            "colorscale": [
             [
              0,
              "#0d0887"
             ],
             [
              0.1111111111111111,
              "#46039f"
             ],
             [
              0.2222222222222222,
              "#7201a8"
             ],
             [
              0.3333333333333333,
              "#9c179e"
             ],
             [
              0.4444444444444444,
              "#bd3786"
             ],
             [
              0.5555555555555556,
              "#d8576b"
             ],
             [
              0.6666666666666666,
              "#ed7953"
             ],
             [
              0.7777777777777778,
              "#fb9f3a"
             ],
             [
              0.8888888888888888,
              "#fdca26"
             ],
             [
              1,
              "#f0f921"
             ]
            ],
            "type": "contour"
           }
          ],
          "contourcarpet": [
           {
            "colorbar": {
             "outlinewidth": 0,
             "ticks": ""
            },
            "type": "contourcarpet"
           }
          ],
          "heatmap": [
           {
            "colorbar": {
             "outlinewidth": 0,
             "ticks": ""
            },
            "colorscale": [
             [
              0,
              "#0d0887"
             ],
             [
              0.1111111111111111,
              "#46039f"
             ],
             [
              0.2222222222222222,
              "#7201a8"
             ],
             [
              0.3333333333333333,
              "#9c179e"
             ],
             [
              0.4444444444444444,
              "#bd3786"
             ],
             [
              0.5555555555555556,
              "#d8576b"
             ],
             [
              0.6666666666666666,
              "#ed7953"
             ],
             [
              0.7777777777777778,
              "#fb9f3a"
             ],
             [
              0.8888888888888888,
              "#fdca26"
             ],
             [
              1,
              "#f0f921"
             ]
            ],
            "type": "heatmap"
           }
          ],
          "heatmapgl": [
           {
            "colorbar": {
             "outlinewidth": 0,
             "ticks": ""
            },
            "colorscale": [
             [
              0,
              "#0d0887"
             ],
             [
              0.1111111111111111,
              "#46039f"
             ],
             [
              0.2222222222222222,
              "#7201a8"
             ],
             [
              0.3333333333333333,
              "#9c179e"
             ],
             [
              0.4444444444444444,
              "#bd3786"
             ],
             [
              0.5555555555555556,
              "#d8576b"
             ],
             [
              0.6666666666666666,
              "#ed7953"
             ],
             [
              0.7777777777777778,
              "#fb9f3a"
             ],
             [
              0.8888888888888888,
              "#fdca26"
             ],
             [
              1,
              "#f0f921"
             ]
            ],
            "type": "heatmapgl"
           }
          ],
          "histogram": [
           {
            "marker": {
             "pattern": {
              "fillmode": "overlay",
              "size": 10,
              "solidity": 0.2
             }
            },
            "type": "histogram"
           }
          ],
          "histogram2d": [
           {
            "colorbar": {
             "outlinewidth": 0,
             "ticks": ""
            },
            "colorscale": [
             [
              0,
              "#0d0887"
             ],
             [
              0.1111111111111111,
              "#46039f"
             ],
             [
              0.2222222222222222,
              "#7201a8"
             ],
             [
              0.3333333333333333,
              "#9c179e"
             ],
             [
              0.4444444444444444,
              "#bd3786"
             ],
             [
              0.5555555555555556,
              "#d8576b"
             ],
             [
              0.6666666666666666,
              "#ed7953"
             ],
             [
              0.7777777777777778,
              "#fb9f3a"
             ],
             [
              0.8888888888888888,
              "#fdca26"
             ],
             [
              1,
              "#f0f921"
             ]
            ],
            "type": "histogram2d"
           }
          ],
          "histogram2dcontour": [
           {
            "colorbar": {
             "outlinewidth": 0,
             "ticks": ""
            },
            "colorscale": [
             [
              0,
              "#0d0887"
             ],
             [
              0.1111111111111111,
              "#46039f"
             ],
             [
              0.2222222222222222,
              "#7201a8"
             ],
             [
              0.3333333333333333,
              "#9c179e"
             ],
             [
              0.4444444444444444,
              "#bd3786"
             ],
             [
              0.5555555555555556,
              "#d8576b"
             ],
             [
              0.6666666666666666,
              "#ed7953"
             ],
             [
              0.7777777777777778,
              "#fb9f3a"
             ],
             [
              0.8888888888888888,
              "#fdca26"
             ],
             [
              1,
              "#f0f921"
             ]
            ],
            "type": "histogram2dcontour"
           }
          ],
          "mesh3d": [
           {
            "colorbar": {
             "outlinewidth": 0,
             "ticks": ""
            },
            "type": "mesh3d"
           }
          ],
          "parcoords": [
           {
            "line": {
             "colorbar": {
              "outlinewidth": 0,
              "ticks": ""
             }
            },
            "type": "parcoords"
           }
          ],
          "pie": [
           {
            "automargin": true,
            "type": "pie"
           }
          ],
          "scatter": [
           {
            "fillpattern": {
             "fillmode": "overlay",
             "size": 10,
             "solidity": 0.2
            },
            "type": "scatter"
           }
          ],
          "scatter3d": [
           {
            "line": {
             "colorbar": {
              "outlinewidth": 0,
              "ticks": ""
             }
            },
            "marker": {
             "colorbar": {
              "outlinewidth": 0,
              "ticks": ""
             }
            },
            "type": "scatter3d"
           }
          ],
          "scattercarpet": [
           {
            "marker": {
             "colorbar": {
              "outlinewidth": 0,
              "ticks": ""
             }
            },
            "type": "scattercarpet"
           }
          ],
          "scattergeo": [
           {
            "marker": {
             "colorbar": {
              "outlinewidth": 0,
              "ticks": ""
             }
            },
            "type": "scattergeo"
           }
          ],
          "scattergl": [
           {
            "marker": {
             "colorbar": {
              "outlinewidth": 0,
              "ticks": ""
             }
            },
            "type": "scattergl"
           }
          ],
          "scattermapbox": [
           {
            "marker": {
             "colorbar": {
              "outlinewidth": 0,
              "ticks": ""
             }
            },
            "type": "scattermapbox"
           }
          ],
          "scatterpolar": [
           {
            "marker": {
             "colorbar": {
              "outlinewidth": 0,
              "ticks": ""
             }
            },
            "type": "scatterpolar"
           }
          ],
          "scatterpolargl": [
           {
            "marker": {
             "colorbar": {
              "outlinewidth": 0,
              "ticks": ""
             }
            },
            "type": "scatterpolargl"
           }
          ],
          "scatterternary": [
           {
            "marker": {
             "colorbar": {
              "outlinewidth": 0,
              "ticks": ""
             }
            },
            "type": "scatterternary"
           }
          ],
          "surface": [
           {
            "colorbar": {
             "outlinewidth": 0,
             "ticks": ""
            },
            "colorscale": [
             [
              0,
              "#0d0887"
             ],
             [
              0.1111111111111111,
              "#46039f"
             ],
             [
              0.2222222222222222,
              "#7201a8"
             ],
             [
              0.3333333333333333,
              "#9c179e"
             ],
             [
              0.4444444444444444,
              "#bd3786"
             ],
             [
              0.5555555555555556,
              "#d8576b"
             ],
             [
              0.6666666666666666,
              "#ed7953"
             ],
             [
              0.7777777777777778,
              "#fb9f3a"
             ],
             [
              0.8888888888888888,
              "#fdca26"
             ],
             [
              1,
              "#f0f921"
             ]
            ],
            "type": "surface"
           }
          ],
          "table": [
           {
            "cells": {
             "fill": {
              "color": "#EBF0F8"
             },
             "line": {
              "color": "white"
             }
            },
            "header": {
             "fill": {
              "color": "#C8D4E3"
             },
             "line": {
              "color": "white"
             }
            },
            "type": "table"
           }
          ]
         },
         "layout": {
          "annotationdefaults": {
           "arrowcolor": "#2a3f5f",
           "arrowhead": 0,
           "arrowwidth": 1
          },
          "autotypenumbers": "strict",
          "coloraxis": {
           "colorbar": {
            "outlinewidth": 0,
            "ticks": ""
           }
          },
          "colorscale": {
           "diverging": [
            [
             0,
             "#8e0152"
            ],
            [
             0.1,
             "#c51b7d"
            ],
            [
             0.2,
             "#de77ae"
            ],
            [
             0.3,
             "#f1b6da"
            ],
            [
             0.4,
             "#fde0ef"
            ],
            [
             0.5,
             "#f7f7f7"
            ],
            [
             0.6,
             "#e6f5d0"
            ],
            [
             0.7,
             "#b8e186"
            ],
            [
             0.8,
             "#7fbc41"
            ],
            [
             0.9,
             "#4d9221"
            ],
            [
             1,
             "#276419"
            ]
           ],
           "sequential": [
            [
             0,
             "#0d0887"
            ],
            [
             0.1111111111111111,
             "#46039f"
            ],
            [
             0.2222222222222222,
             "#7201a8"
            ],
            [
             0.3333333333333333,
             "#9c179e"
            ],
            [
             0.4444444444444444,
             "#bd3786"
            ],
            [
             0.5555555555555556,
             "#d8576b"
            ],
            [
             0.6666666666666666,
             "#ed7953"
            ],
            [
             0.7777777777777778,
             "#fb9f3a"
            ],
            [
             0.8888888888888888,
             "#fdca26"
            ],
            [
             1,
             "#f0f921"
            ]
           ],
           "sequentialminus": [
            [
             0,
             "#0d0887"
            ],
            [
             0.1111111111111111,
             "#46039f"
            ],
            [
             0.2222222222222222,
             "#7201a8"
            ],
            [
             0.3333333333333333,
             "#9c179e"
            ],
            [
             0.4444444444444444,
             "#bd3786"
            ],
            [
             0.5555555555555556,
             "#d8576b"
            ],
            [
             0.6666666666666666,
             "#ed7953"
            ],
            [
             0.7777777777777778,
             "#fb9f3a"
            ],
            [
             0.8888888888888888,
             "#fdca26"
            ],
            [
             1,
             "#f0f921"
            ]
           ]
          },
          "colorway": [
           "#636efa",
           "#EF553B",
           "#00cc96",
           "#ab63fa",
           "#FFA15A",
           "#19d3f3",
           "#FF6692",
           "#B6E880",
           "#FF97FF",
           "#FECB52"
          ],
          "font": {
           "color": "#2a3f5f"
          },
          "geo": {
           "bgcolor": "white",
           "lakecolor": "white",
           "landcolor": "#E5ECF6",
           "showlakes": true,
           "showland": true,
           "subunitcolor": "white"
          },
          "hoverlabel": {
           "align": "left"
          },
          "hovermode": "closest",
          "mapbox": {
           "style": "light"
          },
          "paper_bgcolor": "white",
          "plot_bgcolor": "#E5ECF6",
          "polar": {
           "angularaxis": {
            "gridcolor": "white",
            "linecolor": "white",
            "ticks": ""
           },
           "bgcolor": "#E5ECF6",
           "radialaxis": {
            "gridcolor": "white",
            "linecolor": "white",
            "ticks": ""
           }
          },
          "scene": {
           "xaxis": {
            "backgroundcolor": "#E5ECF6",
            "gridcolor": "white",
            "gridwidth": 2,
            "linecolor": "white",
            "showbackground": true,
            "ticks": "",
            "zerolinecolor": "white"
           },
           "yaxis": {
            "backgroundcolor": "#E5ECF6",
            "gridcolor": "white",
            "gridwidth": 2,
            "linecolor": "white",
            "showbackground": true,
            "ticks": "",
            "zerolinecolor": "white"
           },
           "zaxis": {
            "backgroundcolor": "#E5ECF6",
            "gridcolor": "white",
            "gridwidth": 2,
            "linecolor": "white",
            "showbackground": true,
            "ticks": "",
            "zerolinecolor": "white"
           }
          },
          "shapedefaults": {
           "line": {
            "color": "#2a3f5f"
           }
          },
          "ternary": {
           "aaxis": {
            "gridcolor": "white",
            "linecolor": "white",
            "ticks": ""
           },
           "baxis": {
            "gridcolor": "white",
            "linecolor": "white",
            "ticks": ""
           },
           "bgcolor": "#E5ECF6",
           "caxis": {
            "gridcolor": "white",
            "linecolor": "white",
            "ticks": ""
           }
          },
          "title": {
           "x": 0.05
          },
          "xaxis": {
           "automargin": true,
           "gridcolor": "white",
           "linecolor": "white",
           "ticks": "",
           "title": {
            "standoff": 15
           },
           "zerolinecolor": "white",
           "zerolinewidth": 2
          },
          "yaxis": {
           "automargin": true,
           "gridcolor": "white",
           "linecolor": "white",
           "ticks": "",
           "title": {
            "standoff": 15
           },
           "zerolinecolor": "white",
           "zerolinewidth": 2
          }
         }
        },
        "title": {
         "text": "Is this relationship 'linear' in a 'y=x' way?"
        },
        "xaxis": {
         "anchor": "y",
         "domain": [
          0,
          1
         ],
         "title": {
          "text": "Fitted Values"
         }
        },
        "yaxis": {
         "anchor": "x",
         "domain": [
          0,
          1
         ],
         "title": {
          "text": "Outcome"
         }
        }
       }
      }
     },
     "metadata": {},
     "output_type": "display_data"
    }
   ],
   "source": [
    "# If y versus y-hat does not follow the \"linearity\" of the \"y=x\" line, the \"linearity assumption\" is implausible\n",
    "fitted_values = data_fitted_model.fittedvalues\n",
    "residual_linearity = px.scatter(x=fitted_values, y=francis_galton_df['child_height'], \n",
    "                                title=\"Is this relationship 'linear' in a 'y=x' way?\")\n",
    "residual_linearity.update_layout(xaxis_title=\"Fitted Values\", yaxis_title=\"Outcome\")\n",
    "residual_linearity.add_scatter(x=[min(fitted_values), max(fitted_values)], y=[min(fitted_values), max(fitted_values)],\n",
    "                               mode='lines', line=dict(color='red', dash='dash'), name=\"The 'y=x' line\")\n",
    "residual_linearity.show()"
   ]
  },
  {
   "cell_type": "code",
   "execution_count": 2,
   "metadata": {},
   "outputs": [
    {
     "data": {
      "text/html": [
       "<div>\n",
       "<style scoped>\n",
       "    .dataframe tbody tr th:only-of-type {\n",
       "        vertical-align: middle;\n",
       "    }\n",
       "\n",
       "    .dataframe tbody tr th {\n",
       "        vertical-align: top;\n",
       "    }\n",
       "\n",
       "    .dataframe thead th {\n",
       "        text-align: right;\n",
       "    }\n",
       "</style>\n",
       "<table border=\"1\" class=\"dataframe\">\n",
       "  <thead>\n",
       "    <tr style=\"text-align: right;\">\n",
       "      <th></th>\n",
       "      <th>#</th>\n",
       "      <th>Name</th>\n",
       "      <th>Type 1</th>\n",
       "      <th>Type 2</th>\n",
       "      <th>HP</th>\n",
       "      <th>Attack</th>\n",
       "      <th>Defense</th>\n",
       "      <th>Sp. Atk</th>\n",
       "      <th>Sp. Def</th>\n",
       "      <th>Speed</th>\n",
       "      <th>Generation</th>\n",
       "      <th>Legendary</th>\n",
       "    </tr>\n",
       "  </thead>\n",
       "  <tbody>\n",
       "    <tr>\n",
       "      <th>4</th>\n",
       "      <td>4</td>\n",
       "      <td>Charmander</td>\n",
       "      <td>Fire</td>\n",
       "      <td>NaN</td>\n",
       "      <td>39</td>\n",
       "      <td>52</td>\n",
       "      <td>43</td>\n",
       "      <td>60</td>\n",
       "      <td>50</td>\n",
       "      <td>65</td>\n",
       "      <td>1</td>\n",
       "      <td>False</td>\n",
       "    </tr>\n",
       "    <tr>\n",
       "      <th>5</th>\n",
       "      <td>5</td>\n",
       "      <td>Charmeleon</td>\n",
       "      <td>Fire</td>\n",
       "      <td>NaN</td>\n",
       "      <td>58</td>\n",
       "      <td>64</td>\n",
       "      <td>58</td>\n",
       "      <td>80</td>\n",
       "      <td>65</td>\n",
       "      <td>80</td>\n",
       "      <td>1</td>\n",
       "      <td>False</td>\n",
       "    </tr>\n",
       "    <tr>\n",
       "      <th>6</th>\n",
       "      <td>6</td>\n",
       "      <td>Charizard</td>\n",
       "      <td>Fire</td>\n",
       "      <td>Flying</td>\n",
       "      <td>78</td>\n",
       "      <td>84</td>\n",
       "      <td>78</td>\n",
       "      <td>109</td>\n",
       "      <td>85</td>\n",
       "      <td>100</td>\n",
       "      <td>1</td>\n",
       "      <td>False</td>\n",
       "    </tr>\n",
       "    <tr>\n",
       "      <th>7</th>\n",
       "      <td>6</td>\n",
       "      <td>CharizardMega Charizard X</td>\n",
       "      <td>Fire</td>\n",
       "      <td>Dragon</td>\n",
       "      <td>78</td>\n",
       "      <td>130</td>\n",
       "      <td>111</td>\n",
       "      <td>130</td>\n",
       "      <td>85</td>\n",
       "      <td>100</td>\n",
       "      <td>1</td>\n",
       "      <td>False</td>\n",
       "    </tr>\n",
       "    <tr>\n",
       "      <th>8</th>\n",
       "      <td>6</td>\n",
       "      <td>CharizardMega Charizard Y</td>\n",
       "      <td>Fire</td>\n",
       "      <td>Flying</td>\n",
       "      <td>78</td>\n",
       "      <td>104</td>\n",
       "      <td>78</td>\n",
       "      <td>159</td>\n",
       "      <td>115</td>\n",
       "      <td>100</td>\n",
       "      <td>1</td>\n",
       "      <td>False</td>\n",
       "    </tr>\n",
       "    <tr>\n",
       "      <th>...</th>\n",
       "      <td>...</td>\n",
       "      <td>...</td>\n",
       "      <td>...</td>\n",
       "      <td>...</td>\n",
       "      <td>...</td>\n",
       "      <td>...</td>\n",
       "      <td>...</td>\n",
       "      <td>...</td>\n",
       "      <td>...</td>\n",
       "      <td>...</td>\n",
       "      <td>...</td>\n",
       "      <td>...</td>\n",
       "    </tr>\n",
       "    <tr>\n",
       "      <th>735</th>\n",
       "      <td>667</td>\n",
       "      <td>Litleo</td>\n",
       "      <td>Fire</td>\n",
       "      <td>Normal</td>\n",
       "      <td>62</td>\n",
       "      <td>50</td>\n",
       "      <td>58</td>\n",
       "      <td>73</td>\n",
       "      <td>54</td>\n",
       "      <td>72</td>\n",
       "      <td>6</td>\n",
       "      <td>False</td>\n",
       "    </tr>\n",
       "    <tr>\n",
       "      <th>736</th>\n",
       "      <td>668</td>\n",
       "      <td>Pyroar</td>\n",
       "      <td>Fire</td>\n",
       "      <td>Normal</td>\n",
       "      <td>86</td>\n",
       "      <td>68</td>\n",
       "      <td>72</td>\n",
       "      <td>109</td>\n",
       "      <td>66</td>\n",
       "      <td>106</td>\n",
       "      <td>6</td>\n",
       "      <td>False</td>\n",
       "    </tr>\n",
       "    <tr>\n",
       "      <th>762</th>\n",
       "      <td>692</td>\n",
       "      <td>Clauncher</td>\n",
       "      <td>Water</td>\n",
       "      <td>NaN</td>\n",
       "      <td>50</td>\n",
       "      <td>53</td>\n",
       "      <td>62</td>\n",
       "      <td>58</td>\n",
       "      <td>63</td>\n",
       "      <td>44</td>\n",
       "      <td>6</td>\n",
       "      <td>False</td>\n",
       "    </tr>\n",
       "    <tr>\n",
       "      <th>763</th>\n",
       "      <td>693</td>\n",
       "      <td>Clawitzer</td>\n",
       "      <td>Water</td>\n",
       "      <td>NaN</td>\n",
       "      <td>71</td>\n",
       "      <td>73</td>\n",
       "      <td>88</td>\n",
       "      <td>120</td>\n",
       "      <td>89</td>\n",
       "      <td>59</td>\n",
       "      <td>6</td>\n",
       "      <td>False</td>\n",
       "    </tr>\n",
       "    <tr>\n",
       "      <th>799</th>\n",
       "      <td>721</td>\n",
       "      <td>Volcanion</td>\n",
       "      <td>Fire</td>\n",
       "      <td>Water</td>\n",
       "      <td>80</td>\n",
       "      <td>110</td>\n",
       "      <td>120</td>\n",
       "      <td>130</td>\n",
       "      <td>90</td>\n",
       "      <td>70</td>\n",
       "      <td>6</td>\n",
       "      <td>True</td>\n",
       "    </tr>\n",
       "  </tbody>\n",
       "</table>\n",
       "<p>164 rows × 12 columns</p>\n",
       "</div>"
      ],
      "text/plain": [
       "       #                       Name Type 1  Type 2  HP  Attack  Defense  \\\n",
       "4      4                 Charmander   Fire     NaN  39      52       43   \n",
       "5      5                 Charmeleon   Fire     NaN  58      64       58   \n",
       "6      6                  Charizard   Fire  Flying  78      84       78   \n",
       "7      6  CharizardMega Charizard X   Fire  Dragon  78     130      111   \n",
       "8      6  CharizardMega Charizard Y   Fire  Flying  78     104       78   \n",
       "..   ...                        ...    ...     ...  ..     ...      ...   \n",
       "735  667                     Litleo   Fire  Normal  62      50       58   \n",
       "736  668                     Pyroar   Fire  Normal  86      68       72   \n",
       "762  692                  Clauncher  Water     NaN  50      53       62   \n",
       "763  693                  Clawitzer  Water     NaN  71      73       88   \n",
       "799  721                  Volcanion   Fire   Water  80     110      120   \n",
       "\n",
       "     Sp. Atk  Sp. Def  Speed  Generation  Legendary  \n",
       "4         60       50     65           1      False  \n",
       "5         80       65     80           1      False  \n",
       "6        109       85    100           1      False  \n",
       "7        130       85    100           1      False  \n",
       "8        159      115    100           1      False  \n",
       "..       ...      ...    ...         ...        ...  \n",
       "735       73       54     72           6      False  \n",
       "736      109       66    106           6      False  \n",
       "762       58       63     44           6      False  \n",
       "763      120       89     59           6      False  \n",
       "799      130       90     70           6       True  \n",
       "\n",
       "[164 rows x 12 columns]"
      ]
     },
     "execution_count": 2,
     "metadata": {},
     "output_type": "execute_result"
    }
   ],
   "source": [
    "import pandas as pd\n",
    "import plotly.express as px\n",
    "\n",
    "url = \"https://raw.githubusercontent.com/KeithGalli/pandas/master/pokemon_data.csv\"\n",
    "# fail https://github.com/KeithGalli/pandas/blob/master/pokemon_data.csv\n",
    "pokeaman = pd.read_csv(url)\n",
    "\n",
    "fire = pokeaman['Type 1'] == 'Fire'\n",
    "water = pokeaman['Type 1'] == 'Water'\n",
    "pokeaman[ fire | water ]"
   ]
  },
  {
   "cell_type": "code",
   "execution_count": 3,
   "metadata": {},
   "outputs": [
    {
     "data": {
      "text/html": [
       "<div>\n",
       "<style scoped>\n",
       "    .dataframe tbody tr th:only-of-type {\n",
       "        vertical-align: middle;\n",
       "    }\n",
       "\n",
       "    .dataframe tbody tr th {\n",
       "        vertical-align: top;\n",
       "    }\n",
       "\n",
       "    .dataframe thead th {\n",
       "        text-align: right;\n",
       "    }\n",
       "</style>\n",
       "<table border=\"1\" class=\"dataframe\">\n",
       "  <thead>\n",
       "    <tr style=\"text-align: right;\">\n",
       "      <th></th>\n",
       "      <th>Sp. Atk</th>\n",
       "    </tr>\n",
       "    <tr>\n",
       "      <th>Type 1</th>\n",
       "      <th></th>\n",
       "    </tr>\n",
       "  </thead>\n",
       "  <tbody>\n",
       "    <tr>\n",
       "      <th>Fire</th>\n",
       "      <td>88.980769</td>\n",
       "    </tr>\n",
       "    <tr>\n",
       "      <th>Water</th>\n",
       "      <td>74.812500</td>\n",
       "    </tr>\n",
       "  </tbody>\n",
       "</table>\n",
       "</div>"
      ],
      "text/plain": [
       "          Sp. Atk\n",
       "Type 1           \n",
       "Fire    88.980769\n",
       "Water   74.812500"
      ]
     },
     "metadata": {},
     "output_type": "display_data"
    },
    {
     "data": {
      "text/html": [
       "<div>\n",
       "<style scoped>\n",
       "    .dataframe tbody tr th:only-of-type {\n",
       "        vertical-align: middle;\n",
       "    }\n",
       "\n",
       "    .dataframe tbody tr th {\n",
       "        vertical-align: top;\n",
       "    }\n",
       "\n",
       "    .dataframe thead th {\n",
       "        text-align: right;\n",
       "    }\n",
       "</style>\n",
       "<table border=\"1\" class=\"dataframe\">\n",
       "  <thead>\n",
       "    <tr style=\"text-align: right;\">\n",
       "      <th></th>\n",
       "      <th>Sp. Atk</th>\n",
       "    </tr>\n",
       "    <tr>\n",
       "      <th>Type 1</th>\n",
       "      <th></th>\n",
       "    </tr>\n",
       "  </thead>\n",
       "  <tbody>\n",
       "    <tr>\n",
       "      <th>Fire</th>\n",
       "      <td>NaN</td>\n",
       "    </tr>\n",
       "    <tr>\n",
       "      <th>Water</th>\n",
       "      <td>-14.168269</td>\n",
       "    </tr>\n",
       "  </tbody>\n",
       "</table>\n",
       "</div>"
      ],
      "text/plain": [
       "          Sp. Atk\n",
       "Type 1           \n",
       "Fire          NaN\n",
       "Water  -14.168269"
      ]
     },
     "metadata": {},
     "output_type": "display_data"
    },
    {
     "name": "stdout",
     "output_type": "stream",
     "text": [
      "-14.168269230769226\n"
     ]
    },
    {
     "data": {
      "application/vnd.plotly.v1+json": {
       "config": {
        "plotlyServerURL": "https://plot.ly"
       },
       "data": [
        {
         "alignmentgroup": "True",
         "hovertemplate": "Type 1=%{x}<br>Sp. Atk=%{y}<extra></extra>",
         "legendgroup": "",
         "marker": {
          "color": "#636efa"
         },
         "name": "",
         "notched": false,
         "offsetgroup": "",
         "orientation": "v",
         "showlegend": false,
         "type": "box",
         "x": [
          "Fire",
          "Fire",
          "Fire",
          "Fire",
          "Fire",
          "Water",
          "Water",
          "Water",
          "Water",
          "Fire",
          "Fire",
          "Water",
          "Water",
          "Fire",
          "Fire",
          "Water",
          "Water",
          "Water",
          "Water",
          "Water",
          "Fire",
          "Fire",
          "Water",
          "Water",
          "Water",
          "Water",
          "Water",
          "Water",
          "Water",
          "Water",
          "Water",
          "Water",
          "Water",
          "Water",
          "Water",
          "Water",
          "Water",
          "Fire",
          "Water",
          "Water",
          "Water",
          "Water",
          "Water",
          "Fire",
          "Fire",
          "Fire",
          "Fire",
          "Fire",
          "Water",
          "Water",
          "Water",
          "Water",
          "Water",
          "Water",
          "Water",
          "Water",
          "Water",
          "Water",
          "Water",
          "Water",
          "Fire",
          "Fire",
          "Water",
          "Water",
          "Water",
          "Water",
          "Water",
          "Fire",
          "Fire",
          "Water",
          "Fire",
          "Fire",
          "Fire",
          "Fire",
          "Fire",
          "Water",
          "Water",
          "Water",
          "Water",
          "Water",
          "Water",
          "Water",
          "Water",
          "Water",
          "Water",
          "Water",
          "Water",
          "Water",
          "Water",
          "Fire",
          "Fire",
          "Fire",
          "Fire",
          "Water",
          "Water",
          "Water",
          "Water",
          "Water",
          "Water",
          "Water",
          "Water",
          "Water",
          "Water",
          "Water",
          "Water",
          "Water",
          "Fire",
          "Fire",
          "Fire",
          "Water",
          "Water",
          "Water",
          "Water",
          "Water",
          "Water",
          "Water",
          "Water",
          "Water",
          "Water",
          "Fire",
          "Water",
          "Fire",
          "Water",
          "Water",
          "Fire",
          "Fire",
          "Fire",
          "Water",
          "Water",
          "Water",
          "Fire",
          "Fire",
          "Water",
          "Water",
          "Water",
          "Water",
          "Water",
          "Water",
          "Fire",
          "Fire",
          "Fire",
          "Water",
          "Water",
          "Water",
          "Water",
          "Water",
          "Water",
          "Water",
          "Fire",
          "Water",
          "Water",
          "Fire",
          "Fire",
          "Fire",
          "Water",
          "Water",
          "Water",
          "Fire",
          "Fire",
          "Fire",
          "Fire",
          "Water",
          "Water",
          "Fire"
         ],
         "x0": " ",
         "xaxis": "x",
         "y": [
          60,
          80,
          109,
          130,
          159,
          50,
          65,
          85,
          135,
          50,
          81,
          65,
          95,
          70,
          100,
          40,
          50,
          70,
          50,
          80,
          65,
          80,
          40,
          100,
          130,
          45,
          70,
          45,
          85,
          25,
          50,
          70,
          95,
          35,
          65,
          70,
          100,
          100,
          15,
          60,
          70,
          85,
          110,
          95,
          125,
          60,
          80,
          109,
          44,
          59,
          79,
          56,
          76,
          20,
          60,
          90,
          25,
          65,
          100,
          55,
          70,
          80,
          65,
          65,
          105,
          80,
          95,
          70,
          90,
          90,
          110,
          70,
          85,
          110,
          130,
          50,
          60,
          85,
          95,
          40,
          60,
          90,
          55,
          85,
          65,
          95,
          110,
          70,
          90,
          65,
          105,
          145,
          85,
          46,
          76,
          50,
          90,
          10,
          100,
          74,
          94,
          114,
          45,
          40,
          150,
          180,
          58,
          78,
          104,
          61,
          81,
          111,
          60,
          85,
          57,
          92,
          49,
          69,
          60,
          125,
          150,
          130,
          80,
          100,
          45,
          70,
          100,
          63,
          83,
          108,
          53,
          98,
          53,
          98,
          50,
          65,
          85,
          80,
          15,
          30,
          140,
          53,
          83,
          44,
          87,
          65,
          85,
          40,
          105,
          129,
          129,
          62,
          90,
          114,
          62,
          83,
          103,
          56,
          74,
          73,
          109,
          58,
          120,
          130
         ],
         "y0": " ",
         "yaxis": "y"
        }
       ],
       "layout": {
        "boxmode": "group",
        "legend": {
         "tracegroupgap": 0
        },
        "template": {
         "data": {
          "bar": [
           {
            "error_x": {
             "color": "#2a3f5f"
            },
            "error_y": {
             "color": "#2a3f5f"
            },
            "marker": {
             "line": {
              "color": "#E5ECF6",
              "width": 0.5
             },
             "pattern": {
              "fillmode": "overlay",
              "size": 10,
              "solidity": 0.2
             }
            },
            "type": "bar"
           }
          ],
          "barpolar": [
           {
            "marker": {
             "line": {
              "color": "#E5ECF6",
              "width": 0.5
             },
             "pattern": {
              "fillmode": "overlay",
              "size": 10,
              "solidity": 0.2
             }
            },
            "type": "barpolar"
           }
          ],
          "carpet": [
           {
            "aaxis": {
             "endlinecolor": "#2a3f5f",
             "gridcolor": "white",
             "linecolor": "white",
             "minorgridcolor": "white",
             "startlinecolor": "#2a3f5f"
            },
            "baxis": {
             "endlinecolor": "#2a3f5f",
             "gridcolor": "white",
             "linecolor": "white",
             "minorgridcolor": "white",
             "startlinecolor": "#2a3f5f"
            },
            "type": "carpet"
           }
          ],
          "choropleth": [
           {
            "colorbar": {
             "outlinewidth": 0,
             "ticks": ""
            },
            "type": "choropleth"
           }
          ],
          "contour": [
           {
            "colorbar": {
             "outlinewidth": 0,
             "ticks": ""
            },
            "colorscale": [
             [
              0,
              "#0d0887"
             ],
             [
              0.1111111111111111,
              "#46039f"
             ],
             [
              0.2222222222222222,
              "#7201a8"
             ],
             [
              0.3333333333333333,
              "#9c179e"
             ],
             [
              0.4444444444444444,
              "#bd3786"
             ],
             [
              0.5555555555555556,
              "#d8576b"
             ],
             [
              0.6666666666666666,
              "#ed7953"
             ],
             [
              0.7777777777777778,
              "#fb9f3a"
             ],
             [
              0.8888888888888888,
              "#fdca26"
             ],
             [
              1,
              "#f0f921"
             ]
            ],
            "type": "contour"
           }
          ],
          "contourcarpet": [
           {
            "colorbar": {
             "outlinewidth": 0,
             "ticks": ""
            },
            "type": "contourcarpet"
           }
          ],
          "heatmap": [
           {
            "colorbar": {
             "outlinewidth": 0,
             "ticks": ""
            },
            "colorscale": [
             [
              0,
              "#0d0887"
             ],
             [
              0.1111111111111111,
              "#46039f"
             ],
             [
              0.2222222222222222,
              "#7201a8"
             ],
             [
              0.3333333333333333,
              "#9c179e"
             ],
             [
              0.4444444444444444,
              "#bd3786"
             ],
             [
              0.5555555555555556,
              "#d8576b"
             ],
             [
              0.6666666666666666,
              "#ed7953"
             ],
             [
              0.7777777777777778,
              "#fb9f3a"
             ],
             [
              0.8888888888888888,
              "#fdca26"
             ],
             [
              1,
              "#f0f921"
             ]
            ],
            "type": "heatmap"
           }
          ],
          "heatmapgl": [
           {
            "colorbar": {
             "outlinewidth": 0,
             "ticks": ""
            },
            "colorscale": [
             [
              0,
              "#0d0887"
             ],
             [
              0.1111111111111111,
              "#46039f"
             ],
             [
              0.2222222222222222,
              "#7201a8"
             ],
             [
              0.3333333333333333,
              "#9c179e"
             ],
             [
              0.4444444444444444,
              "#bd3786"
             ],
             [
              0.5555555555555556,
              "#d8576b"
             ],
             [
              0.6666666666666666,
              "#ed7953"
             ],
             [
              0.7777777777777778,
              "#fb9f3a"
             ],
             [
              0.8888888888888888,
              "#fdca26"
             ],
             [
              1,
              "#f0f921"
             ]
            ],
            "type": "heatmapgl"
           }
          ],
          "histogram": [
           {
            "marker": {
             "pattern": {
              "fillmode": "overlay",
              "size": 10,
              "solidity": 0.2
             }
            },
            "type": "histogram"
           }
          ],
          "histogram2d": [
           {
            "colorbar": {
             "outlinewidth": 0,
             "ticks": ""
            },
            "colorscale": [
             [
              0,
              "#0d0887"
             ],
             [
              0.1111111111111111,
              "#46039f"
             ],
             [
              0.2222222222222222,
              "#7201a8"
             ],
             [
              0.3333333333333333,
              "#9c179e"
             ],
             [
              0.4444444444444444,
              "#bd3786"
             ],
             [
              0.5555555555555556,
              "#d8576b"
             ],
             [
              0.6666666666666666,
              "#ed7953"
             ],
             [
              0.7777777777777778,
              "#fb9f3a"
             ],
             [
              0.8888888888888888,
              "#fdca26"
             ],
             [
              1,
              "#f0f921"
             ]
            ],
            "type": "histogram2d"
           }
          ],
          "histogram2dcontour": [
           {
            "colorbar": {
             "outlinewidth": 0,
             "ticks": ""
            },
            "colorscale": [
             [
              0,
              "#0d0887"
             ],
             [
              0.1111111111111111,
              "#46039f"
             ],
             [
              0.2222222222222222,
              "#7201a8"
             ],
             [
              0.3333333333333333,
              "#9c179e"
             ],
             [
              0.4444444444444444,
              "#bd3786"
             ],
             [
              0.5555555555555556,
              "#d8576b"
             ],
             [
              0.6666666666666666,
              "#ed7953"
             ],
             [
              0.7777777777777778,
              "#fb9f3a"
             ],
             [
              0.8888888888888888,
              "#fdca26"
             ],
             [
              1,
              "#f0f921"
             ]
            ],
            "type": "histogram2dcontour"
           }
          ],
          "mesh3d": [
           {
            "colorbar": {
             "outlinewidth": 0,
             "ticks": ""
            },
            "type": "mesh3d"
           }
          ],
          "parcoords": [
           {
            "line": {
             "colorbar": {
              "outlinewidth": 0,
              "ticks": ""
             }
            },
            "type": "parcoords"
           }
          ],
          "pie": [
           {
            "automargin": true,
            "type": "pie"
           }
          ],
          "scatter": [
           {
            "fillpattern": {
             "fillmode": "overlay",
             "size": 10,
             "solidity": 0.2
            },
            "type": "scatter"
           }
          ],
          "scatter3d": [
           {
            "line": {
             "colorbar": {
              "outlinewidth": 0,
              "ticks": ""
             }
            },
            "marker": {
             "colorbar": {
              "outlinewidth": 0,
              "ticks": ""
             }
            },
            "type": "scatter3d"
           }
          ],
          "scattercarpet": [
           {
            "marker": {
             "colorbar": {
              "outlinewidth": 0,
              "ticks": ""
             }
            },
            "type": "scattercarpet"
           }
          ],
          "scattergeo": [
           {
            "marker": {
             "colorbar": {
              "outlinewidth": 0,
              "ticks": ""
             }
            },
            "type": "scattergeo"
           }
          ],
          "scattergl": [
           {
            "marker": {
             "colorbar": {
              "outlinewidth": 0,
              "ticks": ""
             }
            },
            "type": "scattergl"
           }
          ],
          "scattermapbox": [
           {
            "marker": {
             "colorbar": {
              "outlinewidth": 0,
              "ticks": ""
             }
            },
            "type": "scattermapbox"
           }
          ],
          "scatterpolar": [
           {
            "marker": {
             "colorbar": {
              "outlinewidth": 0,
              "ticks": ""
             }
            },
            "type": "scatterpolar"
           }
          ],
          "scatterpolargl": [
           {
            "marker": {
             "colorbar": {
              "outlinewidth": 0,
              "ticks": ""
             }
            },
            "type": "scatterpolargl"
           }
          ],
          "scatterternary": [
           {
            "marker": {
             "colorbar": {
              "outlinewidth": 0,
              "ticks": ""
             }
            },
            "type": "scatterternary"
           }
          ],
          "surface": [
           {
            "colorbar": {
             "outlinewidth": 0,
             "ticks": ""
            },
            "colorscale": [
             [
              0,
              "#0d0887"
             ],
             [
              0.1111111111111111,
              "#46039f"
             ],
             [
              0.2222222222222222,
              "#7201a8"
             ],
             [
              0.3333333333333333,
              "#9c179e"
             ],
             [
              0.4444444444444444,
              "#bd3786"
             ],
             [
              0.5555555555555556,
              "#d8576b"
             ],
             [
              0.6666666666666666,
              "#ed7953"
             ],
             [
              0.7777777777777778,
              "#fb9f3a"
             ],
             [
              0.8888888888888888,
              "#fdca26"
             ],
             [
              1,
              "#f0f921"
             ]
            ],
            "type": "surface"
           }
          ],
          "table": [
           {
            "cells": {
             "fill": {
              "color": "#EBF0F8"
             },
             "line": {
              "color": "white"
             }
            },
            "header": {
             "fill": {
              "color": "#C8D4E3"
             },
             "line": {
              "color": "white"
             }
            },
            "type": "table"
           }
          ]
         },
         "layout": {
          "annotationdefaults": {
           "arrowcolor": "#2a3f5f",
           "arrowhead": 0,
           "arrowwidth": 1
          },
          "autotypenumbers": "strict",
          "coloraxis": {
           "colorbar": {
            "outlinewidth": 0,
            "ticks": ""
           }
          },
          "colorscale": {
           "diverging": [
            [
             0,
             "#8e0152"
            ],
            [
             0.1,
             "#c51b7d"
            ],
            [
             0.2,
             "#de77ae"
            ],
            [
             0.3,
             "#f1b6da"
            ],
            [
             0.4,
             "#fde0ef"
            ],
            [
             0.5,
             "#f7f7f7"
            ],
            [
             0.6,
             "#e6f5d0"
            ],
            [
             0.7,
             "#b8e186"
            ],
            [
             0.8,
             "#7fbc41"
            ],
            [
             0.9,
             "#4d9221"
            ],
            [
             1,
             "#276419"
            ]
           ],
           "sequential": [
            [
             0,
             "#0d0887"
            ],
            [
             0.1111111111111111,
             "#46039f"
            ],
            [
             0.2222222222222222,
             "#7201a8"
            ],
            [
             0.3333333333333333,
             "#9c179e"
            ],
            [
             0.4444444444444444,
             "#bd3786"
            ],
            [
             0.5555555555555556,
             "#d8576b"
            ],
            [
             0.6666666666666666,
             "#ed7953"
            ],
            [
             0.7777777777777778,
             "#fb9f3a"
            ],
            [
             0.8888888888888888,
             "#fdca26"
            ],
            [
             1,
             "#f0f921"
            ]
           ],
           "sequentialminus": [
            [
             0,
             "#0d0887"
            ],
            [
             0.1111111111111111,
             "#46039f"
            ],
            [
             0.2222222222222222,
             "#7201a8"
            ],
            [
             0.3333333333333333,
             "#9c179e"
            ],
            [
             0.4444444444444444,
             "#bd3786"
            ],
            [
             0.5555555555555556,
             "#d8576b"
            ],
            [
             0.6666666666666666,
             "#ed7953"
            ],
            [
             0.7777777777777778,
             "#fb9f3a"
            ],
            [
             0.8888888888888888,
             "#fdca26"
            ],
            [
             1,
             "#f0f921"
            ]
           ]
          },
          "colorway": [
           "#636efa",
           "#EF553B",
           "#00cc96",
           "#ab63fa",
           "#FFA15A",
           "#19d3f3",
           "#FF6692",
           "#B6E880",
           "#FF97FF",
           "#FECB52"
          ],
          "font": {
           "color": "#2a3f5f"
          },
          "geo": {
           "bgcolor": "white",
           "lakecolor": "white",
           "landcolor": "#E5ECF6",
           "showlakes": true,
           "showland": true,
           "subunitcolor": "white"
          },
          "hoverlabel": {
           "align": "left"
          },
          "hovermode": "closest",
          "mapbox": {
           "style": "light"
          },
          "paper_bgcolor": "white",
          "plot_bgcolor": "#E5ECF6",
          "polar": {
           "angularaxis": {
            "gridcolor": "white",
            "linecolor": "white",
            "ticks": ""
           },
           "bgcolor": "#E5ECF6",
           "radialaxis": {
            "gridcolor": "white",
            "linecolor": "white",
            "ticks": ""
           }
          },
          "scene": {
           "xaxis": {
            "backgroundcolor": "#E5ECF6",
            "gridcolor": "white",
            "gridwidth": 2,
            "linecolor": "white",
            "showbackground": true,
            "ticks": "",
            "zerolinecolor": "white"
           },
           "yaxis": {
            "backgroundcolor": "#E5ECF6",
            "gridcolor": "white",
            "gridwidth": 2,
            "linecolor": "white",
            "showbackground": true,
            "ticks": "",
            "zerolinecolor": "white"
           },
           "zaxis": {
            "backgroundcolor": "#E5ECF6",
            "gridcolor": "white",
            "gridwidth": 2,
            "linecolor": "white",
            "showbackground": true,
            "ticks": "",
            "zerolinecolor": "white"
           }
          },
          "shapedefaults": {
           "line": {
            "color": "#2a3f5f"
           }
          },
          "ternary": {
           "aaxis": {
            "gridcolor": "white",
            "linecolor": "white",
            "ticks": ""
           },
           "baxis": {
            "gridcolor": "white",
            "linecolor": "white",
            "ticks": ""
           },
           "bgcolor": "#E5ECF6",
           "caxis": {
            "gridcolor": "white",
            "linecolor": "white",
            "ticks": ""
           }
          },
          "title": {
           "x": 0.05
          },
          "xaxis": {
           "automargin": true,
           "gridcolor": "white",
           "linecolor": "white",
           "ticks": "",
           "title": {
            "standoff": 15
           },
           "zerolinecolor": "white",
           "zerolinewidth": 2
          },
          "yaxis": {
           "automargin": true,
           "gridcolor": "white",
           "linecolor": "white",
           "ticks": "",
           "title": {
            "standoff": 15
           },
           "zerolinecolor": "white",
           "zerolinewidth": 2
          }
         }
        },
        "title": {
         "text": "Distribution of 'Sp. Atk' between Water and Fire Type Pokémon: Are These Different??"
        },
        "xaxis": {
         "anchor": "y",
         "domain": [
          0,
          1
         ],
         "title": {
          "text": "Type 1"
         }
        },
        "yaxis": {
         "anchor": "x",
         "domain": [
          0,
          1
         ],
         "title": {
          "text": "Sp. Atk"
         }
        }
       }
      }
     },
     "metadata": {},
     "output_type": "display_data"
    }
   ],
   "source": [
    "display(pd.DataFrame(pokeaman[ fire | water ].groupby('Type 1')['Sp. Atk'].mean()))\n",
    "display(pd.DataFrame(pokeaman[ fire | water ].groupby('Type 1')['Sp. Atk'].mean().diff()))\n",
    "print(pokeaman[ fire | water ].groupby('Type 1')['Sp. Atk'].mean().diff().values[1])\n",
    "\n",
    "fig = px.box(pokeaman[ fire | water ], x=\"Type 1\", y=\"Sp. Atk\", \n",
    "    title=\"Distribution of 'Sp. Atk' between Water and Fire Type Pokémon: Are These Different??\")\n",
    "fig.show()  # USE `fig.show(renderer=\"png\")` FOR ALL GitHub and MarkUs SUBMISSIONS\n",
    "\n",
    "# #https://stackoverflow.com/questions/52771328/plotly-chart-not-showing-in-jupyter-notebook\n",
    "# import plotly.offline as pyo\n",
    "# # Set notebook mode to work in offline\n",
    "# pyo.init_notebook_mode()"
   ]
  },
  {
   "cell_type": "code",
   "execution_count": 4,
   "metadata": {},
   "outputs": [],
   "source": [
    "import numpy as np \n",
    "\n",
    "groups4racism = pokeaman[ fire | water ].copy()\n",
    "\n",
    "# Set parameters for bootstrap\n",
    "n_bootstraps = 1000  # Number of bootstrap samples\n",
    "sample_size = len(groups4racism)  # Sample size matches the original dataset\n",
    "label_permutation_mean_differences = np.zeros(n_bootstraps)\n",
    "\n",
    "for i in range(n_bootstraps):\n",
    "    groups4racism['Shuffled Pokeaman Race'] = groups4racism['Type 1'].sample(n=sample_size, replace=True).values\n",
    "    label_permutation_mean_differences[i] = \\\n",
    "        groups4racism.groupby('Shuffled Pokeaman Race')['Sp. Atk'].mean().diff().values[1] "
   ]
  },
  {
   "cell_type": "code",
   "execution_count": 5,
   "metadata": {},
   "outputs": [
    {
     "data": {
      "application/vnd.plotly.v1+json": {
       "config": {
        "plotlyServerURL": "https://plot.ly"
       },
       "data": [
        {
         "alignmentgroup": "True",
         "bingroup": "x",
         "hovertemplate": "variable=label_permutation_mean_differences<br>value=%{x}<br>count=%{y}<extra></extra>",
         "legendgroup": "label_permutation_mean_differences",
         "marker": {
          "color": "#636efa",
          "pattern": {
           "shape": ""
          }
         },
         "name": "label_permutation_mean_differences",
         "nbinsx": 30,
         "offsetgroup": "label_permutation_mean_differences",
         "orientation": "v",
         "showlegend": true,
         "type": "histogram",
         "x": [
          -2.7487103905674246,
          6.749494949494959,
          0.7673930589184863,
          1.0052910052910136,
          -7.3548499045635936,
          -5.171929824561403,
          6.141404358353512,
          -4.219182652210179,
          -4.729993493819123,
          -13.990079365079367,
          2.361263736263737,
          1.9279279279279251,
          -8.021684737281078,
          -8.103753127606339,
          -2.560258371579124,
          1.4708924103419463,
          -2.611228070175443,
          -3.0224870267153676,
          -4.847527472527474,
          -3.9340285167056805,
          2.586538461538467,
          -2.1160714285714306,
          -1.0936533915257343,
          -7.3548499045635936,
          2.528787878787881,
          -1.3400673400673497,
          0.2670401493930825,
          -2.582491582491585,
          -3.1506053268765015,
          -4.612838697945094,
          -2.499663299663297,
          -6.900475487784874,
          -1.6521164021163912,
          -4.5677192982456205,
          4.972477064220186,
          0.6112280701754429,
          -0.8657407407407476,
          1.6681034482758577,
          2.737388024516733,
          0.3337912087912116,
          -0.393179209706517,
          4.235351089588377,
          -4.343384615384608,
          -10.871035940803381,
          13.127272727272725,
          4.314338235294116,
          -4.316505184429715,
          -0.3759350628680522,
          -5.315824915824919,
          3.321774604793461,
          -5.862456140350872,
          1.764550264550266,
          4.6787878787878725,
          -0.7765804597701162,
          6.162415408641323,
          -1.500934897161315,
          6.754120879120876,
          5.185964912280696,
          5.838383838383848,
          -0.006338615512930801,
          4.370642201834855,
          6.284649511978714,
          0.44971751412430194,
          1.5313131313131407,
          -1.8958333333333286,
          -5.990740740740748,
          -1.0711206896551744,
          7.032575757575756,
          1.435317265125434,
          5.818330873913752,
          3.263813739957371,
          -7.441750841750832,
          -2.6101010101010047,
          3.798280423280417,
          -5.960437272254026,
          -3.560401082285537,
          4.9309722905394295,
          -6.075000000000003,
          10.854045037531279,
          -9.663052543786492,
          1.9674796747967491,
          -1.456213511259378,
          0.11282051282050531,
          5.052576782925556,
          3.5826149425287355,
          -1.75,
          4.4834287697379835,
          -0.49653948535934944,
          3.4054054054054035,
          -4.107368421052627,
          -5.804912280701757,
          -6.850542197076848,
          0.8964136780650591,
          0.020050125313289868,
          9.776505292382438,
          1.4384868991844542,
          -2.942745608327911,
          0.4673684210526261,
          5.5006410256410305,
          3.8818681318681314,
          -1.0863157894736872,
          -6.67150928167878,
          -3.8364038319823095,
          -4.056060606060598,
          -4.55367231638418,
          1.7014925373134275,
          9.095062638172436,
          -9.432240152698242,
          -0.3185185185185162,
          -11.041403508771936,
          8.72527472527473,
          -1.500934897161315,
          1.321637426900594,
          0.2049446974625937,
          -8.969824561403513,
          -3.2154385964912393,
          10.740079365079367,
          -1.5745511319281889,
          4.083333333333329,
          2.9754795663052533,
          0.9446969696969774,
          -2.167303146026555,
          -2.397664835164832,
          -1.0041825786506564,
          1.0879065888240262,
          -0.7546057479734714,
          -9.291582491582489,
          3.6035087719298247,
          -2.9608516483516496,
          -0.4231321839080522,
          1.950720111053272,
          2.221548821548822,
          2.783986655546286,
          3.9629440761516292,
          7.936700336700341,
          -1.1744107744107737,
          4.056567759847297,
          -0.5117845117845121,
          -1.428857381150948,
          0.3426724137931103,
          1.0852564102564202,
          -5.356643356643346,
          -1.9159637116027426,
          -0.742102781706734,
          -5.030185633575471,
          -4.745696539485351,
          -2.8817443896227815,
          1.8538782318598805,
          4.260057471264361,
          10.23525412204657,
          0.33308769344141353,
          0.6651515151515213,
          -2.2088709677419303,
          4.8608776844071,
          -5.0125104253544635,
          7.051948051948045,
          -2.6024639944473336,
          -0.8252409529005291,
          -1.2427714129841831,
          2.4720821661998116,
          0.007692307692309441,
          1.239498894620482,
          8.696140350877187,
          -7.170731707317074,
          0.3164983164983113,
          1.032679738562095,
          -8.749262536873147,
          -8.762023070097598,
          0.2831888492265904,
          0.8964136780650591,
          -2.372978959025474,
          -1.1021470396877078,
          1.129122807017552,
          -1.6901254773595298,
          2.596974332823393,
          -6.581196581196579,
          4.33424258956174,
          -5.663551401869157,
          -4.483766785653586,
          -4.483766785653586,
          -0.037333333333322116,
          -2.763736263736263,
          6.269654528478057,
          -8.784000000000006,
          -5.269917582417591,
          1.5728021978022042,
          -12.484783996595013,
          -7.52457912457912,
          -6.207719298245621,
          -6.383864671437863,
          -1.2532386867790564,
          -0.3396584440227741,
          -4.901920788713241,
          -9.558974358974353,
          3.959064327485393,
          1.4883241758241752,
          3.971195557869166,
          1.1084770114942586,
          -5.134345569863527,
          -10.141483516483518,
          2.760233918128648,
          4.457912457912457,
          -3.2175084175084123,
          5.412138188608779,
          -1.1594827586206833,
          0.573295985060696,
          -0.17639751552795246,
          -3.0918348790689265,
          -1.75,
          -3.8425973142954177,
          2.3462885738115062,
          -5.448434169535986,
          -4.73213311511185,
          -2.9508196721311464,
          -3.4360248447204924,
          -2.813248073454673,
          3.651875000000004,
          1.4243123336291035,
          -5.612590799031466,
          8.147988505747122,
          -2.0315934065934016,
          5.308693388859979,
          4.83025210084034,
          -2.915495401700497,
          -2.597641857037587,
          6.093835242771419,
          -1.166411694713588,
          1.0605504587155963,
          6.329234300705025,
          -10.47679947532383,
          -6.785701891376021,
          5.948821548821556,
          5.727172717271728,
          -6.722883597883609,
          6.73839351510685,
          -7.5424836601307135,
          0.03397435897436196,
          0.7012415527266995,
          5.740384615384613,
          -2.8701754385964904,
          -1.6617543859649118,
          2.221548821548822,
          3.290955091714096,
          -1.8732220160791542,
          -1.3589743589743648,
          2.455713094245212,
          -4.740350877192981,
          8.285714285714292,
          8.702022777494477,
          8.060853306136323,
          1.598935226264416,
          -2.0033361134278636,
          -0.6369568677383342,
          1.9543650793650897,
          4.318965517241381,
          -2.6438891721910665,
          -0.8115079365079367,
          -7.521551724137936,
          1.6740342110320938,
          5.4174242424242465,
          5.614068806457809,
          2.850399290150847,
          -7.353708791208788,
          -3.6044973544973544,
          5.8800287356321945,
          -7.492171105730435,
          5.672727272727272,
          -2.8307692307692207,
          5.326610279765774,
          4.466666666666669,
          -8.218068535825552,
          1.1132933260592779,
          -2.286597563193311,
          -3.6925287356321945,
          -6.818681318681328,
          -1.3343171011641317,
          0.039516129032250547,
          5.137948984903701,
          6.18452380952381,
          0.8686044535101161,
          3.3526350032530843,
          5.387368421052628,
          -2.3760683760683747,
          -3.508074111847705,
          -0.35052910052910136,
          -3.2571817100119063,
          -8.75661375661376,
          2.9033250048049126,
          0.1366758241758248,
          3.7887931034482705,
          8.700266193433905,
          6.509473684210519,
          -1.7914412198721124,
          3.2707070707070613,
          -2.6929292929292927,
          1.588054882970141,
          1.056910569105682,
          7.161385408990412,
          4.898245614035076,
          -10.220899470899482,
          10.893543956043956,
          4.615873015873021,
          -6.304237824161916,
          -5.811511701454776,
          2.557051282051276,
          -6.401554001554004,
          -6.876316203048887,
          3.228835978835974,
          6.141006722413522,
          10.025000000000006,
          -2.933444537114255,
          -8.358660547339795,
          -6.194957983193277,
          -5.150168350168343,
          0.4310344827586192,
          -3.58985200845666,
          5.683736447039195,
          3.6866215512753797,
          -10.310439560439548,
          -5.106715252472668,
          0.0803571428571388,
          4.642959770114942,
          4.217740429505142,
          0.21146085552865657,
          10.122328666175392,
          4.219780219780219,
          -1.5704948646125132,
          -7.057082452431288,
          -5.343434343434339,
          5.497055546713355,
          3.0038461538461547,
          -2.3300798580301745,
          2.3557707828894223,
          0.4983734547820404,
          -8.219275879653239,
          -2.9208066896212586,
          9.914769030579052,
          -0.5293753865182538,
          8.896212121212116,
          -3.692994505494511,
          -3.285058643549206,
          0.11044973544973402,
          2.6527281998980072,
          -6.2821548821548845,
          4.899804814573841,
          0.997789240972736,
          1.4030172413793167,
          3.272608978529604,
          0.00701754385964648,
          8.033749999999998,
          5.586833969812702,
          3.7889822595704885,
          5.392646824765237,
          1.129122807017552,
          -2.6730158730158706,
          5.0819015846538775,
          -14.176814011676399,
          6.490572224954903,
          -5.84267241379311,
          -5.475323823577625,
          -3.467719780219781,
          4.036006546644856,
          -2.471969696969694,
          -10.694915254237287,
          1.4320104098894006,
          -6.273717948717945,
          0.9939989088925216,
          -6.267890532041477,
          -0.004120879120875998,
          -1.3537878787878839,
          -3.8261322228006236,
          -4.280000000000001,
          0.37171717171716523,
          7.136026936026937,
          0.15087719298244906,
          -1.1171702284450902,
          8.120701754385962,
          -3.203993055555557,
          -3.598473017525592,
          -7.875,
          -6.042004421518058,
          3.250048049202377,
          6.359890109890102,
          0.868686868686865,
          4.872865275142303,
          -6.300595810109542,
          -4.3668228353288185,
          -5.960488505747122,
          -9.27424242424243,
          6.9736528981812,
          8.808953669963557,
          -6.288198757763965,
          -0.032280219780219,
          0.789393939393932,
          -6.402254955446452,
          1.9525641025641107,
          2.085482682387621,
          1.1332741792369205,
          10.514023457419697,
          -9.831447778324318,
          -1.3676767676767696,
          -6.463029066802662,
          -5.533576262363354,
          -6.631537861046056,
          4.074451810300872,
          -3.4069210292812784,
          -3.6838452195037377,
          8.302884615384613,
          -1.9856249999999989,
          -2.3882874889086168,
          -4.959051724137936,
          3.2578527062999143,
          6.503904216553877,
          -0.2666666666666657,
          5.169303509729033,
          -0.198945262775041,
          -6.099206349206341,
          -6.449299892291123,
          7.598901098901095,
          -9.760942760942754,
          -3.2569842096130515,
          0.5445836403831947,
          -0.8070512820512761,
          -8.460083651573015,
          4.5530253741054025,
          -3.041025641025641,
          -2.490572224954903,
          4.923763736263737,
          1.3888240200166848,
          -12.200396825396822,
          -8.596163469557965,
          -6.903159340659343,
          3.11521942110177,
          0.9071481208548278,
          7.430175438596493,
          0.8769344141488489,
          2.833484162895928,
          4.473848171831449,
          8.737068965517238,
          -0.7293700088731185,
          -1.6681964983851856,
          -3.121658483360619,
          -4.3590944574551145,
          -12.24902564102564,
          1.3880701754385996,
          1.721212121212119,
          -3.762105263157892,
          1.1968390804597817,
          7.487719298245622,
          1.7792820512820526,
          -5.1920874544507996,
          0.6653853546031172,
          3.4146892655367225,
          -7.761501769502999,
          3.71346153846153,
          -7.611342785654713,
          -3.411401098901095,
          0.5898456151520008,
          4.88293650793652,
          -1.3787957660940435,
          4.260057471264361,
          -1.5528846153846132,
          1.9641678453559592,
          -0.21210653753026065,
          0.8690575479566292,
          -4.734890109890102,
          2.103851883379434,
          1.2000000000000028,
          -7.518937530742747,
          -2.0972493345164054,
          -3.7045614035087624,
          8.12752114508784,
          -2.943952802359874,
          -7.236512820512814,
          2.377581120943944,
          1.6410008071025004,
          -9.885590599876323,
          -0.6498316498316541,
          -5.37140804597702,
          -3.7868434472208037,
          -1.8503850385038447,
          -4.672485906528465,
          2.3460819309875944,
          -4.875686813186817,
          4.081818181818193,
          0.561958184599689,
          4.76800277633177,
          5.40789234406256,
          1.6560846560846585,
          1.8730158730158735,
          -8.699712643678154,
          -5.194683908045988,
          0.2693749999999966,
          -1.178780284043441,
          -6.57453680095189,
          -4.023282505328737,
          4.857582164136062,
          -1.1023351648351678,
          -0.21075902726603601,
          -3.441798941798936,
          12.93400673400673,
          -1.7398373983739788,
          -4.121366649668545,
          4.129459241323644,
          7.507009760425902,
          -9.524425287356323,
          -2.5778148457047507,
          -4.617948717948721,
          6.137344892061876,
          0.9022988505747094,
          -0.5148936170212721,
          -7.297935103244839,
          -5.394654861452693,
          0.1929945054945108,
          -0.23184128545662475,
          -0.8353936239427355,
          -6.325604670558803,
          -0.36422413793103203,
          6.162859362859365,
          0.4183474300585601,
          -0.3737435897435972,
          -6.777116402116391,
          -5.692307692307693,
          1.2922349518094194,
          5.994024276377218,
          -1.612442631310543,
          1.2167216721672105,
          -0.2409727339720007,
          -8.002690755333461,
          7.611290322580643,
          -5.619528619528623,
          3.572115384615387,
          5.262135922330103,
          -4.793661384487066,
          -0.2575549450549346,
          -1.407253166753435,
          4.097080900750626,
          7.739266198282593,
          -2.926724137931032,
          7.7889679031328,
          -2.720538720538727,
          -1.5718390804597817,
          1.1245564892623605,
          1.6897435897435855,
          1.4669442998438313,
          0.40158045977011625,
          3.2192582953806124,
          5.056012913640032,
          -0.18783068783068302,
          -9.668311316250197,
          5.676304782687765,
          0.11464063886423048,
          5.143382352941174,
          -3.8653753026634377,
          -2.823422440443707,
          -0.6236263736263652,
          2.6525000000000034,
          -1.9925407925407939,
          -0.9911592994161822,
          6.672718879827656,
          0.8139367816091863,
          0.8125,
          2.9872514023457484,
          5.459986987638246,
          -7.015794143744458,
          4.493370681605967,
          1.50977392486827,
          5.199127114020726,
          11.770502645502646,
          -7.58290346352247,
          5.603787878787884,
          -3.7235772357723533,
          -0.7243920412674925,
          0.009819967266778917,
          3.1925829538061237,
          6.3803030303030255,
          -4.932005494505489,
          -5.739867354458369,
          3.143157894736831,
          3.8796296296296333,
          -6.593090569561156,
          4.662302236770316,
          0.8688186813186718,
          7.464052287581708,
          -7.201000834028363,
          -3.9297332465842487,
          -1.109788359788368,
          7.146551724137936,
          -6.927988894672907,
          8.145788156797337,
          2.934845281568329,
          -4.08722527472527,
          5.533730158730151,
          -1.5178947368421092,
          0.8860272919469594,
          -1.0575438596491296,
          -2.352280701754381,
          4.763021333845856,
          -11.251851851851853,
          -0.8943089430894275,
          2.8087641745146925,
          0.04837364470392913,
          -5.431582525922138,
          -9.205673758865245,
          0.6177120516743173,
          -2.278787878787881,
          1.1790714812085525,
          7.789093195033786,
          -2.2568681318681314,
          7.300585556278463,
          1.92724867724867,
          2.8681318681318686,
          -4.423737636647587,
          4.534778982485406,
          4.580769230769221,
          -6.692662740728949,
          0.4313594662218492,
          9.004421518054542,
          4.920454545454547,
          1.6681034482758577,
          -5.20436507936509,
          2.0360923130314035,
          -4.134339080459782,
          5.032466533312814,
          2.375,
          2.5940274414850677,
          -1.1468013468013538,
          2.4620411301172425,
          -0.025132275132278892,
          -0.4803437848161707,
          -16.193939393939402,
          -3.4497181305691953,
          4.206505421184318,
          -0.35052910052910136,
          -4.250931677018642,
          6.052564102564105,
          -11.383696529459229,
          7.550641025641028,
          5.515109890109898,
          3.5557692307692292,
          4.72664835164835,
          -3.6016655100624604,
          4.098989898989899,
          -0.3801242236024791,
          0.36681964983851856,
          -3.1800884105323775,
          0.8468119451170253,
          -3.6316498316498382,
          -2.4358353510895796,
          -1.5763239875389417,
          -1.8644188110026647,
          2.0887500000000045,
          9.724999999999994,
          0.7030303030303031,
          0.024038461538467004,
          2.1075586161665854,
          -1.3538359788359742,
          8.155347384855574,
          7.51649122807018,
          2.4796479647964844,
          0.022035480859003087,
          -6.228234136743723,
          -3.2519841269841265,
          5.054395951929166,
          -3.8987068965517295,
          -3.8987068965517295,
          -6.385606060606065,
          -0.48409090909090935,
          -1.8063186813186718,
          0.25679949399115287,
          1.900050994390611,
          0.5536842105263133,
          -0.4768361581920857,
          -0.5117845117845121,
          6.057258064516134,
          -1.6042105263157964,
          -4.338365434669441,
          5.2369121561668095,
          -7.359806295399508,
          3.030191826522099,
          -5.152634091994273,
          4.607051282051273,
          1.9126198334119096,
          10.759848484848476,
          3.498418722327642,
          3.187820512820508,
          3.3915343915343925,
          -1.2014035087719321,
          -1.5210827693909437,
          4.584656084656075,
          -3.4418079096045204,
          3.956344276841179,
          -3.9281609195402183,
          -6.616064848931458,
          -5.835606473904335,
          2.0776699029126178,
          2.425531914893611,
          2.2734559170202857,
          0.3438256658595691,
          1.8887070376432007,
          -1.9328490718321234,
          3.17647058823529,
          -4.9992982456140425,
          7.704309874522636,
          5.853021978021985,
          -0.39032006245122375,
          -0.3420329670329636,
          -9.512457912457918,
          7.993131868131869,
          -1.3741451209341164,
          2.596974332823393,
          -7.984385165907625,
          -7.341193809874724,
          0.3916720884840572,
          -3.598836152027644,
          0.7280219780219852,
          7.7872603586889255,
          2.8728859792689576,
          6.28013468013468,
          -1.8148148148148096,
          -1.5733806566104818,
          7.984687208216627,
          -0.2409727339720007,
          -4.163620230700985,
          0.45871559633027914,
          6.557111274871048,
          0.21812500000000057,
          -6.4917257683215155,
          2.4695767195767218,
          -3,
          13.281323877068559,
          -3.8056318681318686,
          -6.868720821661995,
          -9.086379341698489,
          1.2205856255545768,
          8.618391976882535,
          6.247311827956992,
          0.7582491582491571,
          -0.9093749999999972,
          -4.988324175824175,
          4.140014738393518,
          -1.1417366946778742,
          -0.784819454679436,
          7.494677871148468,
          -2.0944832944832967,
          3.0932539682539755,
          3.684752747252759,
          -4.423859649122804,
          0.42735042735043294,
          -1.5423850574712645,
          -0.2585924713584262,
          -12.480000000000004,
          7.128205128205124,
          3.9360632183908137,
          2.8399725274725256,
          -7.381868131868131,
          -3.9027777777777715,
          7.611241217798593,
          -2.009937888198749,
          9.51517302573204,
          -5.495192307692307,
          8.710784313725497,
          4.185124568103291,
          -4.063109954456735,
          -3.7267723102585535,
          -4.169811320754718,
          8.977513227513228,
          -5.938952972493354,
          0.4040033361134334,
          -1.9557579700715735,
          -7.351282051282055,
          -1.045871559633028,
          3.8182471264367734,
          -8.609552949175594,
          5.593267395453751,
          1.600961538461533,
          -3.9745879120879124,
          -9.274871039056748,
          1.4669442998438313,
          2.093007114350172,
          -4.076308784383329,
          1.9772848269742695,
          -0.5622389306599871,
          2.1641483516483504,
          5.620039037085235,
          3.065247252747241,
          -0.8273684210526255,
          -0.16171802054154227,
          -4.133333333333326,
          -4.284779050736489,
          -0.8457852706299889,
          -1.177597641857048,
          -3.9576149425287355,
          -4.509615384615387,
          6.854736842105254,
          7.620689655172413,
          0.8968253968254061,
          -9.389491242702249,
          3.7747171667486583,
          -4.597979797979789,
          -0.580817347789818,
          -3.6838452195037377,
          2.8710390567428163,
          3.678123295144573,
          1.741758241758248,
          -2.331609674728952,
          -12.145833333333329,
          3.516913139554646,
          -12.17780044195139,
          1.115262718932442,
          5.830698623151463,
          -3.560401082285537,
          -0.7878787878787818,
          -7.691620879120876,
          0.7637600494743424,
          2.7836538461538396,
          -2.094871794871807,
          2.5483255249002212,
          -0.6620757501229804,
          -0.7546057479734714,
          -0.2080808080808083,
          -5.822537710736469,
          -4.670512820512826,
          2.2491582491582562,
          6.157407407407405,
          3.956344276841179,
          -1.1586538461538396,
          -1.0284391534391517,
          -3.0102153072450193,
          4.02884615384616,
          3.80611581001952,
          -2.845238095238102,
          -3.935353535353528,
          2.206836716987681,
          -3.2569842096130515,
          -0.037333333333322116,
          0.1648351648351678,
          3.1123336291038157,
          0.6584255042290152,
          0.8977962866562592,
          -5.298781596653939,
          2.4238596491228037,
          -1.8875897435897429,
          -3.359298245614042,
          -2.0584735679075266,
          -6.074266874891549,
          6.078296703296701,
          -5.264320924698282,
          7.7274963108706345,
          -5.260606060606051,
          4.437894736842111,
          -0.33461217681401934,
          -2.7757575757575808,
          -5.105379513633011,
          3.495246038365309,
          1.900050994390611,
          -9.033836543466947,
          -1.683882603705527,
          4.321737459158172,
          2.24166666666666,
          -6.1027242755509405,
          -0.6222222222222342,
          0.6338650778397152,
          1.8181108508977388,
          1.5894736842105175,
          3.8235195996663833,
          3.3742679680567846,
          3.5588288779778168,
          7.387197501951604,
          -2.1141170683718684,
          7.040530582166539,
          -6.790658882401999,
          -10.728199898011212,
          8.794404684450228,
          -0.4352635003253198,
          1.1084770114942586,
          0.9262308313155643,
          1.694603505118863,
          -1.247284878863823,
          -4.4875420875420815,
          1.8771929824561369,
          2.1156963890935856,
          4.754807692307693,
          4.288573811509593,
          -0.5114942528735611,
          6.233571893298631,
          6.723269391159292,
          2.9616801768607246,
          0.06456140350876183,
          2.635690235690234,
          -4.749303164453181,
          -4.970071567989592,
          -0.1266701370813763,
          -4.591666666666669,
          0.5249122807017557,
          -6.193072955047896,
          -0.7175979983319394,
          -1.037306958181503,
          8.353635259413508,
          8.474300585556279,
          3.6581641506160025,
          -0.28841607565011884,
          -2.7447509977442337,
          -12.394230769230774,
          -9.750778816199386,
          2.45192307692308,
          -0.5971929824561357,
          5.605769230769226,
          6.276245011278846,
          0.38105263157893887,
          -4.5985008648856365,
          -0.26370896184560877,
          3.2650221378874136,
          12.30921395106715,
          -2.2492816091953927,
          -0.8597654258031611,
          5.467873303167423,
          -4.018181818181816,
          -2.9279261964251333,
          -6.089743589743591,
          3.2869565217391283,
          7.372881355932208,
          7.522558922558929,
          -10.084407096171802,
          5.189529151793309,
          5.414986063289064,
          -3.7449112978524823,
          1.4669442998438313,
          -0.4318783068783034,
          -3.867413632119522,
          -6.2269360269360305,
          15.455357142857139,
          -13.565217391304344,
          9.165666484815418,
          5.792469200069405,
          -2.499663299663297,
          -9.493750000000006,
          -2.8701754385964904,
          -5.776785714285708,
          -0.19961693977441541,
          12.6605644546148,
          4.80471628592484,
          1.2553030303030255,
          -3.7543859649122737,
          0.40982456140351076,
          -6.1717834960070945,
          -2.897270114942529,
          1.9670329670329636,
          2.879503105590061,
          -3.3279461279461344,
          7.79587324981577,
          2.30437710437711,
          -0.8386243386243422,
          0.11592724800271981,
          3.1719298245614027,
          -1.1304945054945108,
          -2.0046296296296333,
          8.60721062618596,
          -0.4674356699201354,
          -3.383241758241752,
          -3.8196491228070073,
          3.956344276841179,
          4.016161616161611,
          -2.9548611111111143,
          -4.687488908606909,
          6.393623942745606,
          -4.343384615384608,
          -9.041332704699045,
          -1.6161616161616195,
          4.644203502919098,
          1.3246572965469454,
          -1.4540229885057414,
          1.8181108508977388,
          -4.583138173302103,
          -2.926587301587304,
          0.444743417259275,
          -2.7863584194130198,
          -2.4385964912280684,
          2.7190699288564986,
          -5.157280219780219,
          4.5959595959595845,
          1.7444543034605147,
          0.5649831649831611,
          11.734054763075903,
          -1.1904761904761898,
          0.6502085070892321,
          -2.225735169131397,
          -7.015796703296701,
          -0.7843915343915313,
          1.5476190476190368,
          -0.9913043478260875,
          -6.162859248341931,
          5.288135593220332,
          -2.209878442837365,
          -9.949735449735456,
          4.742744712247898,
          -4.193684210526314,
          -1.0178571428571388,
          -0.7482576916539188,
          2.382243744955616
         ],
         "xaxis": "x",
         "yaxis": "y"
        }
       ],
       "layout": {
        "annotations": [
         {
          "showarrow": false,
          "text": ".<br><br>Shuffled Statistic >= Observed Statistic: -14.17",
          "x": -14.168269230769226,
          "xanchor": "left",
          "xref": "x",
          "y": 1,
          "yanchor": "top",
          "yref": "y domain"
         },
         {
          "showarrow": false,
          "text": "Shuffled Statistic <= Observed Statistic: 14.17<br><br>.",
          "x": 14.168269230769226,
          "xanchor": "right",
          "xref": "x",
          "y": 1,
          "yanchor": "top",
          "yref": "y domain"
         }
        ],
        "barmode": "relative",
        "legend": {
         "title": {
          "text": "variable"
         },
         "tracegroupgap": 0
        },
        "shapes": [
         {
          "line": {
           "color": "red",
           "dash": "dash"
          },
          "type": "line",
          "x0": -14.168269230769226,
          "x1": -14.168269230769226,
          "xref": "x",
          "y0": 0,
          "y1": 1,
          "yref": "y domain"
         },
         {
          "line": {
           "color": "red",
           "dash": "dash"
          },
          "type": "line",
          "x0": 14.168269230769226,
          "x1": 14.168269230769226,
          "xref": "x",
          "y0": 0,
          "y1": 1,
          "yref": "y domain"
         }
        ],
        "template": {
         "data": {
          "bar": [
           {
            "error_x": {
             "color": "#2a3f5f"
            },
            "error_y": {
             "color": "#2a3f5f"
            },
            "marker": {
             "line": {
              "color": "#E5ECF6",
              "width": 0.5
             },
             "pattern": {
              "fillmode": "overlay",
              "size": 10,
              "solidity": 0.2
             }
            },
            "type": "bar"
           }
          ],
          "barpolar": [
           {
            "marker": {
             "line": {
              "color": "#E5ECF6",
              "width": 0.5
             },
             "pattern": {
              "fillmode": "overlay",
              "size": 10,
              "solidity": 0.2
             }
            },
            "type": "barpolar"
           }
          ],
          "carpet": [
           {
            "aaxis": {
             "endlinecolor": "#2a3f5f",
             "gridcolor": "white",
             "linecolor": "white",
             "minorgridcolor": "white",
             "startlinecolor": "#2a3f5f"
            },
            "baxis": {
             "endlinecolor": "#2a3f5f",
             "gridcolor": "white",
             "linecolor": "white",
             "minorgridcolor": "white",
             "startlinecolor": "#2a3f5f"
            },
            "type": "carpet"
           }
          ],
          "choropleth": [
           {
            "colorbar": {
             "outlinewidth": 0,
             "ticks": ""
            },
            "type": "choropleth"
           }
          ],
          "contour": [
           {
            "colorbar": {
             "outlinewidth": 0,
             "ticks": ""
            },
            "colorscale": [
             [
              0,
              "#0d0887"
             ],
             [
              0.1111111111111111,
              "#46039f"
             ],
             [
              0.2222222222222222,
              "#7201a8"
             ],
             [
              0.3333333333333333,
              "#9c179e"
             ],
             [
              0.4444444444444444,
              "#bd3786"
             ],
             [
              0.5555555555555556,
              "#d8576b"
             ],
             [
              0.6666666666666666,
              "#ed7953"
             ],
             [
              0.7777777777777778,
              "#fb9f3a"
             ],
             [
              0.8888888888888888,
              "#fdca26"
             ],
             [
              1,
              "#f0f921"
             ]
            ],
            "type": "contour"
           }
          ],
          "contourcarpet": [
           {
            "colorbar": {
             "outlinewidth": 0,
             "ticks": ""
            },
            "type": "contourcarpet"
           }
          ],
          "heatmap": [
           {
            "colorbar": {
             "outlinewidth": 0,
             "ticks": ""
            },
            "colorscale": [
             [
              0,
              "#0d0887"
             ],
             [
              0.1111111111111111,
              "#46039f"
             ],
             [
              0.2222222222222222,
              "#7201a8"
             ],
             [
              0.3333333333333333,
              "#9c179e"
             ],
             [
              0.4444444444444444,
              "#bd3786"
             ],
             [
              0.5555555555555556,
              "#d8576b"
             ],
             [
              0.6666666666666666,
              "#ed7953"
             ],
             [
              0.7777777777777778,
              "#fb9f3a"
             ],
             [
              0.8888888888888888,
              "#fdca26"
             ],
             [
              1,
              "#f0f921"
             ]
            ],
            "type": "heatmap"
           }
          ],
          "heatmapgl": [
           {
            "colorbar": {
             "outlinewidth": 0,
             "ticks": ""
            },
            "colorscale": [
             [
              0,
              "#0d0887"
             ],
             [
              0.1111111111111111,
              "#46039f"
             ],
             [
              0.2222222222222222,
              "#7201a8"
             ],
             [
              0.3333333333333333,
              "#9c179e"
             ],
             [
              0.4444444444444444,
              "#bd3786"
             ],
             [
              0.5555555555555556,
              "#d8576b"
             ],
             [
              0.6666666666666666,
              "#ed7953"
             ],
             [
              0.7777777777777778,
              "#fb9f3a"
             ],
             [
              0.8888888888888888,
              "#fdca26"
             ],
             [
              1,
              "#f0f921"
             ]
            ],
            "type": "heatmapgl"
           }
          ],
          "histogram": [
           {
            "marker": {
             "pattern": {
              "fillmode": "overlay",
              "size": 10,
              "solidity": 0.2
             }
            },
            "type": "histogram"
           }
          ],
          "histogram2d": [
           {
            "colorbar": {
             "outlinewidth": 0,
             "ticks": ""
            },
            "colorscale": [
             [
              0,
              "#0d0887"
             ],
             [
              0.1111111111111111,
              "#46039f"
             ],
             [
              0.2222222222222222,
              "#7201a8"
             ],
             [
              0.3333333333333333,
              "#9c179e"
             ],
             [
              0.4444444444444444,
              "#bd3786"
             ],
             [
              0.5555555555555556,
              "#d8576b"
             ],
             [
              0.6666666666666666,
              "#ed7953"
             ],
             [
              0.7777777777777778,
              "#fb9f3a"
             ],
             [
              0.8888888888888888,
              "#fdca26"
             ],
             [
              1,
              "#f0f921"
             ]
            ],
            "type": "histogram2d"
           }
          ],
          "histogram2dcontour": [
           {
            "colorbar": {
             "outlinewidth": 0,
             "ticks": ""
            },
            "colorscale": [
             [
              0,
              "#0d0887"
             ],
             [
              0.1111111111111111,
              "#46039f"
             ],
             [
              0.2222222222222222,
              "#7201a8"
             ],
             [
              0.3333333333333333,
              "#9c179e"
             ],
             [
              0.4444444444444444,
              "#bd3786"
             ],
             [
              0.5555555555555556,
              "#d8576b"
             ],
             [
              0.6666666666666666,
              "#ed7953"
             ],
             [
              0.7777777777777778,
              "#fb9f3a"
             ],
             [
              0.8888888888888888,
              "#fdca26"
             ],
             [
              1,
              "#f0f921"
             ]
            ],
            "type": "histogram2dcontour"
           }
          ],
          "mesh3d": [
           {
            "colorbar": {
             "outlinewidth": 0,
             "ticks": ""
            },
            "type": "mesh3d"
           }
          ],
          "parcoords": [
           {
            "line": {
             "colorbar": {
              "outlinewidth": 0,
              "ticks": ""
             }
            },
            "type": "parcoords"
           }
          ],
          "pie": [
           {
            "automargin": true,
            "type": "pie"
           }
          ],
          "scatter": [
           {
            "fillpattern": {
             "fillmode": "overlay",
             "size": 10,
             "solidity": 0.2
            },
            "type": "scatter"
           }
          ],
          "scatter3d": [
           {
            "line": {
             "colorbar": {
              "outlinewidth": 0,
              "ticks": ""
             }
            },
            "marker": {
             "colorbar": {
              "outlinewidth": 0,
              "ticks": ""
             }
            },
            "type": "scatter3d"
           }
          ],
          "scattercarpet": [
           {
            "marker": {
             "colorbar": {
              "outlinewidth": 0,
              "ticks": ""
             }
            },
            "type": "scattercarpet"
           }
          ],
          "scattergeo": [
           {
            "marker": {
             "colorbar": {
              "outlinewidth": 0,
              "ticks": ""
             }
            },
            "type": "scattergeo"
           }
          ],
          "scattergl": [
           {
            "marker": {
             "colorbar": {
              "outlinewidth": 0,
              "ticks": ""
             }
            },
            "type": "scattergl"
           }
          ],
          "scattermapbox": [
           {
            "marker": {
             "colorbar": {
              "outlinewidth": 0,
              "ticks": ""
             }
            },
            "type": "scattermapbox"
           }
          ],
          "scatterpolar": [
           {
            "marker": {
             "colorbar": {
              "outlinewidth": 0,
              "ticks": ""
             }
            },
            "type": "scatterpolar"
           }
          ],
          "scatterpolargl": [
           {
            "marker": {
             "colorbar": {
              "outlinewidth": 0,
              "ticks": ""
             }
            },
            "type": "scatterpolargl"
           }
          ],
          "scatterternary": [
           {
            "marker": {
             "colorbar": {
              "outlinewidth": 0,
              "ticks": ""
             }
            },
            "type": "scatterternary"
           }
          ],
          "surface": [
           {
            "colorbar": {
             "outlinewidth": 0,
             "ticks": ""
            },
            "colorscale": [
             [
              0,
              "#0d0887"
             ],
             [
              0.1111111111111111,
              "#46039f"
             ],
             [
              0.2222222222222222,
              "#7201a8"
             ],
             [
              0.3333333333333333,
              "#9c179e"
             ],
             [
              0.4444444444444444,
              "#bd3786"
             ],
             [
              0.5555555555555556,
              "#d8576b"
             ],
             [
              0.6666666666666666,
              "#ed7953"
             ],
             [
              0.7777777777777778,
              "#fb9f3a"
             ],
             [
              0.8888888888888888,
              "#fdca26"
             ],
             [
              1,
              "#f0f921"
             ]
            ],
            "type": "surface"
           }
          ],
          "table": [
           {
            "cells": {
             "fill": {
              "color": "#EBF0F8"
             },
             "line": {
              "color": "white"
             }
            },
            "header": {
             "fill": {
              "color": "#C8D4E3"
             },
             "line": {
              "color": "white"
             }
            },
            "type": "table"
           }
          ]
         },
         "layout": {
          "annotationdefaults": {
           "arrowcolor": "#2a3f5f",
           "arrowhead": 0,
           "arrowwidth": 1
          },
          "autotypenumbers": "strict",
          "coloraxis": {
           "colorbar": {
            "outlinewidth": 0,
            "ticks": ""
           }
          },
          "colorscale": {
           "diverging": [
            [
             0,
             "#8e0152"
            ],
            [
             0.1,
             "#c51b7d"
            ],
            [
             0.2,
             "#de77ae"
            ],
            [
             0.3,
             "#f1b6da"
            ],
            [
             0.4,
             "#fde0ef"
            ],
            [
             0.5,
             "#f7f7f7"
            ],
            [
             0.6,
             "#e6f5d0"
            ],
            [
             0.7,
             "#b8e186"
            ],
            [
             0.8,
             "#7fbc41"
            ],
            [
             0.9,
             "#4d9221"
            ],
            [
             1,
             "#276419"
            ]
           ],
           "sequential": [
            [
             0,
             "#0d0887"
            ],
            [
             0.1111111111111111,
             "#46039f"
            ],
            [
             0.2222222222222222,
             "#7201a8"
            ],
            [
             0.3333333333333333,
             "#9c179e"
            ],
            [
             0.4444444444444444,
             "#bd3786"
            ],
            [
             0.5555555555555556,
             "#d8576b"
            ],
            [
             0.6666666666666666,
             "#ed7953"
            ],
            [
             0.7777777777777778,
             "#fb9f3a"
            ],
            [
             0.8888888888888888,
             "#fdca26"
            ],
            [
             1,
             "#f0f921"
            ]
           ],
           "sequentialminus": [
            [
             0,
             "#0d0887"
            ],
            [
             0.1111111111111111,
             "#46039f"
            ],
            [
             0.2222222222222222,
             "#7201a8"
            ],
            [
             0.3333333333333333,
             "#9c179e"
            ],
            [
             0.4444444444444444,
             "#bd3786"
            ],
            [
             0.5555555555555556,
             "#d8576b"
            ],
            [
             0.6666666666666666,
             "#ed7953"
            ],
            [
             0.7777777777777778,
             "#fb9f3a"
            ],
            [
             0.8888888888888888,
             "#fdca26"
            ],
            [
             1,
             "#f0f921"
            ]
           ]
          },
          "colorway": [
           "#636efa",
           "#EF553B",
           "#00cc96",
           "#ab63fa",
           "#FFA15A",
           "#19d3f3",
           "#FF6692",
           "#B6E880",
           "#FF97FF",
           "#FECB52"
          ],
          "font": {
           "color": "#2a3f5f"
          },
          "geo": {
           "bgcolor": "white",
           "lakecolor": "white",
           "landcolor": "#E5ECF6",
           "showlakes": true,
           "showland": true,
           "subunitcolor": "white"
          },
          "hoverlabel": {
           "align": "left"
          },
          "hovermode": "closest",
          "mapbox": {
           "style": "light"
          },
          "paper_bgcolor": "white",
          "plot_bgcolor": "#E5ECF6",
          "polar": {
           "angularaxis": {
            "gridcolor": "white",
            "linecolor": "white",
            "ticks": ""
           },
           "bgcolor": "#E5ECF6",
           "radialaxis": {
            "gridcolor": "white",
            "linecolor": "white",
            "ticks": ""
           }
          },
          "scene": {
           "xaxis": {
            "backgroundcolor": "#E5ECF6",
            "gridcolor": "white",
            "gridwidth": 2,
            "linecolor": "white",
            "showbackground": true,
            "ticks": "",
            "zerolinecolor": "white"
           },
           "yaxis": {
            "backgroundcolor": "#E5ECF6",
            "gridcolor": "white",
            "gridwidth": 2,
            "linecolor": "white",
            "showbackground": true,
            "ticks": "",
            "zerolinecolor": "white"
           },
           "zaxis": {
            "backgroundcolor": "#E5ECF6",
            "gridcolor": "white",
            "gridwidth": 2,
            "linecolor": "white",
            "showbackground": true,
            "ticks": "",
            "zerolinecolor": "white"
           }
          },
          "shapedefaults": {
           "line": {
            "color": "#2a3f5f"
           }
          },
          "ternary": {
           "aaxis": {
            "gridcolor": "white",
            "linecolor": "white",
            "ticks": ""
           },
           "baxis": {
            "gridcolor": "white",
            "linecolor": "white",
            "ticks": ""
           },
           "bgcolor": "#E5ECF6",
           "caxis": {
            "gridcolor": "white",
            "linecolor": "white",
            "ticks": ""
           }
          },
          "title": {
           "x": 0.05
          },
          "xaxis": {
           "automargin": true,
           "gridcolor": "white",
           "linecolor": "white",
           "ticks": "",
           "title": {
            "standoff": 15
           },
           "zerolinecolor": "white",
           "zerolinewidth": 2
          },
          "yaxis": {
           "automargin": true,
           "gridcolor": "white",
           "linecolor": "white",
           "ticks": "",
           "title": {
            "standoff": 15
           },
           "zerolinecolor": "white",
           "zerolinewidth": 2
          }
         }
        },
        "title": {
         "text": "Mean Difference Sampling under SHUFFLED Pokeaman Race"
        },
        "xaxis": {
         "anchor": "y",
         "domain": [
          0,
          1
         ],
         "title": {
          "text": "value"
         }
        },
        "yaxis": {
         "anchor": "x",
         "domain": [
          0,
          1
         ],
         "title": {
          "text": "count"
         }
        }
       }
      }
     },
     "metadata": {},
     "output_type": "display_data"
    },
    {
     "name": "stdout",
     "output_type": "stream",
     "text": [
      "p-value 0.003\n"
     ]
    }
   ],
   "source": [
    "fig = px.histogram(pd.DataFrame({\"label_permutation_mean_differences\": label_permutation_mean_differences}), nbins=30,\n",
    "                                title=\"Mean Difference Sampling under SHUFFLED Pokeaman Race\")\n",
    "\n",
    "mean_differene_statistic = groups4racism.groupby('Type 1')['Sp. Atk'].mean().diff().values[1]\n",
    "\n",
    "fig.add_vline(x=mean_differene_statistic, line_dash=\"dash\", line_color=\"red\",\n",
    "              annotation_text=f\".<br><br>Shuffled Statistic >= Observed Statistic: {mean_differene_statistic:.2f}\",\n",
    "              annotation_position=\"top right\")\n",
    "fig.add_vline(x=-mean_differene_statistic, line_dash=\"dash\", line_color=\"red\",\n",
    "              annotation_text=f\"Shuffled Statistic <= Observed Statistic: {-mean_differene_statistic:.2f}<br><br>.\",\n",
    "              annotation_position=\"top left\")\n",
    "fig.show()  # USE `fig.show(renderer=\"png\")` FOR ALL GitHub and MarkUs SUBMISSIONS\n",
    "\n",
    "print(\"p-value\",\n",
    "      (abs(label_permutation_mean_differences) >= abs(mean_differene_statistic)).sum()/n_bootstraps)"
   ]
  },
  {
   "cell_type": "code",
   "execution_count": 9,
   "metadata": {},
   "outputs": [
    {
     "name": "stdout",
     "output_type": "stream",
     "text": [
      "[-21.7729739   -6.07335165]\n"
     ]
    }
   ],
   "source": [
    "within_group_bootstrapped_mean_differences = np.zeros(n_bootstraps)\n",
    "for i in range(n_bootstraps):\n",
    "    double_bootstrap = \\\n",
    "        groups4racism.groupby(\"Type 1\")[[\"Type 1\",\"Sp. Atk\"]].sample(frac=1, replace=True)\n",
    "    within_group_bootstrapped_mean_differences[i] = \\\n",
    "        double_bootstrap.groupby('Type 1')[\"Sp. Atk\"].mean().diff().values[1]\n",
    "    \n",
    "print(np.quantile(within_group_bootstrapped_mean_differences, [0.05, 0.95]))"
   ]
  },
  {
   "cell_type": "code",
   "execution_count": null,
   "metadata": {},
   "outputs": [],
   "source": []
  },
  {
   "cell_type": "code",
   "execution_count": null,
   "metadata": {},
   "outputs": [],
   "source": []
  }
 ],
 "metadata": {
  "kernelspec": {
   "display_name": "base",
   "language": "python",
   "name": "python3"
  },
  "language_info": {
   "codemirror_mode": {
    "name": "ipython",
    "version": 3
   },
   "file_extension": ".py",
   "mimetype": "text/x-python",
   "name": "python",
   "nbconvert_exporter": "python",
   "pygments_lexer": "ipython3",
   "version": "3.12.4"
  }
 },
 "nbformat": 4,
 "nbformat_minor": 2
}
