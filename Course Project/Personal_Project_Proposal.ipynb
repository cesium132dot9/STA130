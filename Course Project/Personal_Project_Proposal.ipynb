{
 "cells": [
  {
   "cell_type": "markdown",
   "metadata": {},
   "source": [
    "## Overview \n",
    "I want to explore the relationship between video games and loneliness. In a technilogical age so much of our interactions comes from the internet, and a particular method of online interaction I want to explore is video games. I want to focus on the relationship between video games and loneliness because video games are often seen as unsuitable ways for the younger generations to interact. So I want to see whether or not these assumptions are true or false. \n",
    "\n",
    "## 1. \n",
    "I want to look at the data of all three years. For video games I want to look at data from Q117_17 and Q117_18. There were also questions relating to video games but it also included board games which is something extra I don't want to consider because board game would mean physical interactions. Then for data relating to loneliness I want to look at answers from Q17_1, Q17_2, Q17_3, Q57_1, Q57_2, Q57_3, Q57_4, Q57_5, Q57_6. \n",
    "\n",
    "For the variables regarding loneliness I'm going to assign a value to different response options. With the larger values signifying a positive response. That is, not feeling lonely. Then make an array of the values only for the people who has played video games in the last 3 months. Finally, conduct a one-sided hypothesis test using the a significance level of $\\alpha = 0.05$, and assuming the null hypothesis is less than or equal to $\\bar{x}$.  \n",
    "\n",
    "## 2. \n",
    "There are two possible outcomes for the hypothesis test, the null hypothesis is either true or false. If I fail to reject the null hypothesis this means that video games aren't an effective way to combat loneliness. In contrast, if the null hypothesis is rejected that means video games is actually a viable way to combat loneliness. Online/non-face to face interactions can make people feel less lonely. \n",
    "\n",
    "I think this is relevant to the course project because much of Dr. Card's research is about finding out about how relationships affect our physical health. And most of his survey focuses on that face to face element of human interaction, but if virtual interactions also do positively effect our social wellbeing it might be a larger factor to consider when we conduct research about this. \n",
    "\n",
    "\n",
    "Preferred Group Mates: Cayden Wong, Andrew Pols, Brad Xu, I (Chenhao Sun)"
   ]
  }
 ],
 "metadata": {
  "kernelspec": {
   "display_name": "base",
   "language": "python",
   "name": "python3"
  },
  "language_info": {
   "name": "python",
   "version": "3.12.4"
  }
 },
 "nbformat": 4,
 "nbformat_minor": 2
}
